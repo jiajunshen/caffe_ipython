{
 "metadata": {
  "name": "",
  "signature": "sha256:6d82827b979f4ad486834bfa001a54d10f87d61c1b4bb2f43c0e2d968c4cd625"
 },
 "nbformat": 3,
 "nbformat_minor": 0,
 "worksheets": [
  {
   "cells": [
    {
     "cell_type": "code",
     "collapsed": false,
     "input": [
      "import caffe\n",
      "import os\n",
      "import deepdish as dd\n",
      "import amitgroup.plot as gr\n",
      "os.chdir(\"/Users/jiajunshen/Documents/Research/caffe/\")\n",
      "caffe.set_mode_gpu()\n",
      "solver = caffe.get_solver(\"./examples/cifar10/cifar10_quick_solver_svmRetrain.prototxt\")"
     ],
     "language": "python",
     "metadata": {},
     "outputs": [],
     "prompt_number": 44
    },
    {
     "cell_type": "code",
     "collapsed": false,
     "input": [
      "PRETRAINED = './examples/cifar10/investigation/cifar10_quick_iter_4000_update.caffemodel'\n",
      "solver.net.copy_from(PRETRAINED)"
     ],
     "language": "python",
     "metadata": {},
     "outputs": [],
     "prompt_number": 45
    },
    {
     "cell_type": "code",
     "collapsed": false,
     "input": [
      "newfullyConnected = np.load(\"./ipython_workplace/cifar10_allCoef_update.npy\")\n",
      "newfullyConnectedBias = np.load(\"./ipython_workplace/cifar10_allBias_update.npy\")"
     ],
     "language": "python",
     "metadata": {},
     "outputs": [
      {
       "ename": "IOError",
       "evalue": "[Errno 2] No such file or directory: './ipython_workplace/cifar10_allCoef_update.npy'",
       "output_type": "pyerr",
       "traceback": [
        "\u001b[0;31m---------------------------------------------------------------------------\u001b[0m\n\u001b[0;31mIOError\u001b[0m                                   Traceback (most recent call last)",
        "\u001b[0;32m<ipython-input-1-990fae82730a>\u001b[0m in \u001b[0;36m<module>\u001b[0;34m()\u001b[0m\n\u001b[0;32m----> 1\u001b[0;31m \u001b[0mnewfullyConnected\u001b[0m \u001b[0;34m=\u001b[0m \u001b[0mnp\u001b[0m\u001b[0;34m.\u001b[0m\u001b[0mload\u001b[0m\u001b[0;34m(\u001b[0m\u001b[0;34m\"./ipython_workplace/cifar10_allCoef_update.npy\"\u001b[0m\u001b[0;34m)\u001b[0m\u001b[0;34m\u001b[0m\u001b[0m\n\u001b[0m\u001b[1;32m      2\u001b[0m \u001b[0mnewfullyConnectedBias\u001b[0m \u001b[0;34m=\u001b[0m \u001b[0mnp\u001b[0m\u001b[0;34m.\u001b[0m\u001b[0mload\u001b[0m\u001b[0;34m(\u001b[0m\u001b[0;34m\"./ipython_workplace/cifar10_allBias_update.npy\"\u001b[0m\u001b[0;34m)\u001b[0m\u001b[0;34m\u001b[0m\u001b[0m\n",
        "\u001b[0;32m/Users/jiajunshen/Library/Enthought/Canopy_64bit/User/lib/python2.7/site-packages/numpy/lib/npyio.pyc\u001b[0m in \u001b[0;36mload\u001b[0;34m(file, mmap_mode)\u001b[0m\n\u001b[1;32m    367\u001b[0m     \u001b[0mown_fid\u001b[0m \u001b[0;34m=\u001b[0m \u001b[0mFalse\u001b[0m\u001b[0;34m\u001b[0m\u001b[0m\n\u001b[1;32m    368\u001b[0m     \u001b[0;32mif\u001b[0m \u001b[0misinstance\u001b[0m\u001b[0;34m(\u001b[0m\u001b[0mfile\u001b[0m\u001b[0;34m,\u001b[0m \u001b[0mbasestring\u001b[0m\u001b[0;34m)\u001b[0m\u001b[0;34m:\u001b[0m\u001b[0;34m\u001b[0m\u001b[0m\n\u001b[0;32m--> 369\u001b[0;31m         \u001b[0mfid\u001b[0m \u001b[0;34m=\u001b[0m \u001b[0mopen\u001b[0m\u001b[0;34m(\u001b[0m\u001b[0mfile\u001b[0m\u001b[0;34m,\u001b[0m \u001b[0;34m\"rb\"\u001b[0m\u001b[0;34m)\u001b[0m\u001b[0;34m\u001b[0m\u001b[0m\n\u001b[0m\u001b[1;32m    370\u001b[0m         \u001b[0mown_fid\u001b[0m \u001b[0;34m=\u001b[0m \u001b[0mTrue\u001b[0m\u001b[0;34m\u001b[0m\u001b[0m\n\u001b[1;32m    371\u001b[0m     \u001b[0;32melif\u001b[0m \u001b[0misinstance\u001b[0m\u001b[0;34m(\u001b[0m\u001b[0mfile\u001b[0m\u001b[0;34m,\u001b[0m \u001b[0mgzip\u001b[0m\u001b[0;34m.\u001b[0m\u001b[0mGzipFile\u001b[0m\u001b[0;34m)\u001b[0m\u001b[0;34m:\u001b[0m\u001b[0;34m\u001b[0m\u001b[0m\n",
        "\u001b[0;31mIOError\u001b[0m: [Errno 2] No such file or directory: './ipython_workplace/cifar10_allCoef_update.npy'"
       ]
      }
     ],
     "prompt_number": 1
    },
    {
     "cell_type": "code",
     "collapsed": false,
     "input": [
      "solver.net.params['ip2'][1].data"
     ],
     "language": "python",
     "metadata": {},
     "outputs": [
      {
       "metadata": {},
       "output_type": "pyout",
       "prompt_number": 47,
       "text": [
        "array([ 0.,  0.,  0.,  0.,  0.,  0.,  0.,  0.,  0.,  0.], dtype=float32)"
       ]
      }
     ],
     "prompt_number": 47
    },
    {
     "cell_type": "code",
     "collapsed": false,
     "input": [
      "#Sanity check; Compare with fully_connected_investigation; make sure the model copied here is correct\n",
      "import amitgroup.io\n",
      "data,label = amitgroup.io.load_cifar10(\"training\")\n",
      "data = data * 255\n",
      "data = data - np.mean(data,axis = 0)\n",
      "data = np.rollaxis(data,3,1)\n",
      "solver.net.blobs['data'].data[...] = data[:100].reshape(100, 3, 32, 32)\n",
      "solver.net.blobs['label'].data[...] = label[:100]\n",
      "solver.net.forward(start = 'conv1')\n",
      "solver.net.blobs['pool3'].data\n",
      "#solver.net.blobs['pool2'].data"
     ],
     "language": "python",
     "metadata": {},
     "outputs": [
      {
       "metadata": {},
       "output_type": "pyout",
       "prompt_number": 48,
       "text": [
        "array([[[[  1.09060302e-01,   4.11445618e-01,   5.26040435e-01,\n",
        "            1.30696386e-01],\n",
        "         [  3.11254524e-02,   3.79553914e-01,   9.12074387e-01,\n",
        "            4.20338035e-01],\n",
        "         [  5.31790964e-02,   2.25636750e-01,   5.66725016e-01,\n",
        "            3.21719408e-01],\n",
        "         [  7.97686428e-02,   3.60277817e-02,   8.12530965e-02,\n",
        "            6.76403567e-02]],\n",
        "\n",
        "        [[  0.00000000e+00,   0.00000000e+00,   0.00000000e+00,\n",
        "            2.36578584e-02],\n",
        "         [  0.00000000e+00,   0.00000000e+00,   0.00000000e+00,\n",
        "            0.00000000e+00],\n",
        "         [  0.00000000e+00,   3.54560278e-02,   3.14208716e-02,\n",
        "            7.81151429e-02],\n",
        "         [  2.32664496e-02,   1.47284403e-01,   9.39603448e-02,\n",
        "            1.17172711e-01]],\n",
        "\n",
        "        [[  2.26464272e-01,   0.00000000e+00,   0.00000000e+00,\n",
        "            0.00000000e+00],\n",
        "         [  1.12196818e-01,   0.00000000e+00,   0.00000000e+00,\n",
        "            0.00000000e+00],\n",
        "         [  0.00000000e+00,   0.00000000e+00,   0.00000000e+00,\n",
        "            0.00000000e+00],\n",
        "         [  0.00000000e+00,   0.00000000e+00,   0.00000000e+00,\n",
        "            0.00000000e+00]],\n",
        "\n",
        "        ..., \n",
        "        [[  5.64128458e-01,   4.26821470e-01,   1.75556436e-03,\n",
        "            2.63334648e-03],\n",
        "         [  9.27555621e-01,   5.44951856e-01,   2.45395720e-01,\n",
        "            9.38382819e-02],\n",
        "         [  1.89841732e-01,   1.43152252e-01,   4.67737943e-01,\n",
        "            2.62943178e-01],\n",
        "         [  0.00000000e+00,   0.00000000e+00,   1.05744369e-01,\n",
        "            7.43336454e-02]],\n",
        "\n",
        "        [[  1.75495774e-01,   1.20424308e-01,   3.19339514e-01,\n",
        "            7.90548790e-03],\n",
        "         [  0.00000000e+00,   2.60405652e-02,   1.05806440e-01,\n",
        "            1.92965772e-02],\n",
        "         [  3.03391293e-02,   8.91822949e-02,   8.20181519e-02,\n",
        "            1.92965772e-02],\n",
        "         [  2.46619269e-01,   3.95577401e-01,   1.13087617e-01,\n",
        "            6.50744373e-03]],\n",
        "\n",
        "        [[  1.15377560e-01,   3.80118847e-01,   1.97524369e-01,\n",
        "            1.62526473e-01],\n",
        "         [  4.17386621e-01,   7.07814574e-01,   2.63453066e-01,\n",
        "            2.65566826e-01],\n",
        "         [  5.07164776e-01,   4.07119930e-01,   5.63179404e-02,\n",
        "            1.22613154e-01],\n",
        "         [  2.73703575e-01,   1.68730631e-01,   1.85601905e-01,\n",
        "            4.29621994e-01]]],\n",
        "\n",
        "\n",
        "       [[[  3.46577317e-01,   6.38712466e-01,   2.78834015e-01,\n",
        "            1.95454285e-01],\n",
        "         [  4.48893130e-01,   1.51762295e+00,   9.14032102e-01,\n",
        "            7.45385170e-01],\n",
        "         [  7.06176877e-01,   1.87601256e+00,   1.38283122e+00,\n",
        "            6.88409150e-01],\n",
        "         [  5.30030310e-01,   1.57974422e+00,   1.20697725e+00,\n",
        "            6.35406852e-01]],\n",
        "\n",
        "        [[  1.29098639e-01,   9.40312296e-02,   0.00000000e+00,\n",
        "            0.00000000e+00],\n",
        "         [  0.00000000e+00,   0.00000000e+00,   0.00000000e+00,\n",
        "            0.00000000e+00],\n",
        "         [  0.00000000e+00,   0.00000000e+00,   0.00000000e+00,\n",
        "            0.00000000e+00],\n",
        "         [  0.00000000e+00,   0.00000000e+00,   0.00000000e+00,\n",
        "            0.00000000e+00]],\n",
        "\n",
        "        [[  0.00000000e+00,   0.00000000e+00,   1.70562621e-02,\n",
        "            2.55843922e-02],\n",
        "         [  0.00000000e+00,   0.00000000e+00,   9.41228494e-03,\n",
        "            1.41184283e-02],\n",
        "         [  0.00000000e+00,   0.00000000e+00,   0.00000000e+00,\n",
        "            0.00000000e+00],\n",
        "         [  0.00000000e+00,   0.00000000e+00,   0.00000000e+00,\n",
        "            0.00000000e+00]],\n",
        "\n",
        "        ..., \n",
        "        [[  3.26988883e-02,   0.00000000e+00,   0.00000000e+00,\n",
        "            0.00000000e+00],\n",
        "         [  0.00000000e+00,   0.00000000e+00,   0.00000000e+00,\n",
        "            0.00000000e+00],\n",
        "         [  0.00000000e+00,   0.00000000e+00,   8.32571164e-02,\n",
        "            2.20006034e-01],\n",
        "         [  5.40540405e-02,   6.68135658e-02,   2.75989622e-02,\n",
        "            6.84659034e-02]],\n",
        "\n",
        "        [[  7.13171780e-01,   5.82412541e-01,   4.38962907e-01,\n",
        "            1.76976025e-01],\n",
        "         [  1.99219835e+00,   2.31025982e+00,   1.60841978e+00,\n",
        "            4.58728433e-01],\n",
        "         [  1.71483207e+00,   1.96408796e+00,   1.23289192e+00,\n",
        "            4.72948074e-01],\n",
        "         [  4.25176263e-01,   5.56022346e-01,   3.87099236e-01,\n",
        "            3.72648150e-01]],\n",
        "\n",
        "        [[  4.40088391e-01,   7.56802142e-01,   4.26572442e-01,\n",
        "            1.95188835e-01],\n",
        "         [  7.94127464e-01,   1.19883680e+00,   7.01529145e-01,\n",
        "            4.66988057e-01],\n",
        "         [  7.93296635e-01,   2.96378583e-01,   1.02176871e-02,\n",
        "            1.07392155e-01],\n",
        "         [  1.75250471e-01,   3.39259543e-02,   8.33024308e-02,\n",
        "            4.41973448e-01]]],\n",
        "\n",
        "\n",
        "       [[[  3.11806738e-01,   4.81837869e-01,   2.59538800e-01,\n",
        "            0.00000000e+00],\n",
        "         [  7.84085333e-01,   1.00391400e+00,   6.61833882e-01,\n",
        "            5.73278451e-03],\n",
        "         [  1.47145659e-01,   1.86658442e-01,   1.34769365e-01,\n",
        "            0.00000000e+00],\n",
        "         [  0.00000000e+00,   0.00000000e+00,   1.23768440e-02,\n",
        "            1.85652655e-02]],\n",
        "\n",
        "        [[  3.73353600e-03,   0.00000000e+00,   0.00000000e+00,\n",
        "            0.00000000e+00],\n",
        "         [  0.00000000e+00,   0.00000000e+00,   0.00000000e+00,\n",
        "            0.00000000e+00],\n",
        "         [  0.00000000e+00,   0.00000000e+00,   0.00000000e+00,\n",
        "            6.89307377e-02],\n",
        "         [  0.00000000e+00,   0.00000000e+00,   0.00000000e+00,\n",
        "            1.36243343e-01]],\n",
        "\n",
        "        [[  9.54737235e-03,   0.00000000e+00,   0.00000000e+00,\n",
        "            0.00000000e+00],\n",
        "         [  0.00000000e+00,   0.00000000e+00,   0.00000000e+00,\n",
        "            0.00000000e+00],\n",
        "         [  0.00000000e+00,   0.00000000e+00,   0.00000000e+00,\n",
        "            0.00000000e+00],\n",
        "         [  0.00000000e+00,   0.00000000e+00,   0.00000000e+00,\n",
        "            0.00000000e+00]],\n",
        "\n",
        "        ..., \n",
        "        [[  0.00000000e+00,   0.00000000e+00,   0.00000000e+00,\n",
        "            1.55642172e-02],\n",
        "         [  9.73270759e-02,   5.89665845e-02,   0.00000000e+00,\n",
        "            0.00000000e+00],\n",
        "         [  1.17326885e-01,   4.10871729e-02,   0.00000000e+00,\n",
        "            0.00000000e+00],\n",
        "         [  0.00000000e+00,   0.00000000e+00,   0.00000000e+00,\n",
        "            0.00000000e+00]],\n",
        "\n",
        "        [[  5.06847620e-01,   5.83698332e-01,   5.33515275e-01,\n",
        "            1.45222083e-01],\n",
        "         [  6.99615717e-01,   9.55120325e-01,   7.16269493e-01,\n",
        "            2.01651618e-01],\n",
        "         [  4.65743011e-03,   1.12675708e-02,   1.12675708e-02,\n",
        "            0.00000000e+00],\n",
        "         [  0.00000000e+00,   0.00000000e+00,   0.00000000e+00,\n",
        "            0.00000000e+00]],\n",
        "\n",
        "        [[  3.28172535e-01,   2.46655464e-01,   0.00000000e+00,\n",
        "            7.22133666e-02],\n",
        "         [  5.77989459e-01,   2.33066797e-01,   1.47901729e-01,\n",
        "            4.65875119e-01],\n",
        "         [  1.39882281e-01,   7.56288469e-02,   2.22762242e-01,\n",
        "            7.21166611e-01],\n",
        "         [  2.39729479e-01,   3.00899863e-01,   3.63955170e-01,\n",
        "            6.38335824e-01]]],\n",
        "\n",
        "\n",
        "       ..., \n",
        "       [[[  2.03311905e-01,   6.79598331e-01,   8.56705606e-01,\n",
        "            6.81083977e-01],\n",
        "         [  5.42177483e-02,   4.92730737e-01,   1.06780183e+00,\n",
        "            1.11612630e+00],\n",
        "         [  9.61557850e-02,   0.00000000e+00,   1.32591948e-01,\n",
        "            5.84608555e-01],\n",
        "         [  9.83721241e-02,   2.02701278e-02,   1.87247202e-01,\n",
        "            6.50707126e-01]],\n",
        "\n",
        "        [[  0.00000000e+00,   2.45489925e-02,   5.56239933e-02,\n",
        "            3.03688552e-03],\n",
        "         [  0.00000000e+00,   0.00000000e+00,   0.00000000e+00,\n",
        "            0.00000000e+00],\n",
        "         [  0.00000000e+00,   0.00000000e+00,   0.00000000e+00,\n",
        "            3.30843106e-02],\n",
        "         [  0.00000000e+00,   0.00000000e+00,   8.39541014e-03,\n",
        "            1.39987588e-01]],\n",
        "\n",
        "        [[  0.00000000e+00,   0.00000000e+00,   0.00000000e+00,\n",
        "            0.00000000e+00],\n",
        "         [  0.00000000e+00,   0.00000000e+00,   0.00000000e+00,\n",
        "            0.00000000e+00],\n",
        "         [  0.00000000e+00,   0.00000000e+00,   0.00000000e+00,\n",
        "            0.00000000e+00],\n",
        "         [  0.00000000e+00,   0.00000000e+00,   0.00000000e+00,\n",
        "            0.00000000e+00]],\n",
        "\n",
        "        ..., \n",
        "        [[  1.37303829e-01,   3.57712954e-01,   2.04299182e-01,\n",
        "            5.32424152e-02],\n",
        "         [  1.57852277e-01,   7.16358244e-01,   5.92712700e-01,\n",
        "            3.51615041e-01],\n",
        "         [  0.00000000e+00,   4.03390527e-02,   1.88755259e-01,\n",
        "            1.35543033e-01],\n",
        "         [  4.91873175e-02,   1.08709596e-01,   0.00000000e+00,\n",
        "            5.97746409e-02]],\n",
        "\n",
        "        [[  4.83909398e-01,   1.12216032e+00,   9.36076283e-01,\n",
        "            3.39378476e-01],\n",
        "         [  6.47496656e-02,   2.63263494e-01,   4.03000563e-01,\n",
        "            2.88004845e-01],\n",
        "         [  8.79714414e-02,   4.16106246e-02,   2.86158204e-01,\n",
        "            2.49551699e-01],\n",
        "         [  2.50662584e-02,   0.00000000e+00,   2.70719156e-02,\n",
        "            4.06078734e-02]],\n",
        "\n",
        "        [[  2.74613202e-02,   2.46556520e-01,   2.60557920e-01,\n",
        "            4.16609138e-01],\n",
        "         [  1.92810118e-01,   2.23864928e-01,   2.36282006e-01,\n",
        "            5.25812328e-01],\n",
        "         [  4.89380032e-01,   6.48424387e-01,   3.89707536e-01,\n",
        "            4.22461003e-01],\n",
        "         [  4.65899080e-01,   6.35283172e-01,   3.64217728e-01,\n",
        "            5.77611685e-01]]],\n",
        "\n",
        "\n",
        "       [[[  2.65465617e-01,   5.64882398e-01,   7.46152699e-01,\n",
        "            5.27909756e-01],\n",
        "         [  3.53727937e-01,   3.50882620e-01,   4.92702544e-01,\n",
        "            1.01768792e+00],\n",
        "         [  3.95363569e-01,   4.21924442e-01,   5.16319633e-01,\n",
        "            7.25020885e-01],\n",
        "         [  6.44915029e-02,   2.09864393e-01,   3.88077170e-01,\n",
        "            3.46239150e-01]],\n",
        "\n",
        "        [[  0.00000000e+00,   0.00000000e+00,   0.00000000e+00,\n",
        "            0.00000000e+00],\n",
        "         [  0.00000000e+00,   0.00000000e+00,   0.00000000e+00,\n",
        "            9.84223410e-02],\n",
        "         [  0.00000000e+00,   0.00000000e+00,   1.69378445e-02,\n",
        "            1.82872966e-01],\n",
        "         [  9.12345201e-03,   0.00000000e+00,   2.65265945e-02,\n",
        "            1.58620223e-01]],\n",
        "\n",
        "        [[  6.72380812e-03,   0.00000000e+00,   0.00000000e+00,\n",
        "            0.00000000e+00],\n",
        "         [  0.00000000e+00,   0.00000000e+00,   0.00000000e+00,\n",
        "            0.00000000e+00],\n",
        "         [  0.00000000e+00,   0.00000000e+00,   0.00000000e+00,\n",
        "            2.54819933e-02],\n",
        "         [  0.00000000e+00,   0.00000000e+00,   0.00000000e+00,\n",
        "            3.82229909e-02]],\n",
        "\n",
        "        ..., \n",
        "        [[  1.89812258e-01,   1.86446786e-01,   7.57727697e-02,\n",
        "            7.71508040e-03],\n",
        "         [  3.25514287e-01,   4.17089164e-01,   3.93086225e-01,\n",
        "            1.05706090e-02],\n",
        "         [  4.55426097e-01,   3.53800982e-01,   1.42598286e-01,\n",
        "            1.05706090e-02],\n",
        "         [  3.60654145e-01,   2.56705880e-01,   9.41222608e-02,\n",
        "            3.19954343e-02]],\n",
        "\n",
        "        [[  1.42310068e-01,   3.69201064e-01,   3.31014812e-01,\n",
        "            1.01822905e-01],\n",
        "         [  1.48724794e-01,   0.00000000e+00,   1.75982770e-02,\n",
        "            2.63974145e-02],\n",
        "         [  1.25236541e-01,   2.42481148e-03,   2.07811184e-02,\n",
        "            1.48142681e-01],\n",
        "         [  0.00000000e+00,   0.00000000e+00,   2.75344606e-02,\n",
        "            2.22214013e-01]],\n",
        "\n",
        "        [[  0.00000000e+00,   3.21726315e-02,   2.79561311e-01,\n",
        "            4.34025288e-01],\n",
        "         [  4.29661870e-02,   1.63256437e-01,   5.88219047e-01,\n",
        "            8.55372369e-01],\n",
        "         [  1.88305035e-01,   6.20294690e-01,   7.24977970e-01,\n",
        "            7.01586723e-01],\n",
        "         [  1.65919155e-01,   1.92641199e-01,   2.32190087e-01,\n",
        "            3.03527385e-01]]],\n",
        "\n",
        "\n",
        "       [[[  1.19676195e-01,   4.14451510e-01,   4.43948865e-01,\n",
        "            2.42722332e-01],\n",
        "         [  5.69460727e-02,   5.13368607e-01,   9.84141469e-01,\n",
        "            7.91603506e-01],\n",
        "         [  1.21755823e-01,   7.45297849e-01,   1.27927506e+00,\n",
        "            1.66475964e+00],\n",
        "         [  2.79849797e-01,   8.30443799e-01,   4.13596869e-01,\n",
        "            7.42305100e-01]],\n",
        "\n",
        "        [[  0.00000000e+00,   0.00000000e+00,   3.42169032e-02,\n",
        "            1.40357211e-01],\n",
        "         [  0.00000000e+00,   0.00000000e+00,   0.00000000e+00,\n",
        "            0.00000000e+00],\n",
        "         [  0.00000000e+00,   9.09138937e-03,   1.78901136e-01,\n",
        "            4.52972263e-01],\n",
        "         [  0.00000000e+00,   6.62723854e-02,   2.54756391e-01,\n",
        "            4.06697631e-01]],\n",
        "\n",
        "        [[  2.13247418e-01,   3.42859328e-02,   5.30691817e-02,\n",
        "            3.62486653e-02],\n",
        "         [  8.91116038e-02,   0.00000000e+00,   0.00000000e+00,\n",
        "            0.00000000e+00],\n",
        "         [  0.00000000e+00,   0.00000000e+00,   0.00000000e+00,\n",
        "            0.00000000e+00],\n",
        "         [  0.00000000e+00,   0.00000000e+00,   0.00000000e+00,\n",
        "            0.00000000e+00]],\n",
        "\n",
        "        ..., \n",
        "        [[  5.99236488e-02,   7.95424208e-02,   2.30603199e-03,\n",
        "            5.86930253e-02],\n",
        "         [  4.48381752e-02,   3.90924215e-02,   0.00000000e+00,\n",
        "            0.00000000e+00],\n",
        "         [  0.00000000e+00,   0.00000000e+00,   0.00000000e+00,\n",
        "            1.50364995e-01],\n",
        "         [  0.00000000e+00,   0.00000000e+00,   0.00000000e+00,\n",
        "            3.15168321e-01]],\n",
        "\n",
        "        [[  8.24665576e-02,   1.17263213e-01,   7.33759031e-02,\n",
        "            0.00000000e+00],\n",
        "         [  5.54908365e-02,   0.00000000e+00,   6.71271840e-03,\n",
        "            1.00690778e-02],\n",
        "         [  5.53003728e-01,   6.80398285e-01,   7.63409734e-01,\n",
        "            8.16114902e-01],\n",
        "         [  1.40522194e+00,   2.16354918e+00,   2.13514829e+00,\n",
        "            1.99559379e+00]],\n",
        "\n",
        "        [[  0.00000000e+00,   0.00000000e+00,   0.00000000e+00,\n",
        "            1.04209781e-02],\n",
        "         [  1.24027394e-02,   2.02816427e-01,   6.06080443e-02,\n",
        "            3.85523438e-01],\n",
        "         [  6.97881281e-01,   2.53010839e-01,   3.25555205e-01,\n",
        "            1.01286471e+00],\n",
        "         [  1.94717312e+00,   5.42131841e-01,   3.66270930e-01,\n",
        "            5.01659691e-01]]]], dtype=float32)"
       ]
      }
     ],
     "prompt_number": 48
    },
    {
     "cell_type": "code",
     "collapsed": false,
     "input": [
      "#Change the last second layer\n",
      "#newfullyConnected.shape\n",
      "solver.net.params['ip1'][0].data[...] = newfullyConnected[:64]\n",
      "solver.net.params['ip1'][1].data[...] = newfullyConnectedBias[:64,0]\n",
      "#solver.net.params['ip1'][0].data[...] = np.zeros((64, 1024))\n",
      "#solver.net.params['ip1'][1].data[...] = np.zeros(64)\n",
      "\n",
      "solver.net.params['ip2'][0].data[...] = np.zeros((10,64))\n",
      "solver.net.params['ip2'][1].data[...] = np.zeros(10)"
     ],
     "language": "python",
     "metadata": {},
     "outputs": [],
     "prompt_number": 49
    },
    {
     "cell_type": "code",
     "collapsed": false,
     "input": [
      "#Sanity check; Compare with fully_connected_investigation;if the output of ip1 is the same with the prediction result in investigation\n",
      "solver.net.blobs['data'].data[...] = data[:100]\n",
      "solver.net.blobs['label'].data[...] = label[:100]\n",
      "solver.net.forward(start = 'conv1')\n",
      "solver.net.blobs['ip1'].data\n",
      "#solver.net.blobs['pool2'].data"
     ],
     "language": "python",
     "metadata": {},
     "outputs": [
      {
       "metadata": {},
       "output_type": "pyout",
       "prompt_number": 50,
       "text": [
        "array([[ 1.160326  ,  0.28099447,  0.87047619, ...,  0.74971586,\n",
        "         0.46281636, -0.73580515],\n",
        "       [-0.28558362, -1.0686233 , -1.15221822, ..., -0.63479912,\n",
        "         0.62789184,  1.67533588],\n",
        "       [-0.23466524, -0.33635196, -0.38712645, ..., -0.67666125,\n",
        "         0.42558151,  0.88985205],\n",
        "       ..., \n",
        "       [-0.23703551, -0.01040184, -0.68846536, ..., -0.4050318 ,\n",
        "        -0.13792677,  0.78397596],\n",
        "       [ 0.1218752 , -0.58658296, -0.62740302, ...,  0.10071534,\n",
        "        -0.69120312,  0.74321032],\n",
        "       [ 0.08744258,  1.51236463, -0.7580303 , ...,  0.32425278,\n",
        "        -0.11513199, -0.17817175]], dtype=float32)"
       ]
      }
     ],
     "prompt_number": 50
    },
    {
     "cell_type": "code",
     "collapsed": false,
     "input": [
      "#jump start\n",
      "solver.step(4000)"
     ],
     "language": "python",
     "metadata": {},
     "outputs": [],
     "prompt_number": 43
    },
    {
     "cell_type": "code",
     "collapsed": false,
     "input": [
      "#Larger the learning rate, and then train again\n",
      "#assuming pretrained caffemodel is saved in cifar10_quick_iter_4000_jump_start.caffemodel\n",
      "solver = caffe.get_solver(\"./examples/cifar10/cifar10_quick_solver_svmRetrain_after.prototxt\")\n",
      "PRETRAINED = './examples/cifar10/cifar10_quick_iter_4000.caffemodel'\n",
      "solver.net.copy_from(PRETRAINED)"
     ],
     "language": "python",
     "metadata": {},
     "outputs": [],
     "prompt_number": 124
    },
    {
     "cell_type": "code",
     "collapsed": false,
     "input": [
      "solver.step(2000)"
     ],
     "language": "python",
     "metadata": {},
     "outputs": [],
     "prompt_number": 125
    },
    {
     "cell_type": "code",
     "collapsed": false,
     "input": [
      "solver.net.blobs['ip1'].data[:,15]"
     ],
     "language": "python",
     "metadata": {},
     "outputs": [
      {
       "metadata": {},
       "output_type": "pyout",
       "prompt_number": 128,
       "text": [
        "array([             nan,  -2.30584287e+18,              nan,\n",
        "        -1.43475195e+17,              nan,  -1.70098164e+38,\n",
        "                    nan,              nan,  -1.99963176e+00,\n",
        "                    nan,              nan,  -2.26755348e+18,\n",
        "                    nan,              nan,  -2.41549031e+24,\n",
        "                    nan,  -7.81249814e-03,              nan,\n",
        "                    nan,   1.06726145e-19,              nan,\n",
        "                    nan,              nan,              nan,\n",
        "        -2.65845574e+37,   1.64819718e+38,              nan,\n",
        "        -1.66112608e+35,              nan,              nan,\n",
        "                    nan,  -1.99948108e+00,  -2.61691746e+36,\n",
        "                    nan,              nan,  -6.18969983e+26,\n",
        "                    nan,              nan,   2.57534803e+36,\n",
        "        -4.05648168e+31,              nan,              nan,\n",
        "        -2.76701139e+19,              nan,  -2.56499449e+36,\n",
        "        -1.57218366e+29,              nan,              nan,\n",
        "        -3.39948742e+38,              nan,              nan,\n",
        "        -4.25352122e+37,  -2.65812878e+36,              nan,\n",
        "        -1.32857888e+36,  -7.77319325e+33,              nan,\n",
        "                    nan,              nan,  -1.69476539e+38,\n",
        "                    nan,  -1.58456316e+29,              nan,\n",
        "        -2.65326354e+36,              nan,  -1.21535682e+32,\n",
        "         3.40271962e+38,              nan,   3.40280886e+38,\n",
        "        -1.03845925e+34,  -1.87499774e+00,  -2.29402092e+18,\n",
        "        -3.68203003e+19,              nan,  -9.99998987e-01,\n",
        "        -9.22337149e+18,              nan,              nan,\n",
        "         4.25326921e+37,              nan,              nan,\n",
        "                    nan,              nan,   3.68922721e+19,\n",
        "        -1.87496912e+00,  -6.18875499e+26,              nan,\n",
        "                    nan,  -3.68889823e+19,  -1.58436935e+29,\n",
        "                    nan,              nan,   4.25249087e+37,\n",
        "                    nan,              nan,  -8.58993408e+09,\n",
        "        -1.59424252e+38,              nan,              nan,\n",
        "        -1.66148419e+35], dtype=float32)"
       ]
      }
     ],
     "prompt_number": 128
    },
    {
     "cell_type": "code",
     "collapsed": false,
     "input": [
      "np.max(solver.net.blobs['ip1'].data)"
     ],
     "language": "python",
     "metadata": {},
     "outputs": [
      {
       "metadata": {},
       "output_type": "pyout",
       "prompt_number": 101,
       "text": [
        "7.8017263"
       ]
      }
     ],
     "prompt_number": 101
    },
    {
     "cell_type": "code",
     "collapsed": false,
     "input": [
      "hist(solver.net.blobs['ip1'].data[:,15])"
     ],
     "language": "python",
     "metadata": {},
     "outputs": [
      {
       "ename": "AttributeError",
       "evalue": "max must be larger than min in range parameter.",
       "output_type": "pyerr",
       "traceback": [
        "\u001b[0;31m---------------------------------------------------------------------------\u001b[0m\n\u001b[0;31mAttributeError\u001b[0m                            Traceback (most recent call last)",
        "\u001b[0;32m<ipython-input-126-707680395c2a>\u001b[0m in \u001b[0;36m<module>\u001b[0;34m()\u001b[0m\n\u001b[0;32m----> 1\u001b[0;31m \u001b[0mhist\u001b[0m\u001b[0;34m(\u001b[0m\u001b[0msolver\u001b[0m\u001b[0;34m.\u001b[0m\u001b[0mnet\u001b[0m\u001b[0;34m.\u001b[0m\u001b[0mblobs\u001b[0m\u001b[0;34m[\u001b[0m\u001b[0;34m'ip1'\u001b[0m\u001b[0;34m]\u001b[0m\u001b[0;34m.\u001b[0m\u001b[0mdata\u001b[0m\u001b[0;34m[\u001b[0m\u001b[0;34m:\u001b[0m\u001b[0;34m,\u001b[0m\u001b[0;36m15\u001b[0m\u001b[0;34m]\u001b[0m\u001b[0;34m)\u001b[0m\u001b[0;34m\u001b[0m\u001b[0m\n\u001b[0m",
        "\u001b[0;32m/Users/jiajunshen/Library/Enthought/Canopy_64bit/User/lib/python2.7/site-packages/matplotlib/pyplot.pyc\u001b[0m in \u001b[0;36mhist\u001b[0;34m(x, bins, range, normed, weights, cumulative, bottom, histtype, align, orientation, rwidth, log, color, label, stacked, hold, **kwargs)\u001b[0m\n\u001b[1;32m   2825\u001b[0m                       \u001b[0mhisttype\u001b[0m\u001b[0;34m=\u001b[0m\u001b[0mhisttype\u001b[0m\u001b[0;34m,\u001b[0m \u001b[0malign\u001b[0m\u001b[0;34m=\u001b[0m\u001b[0malign\u001b[0m\u001b[0;34m,\u001b[0m \u001b[0morientation\u001b[0m\u001b[0;34m=\u001b[0m\u001b[0morientation\u001b[0m\u001b[0;34m,\u001b[0m\u001b[0;34m\u001b[0m\u001b[0m\n\u001b[1;32m   2826\u001b[0m                       \u001b[0mrwidth\u001b[0m\u001b[0;34m=\u001b[0m\u001b[0mrwidth\u001b[0m\u001b[0;34m,\u001b[0m \u001b[0mlog\u001b[0m\u001b[0;34m=\u001b[0m\u001b[0mlog\u001b[0m\u001b[0;34m,\u001b[0m \u001b[0mcolor\u001b[0m\u001b[0;34m=\u001b[0m\u001b[0mcolor\u001b[0m\u001b[0;34m,\u001b[0m \u001b[0mlabel\u001b[0m\u001b[0;34m=\u001b[0m\u001b[0mlabel\u001b[0m\u001b[0;34m,\u001b[0m\u001b[0;34m\u001b[0m\u001b[0m\n\u001b[0;32m-> 2827\u001b[0;31m                       stacked=stacked, **kwargs)\n\u001b[0m\u001b[1;32m   2828\u001b[0m         \u001b[0mdraw_if_interactive\u001b[0m\u001b[0;34m(\u001b[0m\u001b[0;34m)\u001b[0m\u001b[0;34m\u001b[0m\u001b[0m\n\u001b[1;32m   2829\u001b[0m     \u001b[0;32mfinally\u001b[0m\u001b[0;34m:\u001b[0m\u001b[0;34m\u001b[0m\u001b[0m\n",
        "\u001b[0;32m/Users/jiajunshen/Library/Enthought/Canopy_64bit/User/lib/python2.7/site-packages/matplotlib/axes.pyc\u001b[0m in \u001b[0;36mhist\u001b[0;34m(self, x, bins, range, normed, weights, cumulative, bottom, histtype, align, orientation, rwidth, log, color, label, stacked, **kwargs)\u001b[0m\n\u001b[1;32m   8324\u001b[0m             \u001b[0;31m# this will automatically overwrite bins,\u001b[0m\u001b[0;34m\u001b[0m\u001b[0;34m\u001b[0m\u001b[0m\n\u001b[1;32m   8325\u001b[0m             \u001b[0;31m# so that each histogram uses the same bins\u001b[0m\u001b[0;34m\u001b[0m\u001b[0;34m\u001b[0m\u001b[0m\n\u001b[0;32m-> 8326\u001b[0;31m             \u001b[0mm\u001b[0m\u001b[0;34m,\u001b[0m \u001b[0mbins\u001b[0m \u001b[0;34m=\u001b[0m \u001b[0mnp\u001b[0m\u001b[0;34m.\u001b[0m\u001b[0mhistogram\u001b[0m\u001b[0;34m(\u001b[0m\u001b[0mx\u001b[0m\u001b[0;34m[\u001b[0m\u001b[0mi\u001b[0m\u001b[0;34m]\u001b[0m\u001b[0;34m,\u001b[0m \u001b[0mbins\u001b[0m\u001b[0;34m,\u001b[0m \u001b[0mweights\u001b[0m\u001b[0;34m=\u001b[0m\u001b[0mw\u001b[0m\u001b[0;34m[\u001b[0m\u001b[0mi\u001b[0m\u001b[0;34m]\u001b[0m\u001b[0;34m,\u001b[0m \u001b[0;34m**\u001b[0m\u001b[0mhist_kwargs\u001b[0m\u001b[0;34m)\u001b[0m\u001b[0;34m\u001b[0m\u001b[0m\n\u001b[0m\u001b[1;32m   8327\u001b[0m             \u001b[0mm\u001b[0m \u001b[0;34m=\u001b[0m \u001b[0mm\u001b[0m\u001b[0;34m.\u001b[0m\u001b[0mastype\u001b[0m\u001b[0;34m(\u001b[0m\u001b[0mfloat\u001b[0m\u001b[0;34m)\u001b[0m \u001b[0;31m# causes problems later if it's an int\u001b[0m\u001b[0;34m\u001b[0m\u001b[0m\n\u001b[1;32m   8328\u001b[0m             \u001b[0;32mif\u001b[0m \u001b[0mmlast\u001b[0m \u001b[0;32mis\u001b[0m \u001b[0mNone\u001b[0m\u001b[0;34m:\u001b[0m\u001b[0;34m\u001b[0m\u001b[0m\n",
        "\u001b[0;32m/Users/jiajunshen/Library/Enthought/Canopy_64bit/User/lib/python2.7/site-packages/numpy/lib/function_base.pyc\u001b[0m in \u001b[0;36mhistogram\u001b[0;34m(a, bins, range, normed, weights, density)\u001b[0m\n\u001b[1;32m    174\u001b[0m         \u001b[0;32mif\u001b[0m \u001b[0;34m(\u001b[0m\u001b[0mmn\u001b[0m \u001b[0;34m>\u001b[0m \u001b[0mmx\u001b[0m\u001b[0;34m)\u001b[0m\u001b[0;34m:\u001b[0m\u001b[0;34m\u001b[0m\u001b[0m\n\u001b[1;32m    175\u001b[0m             raise AttributeError(\n\u001b[0;32m--> 176\u001b[0;31m                 'max must be larger than min in range parameter.')\n\u001b[0m\u001b[1;32m    177\u001b[0m \u001b[0;34m\u001b[0m\u001b[0m\n\u001b[1;32m    178\u001b[0m     \u001b[0;32mif\u001b[0m \u001b[0;32mnot\u001b[0m \u001b[0miterable\u001b[0m\u001b[0;34m(\u001b[0m\u001b[0mbins\u001b[0m\u001b[0;34m)\u001b[0m\u001b[0;34m:\u001b[0m\u001b[0;34m\u001b[0m\u001b[0m\n",
        "\u001b[0;31mAttributeError\u001b[0m: max must be larger than min in range parameter."
       ]
      },
      {
       "metadata": {},
       "output_type": "display_data",
       "png": "[encoded data removed]",
       "text": [
        "<matplotlib.figure.Figure at 0x1274f3fd0>"
       ]
      }
     ],
     "prompt_number": 126
    },
    {
     "cell_type": "code",
     "collapsed": false,
     "input": [],
     "language": "python",
     "metadata": {},
     "outputs": [],
     "prompt_number": 34
    },
    {
     "cell_type": "code",
     "collapsed": false,
     "input": [
      "solver.net.params['conv2'][1].data"
     ],
     "language": "python",
     "metadata": {},
     "outputs": [
      {
       "metadata": {},
       "output_type": "pyout",
       "prompt_number": 221,
       "text": [
        "array([ 0.,  0.,  0.,  0.,  0.,  0.,  0.,  0.,  0.,  0.,  0.,  0.,  0.,\n",
        "        0.,  0.,  0.,  0.,  0.,  0.,  0.,  0.,  0.,  0.,  0.,  0.,  0.,\n",
        "        0.,  0.,  0.,  0.,  0.,  0.,  0.,  0.,  0.,  0.,  0.,  0.,  0.,\n",
        "        0.,  0.,  0.,  0.,  0.,  0.,  0.,  0.,  0.,  0.,  0.], dtype=float32)"
       ]
      }
     ],
     "prompt_number": 221
    },
    {
     "cell_type": "code",
     "collapsed": false,
     "input": [
      "partition = [1, 8, 6, 2, 5]"
     ],
     "language": "python",
     "metadata": {},
     "outputs": [],
     "prompt_number": 239
    },
    {
     "cell_type": "code",
     "collapsed": false,
     "input": [
      "solver.net.blobs['label'].data"
     ],
     "language": "python",
     "metadata": {},
     "outputs": [
      {
       "metadata": {},
       "output_type": "pyout",
       "prompt_number": 128,
       "text": [
        "array([ 1.,  1.,  8.,  2.,  5.,  3.,  9.,  4.,  0.,  5.,  5.,  6.,  8.,\n",
        "        7.,  1.,  8.,  5.,  9.,  4.,  0.,  0.,  1.,  5.,  2.,  0.,  3.,\n",
        "        5.,  4.,  5.,  5.,  5.,  6.,  0.,  7.,  2.,  8.,  5.,  9.,  9.,\n",
        "        0.,  4.,  1.,  5.,  2.,  1.,  3.,  3.,  4.,  1.,  5.,  1.,  6.,\n",
        "        1.,  7.,  4.,  8.,  0.,  9.,  8.,  8.,  5.,  9.,  9.,  5.], dtype=float32)"
       ]
      }
     ],
     "prompt_number": 128
    },
    {
     "cell_type": "code",
     "collapsed": false,
     "input": [
      "modelResult = np.array([i in partition for i in solver.net.blobs['label'].data],dtype=np.int)"
     ],
     "language": "python",
     "metadata": {},
     "outputs": [],
     "prompt_number": 136
    },
    {
     "cell_type": "code",
     "collapsed": false,
     "input": [
      "result = solver.net.blobs['ip1'].data[:,0]\n",
      "result[result>=1]= 1\n",
      "result[result<1] = 0\n",
      "result = np.array(result, dtype=np.int)"
     ],
     "language": "python",
     "metadata": {},
     "outputs": [],
     "prompt_number": 151
    },
    {
     "cell_type": "code",
     "collapsed": false,
     "input": [
      "result.shape"
     ],
     "language": "python",
     "metadata": {},
     "outputs": [
      {
       "metadata": {},
       "output_type": "pyout",
       "prompt_number": 152,
       "text": [
        "(64,)"
       ]
      }
     ],
     "prompt_number": 152
    },
    {
     "cell_type": "code",
     "collapsed": false,
     "input": [
      "np.mean(modelResult == result)"
     ],
     "language": "python",
     "metadata": {},
     "outputs": [
      {
       "metadata": {},
       "output_type": "pyout",
       "prompt_number": 155,
       "text": [
        "0.5"
       ]
      }
     ],
     "prompt_number": 155
    },
    {
     "cell_type": "code",
     "collapsed": false,
     "input": [
      "modelResult.shape"
     ],
     "language": "python",
     "metadata": {},
     "outputs": [
      {
       "metadata": {},
       "output_type": "pyout",
       "prompt_number": 144,
       "text": [
        "(64,)"
       ]
      }
     ],
     "prompt_number": 144
    },
    {
     "cell_type": "code",
     "collapsed": false,
     "input": [
      "result"
     ],
     "language": "python",
     "metadata": {},
     "outputs": [
      {
       "metadata": {},
       "output_type": "pyout",
       "prompt_number": 153,
       "text": [
        "array([0, 1, 1, 1, 1, 1, 1, 1, 0, 1, 1, 1, 1, 0, 0, 1, 1, 1, 1, 0, 1, 1, 1,\n",
        "       1, 1, 1, 1, 1, 1, 1, 1, 1, 1, 0, 1, 1, 1, 1, 0, 0, 1, 1, 1, 1, 1, 1,\n",
        "       1, 1, 0, 1, 1, 1, 0, 0, 1, 1, 1, 1, 1, 1, 1, 1, 1, 1])"
       ]
      }
     ],
     "prompt_number": 153
    },
    {
     "cell_type": "code",
     "collapsed": false,
     "input": [
      "modelResult"
     ],
     "language": "python",
     "metadata": {},
     "outputs": [
      {
       "metadata": {},
       "output_type": "pyout",
       "prompt_number": 154,
       "text": [
        "array([0, 0, 1, 1, 0, 1, 0, 1, 0, 0, 0, 0, 1, 0, 0, 1, 0, 0, 1, 0, 0, 0, 0,\n",
        "       1, 0, 1, 0, 1, 0, 0, 0, 0, 0, 0, 1, 1, 0, 0, 0, 0, 1, 0, 0, 1, 0, 1,\n",
        "       1, 1, 0, 0, 0, 0, 0, 0, 1, 1, 0, 0, 1, 1, 0, 0, 0, 0])"
       ]
      }
     ],
     "prompt_number": 154
    },
    {
     "cell_type": "code",
     "collapsed": false,
     "input": [
      "solver.net.params['ip1'][0].data.shape"
     ],
     "language": "python",
     "metadata": {},
     "outputs": [
      {
       "metadata": {},
       "output_type": "pyout",
       "prompt_number": 69,
       "text": [
        "(100, 800)"
       ]
      }
     ],
     "prompt_number": 69
    },
    {
     "cell_type": "code",
     "collapsed": false,
     "input": [
      "hist(solver.net.blobs['ip1'].data[:,6])"
     ],
     "language": "python",
     "metadata": {},
     "outputs": [
      {
       "metadata": {},
       "output_type": "pyout",
       "prompt_number": 126,
       "text": [
        "(array([  1.,   3.,   6.,   5.,  12.,   9.,   9.,  16.,   2.,   1.]),\n",
        " array([-3.07890391, -2.53164363, -1.98438334, -1.43712306, -0.88986278,\n",
        "        -0.34260249,  0.20465779,  0.75191808,  1.29917836,  1.84643865,\n",
        "         2.39369893]),\n",
        " <a list of 10 Patch objects>)"
       ]
      },
      {
       "metadata": {},
       "output_type": "display_data",
       "png": "[encoded data removed]",
       "text": [
        "<matplotlib.figure.Figure at 0x1300d6450>"
       ]
      }
     ],
     "prompt_number": 126
    },
    {
     "cell_type": "code",
     "collapsed": false,
     "input": [
      "#Sanity check; Compare with fully_connected_investigation; make sure the model copied here is correct\n",
      "import amitgroup.io\n",
      "activationArray = None\n",
      "for i in range(500):\n",
      "    solver.net.blobs['data'].data[...] = data[i * 100: (i + 1) * 100]\n",
      "    solver.net.forward(start = 'conv1')\n",
      "    if activationArray == None:\n",
      "        activationArray = np.array(solver.net.blobs['ip1'].data)\n",
      "    else:\n",
      "        activationArray = np.concatenate((activationArray, np.array(solver.net.blobs['ip1'].data)))"
     ],
     "language": "python",
     "metadata": {},
     "outputs": [
      {
       "output_type": "stream",
       "stream": "stderr",
       "text": [
        "-c:7: FutureWarning: comparison to `None` will result in an elementwise object comparison in the future.\n"
       ]
      }
     ],
     "prompt_number": 51
    },
    {
     "cell_type": "code",
     "collapsed": false,
     "input": [
      "import amitgroup.io\n",
      "testingData,testingLabel = amitgroup.io.load_cifar10(\"testing\")\n",
      "testingData = testingData * 255\n",
      "testingData = testingData - np.mean(testingData,axis = 0)\n",
      "testingData = np.rollaxis(testingData,3,1)\n",
      "\n",
      "activationTestArray = None\n",
      "\n",
      "for i in range(100):\n",
      "    solver.net.blobs['data'].data[...] =np.array(testingData[i * 100: (i + 1) * 100])\n",
      "    solver.net.forward(start = \"conv1\")\n",
      "    if activationTestArray == None:\n",
      "        activationTestArray = np.array(solver.net.blobs['ip1'].data)\n",
      "        tmp = np.array(solver.net.blobs['ip1'].data)\n",
      "    else:\n",
      "        activationTestArray = np.concatenate((activationTestArray, np.array(solver.net.blobs['ip1'].data)))"
     ],
     "language": "python",
     "metadata": {},
     "outputs": [
      {
       "output_type": "stream",
       "stream": "stderr",
       "text": [
        "-c:12: FutureWarning: comparison to `None` will result in an elementwise object comparison in the future.\n"
       ]
      }
     ],
     "prompt_number": 52
    },
    {
     "cell_type": "code",
     "collapsed": false,
     "input": [
      "from sklearn import svm\n",
      "clf = svm.LinearSVC()\n",
      "clf.fit(activationArray[:50000].reshape(50000,-1),label)"
     ],
     "language": "python",
     "metadata": {},
     "outputs": [
      {
       "metadata": {},
       "output_type": "pyout",
       "prompt_number": 53,
       "text": [
        "LinearSVC(C=1.0, class_weight=None, dual=True, fit_intercept=True,\n",
        "     intercept_scaling=1, loss='l2', multi_class='ovr', penalty='l2',\n",
        "     random_state=None, tol=0.0001, verbose=0)"
       ]
      }
     ],
     "prompt_number": 53
    },
    {
     "cell_type": "code",
     "collapsed": false,
     "input": [
      "np.mean(clf.predict(activationTestArray) == testingLabel)"
     ],
     "language": "python",
     "metadata": {},
     "outputs": [
      {
       "metadata": {},
       "output_type": "pyout",
       "prompt_number": 54,
       "text": [
        "0.72950000000000004"
       ]
      }
     ],
     "prompt_number": 54
    },
    {
     "cell_type": "code",
     "collapsed": false,
     "input": [],
     "language": "python",
     "metadata": {},
     "outputs": []
    }
   ],
   "metadata": {}
  }
 ]
}