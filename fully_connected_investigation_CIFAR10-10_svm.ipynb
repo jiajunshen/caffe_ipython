{
 "metadata": {
  "name": "",
  "signature": "sha256:ebc7b4f836f73f46ef8367b917f0c8919ee306c97c8bb85d66b9053b6dc85389"
 },
 "nbformat": 3,
 "nbformat_minor": 0,
 "worksheets": [
  {
   "cells": [
    {
     "cell_type": "code",
     "collapsed": false,
     "input": [
      "import caffe\n",
      "import os\n",
      "import deepdish as dd\n",
      "import amitgroup.plot as gr\n",
      "os.chdir(\"/Users/jiajunshen/Documents/Research/caffe/\")\n",
      "caffe.set_mode_gpu()\n",
      "solver = caffe.get_solver(\"./examples/cifar10/cifar10_quick_solver.prototxt\")"
     ],
     "language": "python",
     "metadata": {},
     "outputs": [
      {
       "output_type": "stream",
       "stream": "stderr",
       "text": [
        "/Users/jiajunshen/Library/Enthought/Canopy_64bit/User/lib/python2.7/site-packages/matplotlib/__init__.py:1318: UserWarning:  This call to matplotlib.use() has no effect\n",
        "because the backend has already been chosen;\n",
        "matplotlib.use() must be called *before* pylab, matplotlib.pyplot,\n",
        "or matplotlib.backends is imported for the first time.\n",
        "\n",
        "  warnings.warn(_use_error_msg)\n"
       ]
      }
     ],
     "prompt_number": 1
    },
    {
     "cell_type": "code",
     "collapsed": false,
     "input": [
      "#new Partition test#\n",
      "trainingLabel = np.random.choice(range(10),size = 200, replace=True)\n",
      "testLabel = np.random.choice(range(10), size = 100, replace = True)\n",
      "np.mean(newPartition(trainingLabel, testLabel)[0])"
     ],
     "language": "python",
     "metadata": {},
     "outputs": [
      {
       "ename": "NameError",
       "evalue": "name 'newPartition' is not defined",
       "output_type": "pyerr",
       "traceback": [
        "\u001b[0;31m---------------------------------------------------------------------------\u001b[0m\n\u001b[0;31mNameError\u001b[0m                                 Traceback (most recent call last)",
        "\u001b[0;32m<ipython-input-2-59a9d6bdbc93>\u001b[0m in \u001b[0;36m<module>\u001b[0;34m()\u001b[0m\n\u001b[1;32m      2\u001b[0m \u001b[0mtrainingLabel\u001b[0m \u001b[0;34m=\u001b[0m \u001b[0mnp\u001b[0m\u001b[0;34m.\u001b[0m\u001b[0mrandom\u001b[0m\u001b[0;34m.\u001b[0m\u001b[0mchoice\u001b[0m\u001b[0;34m(\u001b[0m\u001b[0mrange\u001b[0m\u001b[0;34m(\u001b[0m\u001b[0;36m10\u001b[0m\u001b[0;34m)\u001b[0m\u001b[0;34m,\u001b[0m\u001b[0msize\u001b[0m \u001b[0;34m=\u001b[0m \u001b[0;36m200\u001b[0m\u001b[0;34m,\u001b[0m \u001b[0mreplace\u001b[0m\u001b[0;34m=\u001b[0m\u001b[0mTrue\u001b[0m\u001b[0;34m)\u001b[0m\u001b[0;34m\u001b[0m\u001b[0m\n\u001b[1;32m      3\u001b[0m \u001b[0mtestLabel\u001b[0m \u001b[0;34m=\u001b[0m \u001b[0mnp\u001b[0m\u001b[0;34m.\u001b[0m\u001b[0mrandom\u001b[0m\u001b[0;34m.\u001b[0m\u001b[0mchoice\u001b[0m\u001b[0;34m(\u001b[0m\u001b[0mrange\u001b[0m\u001b[0;34m(\u001b[0m\u001b[0;36m10\u001b[0m\u001b[0;34m)\u001b[0m\u001b[0;34m,\u001b[0m \u001b[0msize\u001b[0m \u001b[0;34m=\u001b[0m \u001b[0;36m100\u001b[0m\u001b[0;34m,\u001b[0m \u001b[0mreplace\u001b[0m \u001b[0;34m=\u001b[0m \u001b[0mTrue\u001b[0m\u001b[0;34m)\u001b[0m\u001b[0;34m\u001b[0m\u001b[0m\n\u001b[0;32m----> 4\u001b[0;31m \u001b[0mnp\u001b[0m\u001b[0;34m.\u001b[0m\u001b[0mmean\u001b[0m\u001b[0;34m(\u001b[0m\u001b[0mnewPartition\u001b[0m\u001b[0;34m(\u001b[0m\u001b[0mtrainingLabel\u001b[0m\u001b[0;34m,\u001b[0m \u001b[0mtestLabel\u001b[0m\u001b[0;34m)\u001b[0m\u001b[0;34m[\u001b[0m\u001b[0;36m0\u001b[0m\u001b[0;34m]\u001b[0m\u001b[0;34m)\u001b[0m\u001b[0;34m\u001b[0m\u001b[0m\n\u001b[0m",
        "\u001b[0;31mNameError\u001b[0m: name 'newPartition' is not defined"
       ]
      }
     ],
     "prompt_number": 2
    },
    {
     "cell_type": "code",
     "collapsed": false,
     "input": [
      "solver.net.params"
     ],
     "language": "python",
     "metadata": {},
     "outputs": [
      {
       "metadata": {},
       "output_type": "pyout",
       "prompt_number": 3,
       "text": [
        "OrderedDict([('conv1', <caffe._caffe.BlobVec object at 0x128107bb0>), ('conv2', <caffe._caffe.BlobVec object at 0x128107fa0>), ('conv3', <caffe._caffe.BlobVec object at 0x128189980>), ('ip1', <caffe._caffe.BlobVec object at 0x1281898a0>), ('ip2', <caffe._caffe.BlobVec object at 0x1281899f0>)])"
       ]
      }
     ],
     "prompt_number": 3
    },
    {
     "cell_type": "code",
     "collapsed": false,
     "input": [
      "solver.net.params['conv1'][1].data[...] = np.zeros(32)\n",
      "solver.net.params['conv2'][1].data[...] = np.zeros(32)\n",
      "solver.net.params['conv3'][1].data[...] = np.zeros(64)\n",
      "solver.net.params['ip1'][1].data[...] = np.zeros(64)\n",
      "solver.net.params['ip2'][1].data[...] = np.zeros(10)"
     ],
     "language": "python",
     "metadata": {},
     "outputs": [],
     "prompt_number": 4
    },
    {
     "cell_type": "code",
     "collapsed": false,
     "input": [
      "solver.step(4000)"
     ],
     "language": "python",
     "metadata": {},
     "outputs": [],
     "prompt_number": 5
    },
    {
     "cell_type": "code",
     "collapsed": false,
     "input": [
      "solver.net.params['conv1'][1].data"
     ],
     "language": "python",
     "metadata": {},
     "outputs": [
      {
       "metadata": {},
       "output_type": "pyout",
       "prompt_number": 6,
       "text": [
        "array([ 0.,  0.,  0.,  0.,  0.,  0.,  0.,  0.,  0.,  0.,  0.,  0.,  0.,\n",
        "        0.,  0.,  0.,  0.,  0.,  0.,  0.,  0.,  0.,  0.,  0.,  0.,  0.,\n",
        "        0.,  0.,  0.,  0.,  0.,  0.], dtype=float32)"
       ]
      }
     ],
     "prompt_number": 6
    },
    {
     "cell_type": "code",
     "collapsed": false,
     "input": [
      "#Train the architecture, to get the nice filters#\n",
      "#for i in range(1000):\n",
      "solver.step(10000)"
     ],
     "language": "python",
     "metadata": {},
     "outputs": [],
     "prompt_number": 39
    },
    {
     "cell_type": "code",
     "collapsed": false,
     "input": [
      "from amitgroup import io"
     ],
     "language": "python",
     "metadata": {},
     "outputs": [],
     "prompt_number": 8
    },
    {
     "cell_type": "code",
     "collapsed": false,
     "input": [
      "trainingData,trainingDataLabel = io.load_cifar10(\"training\")\n",
      "trainingData = trainingData * 255\n",
      "trainingData = trainingData - np.mean(trainingData,axis = 0)\n",
      "trainingData = np.rollaxis(trainingData,3,1)"
     ],
     "language": "python",
     "metadata": {},
     "outputs": [],
     "prompt_number": 9
    },
    {
     "cell_type": "code",
     "collapsed": false,
     "input": [],
     "language": "python",
     "metadata": {},
     "outputs": [
      {
       "metadata": {},
       "output_type": "display_data",
       "png": "[encoded data removed]",
       "text": [
        "<matplotlib.figure.Figure at 0x119039b50>"
       ]
      }
     ],
     "prompt_number": 6
    },
    {
     "cell_type": "code",
     "collapsed": false,
     "input": [
      "testingData, testingDataLabel = io.load_cifar10(\"testing\")\n",
      "testingData = testingData * 255\n",
      "testingData = testingData - np.mean(testingData, axis = 0)\n",
      "testingData = np.rollaxis(testingData, 3, 1)"
     ],
     "language": "python",
     "metadata": {},
     "outputs": [],
     "prompt_number": 10
    },
    {
     "cell_type": "code",
     "collapsed": false,
     "input": [
      "solver.net.blobs['pool2'].data"
     ],
     "language": "python",
     "metadata": {},
     "outputs": [
      {
       "metadata": {},
       "output_type": "pyout",
       "prompt_number": 11,
       "text": [
        "array([[[[  0.00000000e+00,   0.00000000e+00,   0.00000000e+00, ...,\n",
        "            0.00000000e+00,   0.00000000e+00,   0.00000000e+00],\n",
        "         [  0.00000000e+00,   0.00000000e+00,   0.00000000e+00, ...,\n",
        "            0.00000000e+00,   0.00000000e+00,   0.00000000e+00],\n",
        "         [  0.00000000e+00,   0.00000000e+00,   0.00000000e+00, ...,\n",
        "            0.00000000e+00,   0.00000000e+00,   0.00000000e+00],\n",
        "         ..., \n",
        "         [  4.07712758e-01,   0.00000000e+00,   0.00000000e+00, ...,\n",
        "            0.00000000e+00,   0.00000000e+00,   0.00000000e+00],\n",
        "         [  7.22070277e-01,   0.00000000e+00,   8.32448304e-02, ...,\n",
        "            1.10729825e+00,   5.61109006e-01,   0.00000000e+00],\n",
        "         [  1.24413502e+00,   0.00000000e+00,   1.24867253e-01, ...,\n",
        "            1.12827265e+00,   3.96748513e-01,   0.00000000e+00]],\n",
        "\n",
        "        [[  0.00000000e+00,   0.00000000e+00,   0.00000000e+00, ...,\n",
        "            5.85041791e-02,   4.47177947e-01,   0.00000000e+00],\n",
        "         [  0.00000000e+00,   0.00000000e+00,   3.13209802e-01, ...,\n",
        "            5.85041791e-02,   8.45782816e-01,   0.00000000e+00],\n",
        "         [  0.00000000e+00,   0.00000000e+00,   6.60594583e-01, ...,\n",
        "            1.18466869e-01,   1.72154441e-01,   0.00000000e+00],\n",
        "         ..., \n",
        "         [  0.00000000e+00,   0.00000000e+00,   0.00000000e+00, ...,\n",
        "            1.62775397e+00,   0.00000000e+00,   0.00000000e+00],\n",
        "         [  7.31159747e-02,   1.28351843e+00,   6.83221579e-01, ...,\n",
        "            2.96816260e-01,   0.00000000e+00,   0.00000000e+00],\n",
        "         [  5.92011392e-01,   3.66498876e+00,   2.48685670e+00, ...,\n",
        "            1.61642694e+00,   1.24247992e+00,   6.34247214e-02]],\n",
        "\n",
        "        [[  0.00000000e+00,   4.10346538e-02,   2.05016490e-02, ...,\n",
        "            0.00000000e+00,   0.00000000e+00,   3.21796350e-02],\n",
        "         [  0.00000000e+00,   4.10346538e-02,   0.00000000e+00, ...,\n",
        "            0.00000000e+00,   0.00000000e+00,   4.32046801e-02],\n",
        "         [  0.00000000e+00,   2.51877997e-02,   1.45701349e-01, ...,\n",
        "            0.00000000e+00,   0.00000000e+00,   3.16635706e-03],\n",
        "         ..., \n",
        "         [  1.12819284e-01,   5.04307270e-01,   4.00081098e-01, ...,\n",
        "            4.05649036e-01,   7.21249580e-02,   1.69227374e+00],\n",
        "         [  2.96933770e-01,   1.45096791e+00,   9.95446444e-01, ...,\n",
        "            5.48935115e-01,   7.21249580e-02,   1.23943222e+00],\n",
        "         [  0.00000000e+00,   2.57568568e-01,   3.77433039e-02, ...,\n",
        "            0.00000000e+00,   0.00000000e+00,   6.58572912e-01]],\n",
        "\n",
        "        ..., \n",
        "        [[  1.97884047e+00,   4.51667118e+00,   7.01470375e+00, ...,\n",
        "            2.61318660e+00,   2.20297194e+00,   1.30996537e+00],\n",
        "         [  0.00000000e+00,   0.00000000e+00,   0.00000000e+00, ...,\n",
        "            0.00000000e+00,   0.00000000e+00,   0.00000000e+00],\n",
        "         [  0.00000000e+00,   0.00000000e+00,   0.00000000e+00, ...,\n",
        "            0.00000000e+00,   0.00000000e+00,   0.00000000e+00],\n",
        "         ..., \n",
        "         [  0.00000000e+00,   0.00000000e+00,   0.00000000e+00, ...,\n",
        "            0.00000000e+00,   5.60188740e-02,   1.67183173e+00],\n",
        "         [  0.00000000e+00,   0.00000000e+00,   0.00000000e+00, ...,\n",
        "            3.94701421e-01,   5.60188740e-02,   7.98456252e-01],\n",
        "         [  0.00000000e+00,   0.00000000e+00,   0.00000000e+00, ...,\n",
        "            0.00000000e+00,   0.00000000e+00,   0.00000000e+00]],\n",
        "\n",
        "        [[  0.00000000e+00,   0.00000000e+00,   0.00000000e+00, ...,\n",
        "            0.00000000e+00,   0.00000000e+00,   1.95841007e-02],\n",
        "         [  0.00000000e+00,   0.00000000e+00,   0.00000000e+00, ...,\n",
        "            3.93674731e-01,   1.44143522e-01,   7.91562349e-02],\n",
        "         [  0.00000000e+00,   0.00000000e+00,   8.74609202e-02, ...,\n",
        "            9.38225746e-01,   9.76580322e-01,   2.92557478e-01],\n",
        "         ..., \n",
        "         [  2.08372492e-02,   3.39471221e-01,   0.00000000e+00, ...,\n",
        "            7.12307394e-02,   1.48261809e+00,   5.95461607e+00],\n",
        "         [  8.71710837e-01,   2.78262997e+00,   6.90996587e-01, ...,\n",
        "            0.00000000e+00,   1.50303400e+00,   7.12017250e+00],\n",
        "         [  2.48541808e+00,   5.61377287e+00,   1.88738358e+00, ...,\n",
        "            4.81702566e-01,   3.03910446e+00,   9.13372612e+00]],\n",
        "\n",
        "        [[  0.00000000e+00,   3.53650361e-01,   1.92925736e-01, ...,\n",
        "            0.00000000e+00,   0.00000000e+00,   0.00000000e+00],\n",
        "         [  0.00000000e+00,   5.33835664e-02,   4.20805454e-01, ...,\n",
        "            1.60341561e-01,   0.00000000e+00,   0.00000000e+00],\n",
        "         [  0.00000000e+00,   0.00000000e+00,   1.15455747e-01, ...,\n",
        "            1.06140822e-02,   0.00000000e+00,   0.00000000e+00],\n",
        "         ..., \n",
        "         [  0.00000000e+00,   0.00000000e+00,   1.10981427e-01, ...,\n",
        "            1.22305286e+00,   5.93989670e-01,   0.00000000e+00],\n",
        "         [  0.00000000e+00,   0.00000000e+00,   1.72037497e-01, ...,\n",
        "            9.24180329e-01,   1.21036720e+00,   1.08247030e+00],\n",
        "         [  0.00000000e+00,   0.00000000e+00,   7.62878716e-01, ...,\n",
        "            3.00879645e+00,   3.60819459e+00,   3.53840733e+00]]],\n",
        "\n",
        "\n",
        "       [[[  7.34473914e-02,   4.33762699e-01,   6.59621954e-01, ...,\n",
        "            0.00000000e+00,   0.00000000e+00,   0.00000000e+00],\n",
        "         [  2.80474219e-03,   8.43284503e-02,   1.30341828e-01, ...,\n",
        "            0.00000000e+00,   0.00000000e+00,   0.00000000e+00],\n",
        "         [  0.00000000e+00,   0.00000000e+00,   0.00000000e+00, ...,\n",
        "            0.00000000e+00,   3.35290909e-01,   0.00000000e+00],\n",
        "         ..., \n",
        "         [  1.00797033e+00,   0.00000000e+00,   0.00000000e+00, ...,\n",
        "            1.45373926e-01,   9.71421957e-01,   0.00000000e+00],\n",
        "         [  1.66044831e+00,   1.08706367e+00,   3.18955272e-01, ...,\n",
        "            2.24331275e-01,   1.03652561e+00,   3.01098108e-01],\n",
        "         [  3.81988025e+00,   3.68819404e+00,   1.48474693e+00, ...,\n",
        "            1.61930311e+00,   3.17351913e+00,   8.07804883e-01]],\n",
        "\n",
        "        [[  1.76975763e+00,   1.76904893e+00,   9.13409770e-01, ...,\n",
        "            0.00000000e+00,   0.00000000e+00,   1.42892435e-01],\n",
        "         [  2.93279481e+00,   2.65690827e+00,   1.67166615e+00, ...,\n",
        "            0.00000000e+00,   0.00000000e+00,   5.50534427e-01],\n",
        "         [  2.48054147e+00,   2.26989651e+00,   1.83899224e+00, ...,\n",
        "            3.14477950e-01,   0.00000000e+00,   3.76914769e-01],\n",
        "         ..., \n",
        "         [  6.95756674e-01,   2.64352536e+00,   9.74416077e-01, ...,\n",
        "            8.76499593e-01,   6.46938562e-01,   0.00000000e+00],\n",
        "         [  3.00977683e+00,   8.80528164e+00,   4.45233679e+00, ...,\n",
        "            1.65911674e+00,   1.36114788e+00,   0.00000000e+00],\n",
        "         [  1.85565913e+00,   4.55586195e+00,   3.23544216e+00, ...,\n",
        "            3.19195175e+00,   1.85339868e+00,   0.00000000e+00]],\n",
        "\n",
        "        [[  1.69974994e-02,   1.69974994e-02,   0.00000000e+00, ...,\n",
        "            0.00000000e+00,   2.65584856e-01,   3.31968307e+00],\n",
        "         [  1.69974994e-02,   1.69974994e-02,   0.00000000e+00, ...,\n",
        "            0.00000000e+00,   4.07167554e-01,   5.01747894e+00],\n",
        "         [  0.00000000e+00,   0.00000000e+00,   0.00000000e+00, ...,\n",
        "            8.16029012e-02,   5.80358086e-03,   3.60304189e+00],\n",
        "         ..., \n",
        "         [  1.60477006e+00,   2.19028711e+00,   0.00000000e+00, ...,\n",
        "            5.30679822e-01,   0.00000000e+00,   2.70421028e+00],\n",
        "         [  8.73120949e-02,   1.51105911e-01,   0.00000000e+00, ...,\n",
        "            0.00000000e+00,   0.00000000e+00,   1.71705639e+00],\n",
        "         [  0.00000000e+00,   0.00000000e+00,   0.00000000e+00, ...,\n",
        "            4.96419817e-01,   0.00000000e+00,   7.49759197e-01]],\n",
        "\n",
        "        ..., \n",
        "        [[  5.97684324e-01,   1.37197244e+00,   1.38701701e+00, ...,\n",
        "            1.15846765e+00,   2.06207466e+00,   2.54699516e+00],\n",
        "         [  0.00000000e+00,   0.00000000e+00,   4.27418113e-01, ...,\n",
        "            0.00000000e+00,   0.00000000e+00,   0.00000000e+00],\n",
        "         [  0.00000000e+00,   3.14718604e-01,   1.75066674e+00, ...,\n",
        "            0.00000000e+00,   0.00000000e+00,   0.00000000e+00],\n",
        "         ..., \n",
        "         [  4.51974344e+00,   6.75513697e+00,   2.83181596e+00, ...,\n",
        "            2.24245048e+00,   1.38272715e+00,   2.48815790e-01],\n",
        "         [  0.00000000e+00,   0.00000000e+00,   0.00000000e+00, ...,\n",
        "            2.83546448e+00,   2.08351612e+00,   6.00047231e-01],\n",
        "         [  0.00000000e+00,   0.00000000e+00,   0.00000000e+00, ...,\n",
        "            0.00000000e+00,   0.00000000e+00,   0.00000000e+00]],\n",
        "\n",
        "        [[  4.14573438e-02,   5.87508921e-03,   1.04179103e-02, ...,\n",
        "            0.00000000e+00,   5.55697560e-01,   4.24192381e+00],\n",
        "         [  1.73721761e-01,   0.00000000e+00,   0.00000000e+00, ...,\n",
        "            1.67544354e-02,   1.31243002e+00,   8.76093388e+00],\n",
        "         [  1.90864325e-01,   0.00000000e+00,   0.00000000e+00, ...,\n",
        "            1.47270608e+00,   6.39965963e+00,   1.09252396e+01],\n",
        "         ..., \n",
        "         [  0.00000000e+00,   5.89650631e-01,   1.56244361e+00, ...,\n",
        "            2.11571246e-01,   4.26309645e-01,   6.48079729e+00],\n",
        "         [  0.00000000e+00,   3.40524435e+00,   6.18762445e+00, ...,\n",
        "            2.59470081e+00,   2.02836394e+00,   8.83633900e+00],\n",
        "         [  0.00000000e+00,   3.12948966e+00,   6.97423220e+00, ...,\n",
        "            9.07625580e+00,   4.88313627e+00,   1.16125240e+01]],\n",
        "\n",
        "        [[  1.94675550e-01,   1.95491767e+00,   2.73520184e+00, ...,\n",
        "            0.00000000e+00,   0.00000000e+00,   0.00000000e+00],\n",
        "         [  0.00000000e+00,   1.79824531e+00,   2.30207253e+00, ...,\n",
        "            0.00000000e+00,   0.00000000e+00,   0.00000000e+00],\n",
        "         [  0.00000000e+00,   1.58750916e+00,   1.31236339e+00, ...,\n",
        "            5.43147512e-02,   0.00000000e+00,   0.00000000e+00],\n",
        "         ..., \n",
        "         [  0.00000000e+00,   0.00000000e+00,   0.00000000e+00, ...,\n",
        "            0.00000000e+00,   0.00000000e+00,   0.00000000e+00],\n",
        "         [  2.26852131e+00,   2.71550536e-01,   0.00000000e+00, ...,\n",
        "            0.00000000e+00,   0.00000000e+00,   0.00000000e+00],\n",
        "         [  1.89812613e+00,   2.61334091e-01,   0.00000000e+00, ...,\n",
        "            0.00000000e+00,   0.00000000e+00,   0.00000000e+00]]],\n",
        "\n",
        "\n",
        "       [[[  2.74728131e+00,   0.00000000e+00,   0.00000000e+00, ...,\n",
        "            2.19734001e+00,   5.90394199e-01,   0.00000000e+00],\n",
        "         [  2.90791750e+00,   0.00000000e+00,   0.00000000e+00, ...,\n",
        "            3.40912938e+00,   1.35182893e+00,   0.00000000e+00],\n",
        "         [  2.41166329e+00,   1.16704516e-01,   0.00000000e+00, ...,\n",
        "            2.28930640e+00,   1.10298753e+00,   0.00000000e+00],\n",
        "         ..., \n",
        "         [  4.53036308e+00,   2.73251343e+00,   1.37850523e+00, ...,\n",
        "            1.37884939e+00,   4.04114872e-02,   0.00000000e+00],\n",
        "         [  3.98445678e+00,   2.78596044e+00,   2.86244702e+00, ...,\n",
        "            2.85327435e+00,   1.08480573e+00,   8.96750465e-02],\n",
        "         [  3.67050099e+00,   3.24303555e+00,   3.54911542e+00, ...,\n",
        "            4.60945606e+00,   2.55563807e+00,   6.85796142e-01]],\n",
        "\n",
        "        [[  1.62636733e+00,   1.30938911e+00,   7.10819483e-01, ...,\n",
        "            2.73481178e+00,   3.25359392e+00,   1.41724348e+00],\n",
        "         [  2.74899244e+00,   3.18841267e+00,   1.44020104e+00, ...,\n",
        "            7.11184692e+00,   7.61264992e+00,   3.25731826e+00],\n",
        "         [  2.59837437e+00,   4.29999590e+00,   1.45325136e+00, ...,\n",
        "            7.68113518e+00,   5.35706329e+00,   1.07824159e+00],\n",
        "         ..., \n",
        "         [  1.34876823e+00,   4.34107971e+00,   4.30269670e+00, ...,\n",
        "            5.00640726e+00,   2.38681960e+00,   1.33017826e+00],\n",
        "         [  1.62068200e+00,   3.02821302e+00,   4.38162422e+00, ...,\n",
        "            7.22673368e+00,   4.04492760e+00,   1.62498760e+00],\n",
        "         [  1.04732776e+00,   1.81454229e+00,   3.02974987e+00, ...,\n",
        "            3.76095963e+00,   2.22769141e+00,   1.37442803e+00]],\n",
        "\n",
        "        [[  0.00000000e+00,   1.06378913e-01,   0.00000000e+00, ...,\n",
        "            0.00000000e+00,   0.00000000e+00,   7.72191226e-01],\n",
        "         [  0.00000000e+00,   1.06378913e-01,   0.00000000e+00, ...,\n",
        "            0.00000000e+00,   0.00000000e+00,   1.15020430e+00],\n",
        "         [  0.00000000e+00,   0.00000000e+00,   2.40114450e-01, ...,\n",
        "            0.00000000e+00,   0.00000000e+00,   1.49532747e+00],\n",
        "         ..., \n",
        "         [  0.00000000e+00,   0.00000000e+00,   0.00000000e+00, ...,\n",
        "            0.00000000e+00,   1.07000440e-01,   8.67464602e-01],\n",
        "         [  0.00000000e+00,   2.75958925e-02,   1.04905672e-01, ...,\n",
        "            0.00000000e+00,   4.09047723e-01,   1.20908463e+00],\n",
        "         [  0.00000000e+00,   2.38085240e-02,   1.62979588e-01, ...,\n",
        "            0.00000000e+00,   3.87690306e-01,   1.31839073e+00]],\n",
        "\n",
        "        ..., \n",
        "        [[  5.70914805e-01,   2.79859364e-01,   8.35097075e-01, ...,\n",
        "            8.70509326e-01,   4.86759871e-01,   0.00000000e+00],\n",
        "         [  0.00000000e+00,   0.00000000e+00,   0.00000000e+00, ...,\n",
        "            0.00000000e+00,   0.00000000e+00,   0.00000000e+00],\n",
        "         [  0.00000000e+00,   0.00000000e+00,   0.00000000e+00, ...,\n",
        "            8.51685107e-02,   0.00000000e+00,   0.00000000e+00],\n",
        "         ..., \n",
        "         [  0.00000000e+00,   5.89835308e-02,   5.89835308e-02, ...,\n",
        "            0.00000000e+00,   0.00000000e+00,   0.00000000e+00],\n",
        "         [  0.00000000e+00,   0.00000000e+00,   0.00000000e+00, ...,\n",
        "            0.00000000e+00,   0.00000000e+00,   0.00000000e+00],\n",
        "         [  0.00000000e+00,   0.00000000e+00,   0.00000000e+00, ...,\n",
        "            0.00000000e+00,   0.00000000e+00,   0.00000000e+00]],\n",
        "\n",
        "        [[  0.00000000e+00,   1.70129001e-01,   1.73672974e-01, ...,\n",
        "            0.00000000e+00,   0.00000000e+00,   0.00000000e+00],\n",
        "         [  0.00000000e+00,   2.57871866e-01,   1.73672974e-01, ...,\n",
        "            1.30941823e-01,   3.07767063e-01,   4.55773681e-01],\n",
        "         [  0.00000000e+00,   3.89865875e-01,   9.60787013e-02, ...,\n",
        "            8.39486837e-01,   2.23729229e+00,   3.26667905e+00],\n",
        "         ..., \n",
        "         [  0.00000000e+00,   1.51588485e-01,   2.60696828e-01, ...,\n",
        "            3.66905427e+00,   4.56294441e+00,   2.09722114e+00],\n",
        "         [  0.00000000e+00,   3.37043405e-01,   5.50021172e-01, ...,\n",
        "            5.67587852e+00,   7.25574684e+00,   3.55723548e+00],\n",
        "         [  0.00000000e+00,   0.00000000e+00,   0.00000000e+00, ...,\n",
        "            9.31390464e-01,   2.56202769e+00,   2.72444963e+00]],\n",
        "\n",
        "        [[  0.00000000e+00,   0.00000000e+00,   0.00000000e+00, ...,\n",
        "            0.00000000e+00,   0.00000000e+00,   0.00000000e+00],\n",
        "         [  0.00000000e+00,   0.00000000e+00,   0.00000000e+00, ...,\n",
        "            0.00000000e+00,   0.00000000e+00,   0.00000000e+00],\n",
        "         [  0.00000000e+00,   0.00000000e+00,   0.00000000e+00, ...,\n",
        "            0.00000000e+00,   0.00000000e+00,   0.00000000e+00],\n",
        "         ..., \n",
        "         [  5.88988781e-01,   0.00000000e+00,   0.00000000e+00, ...,\n",
        "            0.00000000e+00,   0.00000000e+00,   0.00000000e+00],\n",
        "         [  2.34987333e-01,   1.18830480e-01,   0.00000000e+00, ...,\n",
        "            0.00000000e+00,   0.00000000e+00,   0.00000000e+00],\n",
        "         [  3.73978525e-01,   8.37086201e-01,   6.43742740e-01, ...,\n",
        "            1.70655400e-02,   1.53868735e-01,   0.00000000e+00]]],\n",
        "\n",
        "\n",
        "       ..., \n",
        "       [[[  1.99195281e-01,   1.41784728e-01,   2.83630490e-01, ...,\n",
        "            0.00000000e+00,   0.00000000e+00,   0.00000000e+00],\n",
        "         [  3.89473706e-01,   1.82002895e-02,   1.82002895e-02, ...,\n",
        "            0.00000000e+00,   0.00000000e+00,   0.00000000e+00],\n",
        "         [  1.55565739e+00,   0.00000000e+00,   0.00000000e+00, ...,\n",
        "            0.00000000e+00,   3.95544589e-01,   0.00000000e+00],\n",
        "         ..., \n",
        "         [  0.00000000e+00,   0.00000000e+00,   0.00000000e+00, ...,\n",
        "            0.00000000e+00,   4.15331572e-02,   0.00000000e+00],\n",
        "         [  3.86375725e-01,   6.13018095e-01,   7.28466988e-01, ...,\n",
        "            7.42255211e-01,   9.57827270e-01,   0.00000000e+00],\n",
        "         [  7.72048950e-01,   1.11920655e+00,   1.34631240e+00, ...,\n",
        "            1.27833438e+00,   1.72103059e+00,   0.00000000e+00]],\n",
        "\n",
        "        [[  2.63971090e-01,   1.02200687e-01,   0.00000000e+00, ...,\n",
        "            0.00000000e+00,   0.00000000e+00,   0.00000000e+00],\n",
        "         [  2.63971090e-01,   1.02200687e-01,   0.00000000e+00, ...,\n",
        "            8.16727221e-01,   1.27843368e+00,   0.00000000e+00],\n",
        "         [  0.00000000e+00,   0.00000000e+00,   0.00000000e+00, ...,\n",
        "            3.25080919e+00,   5.59576607e+00,   0.00000000e+00],\n",
        "         ..., \n",
        "         [  1.20369840e+00,   1.20369840e+00,   0.00000000e+00, ...,\n",
        "            5.45040250e-01,   1.17394304e+00,   0.00000000e+00],\n",
        "         [  1.42984188e+00,   1.62047827e+00,   3.97951677e-02, ...,\n",
        "            3.01645398e-01,   2.94155389e-01,   0.00000000e+00],\n",
        "         [  2.15850902e+00,   2.49119043e+00,   4.38193470e-01, ...,\n",
        "            1.08179033e+00,   1.12055099e+00,   0.00000000e+00]],\n",
        "\n",
        "        [[  0.00000000e+00,   0.00000000e+00,   0.00000000e+00, ...,\n",
        "            0.00000000e+00,   0.00000000e+00,   3.93604308e-01],\n",
        "         [  0.00000000e+00,   0.00000000e+00,   0.00000000e+00, ...,\n",
        "            0.00000000e+00,   0.00000000e+00,   0.00000000e+00],\n",
        "         [  0.00000000e+00,   0.00000000e+00,   0.00000000e+00, ...,\n",
        "            0.00000000e+00,   0.00000000e+00,   0.00000000e+00],\n",
        "         ..., \n",
        "         [  1.20793115e-02,   1.20793115e-02,   0.00000000e+00, ...,\n",
        "            0.00000000e+00,   0.00000000e+00,   1.06193475e-01],\n",
        "         [  0.00000000e+00,   0.00000000e+00,   0.00000000e+00, ...,\n",
        "            0.00000000e+00,   0.00000000e+00,   0.00000000e+00],\n",
        "         [  0.00000000e+00,   0.00000000e+00,   0.00000000e+00, ...,\n",
        "            0.00000000e+00,   0.00000000e+00,   0.00000000e+00]],\n",
        "\n",
        "        ..., \n",
        "        [[  3.02025890e+00,   5.69924784e+00,   6.91068077e+00, ...,\n",
        "            7.71240330e+00,   3.44561815e+00,   2.01637316e+00],\n",
        "         [  3.43858433e+00,   4.34559393e+00,   1.24824202e+00, ...,\n",
        "            1.55931270e+00,   0.00000000e+00,   0.00000000e+00],\n",
        "         [  2.24918437e+00,   3.85466671e+00,   1.16462851e+00, ...,\n",
        "            0.00000000e+00,   0.00000000e+00,   0.00000000e+00],\n",
        "         ..., \n",
        "         [  0.00000000e+00,   0.00000000e+00,   0.00000000e+00, ...,\n",
        "            0.00000000e+00,   0.00000000e+00,   0.00000000e+00],\n",
        "         [  0.00000000e+00,   0.00000000e+00,   0.00000000e+00, ...,\n",
        "            0.00000000e+00,   0.00000000e+00,   0.00000000e+00],\n",
        "         [  0.00000000e+00,   0.00000000e+00,   0.00000000e+00, ...,\n",
        "            0.00000000e+00,   0.00000000e+00,   0.00000000e+00]],\n",
        "\n",
        "        [[  0.00000000e+00,   0.00000000e+00,   0.00000000e+00, ...,\n",
        "            0.00000000e+00,   0.00000000e+00,   2.60806948e-01],\n",
        "         [  0.00000000e+00,   0.00000000e+00,   0.00000000e+00, ...,\n",
        "            0.00000000e+00,   0.00000000e+00,   5.47509193e-01],\n",
        "         [  0.00000000e+00,   0.00000000e+00,   0.00000000e+00, ...,\n",
        "            1.68575838e-01,   2.96113491e-01,   1.20561779e+00],\n",
        "         ..., \n",
        "         [  0.00000000e+00,   0.00000000e+00,   5.82117438e-02, ...,\n",
        "            2.70772028e+00,   6.12570405e-01,   2.80077553e+00],\n",
        "         [  0.00000000e+00,   0.00000000e+00,   0.00000000e+00, ...,\n",
        "            1.47964084e+00,   4.50045854e-01,   3.28187370e+00],\n",
        "         [  7.96548650e-02,   1.12806626e-01,   2.82673817e-02, ...,\n",
        "            1.26613200e-01,   9.12923038e-01,   5.59777927e+00]],\n",
        "\n",
        "        [[  0.00000000e+00,   1.96072876e-01,   2.70287609e+00, ...,\n",
        "            0.00000000e+00,   3.37956324e-02,   2.33301997e+00],\n",
        "         [  0.00000000e+00,   1.96072876e-01,   2.61511898e+00, ...,\n",
        "            0.00000000e+00,   0.00000000e+00,   1.46223164e+00],\n",
        "         [  6.95081770e-01,   0.00000000e+00,   8.38159118e-03, ...,\n",
        "            0.00000000e+00,   0.00000000e+00,   0.00000000e+00],\n",
        "         ..., \n",
        "         [  3.92576218e-01,   0.00000000e+00,   9.01327014e-01, ...,\n",
        "            5.92268705e-02,   2.88947672e-03,   4.33421507e-03],\n",
        "         [  0.00000000e+00,   0.00000000e+00,   9.55119848e-01, ...,\n",
        "            4.61667366e-02,   0.00000000e+00,   0.00000000e+00],\n",
        "         [  0.00000000e+00,   3.97725821e-01,   1.13673687e+00, ...,\n",
        "            4.60825443e-01,   1.54779141e-03,   5.70571363e-01]]],\n",
        "\n",
        "\n",
        "       [[[  0.00000000e+00,   0.00000000e+00,   0.00000000e+00, ...,\n",
        "            0.00000000e+00,   0.00000000e+00,   0.00000000e+00],\n",
        "         [  0.00000000e+00,   0.00000000e+00,   0.00000000e+00, ...,\n",
        "            0.00000000e+00,   0.00000000e+00,   0.00000000e+00],\n",
        "         [  0.00000000e+00,   0.00000000e+00,   0.00000000e+00, ...,\n",
        "            0.00000000e+00,   0.00000000e+00,   0.00000000e+00],\n",
        "         ..., \n",
        "         [  1.07835181e-01,   0.00000000e+00,   1.38836652e-01, ...,\n",
        "            0.00000000e+00,   0.00000000e+00,   0.00000000e+00],\n",
        "         [  0.00000000e+00,   0.00000000e+00,   0.00000000e+00, ...,\n",
        "            0.00000000e+00,   1.77909415e-02,   0.00000000e+00],\n",
        "         [  0.00000000e+00,   0.00000000e+00,   0.00000000e+00, ...,\n",
        "            5.75098932e-01,   9.75702286e-01,   0.00000000e+00]],\n",
        "\n",
        "        [[  0.00000000e+00,   0.00000000e+00,   0.00000000e+00, ...,\n",
        "            0.00000000e+00,   0.00000000e+00,   0.00000000e+00],\n",
        "         [  0.00000000e+00,   0.00000000e+00,   0.00000000e+00, ...,\n",
        "            0.00000000e+00,   0.00000000e+00,   0.00000000e+00],\n",
        "         [  0.00000000e+00,   0.00000000e+00,   0.00000000e+00, ...,\n",
        "            0.00000000e+00,   0.00000000e+00,   0.00000000e+00],\n",
        "         ..., \n",
        "         [  0.00000000e+00,   0.00000000e+00,   0.00000000e+00, ...,\n",
        "            6.26851678e-01,   0.00000000e+00,   0.00000000e+00],\n",
        "         [  0.00000000e+00,   0.00000000e+00,   2.16594025e-01, ...,\n",
        "            2.47636819e+00,   1.77169591e-01,   0.00000000e+00],\n",
        "         [  1.28066257e-01,   2.87430644e-01,   1.70502746e+00, ...,\n",
        "            4.46632862e+00,   9.62445021e-01,   3.11197460e-01]],\n",
        "\n",
        "        [[  0.00000000e+00,   0.00000000e+00,   0.00000000e+00, ...,\n",
        "            0.00000000e+00,   0.00000000e+00,   1.51200145e-01],\n",
        "         [  0.00000000e+00,   0.00000000e+00,   0.00000000e+00, ...,\n",
        "            0.00000000e+00,   0.00000000e+00,   1.70001745e-01],\n",
        "         [  0.00000000e+00,   0.00000000e+00,   3.50935920e-03, ...,\n",
        "            0.00000000e+00,   0.00000000e+00,   1.88657060e-01],\n",
        "         ..., \n",
        "         [  0.00000000e+00,   6.82374716e-01,   7.60486364e-01, ...,\n",
        "            1.53010897e-02,   0.00000000e+00,   1.81056833e+00],\n",
        "         [  0.00000000e+00,   9.76654589e-01,   1.08827698e+00, ...,\n",
        "            1.53010897e-02,   0.00000000e+00,   1.70823872e+00],\n",
        "         [  0.00000000e+00,   0.00000000e+00,   0.00000000e+00, ...,\n",
        "            0.00000000e+00,   7.27775022e-02,   1.77832532e+00]],\n",
        "\n",
        "        ..., \n",
        "        [[  2.32266951e+00,   3.73879504e+00,   3.64617491e+00, ...,\n",
        "            5.95360422e+00,   4.80339527e+00,   2.07377982e+00],\n",
        "         [  3.47927719e-01,   7.02274203e-01,   2.19642475e-01, ...,\n",
        "            3.11531758e+00,   3.53004122e+00,   2.29383159e+00],\n",
        "         [  4.60442714e-02,   8.45050395e-01,   1.21771705e+00, ...,\n",
        "            1.59411025e+00,   1.64161056e-01,   0.00000000e+00],\n",
        "         ..., \n",
        "         [  4.51575696e-01,   1.10463274e+00,   4.32329049e-04, ...,\n",
        "            1.91062033e-01,   1.91062033e-01,   0.00000000e+00],\n",
        "         [  0.00000000e+00,   0.00000000e+00,   0.00000000e+00, ...,\n",
        "            1.91062033e-01,   1.91062033e-01,   0.00000000e+00],\n",
        "         [  0.00000000e+00,   0.00000000e+00,   0.00000000e+00, ...,\n",
        "            0.00000000e+00,   0.00000000e+00,   0.00000000e+00]],\n",
        "\n",
        "        [[  0.00000000e+00,   0.00000000e+00,   0.00000000e+00, ...,\n",
        "            0.00000000e+00,   0.00000000e+00,   4.49368596e-01],\n",
        "         [  0.00000000e+00,   0.00000000e+00,   0.00000000e+00, ...,\n",
        "            0.00000000e+00,   0.00000000e+00,   8.17661107e-01],\n",
        "         [  0.00000000e+00,   0.00000000e+00,   0.00000000e+00, ...,\n",
        "            0.00000000e+00,   0.00000000e+00,   1.89743626e+00],\n",
        "         ..., \n",
        "         [  0.00000000e+00,   0.00000000e+00,   0.00000000e+00, ...,\n",
        "            0.00000000e+00,   4.95274484e-01,   3.46773839e+00],\n",
        "         [  0.00000000e+00,   0.00000000e+00,   0.00000000e+00, ...,\n",
        "            1.34611070e-01,   3.01679397e+00,   8.54735470e+00],\n",
        "         [  0.00000000e+00,   5.39049387e-01,   9.96830940e-01, ...,\n",
        "            5.98022223e+00,   1.04009371e+01,   1.48585386e+01]],\n",
        "\n",
        "        [[  0.00000000e+00,   5.78557923e-02,   3.78146023e-01, ...,\n",
        "            5.55821583e-02,   0.00000000e+00,   2.23103344e-01],\n",
        "         [  0.00000000e+00,   7.40214884e-01,   1.50171959e+00, ...,\n",
        "            1.12585783e+00,   4.28576142e-01,   6.87699318e-01],\n",
        "         [  4.52398174e-02,   6.39593840e-01,   1.10209835e+00, ...,\n",
        "            4.65515465e-01,   1.15644705e+00,   4.09730387e+00],\n",
        "         ..., \n",
        "         [  6.70706511e-01,   1.99217474e+00,   2.39181423e+00, ...,\n",
        "            0.00000000e+00,   0.00000000e+00,   0.00000000e+00],\n",
        "         [  1.74990499e+00,   6.07874441e+00,   6.65189791e+00, ...,\n",
        "            0.00000000e+00,   0.00000000e+00,   0.00000000e+00],\n",
        "         [  9.87629652e-01,   5.65134239e+00,   7.74937105e+00, ...,\n",
        "            6.60224676e-01,   0.00000000e+00,   0.00000000e+00]]],\n",
        "\n",
        "\n",
        "       [[[  1.53447866e-01,   0.00000000e+00,   2.25760460e-01, ...,\n",
        "            0.00000000e+00,   0.00000000e+00,   0.00000000e+00],\n",
        "         [  4.86520082e-02,   0.00000000e+00,   0.00000000e+00, ...,\n",
        "            0.00000000e+00,   0.00000000e+00,   0.00000000e+00],\n",
        "         [  1.59105077e-01,   0.00000000e+00,   0.00000000e+00, ...,\n",
        "            0.00000000e+00,   0.00000000e+00,   0.00000000e+00],\n",
        "         ..., \n",
        "         [  1.29908943e+00,   0.00000000e+00,   0.00000000e+00, ...,\n",
        "            0.00000000e+00,   7.79096782e-03,   0.00000000e+00],\n",
        "         [  1.08422315e+00,   0.00000000e+00,   0.00000000e+00, ...,\n",
        "            1.22854523e-01,   1.12627149e+00,   2.60031641e-01],\n",
        "         [  1.06540775e+00,   0.00000000e+00,   0.00000000e+00, ...,\n",
        "            5.26393652e-01,   2.27249646e+00,   4.42805529e-01]],\n",
        "\n",
        "        [[  0.00000000e+00,   0.00000000e+00,   0.00000000e+00, ...,\n",
        "            0.00000000e+00,   0.00000000e+00,   0.00000000e+00],\n",
        "         [  8.88240099e-01,   0.00000000e+00,   0.00000000e+00, ...,\n",
        "            2.48531610e-01,   5.65285385e-01,   0.00000000e+00],\n",
        "         [  2.17788386e+00,   1.35204124e+00,   3.27154666e-01, ...,\n",
        "            2.66409850e+00,   3.06428552e+00,   0.00000000e+00],\n",
        "         ..., \n",
        "         [  3.15243393e-01,   0.00000000e+00,   0.00000000e+00, ...,\n",
        "            8.59957099e-01,   3.32404047e-01,   0.00000000e+00],\n",
        "         [  1.91004622e+00,   0.00000000e+00,   1.05836160e-01, ...,\n",
        "            0.00000000e+00,   0.00000000e+00,   0.00000000e+00],\n",
        "         [  2.66402435e+00,   3.27089578e-02,   4.75240260e-01, ...,\n",
        "            0.00000000e+00,   0.00000000e+00,   0.00000000e+00]],\n",
        "\n",
        "        [[  0.00000000e+00,   0.00000000e+00,   2.82668844e-02, ...,\n",
        "            9.75219905e-02,   8.79234150e-02,   3.42548370e-01],\n",
        "         [  0.00000000e+00,   2.68155456e-01,   8.20626974e-01, ...,\n",
        "            9.17813182e-02,   1.94725409e-01,   7.34751701e-01],\n",
        "         [  0.00000000e+00,   1.75851807e-02,   6.98892176e-01, ...,\n",
        "            6.86345875e-01,   4.56311017e-01,   1.75844765e+00],\n",
        "         ..., \n",
        "         [  0.00000000e+00,   0.00000000e+00,   0.00000000e+00, ...,\n",
        "            1.79083228e-01,   0.00000000e+00,   0.00000000e+00],\n",
        "         [  0.00000000e+00,   3.57096314e-01,   7.99301326e-01, ...,\n",
        "            0.00000000e+00,   0.00000000e+00,   1.28763211e+00],\n",
        "         [  0.00000000e+00,   0.00000000e+00,   1.28276125e-01, ...,\n",
        "            0.00000000e+00,   0.00000000e+00,   1.52754879e+00]],\n",
        "\n",
        "        ..., \n",
        "        [[  2.77211547e+00,   4.85829353e+00,   7.13156223e+00, ...,\n",
        "            6.98329449e+00,   6.09225273e+00,   4.49036169e+00],\n",
        "         [  0.00000000e+00,   0.00000000e+00,   0.00000000e+00, ...,\n",
        "            0.00000000e+00,   0.00000000e+00,   0.00000000e+00],\n",
        "         [  0.00000000e+00,   0.00000000e+00,   4.14701283e-01, ...,\n",
        "            7.00835526e-01,   8.00294042e-01,   1.11495268e+00],\n",
        "         ..., \n",
        "         [  0.00000000e+00,   0.00000000e+00,   0.00000000e+00, ...,\n",
        "            1.38867304e-01,   0.00000000e+00,   0.00000000e+00],\n",
        "         [  0.00000000e+00,   0.00000000e+00,   0.00000000e+00, ...,\n",
        "            0.00000000e+00,   0.00000000e+00,   0.00000000e+00],\n",
        "         [  0.00000000e+00,   0.00000000e+00,   0.00000000e+00, ...,\n",
        "            0.00000000e+00,   0.00000000e+00,   0.00000000e+00]],\n",
        "\n",
        "        [[  0.00000000e+00,   0.00000000e+00,   0.00000000e+00, ...,\n",
        "            0.00000000e+00,   0.00000000e+00,   1.94815800e-01],\n",
        "         [  0.00000000e+00,   0.00000000e+00,   0.00000000e+00, ...,\n",
        "            0.00000000e+00,   1.34176672e-01,   1.31739986e+00],\n",
        "         [  0.00000000e+00,   5.45110643e-01,   4.70473498e-01, ...,\n",
        "            9.60523725e-01,   1.95867944e+00,   4.30100012e+00],\n",
        "         ..., \n",
        "         [  0.00000000e+00,   0.00000000e+00,   0.00000000e+00, ...,\n",
        "            1.86645240e-01,   5.64483553e-02,   2.27883625e+00],\n",
        "         [  0.00000000e+00,   6.42851442e-02,   1.54983431e-01, ...,\n",
        "            1.86645240e-01,   2.04809189e+00,   9.45835781e+00],\n",
        "         [  0.00000000e+00,   8.79899502e-01,   2.08919263e+00, ...,\n",
        "            0.00000000e+00,   2.62228465e+00,   1.05361176e+01]],\n",
        "\n",
        "        [[  7.02081770e-02,   1.23913908e+00,   1.38904691e+00, ...,\n",
        "            4.90435064e-01,   3.32118601e-01,   7.10517839e-02],\n",
        "         [  0.00000000e+00,   4.80015904e-01,   1.15066612e+00, ...,\n",
        "            3.45614719e+00,   3.24328685e+00,   2.45038486e+00],\n",
        "         [  9.15811658e-02,   0.00000000e+00,   0.00000000e+00, ...,\n",
        "            1.18862212e+00,   1.18910801e+00,   1.20982361e+00],\n",
        "         ..., \n",
        "         [  0.00000000e+00,   4.70600754e-01,   2.38856345e-01, ...,\n",
        "            2.64743138e-02,   0.00000000e+00,   0.00000000e+00],\n",
        "         [  0.00000000e+00,   4.70600754e-01,   2.38856345e-01, ...,\n",
        "            4.82986659e-01,   3.21986377e-02,   0.00000000e+00],\n",
        "         [  0.00000000e+00,   0.00000000e+00,   3.04560184e-01, ...,\n",
        "            1.06452167e+00,   1.49715319e-01,   0.00000000e+00]]]], dtype=float32)"
       ]
      }
     ],
     "prompt_number": 11
    },
    {
     "cell_type": "code",
     "collapsed": false,
     "input": [
      "#Help to double check the data\n",
      "#solver.net.params['conv2'][0].data\n",
      "solver.net.blobs['data'].data[...] = trainingData[0:100].reshape(100,3,32,32)\n",
      "solver.net.forward(start=\"conv1\")\n",
      "solver.net.blobs['pool3'].data"
     ],
     "language": "python",
     "metadata": {},
     "outputs": [
      {
       "metadata": {},
       "output_type": "pyout",
       "prompt_number": 12,
       "text": [
        "array([[[[  2.96563711e-02,   0.00000000e+00,   0.00000000e+00,\n",
        "            1.15929144e-02],\n",
        "         [  0.00000000e+00,   0.00000000e+00,   2.78085843e-02,\n",
        "            8.85005817e-02],\n",
        "         [  0.00000000e+00,   0.00000000e+00,   2.78085843e-02,\n",
        "            7.61434659e-02],\n",
        "         [  0.00000000e+00,   0.00000000e+00,   0.00000000e+00,\n",
        "            2.11913940e-02]],\n",
        "\n",
        "        [[  2.62617022e-01,   5.74882269e-01,   7.31840849e-01,\n",
        "            5.07691801e-01],\n",
        "         [  2.73553524e-02,   2.34952480e-01,   1.60025135e-01,\n",
        "            0.00000000e+00],\n",
        "         [  1.16930595e-02,   1.24135904e-01,   1.05085857e-01,\n",
        "            6.73258826e-02],\n",
        "         [  1.21462129e-01,   2.04755031e-02,   9.78071392e-02,\n",
        "            4.29779351e-01]],\n",
        "\n",
        "        [[  7.41769467e-03,   0.00000000e+00,   0.00000000e+00,\n",
        "            0.00000000e+00],\n",
        "         [  0.00000000e+00,   0.00000000e+00,   0.00000000e+00,\n",
        "            0.00000000e+00],\n",
        "         [  0.00000000e+00,   0.00000000e+00,   0.00000000e+00,\n",
        "            0.00000000e+00],\n",
        "         [  0.00000000e+00,   0.00000000e+00,   7.51743838e-03,\n",
        "            1.12761576e-02]],\n",
        "\n",
        "        ..., \n",
        "        [[  0.00000000e+00,   0.00000000e+00,   0.00000000e+00,\n",
        "            0.00000000e+00],\n",
        "         [  0.00000000e+00,   0.00000000e+00,   2.37205476e-02,\n",
        "            3.55808213e-02],\n",
        "         [  1.56671494e-01,   4.39340509e-02,   3.20452712e-02,\n",
        "            4.80679087e-02],\n",
        "         [  4.82037634e-01,   1.18146442e-01,   0.00000000e+00,\n",
        "            0.00000000e+00]],\n",
        "\n",
        "        [[  0.00000000e+00,   0.00000000e+00,   6.92047784e-03,\n",
        "            1.03807170e-02],\n",
        "         [  0.00000000e+00,   0.00000000e+00,   0.00000000e+00,\n",
        "            0.00000000e+00],\n",
        "         [  0.00000000e+00,   0.00000000e+00,   0.00000000e+00,\n",
        "            0.00000000e+00],\n",
        "         [  2.06325613e-02,   0.00000000e+00,   4.38722707e-02,\n",
        "            0.00000000e+00]],\n",
        "\n",
        "        [[  1.82177171e-01,   0.00000000e+00,   1.00979321e-02,\n",
        "            1.08884901e-01],\n",
        "         [  3.09076607e-02,   9.96472966e-03,   0.00000000e+00,\n",
        "            1.60015021e-02],\n",
        "         [  2.07383454e-01,   7.84346834e-02,   0.00000000e+00,\n",
        "            0.00000000e+00],\n",
        "         [  5.17374016e-02,   6.40875101e-02,   1.45474583e-01,\n",
        "            1.03577264e-01]]],\n",
        "\n",
        "\n",
        "       [[[  0.00000000e+00,   0.00000000e+00,   0.00000000e+00,\n",
        "            1.07879052e-02],\n",
        "         [  0.00000000e+00,   0.00000000e+00,   0.00000000e+00,\n",
        "            0.00000000e+00],\n",
        "         [  0.00000000e+00,   0.00000000e+00,   0.00000000e+00,\n",
        "            0.00000000e+00],\n",
        "         [  0.00000000e+00,   0.00000000e+00,   0.00000000e+00,\n",
        "            0.00000000e+00]],\n",
        "\n",
        "        [[  2.32889384e-01,   2.22296640e-01,   3.19351479e-02,\n",
        "            1.30294845e-01],\n",
        "         [  4.44850385e-01,   5.97078502e-01,   2.35460520e-01,\n",
        "            0.00000000e+00],\n",
        "         [  1.22975326e+00,   1.88858652e+00,   1.77038622e+00,\n",
        "            1.12543154e+00],\n",
        "         [  3.79192710e-01,   7.18402326e-01,   1.08329666e+00,\n",
        "            1.29058361e+00]],\n",
        "\n",
        "        [[  0.00000000e+00,   0.00000000e+00,   0.00000000e+00,\n",
        "            1.55789219e-02],\n",
        "         [  2.12899372e-02,   2.17515394e-01,   1.01850912e-01,\n",
        "            0.00000000e+00],\n",
        "         [  3.34773287e-02,   4.18206334e-01,   3.58955234e-01,\n",
        "            9.54097435e-02],\n",
        "         [  0.00000000e+00,   0.00000000e+00,   0.00000000e+00,\n",
        "            2.23442502e-02]],\n",
        "\n",
        "        ..., \n",
        "        [[  0.00000000e+00,   0.00000000e+00,   0.00000000e+00,\n",
        "            0.00000000e+00],\n",
        "         [  0.00000000e+00,   0.00000000e+00,   0.00000000e+00,\n",
        "            0.00000000e+00],\n",
        "         [  5.16176783e-03,   6.00656420e-02,   1.11247711e-01,\n",
        "            4.21740152e-02],\n",
        "         [  6.36713281e-02,   5.70700429e-02,   1.29469678e-01,\n",
        "            1.81516171e-01]],\n",
        "\n",
        "        [[  0.00000000e+00,   0.00000000e+00,   0.00000000e+00,\n",
        "            0.00000000e+00],\n",
        "         [  0.00000000e+00,   0.00000000e+00,   0.00000000e+00,\n",
        "            0.00000000e+00],\n",
        "         [  0.00000000e+00,   0.00000000e+00,   0.00000000e+00,\n",
        "            0.00000000e+00],\n",
        "         [  0.00000000e+00,   0.00000000e+00,   0.00000000e+00,\n",
        "            7.27358088e-02]],\n",
        "\n",
        "        [[  9.23189163e-01,   3.62604737e-01,   6.20091408e-02,\n",
        "            0.00000000e+00],\n",
        "         [  7.14642704e-01,   4.29972529e-01,   1.21089496e-01,\n",
        "            2.09100291e-01],\n",
        "         [  1.16621578e+00,   6.80446386e-01,   3.79990697e-01,\n",
        "            5.91245927e-02],\n",
        "         [  1.15571034e+00,   9.53581989e-01,   7.17144072e-01,\n",
        "            7.81745762e-02]]],\n",
        "\n",
        "\n",
        "       [[[  0.00000000e+00,   0.00000000e+00,   1.59965307e-01,\n",
        "            4.62495357e-01],\n",
        "         [  0.00000000e+00,   0.00000000e+00,   0.00000000e+00,\n",
        "            4.89285253e-02],\n",
        "         [  0.00000000e+00,   0.00000000e+00,   0.00000000e+00,\n",
        "            0.00000000e+00],\n",
        "         [  0.00000000e+00,   0.00000000e+00,   0.00000000e+00,\n",
        "            0.00000000e+00]],\n",
        "\n",
        "        [[  2.29911700e-01,   1.18414899e-02,   3.93159799e-02,\n",
        "            1.83276847e-01],\n",
        "         [  7.61148334e-01,   6.78457677e-01,   1.00477062e-01,\n",
        "            5.47910621e-03],\n",
        "         [  8.03520441e-01,   1.06370449e+00,   3.66667628e-01,\n",
        "            1.22169770e-01],\n",
        "         [  4.78860617e-01,   8.56106460e-01,   7.47480214e-01,\n",
        "            6.00558937e-01]],\n",
        "\n",
        "        [[  0.00000000e+00,   1.95415542e-02,   1.93205655e-01,\n",
        "            2.86341399e-01],\n",
        "         [  1.58172809e-02,   5.71147539e-02,   1.26042545e-01,\n",
        "            2.94789016e-01],\n",
        "         [  0.00000000e+00,   0.00000000e+00,   0.00000000e+00,\n",
        "            0.00000000e+00],\n",
        "         [  0.00000000e+00,   0.00000000e+00,   0.00000000e+00,\n",
        "            0.00000000e+00]],\n",
        "\n",
        "        ..., \n",
        "        [[  0.00000000e+00,   0.00000000e+00,   0.00000000e+00,\n",
        "            0.00000000e+00],\n",
        "         [  0.00000000e+00,   3.32389995e-02,   1.26261368e-01,\n",
        "            2.82316189e-02],\n",
        "         [  0.00000000e+00,   1.02567365e-02,   1.09755814e-01,\n",
        "            2.82316189e-02],\n",
        "         [  0.00000000e+00,   0.00000000e+00,   0.00000000e+00,\n",
        "            0.00000000e+00]],\n",
        "\n",
        "        [[  0.00000000e+00,   0.00000000e+00,   0.00000000e+00,\n",
        "            0.00000000e+00],\n",
        "         [  7.09791705e-02,   2.00845525e-02,   0.00000000e+00,\n",
        "            0.00000000e+00],\n",
        "         [  5.18732034e-02,   2.00845525e-02,   0.00000000e+00,\n",
        "            6.75724074e-03],\n",
        "         [  3.69267054e-02,   0.00000000e+00,   0.00000000e+00,\n",
        "            0.00000000e+00]],\n",
        "\n",
        "        [[  2.07379177e-01,   3.05990010e-01,   1.18230486e+00,\n",
        "            8.24847519e-01],\n",
        "         [  6.78079605e-01,   8.05186033e-02,   3.73535275e-01,\n",
        "            3.74239594e-01],\n",
        "         [  4.60686147e-01,   2.72357073e-02,   2.72357073e-02,\n",
        "            0.00000000e+00],\n",
        "         [  0.00000000e+00,   0.00000000e+00,   0.00000000e+00,\n",
        "            0.00000000e+00]]],\n",
        "\n",
        "\n",
        "       ..., \n",
        "       [[[  0.00000000e+00,   0.00000000e+00,   0.00000000e+00,\n",
        "            0.00000000e+00],\n",
        "         [  0.00000000e+00,   0.00000000e+00,   0.00000000e+00,\n",
        "            0.00000000e+00],\n",
        "         [  0.00000000e+00,   0.00000000e+00,   0.00000000e+00,\n",
        "            0.00000000e+00],\n",
        "         [  0.00000000e+00,   0.00000000e+00,   0.00000000e+00,\n",
        "            0.00000000e+00]],\n",
        "\n",
        "        [[  7.82039285e-01,   1.14936531e+00,   9.15363431e-01,\n",
        "            8.55796516e-01],\n",
        "         [  1.01420081e+00,   1.52554905e+00,   1.43059289e+00,\n",
        "            1.23348403e+00],\n",
        "         [  2.60915875e-01,   7.31053948e-01,   1.19799256e+00,\n",
        "            1.05187237e+00],\n",
        "         [  1.97722793e-01,   6.38953269e-01,   1.19946396e+00,\n",
        "            9.71845686e-01]],\n",
        "\n",
        "        [[  4.02772129e-02,   1.51504278e-01,   5.32511286e-02,\n",
        "            4.02041078e-02],\n",
        "         [  0.00000000e+00,   0.00000000e+00,   5.83475567e-02,\n",
        "            2.00318813e-01],\n",
        "         [  0.00000000e+00,   2.73037180e-02,   2.57216424e-01,\n",
        "            6.28149807e-01],\n",
        "         [  0.00000000e+00,   1.98293030e-02,   1.76243350e-01,\n",
        "            3.57692033e-01]],\n",
        "\n",
        "        ..., \n",
        "        [[  0.00000000e+00,   0.00000000e+00,   0.00000000e+00,\n",
        "            1.21663501e-02],\n",
        "         [  1.39709376e-02,   0.00000000e+00,   1.02265202e-01,\n",
        "            2.71784276e-01],\n",
        "         [  7.40471995e-03,   0.00000000e+00,   1.72642395e-01,\n",
        "            3.10886919e-01],\n",
        "         [  0.00000000e+00,   0.00000000e+00,   1.64116900e-02,\n",
        "            2.58248188e-02]],\n",
        "\n",
        "        [[  0.00000000e+00,   0.00000000e+00,   5.08430786e-03,\n",
        "            7.62646133e-03],\n",
        "         [  0.00000000e+00,   0.00000000e+00,   1.30380960e-02,\n",
        "            2.49768104e-02],\n",
        "         [  0.00000000e+00,   1.17329415e-02,   0.00000000e+00,\n",
        "            0.00000000e+00],\n",
        "         [  0.00000000e+00,   5.55137657e-02,   0.00000000e+00,\n",
        "            0.00000000e+00]],\n",
        "\n",
        "        [[  1.19373262e+00,   1.13943779e+00,   1.08129179e+00,\n",
        "            6.23779118e-01],\n",
        "         [  7.09594131e-01,   5.34591317e-01,   2.99679577e-01,\n",
        "            7.44396076e-02],\n",
        "         [  1.23236448e-01,   3.09328586e-01,   7.00934753e-02,\n",
        "            0.00000000e+00],\n",
        "         [  1.03076361e-01,   0.00000000e+00,   0.00000000e+00,\n",
        "            0.00000000e+00]]],\n",
        "\n",
        "\n",
        "       [[[  2.28084102e-02,   0.00000000e+00,   0.00000000e+00,\n",
        "            0.00000000e+00],\n",
        "         [  0.00000000e+00,   0.00000000e+00,   0.00000000e+00,\n",
        "            6.64812699e-03],\n",
        "         [  0.00000000e+00,   0.00000000e+00,   0.00000000e+00,\n",
        "            0.00000000e+00],\n",
        "         [  0.00000000e+00,   0.00000000e+00,   0.00000000e+00,\n",
        "            0.00000000e+00]],\n",
        "\n",
        "        [[  2.92541146e-01,   9.48325396e-01,   1.03747439e+00,\n",
        "            7.95937240e-01],\n",
        "         [  2.79116392e-01,   9.06078041e-01,   1.14213538e+00,\n",
        "            7.35015154e-01],\n",
        "         [  4.05032128e-01,   5.44643819e-01,   8.22120249e-01,\n",
        "            6.59479618e-01],\n",
        "         [  4.87503171e-01,   5.53675354e-01,   4.84576136e-01,\n",
        "            3.74920040e-01]],\n",
        "\n",
        "        [[  6.60542340e-04,   2.59038508e-02,   1.10739775e-01,\n",
        "            1.99375823e-01],\n",
        "         [  0.00000000e+00,   0.00000000e+00,   8.96834675e-03,\n",
        "            2.91851386e-02],\n",
        "         [  0.00000000e+00,   0.00000000e+00,   1.29268467e-01,\n",
        "            3.38438988e-01],\n",
        "         [  0.00000000e+00,   0.00000000e+00,   1.78956836e-02,\n",
        "            5.15599623e-02]],\n",
        "\n",
        "        ..., \n",
        "        [[  0.00000000e+00,   0.00000000e+00,   2.78783273e-02,\n",
        "            1.25355184e-01],\n",
        "         [  0.00000000e+00,   0.00000000e+00,   8.65465552e-02,\n",
        "            1.44901142e-01],\n",
        "         [  4.08005156e-03,   2.34152451e-02,   1.18629538e-01,\n",
        "            1.43440768e-01],\n",
        "         [  1.61569554e-03,   0.00000000e+00,   5.97052425e-02,\n",
        "            7.20737502e-02]],\n",
        "\n",
        "        [[  0.00000000e+00,   0.00000000e+00,   1.69664578e-04,\n",
        "            2.54496874e-04],\n",
        "         [  0.00000000e+00,   0.00000000e+00,   1.09932935e-02,\n",
        "            2.54496874e-04],\n",
        "         [  2.60855127e-02,   0.00000000e+00,   1.08236289e-02,\n",
        "            0.00000000e+00],\n",
        "         [  2.31862471e-01,   4.21168543e-02,   0.00000000e+00,\n",
        "            0.00000000e+00]],\n",
        "\n",
        "        [[  0.00000000e+00,   0.00000000e+00,   5.16484603e-02,\n",
        "            1.61030754e-01],\n",
        "         [  0.00000000e+00,   0.00000000e+00,   1.36584058e-01,\n",
        "            5.68144262e-01],\n",
        "         [  8.43984541e-03,   6.19117431e-02,   1.59655720e-01,\n",
        "            3.03336233e-01],\n",
        "         [  1.26597686e-02,   8.34352747e-02,   2.14796141e-01,\n",
        "            1.30090550e-01]]],\n",
        "\n",
        "\n",
        "       [[[  4.46479861e-03,   0.00000000e+00,   0.00000000e+00,\n",
        "            0.00000000e+00],\n",
        "         [  0.00000000e+00,   0.00000000e+00,   0.00000000e+00,\n",
        "            1.11986421e-01],\n",
        "         [  0.00000000e+00,   0.00000000e+00,   0.00000000e+00,\n",
        "            9.39731002e-02],\n",
        "         [  0.00000000e+00,   0.00000000e+00,   0.00000000e+00,\n",
        "            0.00000000e+00]],\n",
        "\n",
        "        [[  4.12608743e-01,   5.51350474e-01,   6.09861314e-01,\n",
        "            3.83451968e-01],\n",
        "         [  1.94412744e+00,   2.26341915e+00,   2.09555030e+00,\n",
        "            6.40443921e-01],\n",
        "         [  1.82017946e+00,   2.92494607e+00,   2.75977683e+00,\n",
        "            1.87786448e+00],\n",
        "         [  3.45528126e-01,   1.32190728e+00,   1.64707994e+00,\n",
        "            2.25096035e+00]],\n",
        "\n",
        "        [[  0.00000000e+00,   0.00000000e+00,   1.04984820e-01,\n",
        "            1.96634606e-01],\n",
        "         [  0.00000000e+00,   0.00000000e+00,   1.80791438e-01,\n",
        "            2.94932187e-01],\n",
        "         [  0.00000000e+00,   0.00000000e+00,   2.03764066e-03,\n",
        "            3.05646099e-03],\n",
        "         [  0.00000000e+00,   0.00000000e+00,   3.05646099e-03,\n",
        "            4.58469149e-03]],\n",
        "\n",
        "        ..., \n",
        "        [[  0.00000000e+00,   0.00000000e+00,   9.98271480e-02,\n",
        "            1.71749428e-01],\n",
        "         [  0.00000000e+00,   0.00000000e+00,   3.19872588e-01,\n",
        "            4.96936709e-01],\n",
        "         [  0.00000000e+00,   1.16709642e-01,   1.86385572e-01,\n",
        "            9.44144949e-02],\n",
        "         [  0.00000000e+00,   3.67402434e-01,   4.50197607e-01,\n",
        "            2.03954846e-01]],\n",
        "\n",
        "        [[  0.00000000e+00,   0.00000000e+00,   2.65411809e-02,\n",
        "            6.14790507e-02],\n",
        "         [  0.00000000e+00,   0.00000000e+00,   0.00000000e+00,\n",
        "            3.07390317e-02],\n",
        "         [  0.00000000e+00,   0.00000000e+00,   0.00000000e+00,\n",
        "            0.00000000e+00],\n",
        "         [  0.00000000e+00,   0.00000000e+00,   0.00000000e+00,\n",
        "            0.00000000e+00]],\n",
        "\n",
        "        [[  3.84079590e-02,   0.00000000e+00,   9.94167407e-04,\n",
        "            0.00000000e+00],\n",
        "         [  1.05146301e+00,   1.74032867e+00,   1.64413488e+00,\n",
        "            1.07592070e+00],\n",
        "         [  1.76443040e+00,   3.34138393e+00,   3.09917068e+00,\n",
        "            1.78333175e+00],\n",
        "         [  9.99232709e-01,   1.91267884e+00,   1.63971615e+00,\n",
        "            1.26648521e+00]]]], dtype=float32)"
       ]
      }
     ],
     "prompt_number": 12
    },
    {
     "cell_type": "code",
     "collapsed": false,
     "input": [
      "#Show the layers configuration\n",
      "solver.net.blobs"
     ],
     "language": "python",
     "metadata": {},
     "outputs": [
      {
       "metadata": {},
       "output_type": "pyout",
       "prompt_number": 18,
       "text": [
        "OrderedDict([('data', <caffe._caffe.Blob object at 0x119077f50>), ('label', <caffe._caffe.Blob object at 0x11907f140>), ('conv1', <caffe._caffe.Blob object at 0x11907f578>), ('pool1', <caffe._caffe.Blob object at 0x11907f410>), ('conv2', <caffe._caffe.Blob object at 0x11907f0c8>), ('pool2', <caffe._caffe.Blob object at 0x11907f5f0>), ('conv3', <caffe._caffe.Blob object at 0x11907f2a8>), ('pool3', <caffe._caffe.Blob object at 0x11907f6e0>), ('ip1', <caffe._caffe.Blob object at 0x11907f488>), ('ip2', <caffe._caffe.Blob object at 0x11907f500>), ('loss', <caffe._caffe.Blob object at 0x11907f668>)])"
       ]
      }
     ],
     "prompt_number": 18
    },
    {
     "cell_type": "code",
     "collapsed": false,
     "input": [
      "activationArray = None\n",
      "for i in range(500):\n",
      "    print i\n",
      "    solver.net.blobs['data'].data[...] = np.array(trainingData[i * 100: (i + 1) * 100].reshape(100,3,32,32))\n",
      "    solver.net.forward(start = \"conv1\")\n",
      "    if activationArray == None:\n",
      "        activationArray = np.array(solver.net.blobs['pool3'].data)\n",
      "        tem = np.array(solver.net.blobs['pool3'].data)\n",
      "    else:\n",
      "        activationArray = np.concatenate((activationArray, np.array(solver.net.blobs['pool3'].data)))\n",
      "        \n",
      "    "
     ],
     "language": "python",
     "metadata": {},
     "outputs": [
      {
       "output_type": "stream",
       "stream": "stdout",
       "text": [
        "0\n",
        "1"
       ]
      },
      {
       "output_type": "stream",
       "stream": "stdout",
       "text": [
        "\n",
        "2"
       ]
      },
      {
       "output_type": "stream",
       "stream": "stdout",
       "text": [
        "\n",
        "3"
       ]
      },
      {
       "output_type": "stream",
       "stream": "stdout",
       "text": [
        "\n",
        "4"
       ]
      },
      {
       "output_type": "stream",
       "stream": "stdout",
       "text": [
        "\n",
        "5\n",
        "6"
       ]
      },
      {
       "output_type": "stream",
       "stream": "stdout",
       "text": [
        "\n",
        "7\n",
        "8"
       ]
      },
      {
       "output_type": "stream",
       "stream": "stdout",
       "text": [
        "\n",
        "9\n",
        "10"
       ]
      },
      {
       "output_type": "stream",
       "stream": "stdout",
       "text": [
        "\n",
        "11\n",
        "12"
       ]
      },
      {
       "output_type": "stream",
       "stream": "stdout",
       "text": [
        "\n",
        "13\n",
        "14"
       ]
      },
      {
       "output_type": "stream",
       "stream": "stdout",
       "text": [
        "\n",
        "15\n",
        "16"
       ]
      },
      {
       "output_type": "stream",
       "stream": "stdout",
       "text": [
        "\n",
        "17\n",
        "18"
       ]
      },
      {
       "output_type": "stream",
       "stream": "stdout",
       "text": [
        "\n",
        "19\n",
        "20"
       ]
      },
      {
       "output_type": "stream",
       "stream": "stdout",
       "text": [
        "\n",
        "21\n",
        "22"
       ]
      },
      {
       "output_type": "stream",
       "stream": "stdout",
       "text": [
        "\n",
        "23\n",
        "24"
       ]
      },
      {
       "output_type": "stream",
       "stream": "stdout",
       "text": [
        "\n",
        "25\n",
        "26"
       ]
      },
      {
       "output_type": "stream",
       "stream": "stdout",
       "text": [
        "\n",
        "27\n",
        "28"
       ]
      },
      {
       "output_type": "stream",
       "stream": "stdout",
       "text": [
        "\n",
        "29\n",
        "30"
       ]
      },
      {
       "output_type": "stream",
       "stream": "stdout",
       "text": [
        "\n",
        "31\n",
        "32"
       ]
      },
      {
       "output_type": "stream",
       "stream": "stdout",
       "text": [
        "\n",
        "33\n",
        "34"
       ]
      },
      {
       "output_type": "stream",
       "stream": "stdout",
       "text": [
        "\n",
        "35\n",
        "36"
       ]
      },
      {
       "output_type": "stream",
       "stream": "stdout",
       "text": [
        "\n",
        "37\n",
        "38"
       ]
      },
      {
       "output_type": "stream",
       "stream": "stdout",
       "text": [
        "\n",
        "39\n",
        "40"
       ]
      },
      {
       "output_type": "stream",
       "stream": "stdout",
       "text": [
        "\n",
        "41\n",
        "42"
       ]
      },
      {
       "output_type": "stream",
       "stream": "stdout",
       "text": [
        "\n",
        "43\n",
        "44"
       ]
      },
      {
       "output_type": "stream",
       "stream": "stdout",
       "text": [
        "\n",
        "45\n",
        "46"
       ]
      },
      {
       "output_type": "stream",
       "stream": "stdout",
       "text": [
        "\n",
        "47\n",
        "48"
       ]
      },
      {
       "output_type": "stream",
       "stream": "stdout",
       "text": [
        "\n",
        "49\n",
        "50"
       ]
      },
      {
       "output_type": "stream",
       "stream": "stdout",
       "text": [
        "\n",
        "51\n",
        "52"
       ]
      },
      {
       "output_type": "stream",
       "stream": "stdout",
       "text": [
        "\n",
        "53\n",
        "54"
       ]
      },
      {
       "output_type": "stream",
       "stream": "stdout",
       "text": [
        "\n",
        "55\n",
        "56"
       ]
      },
      {
       "output_type": "stream",
       "stream": "stdout",
       "text": [
        "\n",
        "57\n",
        "58"
       ]
      },
      {
       "output_type": "stream",
       "stream": "stdout",
       "text": [
        "\n",
        "59\n",
        "60"
       ]
      },
      {
       "output_type": "stream",
       "stream": "stdout",
       "text": [
        "\n",
        "61\n",
        "62"
       ]
      },
      {
       "output_type": "stream",
       "stream": "stdout",
       "text": [
        "\n",
        "63\n",
        "64"
       ]
      },
      {
       "output_type": "stream",
       "stream": "stdout",
       "text": [
        "\n",
        "65\n",
        "66"
       ]
      },
      {
       "output_type": "stream",
       "stream": "stdout",
       "text": [
        "\n",
        "67"
       ]
      },
      {
       "output_type": "stream",
       "stream": "stdout",
       "text": [
        "\n",
        "68\n",
        "69"
       ]
      },
      {
       "output_type": "stream",
       "stream": "stdout",
       "text": [
        "\n",
        "70"
       ]
      },
      {
       "output_type": "stream",
       "stream": "stdout",
       "text": [
        "\n",
        "71"
       ]
      },
      {
       "output_type": "stream",
       "stream": "stdout",
       "text": [
        "\n",
        "72"
       ]
      },
      {
       "output_type": "stream",
       "stream": "stdout",
       "text": [
        "\n",
        "73"
       ]
      },
      {
       "output_type": "stream",
       "stream": "stdout",
       "text": [
        "\n",
        "74"
       ]
      },
      {
       "output_type": "stream",
       "stream": "stdout",
       "text": [
        "\n",
        "75"
       ]
      },
      {
       "output_type": "stream",
       "stream": "stdout",
       "text": [
        "\n",
        "76"
       ]
      },
      {
       "output_type": "stream",
       "stream": "stdout",
       "text": [
        "\n",
        "77"
       ]
      },
      {
       "output_type": "stream",
       "stream": "stdout",
       "text": [
        "\n",
        "78"
       ]
      },
      {
       "output_type": "stream",
       "stream": "stdout",
       "text": [
        "\n",
        "79"
       ]
      },
      {
       "output_type": "stream",
       "stream": "stdout",
       "text": [
        "\n",
        "80"
       ]
      },
      {
       "output_type": "stream",
       "stream": "stdout",
       "text": [
        "\n",
        "81"
       ]
      },
      {
       "output_type": "stream",
       "stream": "stdout",
       "text": [
        "\n",
        "82"
       ]
      },
      {
       "output_type": "stream",
       "stream": "stdout",
       "text": [
        "\n",
        "83"
       ]
      },
      {
       "output_type": "stream",
       "stream": "stdout",
       "text": [
        "\n",
        "84"
       ]
      },
      {
       "output_type": "stream",
       "stream": "stdout",
       "text": [
        "\n",
        "85"
       ]
      },
      {
       "output_type": "stream",
       "stream": "stdout",
       "text": [
        "\n",
        "86"
       ]
      },
      {
       "output_type": "stream",
       "stream": "stdout",
       "text": [
        "\n",
        "87"
       ]
      },
      {
       "output_type": "stream",
       "stream": "stdout",
       "text": [
        "\n",
        "88"
       ]
      },
      {
       "output_type": "stream",
       "stream": "stdout",
       "text": [
        "\n",
        "89"
       ]
      },
      {
       "output_type": "stream",
       "stream": "stdout",
       "text": [
        "\n",
        "90"
       ]
      },
      {
       "output_type": "stream",
       "stream": "stdout",
       "text": [
        "\n",
        "91"
       ]
      },
      {
       "output_type": "stream",
       "stream": "stdout",
       "text": [
        "\n",
        "92"
       ]
      },
      {
       "output_type": "stream",
       "stream": "stdout",
       "text": [
        "\n",
        "93"
       ]
      },
      {
       "output_type": "stream",
       "stream": "stdout",
       "text": [
        "\n",
        "94"
       ]
      },
      {
       "output_type": "stream",
       "stream": "stdout",
       "text": [
        "\n",
        "95"
       ]
      },
      {
       "output_type": "stream",
       "stream": "stdout",
       "text": [
        "\n",
        "96"
       ]
      },
      {
       "output_type": "stream",
       "stream": "stdout",
       "text": [
        "\n",
        "97"
       ]
      },
      {
       "output_type": "stream",
       "stream": "stdout",
       "text": [
        "\n",
        "98"
       ]
      },
      {
       "output_type": "stream",
       "stream": "stdout",
       "text": [
        "\n",
        "99"
       ]
      },
      {
       "output_type": "stream",
       "stream": "stdout",
       "text": [
        "\n",
        "100"
       ]
      },
      {
       "output_type": "stream",
       "stream": "stdout",
       "text": [
        "\n",
        "101"
       ]
      },
      {
       "output_type": "stream",
       "stream": "stdout",
       "text": [
        "\n",
        "102"
       ]
      },
      {
       "output_type": "stream",
       "stream": "stdout",
       "text": [
        "\n",
        "103"
       ]
      },
      {
       "output_type": "stream",
       "stream": "stdout",
       "text": [
        "\n",
        "104"
       ]
      },
      {
       "output_type": "stream",
       "stream": "stdout",
       "text": [
        "\n",
        "105"
       ]
      },
      {
       "output_type": "stream",
       "stream": "stdout",
       "text": [
        "\n",
        "106"
       ]
      },
      {
       "output_type": "stream",
       "stream": "stdout",
       "text": [
        "\n",
        "107"
       ]
      },
      {
       "output_type": "stream",
       "stream": "stdout",
       "text": [
        "\n",
        "108"
       ]
      },
      {
       "output_type": "stream",
       "stream": "stdout",
       "text": [
        "\n",
        "109"
       ]
      },
      {
       "output_type": "stream",
       "stream": "stdout",
       "text": [
        "\n",
        "110"
       ]
      },
      {
       "output_type": "stream",
       "stream": "stdout",
       "text": [
        "\n",
        "111"
       ]
      },
      {
       "output_type": "stream",
       "stream": "stdout",
       "text": [
        "\n",
        "112"
       ]
      },
      {
       "output_type": "stream",
       "stream": "stdout",
       "text": [
        "\n",
        "113"
       ]
      },
      {
       "output_type": "stream",
       "stream": "stdout",
       "text": [
        "\n",
        "114"
       ]
      },
      {
       "output_type": "stream",
       "stream": "stdout",
       "text": [
        "\n",
        "115"
       ]
      },
      {
       "output_type": "stream",
       "stream": "stdout",
       "text": [
        "\n",
        "116"
       ]
      },
      {
       "output_type": "stream",
       "stream": "stdout",
       "text": [
        "\n",
        "117"
       ]
      },
      {
       "output_type": "stream",
       "stream": "stdout",
       "text": [
        "\n",
        "118"
       ]
      },
      {
       "output_type": "stream",
       "stream": "stdout",
       "text": [
        "\n",
        "119"
       ]
      },
      {
       "output_type": "stream",
       "stream": "stdout",
       "text": [
        "\n",
        "120"
       ]
      },
      {
       "output_type": "stream",
       "stream": "stdout",
       "text": [
        "\n",
        "121"
       ]
      },
      {
       "output_type": "stream",
       "stream": "stdout",
       "text": [
        "\n",
        "122"
       ]
      },
      {
       "output_type": "stream",
       "stream": "stdout",
       "text": [
        "\n",
        "123"
       ]
      },
      {
       "output_type": "stream",
       "stream": "stdout",
       "text": [
        "\n",
        "124"
       ]
      },
      {
       "output_type": "stream",
       "stream": "stdout",
       "text": [
        "\n",
        "125"
       ]
      },
      {
       "output_type": "stream",
       "stream": "stdout",
       "text": [
        "\n",
        "126"
       ]
      },
      {
       "output_type": "stream",
       "stream": "stdout",
       "text": [
        "\n",
        "127"
       ]
      },
      {
       "output_type": "stream",
       "stream": "stdout",
       "text": [
        "\n",
        "128"
       ]
      },
      {
       "output_type": "stream",
       "stream": "stdout",
       "text": [
        "\n",
        "129"
       ]
      },
      {
       "output_type": "stream",
       "stream": "stdout",
       "text": [
        "\n",
        "130"
       ]
      },
      {
       "output_type": "stream",
       "stream": "stdout",
       "text": [
        "\n",
        "131"
       ]
      },
      {
       "output_type": "stream",
       "stream": "stdout",
       "text": [
        "\n",
        "132"
       ]
      },
      {
       "output_type": "stream",
       "stream": "stdout",
       "text": [
        "\n",
        "133"
       ]
      },
      {
       "output_type": "stream",
       "stream": "stdout",
       "text": [
        "\n",
        "134"
       ]
      },
      {
       "output_type": "stream",
       "stream": "stdout",
       "text": [
        "\n",
        "135"
       ]
      },
      {
       "output_type": "stream",
       "stream": "stdout",
       "text": [
        "\n",
        "136"
       ]
      },
      {
       "output_type": "stream",
       "stream": "stdout",
       "text": [
        "\n",
        "137"
       ]
      },
      {
       "output_type": "stream",
       "stream": "stdout",
       "text": [
        "\n",
        "138"
       ]
      },
      {
       "output_type": "stream",
       "stream": "stdout",
       "text": [
        "\n",
        "139"
       ]
      },
      {
       "output_type": "stream",
       "stream": "stdout",
       "text": [
        "\n",
        "140"
       ]
      },
      {
       "output_type": "stream",
       "stream": "stdout",
       "text": [
        "\n",
        "141"
       ]
      },
      {
       "output_type": "stream",
       "stream": "stdout",
       "text": [
        "\n",
        "142"
       ]
      },
      {
       "output_type": "stream",
       "stream": "stdout",
       "text": [
        "\n",
        "143"
       ]
      },
      {
       "output_type": "stream",
       "stream": "stdout",
       "text": [
        "\n",
        "144"
       ]
      },
      {
       "output_type": "stream",
       "stream": "stdout",
       "text": [
        "\n",
        "145"
       ]
      },
      {
       "output_type": "stream",
       "stream": "stdout",
       "text": [
        "\n",
        "146"
       ]
      },
      {
       "output_type": "stream",
       "stream": "stdout",
       "text": [
        "\n",
        "147"
       ]
      },
      {
       "output_type": "stream",
       "stream": "stdout",
       "text": [
        "\n",
        "148"
       ]
      },
      {
       "output_type": "stream",
       "stream": "stdout",
       "text": [
        "\n",
        "149"
       ]
      },
      {
       "output_type": "stream",
       "stream": "stdout",
       "text": [
        "\n",
        "150"
       ]
      },
      {
       "output_type": "stream",
       "stream": "stdout",
       "text": [
        "\n",
        "151"
       ]
      },
      {
       "output_type": "stream",
       "stream": "stdout",
       "text": [
        "\n",
        "152"
       ]
      },
      {
       "output_type": "stream",
       "stream": "stdout",
       "text": [
        "\n",
        "153"
       ]
      },
      {
       "output_type": "stream",
       "stream": "stdout",
       "text": [
        "\n",
        "154"
       ]
      },
      {
       "output_type": "stream",
       "stream": "stdout",
       "text": [
        "\n",
        "155"
       ]
      },
      {
       "output_type": "stream",
       "stream": "stdout",
       "text": [
        "\n",
        "156"
       ]
      },
      {
       "output_type": "stream",
       "stream": "stdout",
       "text": [
        "\n",
        "157"
       ]
      },
      {
       "output_type": "stream",
       "stream": "stdout",
       "text": [
        "\n",
        "158"
       ]
      },
      {
       "output_type": "stream",
       "stream": "stdout",
       "text": [
        "\n",
        "159"
       ]
      },
      {
       "output_type": "stream",
       "stream": "stdout",
       "text": [
        "\n",
        "160"
       ]
      },
      {
       "output_type": "stream",
       "stream": "stdout",
       "text": [
        "\n",
        "161"
       ]
      },
      {
       "output_type": "stream",
       "stream": "stdout",
       "text": [
        "\n",
        "162"
       ]
      },
      {
       "output_type": "stream",
       "stream": "stdout",
       "text": [
        "\n",
        "163"
       ]
      },
      {
       "output_type": "stream",
       "stream": "stdout",
       "text": [
        "\n",
        "164"
       ]
      },
      {
       "output_type": "stream",
       "stream": "stdout",
       "text": [
        "\n",
        "165"
       ]
      },
      {
       "output_type": "stream",
       "stream": "stdout",
       "text": [
        "\n",
        "166"
       ]
      },
      {
       "output_type": "stream",
       "stream": "stdout",
       "text": [
        "\n",
        "167"
       ]
      },
      {
       "output_type": "stream",
       "stream": "stdout",
       "text": [
        "\n",
        "168"
       ]
      },
      {
       "output_type": "stream",
       "stream": "stdout",
       "text": [
        "\n",
        "169"
       ]
      },
      {
       "output_type": "stream",
       "stream": "stdout",
       "text": [
        "\n",
        "170"
       ]
      },
      {
       "output_type": "stream",
       "stream": "stdout",
       "text": [
        "\n",
        "171"
       ]
      },
      {
       "output_type": "stream",
       "stream": "stdout",
       "text": [
        "\n",
        "172"
       ]
      },
      {
       "output_type": "stream",
       "stream": "stdout",
       "text": [
        "\n",
        "173"
       ]
      },
      {
       "output_type": "stream",
       "stream": "stdout",
       "text": [
        "\n",
        "174"
       ]
      },
      {
       "output_type": "stream",
       "stream": "stdout",
       "text": [
        "\n",
        "175"
       ]
      },
      {
       "output_type": "stream",
       "stream": "stdout",
       "text": [
        "\n",
        "176"
       ]
      },
      {
       "output_type": "stream",
       "stream": "stdout",
       "text": [
        "\n",
        "177"
       ]
      },
      {
       "output_type": "stream",
       "stream": "stdout",
       "text": [
        "\n",
        "178"
       ]
      },
      {
       "output_type": "stream",
       "stream": "stdout",
       "text": [
        "\n",
        "179"
       ]
      },
      {
       "output_type": "stream",
       "stream": "stdout",
       "text": [
        "\n",
        "180"
       ]
      },
      {
       "output_type": "stream",
       "stream": "stdout",
       "text": [
        "\n",
        "181"
       ]
      },
      {
       "output_type": "stream",
       "stream": "stdout",
       "text": [
        "\n",
        "182"
       ]
      },
      {
       "output_type": "stream",
       "stream": "stdout",
       "text": [
        "\n",
        "183"
       ]
      },
      {
       "output_type": "stream",
       "stream": "stdout",
       "text": [
        "\n",
        "184"
       ]
      },
      {
       "output_type": "stream",
       "stream": "stdout",
       "text": [
        "\n",
        "185"
       ]
      },
      {
       "output_type": "stream",
       "stream": "stdout",
       "text": [
        "\n",
        "186"
       ]
      },
      {
       "output_type": "stream",
       "stream": "stdout",
       "text": [
        "\n",
        "187"
       ]
      },
      {
       "output_type": "stream",
       "stream": "stdout",
       "text": [
        "\n",
        "188"
       ]
      },
      {
       "output_type": "stream",
       "stream": "stdout",
       "text": [
        "\n",
        "189"
       ]
      },
      {
       "output_type": "stream",
       "stream": "stdout",
       "text": [
        "\n",
        "190"
       ]
      },
      {
       "output_type": "stream",
       "stream": "stdout",
       "text": [
        "\n",
        "191"
       ]
      },
      {
       "output_type": "stream",
       "stream": "stdout",
       "text": [
        "\n",
        "192"
       ]
      },
      {
       "output_type": "stream",
       "stream": "stdout",
       "text": [
        "\n",
        "193"
       ]
      },
      {
       "output_type": "stream",
       "stream": "stdout",
       "text": [
        "\n",
        "194"
       ]
      },
      {
       "output_type": "stream",
       "stream": "stdout",
       "text": [
        "\n",
        "195"
       ]
      },
      {
       "output_type": "stream",
       "stream": "stdout",
       "text": [
        "\n",
        "196"
       ]
      },
      {
       "output_type": "stream",
       "stream": "stdout",
       "text": [
        "\n",
        "197"
       ]
      },
      {
       "output_type": "stream",
       "stream": "stdout",
       "text": [
        "\n",
        "198"
       ]
      },
      {
       "output_type": "stream",
       "stream": "stdout",
       "text": [
        "\n",
        "199"
       ]
      },
      {
       "output_type": "stream",
       "stream": "stdout",
       "text": [
        "\n",
        "200"
       ]
      },
      {
       "output_type": "stream",
       "stream": "stdout",
       "text": [
        "\n",
        "201"
       ]
      },
      {
       "output_type": "stream",
       "stream": "stdout",
       "text": [
        "\n",
        "202"
       ]
      },
      {
       "output_type": "stream",
       "stream": "stdout",
       "text": [
        "\n",
        "203"
       ]
      },
      {
       "output_type": "stream",
       "stream": "stdout",
       "text": [
        "\n",
        "204"
       ]
      },
      {
       "output_type": "stream",
       "stream": "stdout",
       "text": [
        "\n",
        "205"
       ]
      },
      {
       "output_type": "stream",
       "stream": "stdout",
       "text": [
        "\n",
        "206"
       ]
      },
      {
       "output_type": "stream",
       "stream": "stdout",
       "text": [
        "\n",
        "207"
       ]
      },
      {
       "output_type": "stream",
       "stream": "stdout",
       "text": [
        "\n",
        "208"
       ]
      },
      {
       "output_type": "stream",
       "stream": "stdout",
       "text": [
        "\n",
        "209"
       ]
      },
      {
       "output_type": "stream",
       "stream": "stdout",
       "text": [
        "\n",
        "210"
       ]
      },
      {
       "output_type": "stream",
       "stream": "stdout",
       "text": [
        "\n",
        "211"
       ]
      },
      {
       "output_type": "stream",
       "stream": "stdout",
       "text": [
        "\n",
        "212"
       ]
      },
      {
       "output_type": "stream",
       "stream": "stdout",
       "text": [
        "\n",
        "213"
       ]
      },
      {
       "output_type": "stream",
       "stream": "stdout",
       "text": [
        "\n",
        "214"
       ]
      },
      {
       "output_type": "stream",
       "stream": "stdout",
       "text": [
        "\n",
        "215"
       ]
      },
      {
       "output_type": "stream",
       "stream": "stdout",
       "text": [
        "\n",
        "216"
       ]
      },
      {
       "output_type": "stream",
       "stream": "stdout",
       "text": [
        "\n",
        "217"
       ]
      },
      {
       "output_type": "stream",
       "stream": "stdout",
       "text": [
        "\n",
        "218"
       ]
      },
      {
       "output_type": "stream",
       "stream": "stdout",
       "text": [
        "\n",
        "219"
       ]
      },
      {
       "output_type": "stream",
       "stream": "stdout",
       "text": [
        "\n",
        "220"
       ]
      },
      {
       "output_type": "stream",
       "stream": "stdout",
       "text": [
        "\n",
        "221"
       ]
      },
      {
       "output_type": "stream",
       "stream": "stdout",
       "text": [
        "\n",
        "222"
       ]
      },
      {
       "output_type": "stream",
       "stream": "stdout",
       "text": [
        "\n",
        "223"
       ]
      },
      {
       "output_type": "stream",
       "stream": "stdout",
       "text": [
        "\n",
        "224"
       ]
      },
      {
       "output_type": "stream",
       "stream": "stdout",
       "text": [
        "\n",
        "225"
       ]
      },
      {
       "output_type": "stream",
       "stream": "stdout",
       "text": [
        "\n",
        "226"
       ]
      },
      {
       "output_type": "stream",
       "stream": "stdout",
       "text": [
        "\n",
        "227"
       ]
      },
      {
       "output_type": "stream",
       "stream": "stdout",
       "text": [
        "\n",
        "228"
       ]
      },
      {
       "output_type": "stream",
       "stream": "stdout",
       "text": [
        "\n",
        "229"
       ]
      },
      {
       "output_type": "stream",
       "stream": "stdout",
       "text": [
        "\n",
        "230"
       ]
      },
      {
       "output_type": "stream",
       "stream": "stdout",
       "text": [
        "\n",
        "231"
       ]
      },
      {
       "output_type": "stream",
       "stream": "stdout",
       "text": [
        "\n",
        "232"
       ]
      },
      {
       "output_type": "stream",
       "stream": "stdout",
       "text": [
        "\n",
        "233"
       ]
      },
      {
       "output_type": "stream",
       "stream": "stdout",
       "text": [
        "\n",
        "234"
       ]
      },
      {
       "output_type": "stream",
       "stream": "stdout",
       "text": [
        "\n",
        "235"
       ]
      },
      {
       "output_type": "stream",
       "stream": "stdout",
       "text": [
        "\n",
        "236"
       ]
      },
      {
       "output_type": "stream",
       "stream": "stdout",
       "text": [
        "\n",
        "237"
       ]
      },
      {
       "output_type": "stream",
       "stream": "stdout",
       "text": [
        "\n",
        "238"
       ]
      },
      {
       "output_type": "stream",
       "stream": "stdout",
       "text": [
        "\n",
        "239"
       ]
      },
      {
       "output_type": "stream",
       "stream": "stdout",
       "text": [
        "\n",
        "240"
       ]
      },
      {
       "output_type": "stream",
       "stream": "stdout",
       "text": [
        "\n",
        "241"
       ]
      },
      {
       "output_type": "stream",
       "stream": "stdout",
       "text": [
        "\n",
        "242"
       ]
      },
      {
       "output_type": "stream",
       "stream": "stdout",
       "text": [
        "\n",
        "243"
       ]
      },
      {
       "output_type": "stream",
       "stream": "stdout",
       "text": [
        "\n",
        "244"
       ]
      },
      {
       "output_type": "stream",
       "stream": "stdout",
       "text": [
        "\n",
        "245"
       ]
      },
      {
       "output_type": "stream",
       "stream": "stdout",
       "text": [
        "\n",
        "246"
       ]
      },
      {
       "output_type": "stream",
       "stream": "stdout",
       "text": [
        "\n",
        "247"
       ]
      },
      {
       "output_type": "stream",
       "stream": "stdout",
       "text": [
        "\n",
        "248"
       ]
      },
      {
       "output_type": "stream",
       "stream": "stdout",
       "text": [
        "\n",
        "249"
       ]
      },
      {
       "output_type": "stream",
       "stream": "stdout",
       "text": [
        "\n",
        "250"
       ]
      },
      {
       "output_type": "stream",
       "stream": "stdout",
       "text": [
        "\n",
        "251"
       ]
      },
      {
       "output_type": "stream",
       "stream": "stdout",
       "text": [
        "\n",
        "252"
       ]
      },
      {
       "output_type": "stream",
       "stream": "stdout",
       "text": [
        "\n",
        "253"
       ]
      },
      {
       "output_type": "stream",
       "stream": "stdout",
       "text": [
        "\n",
        "254"
       ]
      },
      {
       "output_type": "stream",
       "stream": "stdout",
       "text": [
        "\n",
        "255"
       ]
      },
      {
       "output_type": "stream",
       "stream": "stdout",
       "text": [
        "\n",
        "256"
       ]
      },
      {
       "output_type": "stream",
       "stream": "stdout",
       "text": [
        "\n",
        "257"
       ]
      },
      {
       "output_type": "stream",
       "stream": "stdout",
       "text": [
        "\n",
        "258"
       ]
      },
      {
       "output_type": "stream",
       "stream": "stdout",
       "text": [
        "\n",
        "259"
       ]
      },
      {
       "output_type": "stream",
       "stream": "stdout",
       "text": [
        "\n",
        "260"
       ]
      },
      {
       "output_type": "stream",
       "stream": "stdout",
       "text": [
        "\n",
        "261"
       ]
      },
      {
       "output_type": "stream",
       "stream": "stdout",
       "text": [
        "\n",
        "262"
       ]
      },
      {
       "output_type": "stream",
       "stream": "stdout",
       "text": [
        "\n",
        "263"
       ]
      },
      {
       "output_type": "stream",
       "stream": "stdout",
       "text": [
        "\n",
        "264"
       ]
      },
      {
       "output_type": "stream",
       "stream": "stdout",
       "text": [
        "\n",
        "265"
       ]
      },
      {
       "output_type": "stream",
       "stream": "stdout",
       "text": [
        "\n",
        "266"
       ]
      },
      {
       "output_type": "stream",
       "stream": "stdout",
       "text": [
        "\n",
        "267"
       ]
      },
      {
       "output_type": "stream",
       "stream": "stdout",
       "text": [
        "\n",
        "268"
       ]
      },
      {
       "output_type": "stream",
       "stream": "stdout",
       "text": [
        "\n",
        "269"
       ]
      },
      {
       "output_type": "stream",
       "stream": "stdout",
       "text": [
        "\n",
        "270"
       ]
      },
      {
       "output_type": "stream",
       "stream": "stdout",
       "text": [
        "\n",
        "271"
       ]
      },
      {
       "output_type": "stream",
       "stream": "stdout",
       "text": [
        "\n",
        "272"
       ]
      },
      {
       "output_type": "stream",
       "stream": "stdout",
       "text": [
        "\n",
        "273"
       ]
      },
      {
       "output_type": "stream",
       "stream": "stdout",
       "text": [
        "\n",
        "274"
       ]
      },
      {
       "output_type": "stream",
       "stream": "stdout",
       "text": [
        "\n",
        "275"
       ]
      },
      {
       "output_type": "stream",
       "stream": "stdout",
       "text": [
        "\n",
        "276"
       ]
      },
      {
       "output_type": "stream",
       "stream": "stdout",
       "text": [
        "\n",
        "277"
       ]
      },
      {
       "output_type": "stream",
       "stream": "stdout",
       "text": [
        "\n",
        "278"
       ]
      },
      {
       "output_type": "stream",
       "stream": "stdout",
       "text": [
        "\n",
        "279"
       ]
      },
      {
       "output_type": "stream",
       "stream": "stdout",
       "text": [
        "\n",
        "280"
       ]
      },
      {
       "output_type": "stream",
       "stream": "stdout",
       "text": [
        "\n",
        "281"
       ]
      },
      {
       "output_type": "stream",
       "stream": "stdout",
       "text": [
        "\n",
        "282"
       ]
      },
      {
       "output_type": "stream",
       "stream": "stdout",
       "text": [
        "\n",
        "283"
       ]
      },
      {
       "output_type": "stream",
       "stream": "stdout",
       "text": [
        "\n",
        "284"
       ]
      },
      {
       "output_type": "stream",
       "stream": "stdout",
       "text": [
        "\n",
        "285"
       ]
      },
      {
       "output_type": "stream",
       "stream": "stdout",
       "text": [
        "\n",
        "286"
       ]
      },
      {
       "output_type": "stream",
       "stream": "stdout",
       "text": [
        "\n",
        "287"
       ]
      },
      {
       "output_type": "stream",
       "stream": "stdout",
       "text": [
        "\n",
        "288"
       ]
      },
      {
       "output_type": "stream",
       "stream": "stdout",
       "text": [
        "\n",
        "289"
       ]
      },
      {
       "output_type": "stream",
       "stream": "stdout",
       "text": [
        "\n",
        "290"
       ]
      },
      {
       "output_type": "stream",
       "stream": "stdout",
       "text": [
        "\n",
        "291"
       ]
      },
      {
       "output_type": "stream",
       "stream": "stdout",
       "text": [
        "\n",
        "292"
       ]
      },
      {
       "output_type": "stream",
       "stream": "stdout",
       "text": [
        "\n",
        "293"
       ]
      },
      {
       "output_type": "stream",
       "stream": "stdout",
       "text": [
        "\n",
        "294"
       ]
      },
      {
       "output_type": "stream",
       "stream": "stdout",
       "text": [
        "\n",
        "295"
       ]
      },
      {
       "output_type": "stream",
       "stream": "stdout",
       "text": [
        "\n",
        "296"
       ]
      },
      {
       "output_type": "stream",
       "stream": "stdout",
       "text": [
        "\n",
        "297"
       ]
      },
      {
       "output_type": "stream",
       "stream": "stdout",
       "text": [
        "\n",
        "298"
       ]
      },
      {
       "output_type": "stream",
       "stream": "stdout",
       "text": [
        "\n",
        "299"
       ]
      },
      {
       "output_type": "stream",
       "stream": "stdout",
       "text": [
        "\n",
        "300"
       ]
      },
      {
       "output_type": "stream",
       "stream": "stdout",
       "text": [
        "\n",
        "301"
       ]
      },
      {
       "output_type": "stream",
       "stream": "stdout",
       "text": [
        "\n",
        "302"
       ]
      },
      {
       "output_type": "stream",
       "stream": "stdout",
       "text": [
        "\n",
        "303"
       ]
      },
      {
       "output_type": "stream",
       "stream": "stdout",
       "text": [
        "\n",
        "304"
       ]
      },
      {
       "output_type": "stream",
       "stream": "stdout",
       "text": [
        "\n",
        "305"
       ]
      },
      {
       "output_type": "stream",
       "stream": "stdout",
       "text": [
        "\n",
        "306"
       ]
      },
      {
       "output_type": "stream",
       "stream": "stdout",
       "text": [
        "\n",
        "307"
       ]
      },
      {
       "output_type": "stream",
       "stream": "stdout",
       "text": [
        "\n",
        "308"
       ]
      },
      {
       "output_type": "stream",
       "stream": "stdout",
       "text": [
        "\n",
        "309"
       ]
      },
      {
       "output_type": "stream",
       "stream": "stdout",
       "text": [
        "\n",
        "310"
       ]
      },
      {
       "output_type": "stream",
       "stream": "stdout",
       "text": [
        "\n",
        "311"
       ]
      },
      {
       "output_type": "stream",
       "stream": "stdout",
       "text": [
        "\n",
        "312"
       ]
      },
      {
       "output_type": "stream",
       "stream": "stdout",
       "text": [
        "\n",
        "313"
       ]
      },
      {
       "output_type": "stream",
       "stream": "stdout",
       "text": [
        "\n",
        "314"
       ]
      },
      {
       "output_type": "stream",
       "stream": "stdout",
       "text": [
        "\n",
        "315"
       ]
      },
      {
       "output_type": "stream",
       "stream": "stdout",
       "text": [
        "\n",
        "316"
       ]
      },
      {
       "output_type": "stream",
       "stream": "stdout",
       "text": [
        "\n",
        "317"
       ]
      },
      {
       "output_type": "stream",
       "stream": "stdout",
       "text": [
        "\n",
        "318"
       ]
      },
      {
       "output_type": "stream",
       "stream": "stdout",
       "text": [
        "\n",
        "319"
       ]
      },
      {
       "output_type": "stream",
       "stream": "stdout",
       "text": [
        "\n",
        "320"
       ]
      },
      {
       "output_type": "stream",
       "stream": "stdout",
       "text": [
        "\n",
        "321"
       ]
      },
      {
       "output_type": "stream",
       "stream": "stdout",
       "text": [
        "\n",
        "322"
       ]
      },
      {
       "output_type": "stream",
       "stream": "stdout",
       "text": [
        "\n",
        "323"
       ]
      },
      {
       "output_type": "stream",
       "stream": "stdout",
       "text": [
        "\n",
        "324"
       ]
      },
      {
       "output_type": "stream",
       "stream": "stdout",
       "text": [
        "\n",
        "325"
       ]
      },
      {
       "output_type": "stream",
       "stream": "stdout",
       "text": [
        "\n",
        "326"
       ]
      },
      {
       "output_type": "stream",
       "stream": "stdout",
       "text": [
        "\n",
        "327"
       ]
      },
      {
       "output_type": "stream",
       "stream": "stdout",
       "text": [
        "\n",
        "328"
       ]
      },
      {
       "output_type": "stream",
       "stream": "stdout",
       "text": [
        "\n",
        "329"
       ]
      },
      {
       "output_type": "stream",
       "stream": "stdout",
       "text": [
        "\n",
        "330"
       ]
      },
      {
       "output_type": "stream",
       "stream": "stdout",
       "text": [
        "\n",
        "331"
       ]
      },
      {
       "output_type": "stream",
       "stream": "stdout",
       "text": [
        "\n",
        "332"
       ]
      },
      {
       "output_type": "stream",
       "stream": "stdout",
       "text": [
        "\n",
        "333"
       ]
      },
      {
       "output_type": "stream",
       "stream": "stdout",
       "text": [
        "\n",
        "334"
       ]
      },
      {
       "output_type": "stream",
       "stream": "stdout",
       "text": [
        "\n",
        "335"
       ]
      },
      {
       "output_type": "stream",
       "stream": "stdout",
       "text": [
        "\n",
        "336"
       ]
      },
      {
       "output_type": "stream",
       "stream": "stdout",
       "text": [
        "\n",
        "337"
       ]
      },
      {
       "output_type": "stream",
       "stream": "stdout",
       "text": [
        "\n",
        "338"
       ]
      },
      {
       "output_type": "stream",
       "stream": "stdout",
       "text": [
        "\n",
        "339"
       ]
      },
      {
       "output_type": "stream",
       "stream": "stdout",
       "text": [
        "\n",
        "340"
       ]
      },
      {
       "output_type": "stream",
       "stream": "stdout",
       "text": [
        "\n",
        "341"
       ]
      },
      {
       "output_type": "stream",
       "stream": "stdout",
       "text": [
        "\n",
        "342"
       ]
      },
      {
       "output_type": "stream",
       "stream": "stdout",
       "text": [
        "\n",
        "343"
       ]
      },
      {
       "output_type": "stream",
       "stream": "stdout",
       "text": [
        "\n",
        "344"
       ]
      },
      {
       "output_type": "stream",
       "stream": "stdout",
       "text": [
        "\n",
        "345"
       ]
      },
      {
       "output_type": "stream",
       "stream": "stdout",
       "text": [
        "\n",
        "346"
       ]
      },
      {
       "output_type": "stream",
       "stream": "stdout",
       "text": [
        "\n",
        "347"
       ]
      },
      {
       "output_type": "stream",
       "stream": "stdout",
       "text": [
        "\n",
        "348"
       ]
      },
      {
       "output_type": "stream",
       "stream": "stdout",
       "text": [
        "\n",
        "349"
       ]
      },
      {
       "output_type": "stream",
       "stream": "stdout",
       "text": [
        "\n",
        "350"
       ]
      },
      {
       "output_type": "stream",
       "stream": "stdout",
       "text": [
        "\n",
        "351"
       ]
      },
      {
       "output_type": "stream",
       "stream": "stdout",
       "text": [
        "\n",
        "352"
       ]
      },
      {
       "output_type": "stream",
       "stream": "stdout",
       "text": [
        "\n",
        "353"
       ]
      },
      {
       "output_type": "stream",
       "stream": "stdout",
       "text": [
        "\n",
        "354"
       ]
      },
      {
       "output_type": "stream",
       "stream": "stdout",
       "text": [
        "\n",
        "355"
       ]
      },
      {
       "output_type": "stream",
       "stream": "stdout",
       "text": [
        "\n",
        "356"
       ]
      },
      {
       "output_type": "stream",
       "stream": "stdout",
       "text": [
        "\n",
        "357"
       ]
      },
      {
       "output_type": "stream",
       "stream": "stdout",
       "text": [
        "\n",
        "358"
       ]
      },
      {
       "output_type": "stream",
       "stream": "stdout",
       "text": [
        "\n",
        "359"
       ]
      },
      {
       "output_type": "stream",
       "stream": "stdout",
       "text": [
        "\n",
        "360"
       ]
      },
      {
       "output_type": "stream",
       "stream": "stdout",
       "text": [
        "\n",
        "361"
       ]
      },
      {
       "output_type": "stream",
       "stream": "stdout",
       "text": [
        "\n",
        "362"
       ]
      },
      {
       "output_type": "stream",
       "stream": "stdout",
       "text": [
        "\n",
        "363"
       ]
      },
      {
       "output_type": "stream",
       "stream": "stdout",
       "text": [
        "\n",
        "364"
       ]
      },
      {
       "output_type": "stream",
       "stream": "stdout",
       "text": [
        "\n",
        "365"
       ]
      },
      {
       "output_type": "stream",
       "stream": "stdout",
       "text": [
        "\n",
        "366"
       ]
      },
      {
       "output_type": "stream",
       "stream": "stdout",
       "text": [
        "\n",
        "367"
       ]
      },
      {
       "output_type": "stream",
       "stream": "stdout",
       "text": [
        "\n",
        "368"
       ]
      },
      {
       "output_type": "stream",
       "stream": "stdout",
       "text": [
        "\n",
        "369"
       ]
      },
      {
       "output_type": "stream",
       "stream": "stdout",
       "text": [
        "\n",
        "370"
       ]
      },
      {
       "output_type": "stream",
       "stream": "stdout",
       "text": [
        "\n",
        "371"
       ]
      },
      {
       "output_type": "stream",
       "stream": "stdout",
       "text": [
        "\n",
        "372"
       ]
      },
      {
       "output_type": "stream",
       "stream": "stdout",
       "text": [
        "\n",
        "373"
       ]
      },
      {
       "output_type": "stream",
       "stream": "stdout",
       "text": [
        "\n",
        "374"
       ]
      },
      {
       "output_type": "stream",
       "stream": "stdout",
       "text": [
        "\n",
        "375"
       ]
      },
      {
       "output_type": "stream",
       "stream": "stdout",
       "text": [
        "\n",
        "376"
       ]
      },
      {
       "output_type": "stream",
       "stream": "stdout",
       "text": [
        "\n",
        "377"
       ]
      },
      {
       "output_type": "stream",
       "stream": "stdout",
       "text": [
        "\n",
        "378"
       ]
      },
      {
       "output_type": "stream",
       "stream": "stdout",
       "text": [
        "\n",
        "379"
       ]
      },
      {
       "output_type": "stream",
       "stream": "stdout",
       "text": [
        "\n",
        "380"
       ]
      },
      {
       "output_type": "stream",
       "stream": "stdout",
       "text": [
        "\n",
        "381"
       ]
      },
      {
       "output_type": "stream",
       "stream": "stdout",
       "text": [
        "\n",
        "382"
       ]
      },
      {
       "output_type": "stream",
       "stream": "stdout",
       "text": [
        "\n",
        "383"
       ]
      },
      {
       "output_type": "stream",
       "stream": "stdout",
       "text": [
        "\n",
        "384"
       ]
      },
      {
       "output_type": "stream",
       "stream": "stdout",
       "text": [
        "\n",
        "385"
       ]
      },
      {
       "output_type": "stream",
       "stream": "stdout",
       "text": [
        "\n",
        "386"
       ]
      },
      {
       "output_type": "stream",
       "stream": "stdout",
       "text": [
        "\n",
        "387"
       ]
      },
      {
       "output_type": "stream",
       "stream": "stdout",
       "text": [
        "\n",
        "388"
       ]
      },
      {
       "output_type": "stream",
       "stream": "stdout",
       "text": [
        "\n",
        "389"
       ]
      },
      {
       "output_type": "stream",
       "stream": "stdout",
       "text": [
        "\n",
        "390"
       ]
      },
      {
       "output_type": "stream",
       "stream": "stdout",
       "text": [
        "\n",
        "391"
       ]
      },
      {
       "output_type": "stream",
       "stream": "stdout",
       "text": [
        "\n",
        "392"
       ]
      },
      {
       "output_type": "stream",
       "stream": "stdout",
       "text": [
        "\n",
        "393"
       ]
      },
      {
       "output_type": "stream",
       "stream": "stdout",
       "text": [
        "\n",
        "394"
       ]
      },
      {
       "output_type": "stream",
       "stream": "stdout",
       "text": [
        "\n",
        "395"
       ]
      },
      {
       "output_type": "stream",
       "stream": "stdout",
       "text": [
        "\n",
        "396"
       ]
      },
      {
       "output_type": "stream",
       "stream": "stdout",
       "text": [
        "\n",
        "397"
       ]
      },
      {
       "output_type": "stream",
       "stream": "stdout",
       "text": [
        "\n",
        "398"
       ]
      },
      {
       "output_type": "stream",
       "stream": "stdout",
       "text": [
        "\n",
        "399"
       ]
      },
      {
       "output_type": "stream",
       "stream": "stdout",
       "text": [
        "\n",
        "400"
       ]
      },
      {
       "output_type": "stream",
       "stream": "stdout",
       "text": [
        "\n",
        "401"
       ]
      },
      {
       "output_type": "stream",
       "stream": "stdout",
       "text": [
        "\n",
        "402"
       ]
      },
      {
       "output_type": "stream",
       "stream": "stdout",
       "text": [
        "\n",
        "403"
       ]
      },
      {
       "output_type": "stream",
       "stream": "stdout",
       "text": [
        "\n",
        "404"
       ]
      },
      {
       "output_type": "stream",
       "stream": "stdout",
       "text": [
        "\n",
        "405"
       ]
      },
      {
       "output_type": "stream",
       "stream": "stdout",
       "text": [
        "\n",
        "406"
       ]
      },
      {
       "output_type": "stream",
       "stream": "stdout",
       "text": [
        "\n",
        "407"
       ]
      },
      {
       "output_type": "stream",
       "stream": "stdout",
       "text": [
        "\n",
        "408"
       ]
      },
      {
       "output_type": "stream",
       "stream": "stdout",
       "text": [
        "\n",
        "409"
       ]
      },
      {
       "output_type": "stream",
       "stream": "stdout",
       "text": [
        "\n",
        "410"
       ]
      },
      {
       "output_type": "stream",
       "stream": "stdout",
       "text": [
        "\n",
        "411"
       ]
      },
      {
       "output_type": "stream",
       "stream": "stdout",
       "text": [
        "\n",
        "412"
       ]
      },
      {
       "output_type": "stream",
       "stream": "stdout",
       "text": [
        "\n",
        "413"
       ]
      },
      {
       "output_type": "stream",
       "stream": "stdout",
       "text": [
        "\n",
        "414"
       ]
      },
      {
       "output_type": "stream",
       "stream": "stdout",
       "text": [
        "\n",
        "415"
       ]
      },
      {
       "output_type": "stream",
       "stream": "stdout",
       "text": [
        "\n",
        "416"
       ]
      },
      {
       "output_type": "stream",
       "stream": "stdout",
       "text": [
        "\n",
        "417"
       ]
      },
      {
       "output_type": "stream",
       "stream": "stdout",
       "text": [
        "\n",
        "418"
       ]
      },
      {
       "output_type": "stream",
       "stream": "stdout",
       "text": [
        "\n",
        "419"
       ]
      },
      {
       "output_type": "stream",
       "stream": "stdout",
       "text": [
        "\n",
        "420"
       ]
      },
      {
       "output_type": "stream",
       "stream": "stdout",
       "text": [
        "\n",
        "421"
       ]
      },
      {
       "output_type": "stream",
       "stream": "stdout",
       "text": [
        "\n",
        "422"
       ]
      },
      {
       "output_type": "stream",
       "stream": "stdout",
       "text": [
        "\n",
        "423"
       ]
      },
      {
       "output_type": "stream",
       "stream": "stdout",
       "text": [
        "\n",
        "424"
       ]
      },
      {
       "output_type": "stream",
       "stream": "stdout",
       "text": [
        "\n",
        "425"
       ]
      },
      {
       "output_type": "stream",
       "stream": "stdout",
       "text": [
        "\n",
        "426"
       ]
      },
      {
       "output_type": "stream",
       "stream": "stdout",
       "text": [
        "\n",
        "427"
       ]
      },
      {
       "output_type": "stream",
       "stream": "stdout",
       "text": [
        "\n",
        "428"
       ]
      },
      {
       "output_type": "stream",
       "stream": "stdout",
       "text": [
        "\n",
        "429"
       ]
      },
      {
       "output_type": "stream",
       "stream": "stdout",
       "text": [
        "\n",
        "430"
       ]
      },
      {
       "output_type": "stream",
       "stream": "stdout",
       "text": [
        "\n",
        "431"
       ]
      },
      {
       "output_type": "stream",
       "stream": "stdout",
       "text": [
        "\n",
        "432"
       ]
      },
      {
       "output_type": "stream",
       "stream": "stdout",
       "text": [
        "\n",
        "433"
       ]
      },
      {
       "output_type": "stream",
       "stream": "stdout",
       "text": [
        "\n",
        "434"
       ]
      },
      {
       "output_type": "stream",
       "stream": "stdout",
       "text": [
        "\n",
        "435"
       ]
      },
      {
       "output_type": "stream",
       "stream": "stdout",
       "text": [
        "\n",
        "436"
       ]
      },
      {
       "output_type": "stream",
       "stream": "stdout",
       "text": [
        "\n",
        "437"
       ]
      },
      {
       "output_type": "stream",
       "stream": "stdout",
       "text": [
        "\n",
        "438"
       ]
      },
      {
       "output_type": "stream",
       "stream": "stdout",
       "text": [
        "\n",
        "439"
       ]
      },
      {
       "output_type": "stream",
       "stream": "stdout",
       "text": [
        "\n",
        "440"
       ]
      },
      {
       "output_type": "stream",
       "stream": "stdout",
       "text": [
        "\n",
        "441"
       ]
      },
      {
       "output_type": "stream",
       "stream": "stdout",
       "text": [
        "\n",
        "442"
       ]
      },
      {
       "output_type": "stream",
       "stream": "stdout",
       "text": [
        "\n",
        "443"
       ]
      },
      {
       "output_type": "stream",
       "stream": "stdout",
       "text": [
        "\n",
        "444"
       ]
      },
      {
       "output_type": "stream",
       "stream": "stdout",
       "text": [
        "\n",
        "445"
       ]
      },
      {
       "output_type": "stream",
       "stream": "stdout",
       "text": [
        "\n",
        "446"
       ]
      },
      {
       "output_type": "stream",
       "stream": "stdout",
       "text": [
        "\n",
        "447"
       ]
      },
      {
       "output_type": "stream",
       "stream": "stdout",
       "text": [
        "\n",
        "448"
       ]
      },
      {
       "output_type": "stream",
       "stream": "stdout",
       "text": [
        "\n",
        "449"
       ]
      },
      {
       "output_type": "stream",
       "stream": "stdout",
       "text": [
        "\n",
        "450"
       ]
      },
      {
       "output_type": "stream",
       "stream": "stdout",
       "text": [
        "\n",
        "451"
       ]
      },
      {
       "output_type": "stream",
       "stream": "stdout",
       "text": [
        "\n",
        "452"
       ]
      },
      {
       "output_type": "stream",
       "stream": "stdout",
       "text": [
        "\n",
        "453"
       ]
      },
      {
       "output_type": "stream",
       "stream": "stdout",
       "text": [
        "\n",
        "454"
       ]
      },
      {
       "output_type": "stream",
       "stream": "stdout",
       "text": [
        "\n",
        "455"
       ]
      },
      {
       "output_type": "stream",
       "stream": "stdout",
       "text": [
        "\n",
        "456"
       ]
      },
      {
       "output_type": "stream",
       "stream": "stdout",
       "text": [
        "\n",
        "457"
       ]
      },
      {
       "output_type": "stream",
       "stream": "stdout",
       "text": [
        "\n",
        "458"
       ]
      },
      {
       "output_type": "stream",
       "stream": "stdout",
       "text": [
        "\n",
        "459"
       ]
      },
      {
       "output_type": "stream",
       "stream": "stdout",
       "text": [
        "\n",
        "460"
       ]
      },
      {
       "output_type": "stream",
       "stream": "stdout",
       "text": [
        "\n",
        "461"
       ]
      },
      {
       "output_type": "stream",
       "stream": "stdout",
       "text": [
        "\n",
        "462"
       ]
      },
      {
       "output_type": "stream",
       "stream": "stdout",
       "text": [
        "\n",
        "463"
       ]
      },
      {
       "output_type": "stream",
       "stream": "stdout",
       "text": [
        "\n",
        "464"
       ]
      },
      {
       "output_type": "stream",
       "stream": "stdout",
       "text": [
        "\n",
        "465"
       ]
      },
      {
       "output_type": "stream",
       "stream": "stdout",
       "text": [
        "\n",
        "466"
       ]
      },
      {
       "output_type": "stream",
       "stream": "stdout",
       "text": [
        "\n",
        "467"
       ]
      },
      {
       "output_type": "stream",
       "stream": "stdout",
       "text": [
        "\n",
        "468"
       ]
      },
      {
       "output_type": "stream",
       "stream": "stdout",
       "text": [
        "\n",
        "469"
       ]
      },
      {
       "output_type": "stream",
       "stream": "stdout",
       "text": [
        "\n",
        "470"
       ]
      },
      {
       "output_type": "stream",
       "stream": "stdout",
       "text": [
        "\n",
        "471"
       ]
      },
      {
       "output_type": "stream",
       "stream": "stdout",
       "text": [
        "\n",
        "472"
       ]
      },
      {
       "output_type": "stream",
       "stream": "stdout",
       "text": [
        "\n",
        "473"
       ]
      },
      {
       "output_type": "stream",
       "stream": "stdout",
       "text": [
        "\n",
        "474"
       ]
      },
      {
       "output_type": "stream",
       "stream": "stdout",
       "text": [
        "\n",
        "475"
       ]
      },
      {
       "output_type": "stream",
       "stream": "stdout",
       "text": [
        "\n",
        "476"
       ]
      },
      {
       "output_type": "stream",
       "stream": "stdout",
       "text": [
        "\n",
        "477"
       ]
      },
      {
       "output_type": "stream",
       "stream": "stdout",
       "text": [
        "\n",
        "478"
       ]
      },
      {
       "output_type": "stream",
       "stream": "stdout",
       "text": [
        "\n",
        "479"
       ]
      },
      {
       "output_type": "stream",
       "stream": "stdout",
       "text": [
        "\n",
        "480"
       ]
      },
      {
       "output_type": "stream",
       "stream": "stdout",
       "text": [
        "\n",
        "481"
       ]
      },
      {
       "output_type": "stream",
       "stream": "stdout",
       "text": [
        "\n",
        "482"
       ]
      },
      {
       "output_type": "stream",
       "stream": "stdout",
       "text": [
        "\n",
        "483"
       ]
      },
      {
       "output_type": "stream",
       "stream": "stdout",
       "text": [
        "\n",
        "484"
       ]
      },
      {
       "output_type": "stream",
       "stream": "stdout",
       "text": [
        "\n",
        "485"
       ]
      },
      {
       "output_type": "stream",
       "stream": "stdout",
       "text": [
        "\n",
        "486"
       ]
      },
      {
       "output_type": "stream",
       "stream": "stdout",
       "text": [
        "\n",
        "487"
       ]
      },
      {
       "output_type": "stream",
       "stream": "stdout",
       "text": [
        "\n",
        "488"
       ]
      },
      {
       "output_type": "stream",
       "stream": "stdout",
       "text": [
        "\n",
        "489"
       ]
      },
      {
       "output_type": "stream",
       "stream": "stdout",
       "text": [
        "\n",
        "490"
       ]
      },
      {
       "output_type": "stream",
       "stream": "stdout",
       "text": [
        "\n",
        "491"
       ]
      },
      {
       "output_type": "stream",
       "stream": "stdout",
       "text": [
        "\n",
        "492"
       ]
      },
      {
       "output_type": "stream",
       "stream": "stdout",
       "text": [
        "\n",
        "493"
       ]
      },
      {
       "output_type": "stream",
       "stream": "stdout",
       "text": [
        "\n",
        "494"
       ]
      },
      {
       "output_type": "stream",
       "stream": "stdout",
       "text": [
        "\n",
        "495"
       ]
      },
      {
       "output_type": "stream",
       "stream": "stdout",
       "text": [
        "\n",
        "496"
       ]
      },
      {
       "output_type": "stream",
       "stream": "stdout",
       "text": [
        "\n",
        "497"
       ]
      },
      {
       "output_type": "stream",
       "stream": "stdout",
       "text": [
        "\n",
        "498"
       ]
      },
      {
       "output_type": "stream",
       "stream": "stdout",
       "text": [
        "\n",
        "499"
       ]
      },
      {
       "output_type": "stream",
       "stream": "stdout",
       "text": [
        "\n"
       ]
      },
      {
       "output_type": "stream",
       "stream": "stderr",
       "text": [
        "-c:6: FutureWarning: comparison to `None` will result in an elementwise object comparison in the future.\n"
       ]
      }
     ],
     "prompt_number": 13
    },
    {
     "cell_type": "code",
     "collapsed": false,
     "input": [
      "activationTestArray = None\n",
      "\n",
      "for i in range(100):\n",
      "    print i\n",
      "    solver.net.blobs['data'].data[...] =np.array(testingData[i * 100: (i + 1) * 100].reshape(100,3,32,32))\n",
      "    solver.net.forward(start = \"conv1\")\n",
      "    if activationTestArray == None:\n",
      "        activationTestArray = np.array(solver.net.blobs['pool3'].data)\n",
      "        tmp = np.array(solver.net.blobs['pool3'].data)\n",
      "    else:\n",
      "        activationTestArray = np.concatenate((activationTestArray, np.array(solver.net.blobs['pool3'].data)))"
     ],
     "language": "python",
     "metadata": {},
     "outputs": [
      {
       "output_type": "stream",
       "stream": "stdout",
       "text": [
        "0\n",
        "1"
       ]
      },
      {
       "output_type": "stream",
       "stream": "stdout",
       "text": [
        "\n",
        "2"
       ]
      },
      {
       "output_type": "stream",
       "stream": "stdout",
       "text": [
        "\n",
        "3"
       ]
      },
      {
       "output_type": "stream",
       "stream": "stdout",
       "text": [
        "\n",
        "4\n",
        "5"
       ]
      },
      {
       "output_type": "stream",
       "stream": "stdout",
       "text": [
        "\n",
        "6\n",
        "7"
       ]
      },
      {
       "output_type": "stream",
       "stream": "stdout",
       "text": [
        "\n",
        "8\n",
        "9"
       ]
      },
      {
       "output_type": "stream",
       "stream": "stdout",
       "text": [
        "\n",
        "10\n",
        "11"
       ]
      },
      {
       "output_type": "stream",
       "stream": "stdout",
       "text": [
        "\n",
        "12\n",
        "13"
       ]
      },
      {
       "output_type": "stream",
       "stream": "stdout",
       "text": [
        "\n",
        "14\n",
        "15"
       ]
      },
      {
       "output_type": "stream",
       "stream": "stdout",
       "text": [
        "\n",
        "16"
       ]
      },
      {
       "output_type": "stream",
       "stream": "stdout",
       "text": [
        "\n",
        "17"
       ]
      },
      {
       "output_type": "stream",
       "stream": "stdout",
       "text": [
        "\n",
        "18\n",
        "19"
       ]
      },
      {
       "output_type": "stream",
       "stream": "stdout",
       "text": [
        "\n",
        "20\n",
        "21"
       ]
      },
      {
       "output_type": "stream",
       "stream": "stdout",
       "text": [
        "\n",
        "22\n",
        "23"
       ]
      },
      {
       "output_type": "stream",
       "stream": "stdout",
       "text": [
        "\n",
        "24\n",
        "25"
       ]
      },
      {
       "output_type": "stream",
       "stream": "stdout",
       "text": [
        "\n",
        "26\n",
        "27"
       ]
      },
      {
       "output_type": "stream",
       "stream": "stdout",
       "text": [
        "\n",
        "28\n",
        "29"
       ]
      },
      {
       "output_type": "stream",
       "stream": "stdout",
       "text": [
        "\n",
        "30\n",
        "31"
       ]
      },
      {
       "output_type": "stream",
       "stream": "stdout",
       "text": [
        "\n",
        "32\n",
        "33"
       ]
      },
      {
       "output_type": "stream",
       "stream": "stdout",
       "text": [
        "\n",
        "34\n",
        "35"
       ]
      },
      {
       "output_type": "stream",
       "stream": "stdout",
       "text": [
        "\n",
        "36\n",
        "37"
       ]
      },
      {
       "output_type": "stream",
       "stream": "stdout",
       "text": [
        "\n",
        "38\n",
        "39"
       ]
      },
      {
       "output_type": "stream",
       "stream": "stdout",
       "text": [
        "\n",
        "40\n",
        "41"
       ]
      },
      {
       "output_type": "stream",
       "stream": "stdout",
       "text": [
        "\n",
        "42\n",
        "43"
       ]
      },
      {
       "output_type": "stream",
       "stream": "stdout",
       "text": [
        "\n",
        "44\n",
        "45"
       ]
      },
      {
       "output_type": "stream",
       "stream": "stdout",
       "text": [
        "\n",
        "46\n",
        "47"
       ]
      },
      {
       "output_type": "stream",
       "stream": "stdout",
       "text": [
        "\n",
        "48\n",
        "49"
       ]
      },
      {
       "output_type": "stream",
       "stream": "stdout",
       "text": [
        "\n",
        "50\n",
        "51"
       ]
      },
      {
       "output_type": "stream",
       "stream": "stdout",
       "text": [
        "\n",
        "52\n",
        "53"
       ]
      },
      {
       "output_type": "stream",
       "stream": "stdout",
       "text": [
        "\n",
        "54"
       ]
      },
      {
       "output_type": "stream",
       "stream": "stdout",
       "text": [
        "\n",
        "55"
       ]
      },
      {
       "output_type": "stream",
       "stream": "stdout",
       "text": [
        "\n",
        "56\n",
        "57"
       ]
      },
      {
       "output_type": "stream",
       "stream": "stdout",
       "text": [
        "\n",
        "58"
       ]
      },
      {
       "output_type": "stream",
       "stream": "stdout",
       "text": [
        "\n",
        "59"
       ]
      },
      {
       "output_type": "stream",
       "stream": "stdout",
       "text": [
        "\n",
        "60"
       ]
      },
      {
       "output_type": "stream",
       "stream": "stdout",
       "text": [
        "\n",
        "61"
       ]
      },
      {
       "output_type": "stream",
       "stream": "stdout",
       "text": [
        "\n",
        "62"
       ]
      },
      {
       "output_type": "stream",
       "stream": "stdout",
       "text": [
        "\n",
        "63"
       ]
      },
      {
       "output_type": "stream",
       "stream": "stdout",
       "text": [
        "\n",
        "64"
       ]
      },
      {
       "output_type": "stream",
       "stream": "stdout",
       "text": [
        "\n",
        "65"
       ]
      },
      {
       "output_type": "stream",
       "stream": "stdout",
       "text": [
        "\n",
        "66"
       ]
      },
      {
       "output_type": "stream",
       "stream": "stdout",
       "text": [
        "\n",
        "67"
       ]
      },
      {
       "output_type": "stream",
       "stream": "stdout",
       "text": [
        "\n",
        "68"
       ]
      },
      {
       "output_type": "stream",
       "stream": "stdout",
       "text": [
        "\n",
        "69"
       ]
      },
      {
       "output_type": "stream",
       "stream": "stdout",
       "text": [
        "\n",
        "70"
       ]
      },
      {
       "output_type": "stream",
       "stream": "stdout",
       "text": [
        "\n",
        "71"
       ]
      },
      {
       "output_type": "stream",
       "stream": "stdout",
       "text": [
        "\n",
        "72"
       ]
      },
      {
       "output_type": "stream",
       "stream": "stdout",
       "text": [
        "\n",
        "73"
       ]
      },
      {
       "output_type": "stream",
       "stream": "stdout",
       "text": [
        "\n",
        "74"
       ]
      },
      {
       "output_type": "stream",
       "stream": "stdout",
       "text": [
        "\n",
        "75"
       ]
      },
      {
       "output_type": "stream",
       "stream": "stdout",
       "text": [
        "\n",
        "76"
       ]
      },
      {
       "output_type": "stream",
       "stream": "stdout",
       "text": [
        "\n",
        "77"
       ]
      },
      {
       "output_type": "stream",
       "stream": "stdout",
       "text": [
        "\n",
        "78"
       ]
      },
      {
       "output_type": "stream",
       "stream": "stdout",
       "text": [
        "\n",
        "79"
       ]
      },
      {
       "output_type": "stream",
       "stream": "stdout",
       "text": [
        "\n",
        "80"
       ]
      },
      {
       "output_type": "stream",
       "stream": "stdout",
       "text": [
        "\n",
        "81"
       ]
      },
      {
       "output_type": "stream",
       "stream": "stdout",
       "text": [
        "\n",
        "82"
       ]
      },
      {
       "output_type": "stream",
       "stream": "stdout",
       "text": [
        "\n",
        "83"
       ]
      },
      {
       "output_type": "stream",
       "stream": "stdout",
       "text": [
        "\n",
        "84"
       ]
      },
      {
       "output_type": "stream",
       "stream": "stdout",
       "text": [
        "\n",
        "85"
       ]
      },
      {
       "output_type": "stream",
       "stream": "stdout",
       "text": [
        "\n",
        "86"
       ]
      },
      {
       "output_type": "stream",
       "stream": "stdout",
       "text": [
        "\n",
        "87"
       ]
      },
      {
       "output_type": "stream",
       "stream": "stdout",
       "text": [
        "\n",
        "88"
       ]
      },
      {
       "output_type": "stream",
       "stream": "stdout",
       "text": [
        "\n",
        "89"
       ]
      },
      {
       "output_type": "stream",
       "stream": "stdout",
       "text": [
        "\n",
        "90"
       ]
      },
      {
       "output_type": "stream",
       "stream": "stdout",
       "text": [
        "\n",
        "91"
       ]
      },
      {
       "output_type": "stream",
       "stream": "stdout",
       "text": [
        "\n",
        "92"
       ]
      },
      {
       "output_type": "stream",
       "stream": "stdout",
       "text": [
        "\n",
        "93"
       ]
      },
      {
       "output_type": "stream",
       "stream": "stdout",
       "text": [
        "\n",
        "94"
       ]
      },
      {
       "output_type": "stream",
       "stream": "stdout",
       "text": [
        "\n",
        "95"
       ]
      },
      {
       "output_type": "stream",
       "stream": "stdout",
       "text": [
        "\n",
        "96"
       ]
      },
      {
       "output_type": "stream",
       "stream": "stdout",
       "text": [
        "\n",
        "97"
       ]
      },
      {
       "output_type": "stream",
       "stream": "stdout",
       "text": [
        "\n",
        "98"
       ]
      },
      {
       "output_type": "stream",
       "stream": "stdout",
       "text": [
        "\n",
        "99"
       ]
      },
      {
       "output_type": "stream",
       "stream": "stdout",
       "text": [
        "\n"
       ]
      },
      {
       "output_type": "stream",
       "stream": "stderr",
       "text": [
        "-c:7: FutureWarning: comparison to `None` will result in an elementwise object comparison in the future.\n"
       ]
      }
     ],
     "prompt_number": 14
    },
    {
     "cell_type": "code",
     "collapsed": false,
     "input": [
      "#generate 500 labels for the training and the testing\n",
      "alteredTrainingLabels = np.zeros((10, 50000))\n",
      "alteredTestingLabels = np.zeros((10, 10000))\n",
      "\n",
      "for i in range(10):\n",
      "    alteredTrainingLabels[i] = (trainingDataLabel == i)\n",
      "    alteredTestingLabels[i] = (testingDataLabel == i)\n"
     ],
     "language": "python",
     "metadata": {},
     "outputs": [],
     "prompt_number": 15
    },
    {
     "cell_type": "code",
     "collapsed": false,
     "input": [],
     "language": "python",
     "metadata": {},
     "outputs": [
      {
       "metadata": {},
       "output_type": "pyout",
       "prompt_number": 16,
       "text": [
        "0.10000000000000001"
       ]
      }
     ],
     "prompt_number": 16
    },
    {
     "cell_type": "code",
     "collapsed": false,
     "input": [
      "##generate SVM\n",
      "from sklearn import svm\n",
      "allSVM = []\n",
      "predictionResult = []\n",
      "for i in range(10):\n",
      "    print i\n",
      "    clf = svm.LinearSVC()\n",
      "    clf.fit(activationArray[:50000].reshape(50000,-1),alteredTrainingLabels[i][:50000])\n",
      "    allSVM.append(clf)\n",
      "    predictionResult.append(np.mean(clf.predict(activationTestArray.reshape(10000,-1)) == alteredTestingLabels[i]))"
     ],
     "language": "python",
     "metadata": {},
     "outputs": [
      {
       "output_type": "stream",
       "stream": "stdout",
       "text": [
        "0\n",
        "1"
       ]
      },
      {
       "output_type": "stream",
       "stream": "stdout",
       "text": [
        "\n",
        "2"
       ]
      },
      {
       "output_type": "stream",
       "stream": "stdout",
       "text": [
        "\n",
        "3"
       ]
      },
      {
       "output_type": "stream",
       "stream": "stdout",
       "text": [
        "\n",
        "4"
       ]
      },
      {
       "output_type": "stream",
       "stream": "stdout",
       "text": [
        "\n",
        "5"
       ]
      },
      {
       "output_type": "stream",
       "stream": "stdout",
       "text": [
        "\n",
        "6"
       ]
      },
      {
       "output_type": "stream",
       "stream": "stdout",
       "text": [
        "\n",
        "7"
       ]
      },
      {
       "output_type": "stream",
       "stream": "stdout",
       "text": [
        "\n",
        "8"
       ]
      },
      {
       "output_type": "stream",
       "stream": "stdout",
       "text": [
        "\n",
        "9"
       ]
      },
      {
       "output_type": "stream",
       "stream": "stdout",
       "text": [
        "\n"
       ]
      }
     ],
     "prompt_number": 17
    },
    {
     "cell_type": "code",
     "collapsed": false,
     "input": [
      "predictionResult"
     ],
     "language": "python",
     "metadata": {},
     "outputs": [
      {
       "metadata": {},
       "output_type": "pyout",
       "prompt_number": 18,
       "text": [
        "[0.94910000000000005,\n",
        " 0.96599999999999997,\n",
        " 0.92889999999999995,\n",
        " 0.91579999999999995,\n",
        " 0.93240000000000001,\n",
        " 0.92830000000000001,\n",
        " 0.95879999999999999,\n",
        " 0.95509999999999995,\n",
        " 0.96640000000000004,\n",
        " 0.96460000000000001]"
       ]
      }
     ],
     "prompt_number": 18
    },
    {
     "cell_type": "code",
     "collapsed": false,
     "input": [
      "allSVM[0].coef_.shape"
     ],
     "language": "python",
     "metadata": {},
     "outputs": [
      {
       "metadata": {},
       "output_type": "pyout",
       "prompt_number": 22,
       "text": [
        "(1, 1024)"
       ]
      }
     ],
     "prompt_number": 22
    },
    {
     "cell_type": "code",
     "collapsed": false,
     "input": [
      "allCoef = []\n",
      "for i in range(10):\n",
      "    allCoef.append(allSVM[i].coef_)\n",
      "allCoef = np.array(allCoef).reshape((10,-1))"
     ],
     "language": "python",
     "metadata": {},
     "outputs": [],
     "prompt_number": 23
    },
    {
     "cell_type": "code",
     "collapsed": false,
     "input": [
      "allBias = []\n",
      "for i in range(10):\n",
      "    allBias.append(allSVM[i].intercept_)\n",
      "allBias = np.array(allBias).reshape((10,-1))"
     ],
     "language": "python",
     "metadata": {},
     "outputs": [],
     "prompt_number": 24
    },
    {
     "cell_type": "code",
     "collapsed": false,
     "input": [
      "activationArray.shape"
     ],
     "language": "python",
     "metadata": {},
     "outputs": [
      {
       "metadata": {},
       "output_type": "pyout",
       "prompt_number": 25,
       "text": [
        "(50000, 64, 4, 4)"
       ]
      }
     ],
     "prompt_number": 25
    },
    {
     "cell_type": "code",
     "collapsed": false,
     "input": [
      "import pickle"
     ],
     "language": "python",
     "metadata": {},
     "outputs": [],
     "prompt_number": 26
    },
    {
     "cell_type": "code",
     "collapsed": false,
     "input": [],
     "language": "python",
     "metadata": {},
     "outputs": [],
     "prompt_number": 43
    },
    {
     "cell_type": "code",
     "collapsed": false,
     "input": [
      "#This is for loading svms.\n",
      "#allSVM = pickle.load(open( \"svmObject.pkl\", \"rb\" ) )"
     ],
     "language": "python",
     "metadata": {},
     "outputs": [],
     "prompt_number": 2
    },
    {
     "cell_type": "code",
     "collapsed": false,
     "input": [
      "output = open('./ipython_workplace/cifar10_svmObject_10svm.pkl', 'wb')\n",
      "pickle.dump(allSVM,output,-1)\n",
      "np.save(\"./ipython_workplace/cifar10_alteredTrainingLabel_10svm.npy\", alteredTrainingLabels)\n",
      "np.save(\"./ipython_workplace/cifar10_alteredTestingLabel_10svm.npy\", alteredTestingLabels)\n",
      "#np.save(\"./ipython_workplace/cifar10_sampledPartition.npy\", sampledPartition)\n",
      "np.save(\"./ipython_workplace/cifar10_trainingData_Feature_10svm.npy\",activationArray)\n",
      "np.save(\"./ipython_workplace/cifar10_testingData_Feature_10svm.npy\", activationTestArray)\n",
      "np.save(\"./ipython_workplace/cifar10_allCoef_10svm.npy\",allCoef)\n",
      "np.save(\"./ipython_workplace/cifar10_allBias_10svm.npy\",allBias)"
     ],
     "language": "python",
     "metadata": {},
     "outputs": [],
     "prompt_number": 27
    },
    {
     "cell_type": "code",
     "collapsed": false,
     "input": [
      "#see the range output value of svm \n",
      "f, ax = plt.subplots(5,5,figsize=(10,10))\n",
      "for j in range(5):\n",
      "    for i in range(5):\n",
      "        ax[i,j]"
     ],
     "language": "python",
     "metadata": {},
     "outputs": [
      {
       "metadata": {},
       "output_type": "display_data",
       "png": "[encoded data removed]",
       "text": [
        "<matplotlib.figure.Figure at 0x12829cb10>"
       ]
      }
     ],
     "prompt_number": 28
    },
    {
     "cell_type": "code",
     "collapsed": false,
     "input": [
      "#sanity check: The following two results should be the same\n",
      "result = np.dot(activationTestArray.reshape(10000,1024), np.swapaxes(np.array(allCoef),0,1)) + allBias.reshape((10,))"
     ],
     "language": "python",
     "metadata": {},
     "outputs": [],
     "prompt_number": 30
    },
    {
     "cell_type": "code",
     "collapsed": false,
     "input": [
      "np.mean(allSVM[0].predict(activationTestArray.reshape(10000,-1)) == alteredTestingLabels[0])"
     ],
     "language": "python",
     "metadata": {},
     "outputs": [
      {
       "metadata": {},
       "output_type": "pyout",
       "prompt_number": 31,
       "text": [
        "0.94910000000000005"
       ]
      }
     ],
     "prompt_number": 31
    },
    {
     "cell_type": "code",
     "collapsed": false,
     "input": [
      "result[result>0] = 1\n",
      "result[result<=0] =0\n",
      "np.mean(result[:,0] == alteredTestingLabels[0])"
     ],
     "language": "python",
     "metadata": {},
     "outputs": [
      {
       "metadata": {},
       "output_type": "pyout",
       "prompt_number": 32,
       "text": [
        "0.94910000000000005"
       ]
      }
     ],
     "prompt_number": 32
    },
    {
     "cell_type": "code",
     "collapsed": false,
     "input": [
      "#another sanity check with the helper\n",
      "result = np.dot(activationArray[:10].reshape(10,1024), np.swapaxes(np.array(allCoef),0,1)) + allBias.reshape((10,))\n",
      "print result"
     ],
     "language": "python",
     "metadata": {},
     "outputs": [
      {
       "output_type": "stream",
       "stream": "stdout",
       "text": [
        "[[-2.09366914 -2.55777304 -1.99390142 -0.52302335 -0.67259835 -0.57903022\n",
        "   0.01354377 -0.86070986 -2.77096338 -2.61973741]\n",
        " [-2.36664558 -2.03943791 -0.89764261 -2.93327063 -2.00049187 -2.35361962\n",
        "  -3.02610711 -2.39124634 -1.05079479  1.30650433]\n",
        " [-1.20887774 -1.08898356 -1.35781286 -1.87680907 -2.24594197 -1.83539594\n",
        "  -1.83180525 -0.74418096 -1.63964727  0.54618441]\n",
        " [-1.65003228 -1.94767849 -1.75206193 -1.92020343  1.08694139 -1.0908517\n",
        "  -0.50827336 -1.66277344 -2.13548245 -1.7451372 ]\n",
        " [-1.57259175  2.67801692 -2.22881329 -3.09620588 -1.73548169 -1.0569279\n",
        "  -3.93003227 -1.32279779 -3.73043971 -2.14659307]\n",
        " [-2.35187805  1.06693782 -2.24010653 -2.19255025 -2.35327831 -2.08444722\n",
        "  -1.53503983 -1.02265481 -2.90712611 -1.41662443]\n",
        " [-1.85287926 -2.74668025 -0.26002008 -0.79629506 -0.49339752 -1.5757669\n",
        "  -1.72333569 -1.53761107 -2.78422421 -2.15768374]\n",
        " [-3.77930427 -1.98536372 -3.12322647 -2.25154476 -2.07031732 -1.89986528\n",
        "  -2.35938339  3.47380112 -3.58581847 -3.72102126]\n",
        " [-0.16512187 -1.70984188 -2.89565374 -1.6049298  -2.27587065 -1.99743758\n",
        "  -2.16497528 -4.0963392   0.8575931  -1.55651206]\n",
        " [-0.56221992 -1.01176065 -1.25402546  0.33735977 -1.135017   -0.90143676\n",
        "  -2.15918853 -1.0886613  -0.77298366 -1.25774827]]\n"
       ]
      }
     ],
     "prompt_number": 38
    },
    {
     "cell_type": "code",
     "collapsed": false,
     "input": [
      "allCoef.shape"
     ],
     "language": "python",
     "metadata": {},
     "outputs": [
      {
       "metadata": {},
       "output_type": "pyout",
       "prompt_number": 37,
       "text": [
        "(10, 1024)"
       ]
      }
     ],
     "prompt_number": 37
    },
    {
     "cell_type": "code",
     "collapsed": false,
     "input": [
      "dd.plot.ImageGrid(np.corrcoef(allCoef), cmap=cm.RdBu_r, vsym=True).scaled_image(10)"
     ],
     "language": "python",
     "metadata": {},
     "outputs": [
      {
       "output_type": "stream",
       "stream": "stderr",
       "text": [
        "/Users/jiajunshen/Library/Enthought/Canopy_64bit/User/lib/python2.7/site-packages/skimage/util/dtype.py:111: UserWarning: Possible precision loss when converting from float64 to uint8\n",
        "  \"%s to %s\" % (dtypeobj_in, dtypeobj))\n"
       ]
      },
      {
       "jpeg": "[encoded data removed]",
       "metadata": {},
       "output_type": "pyout",
       "png": "[encoded data removed]",
       "prompt_number": 39,
       "text": [
        "Image([[[ 1.,  1.,  1.],\n",
        "        [ 1.,  1.,  1.],\n",
        "        [ 1.,  1.,  1.],\n",
        "        ..., \n",
        "        [ 1.,  1.,  1.],\n",
        "        [ 1.,  1.,  1.],\n",
        "        [ 1.,  1.,  1.]],\n",
        "\n",
        "       [[ 1.,  1.,  1.],\n",
        "        [ 1.,  1.,  1.],\n",
        "        [ 1.,  1.,  1.],\n",
        "        ..., \n",
        "        [ 1.,  1.,  1.],\n",
        "        [ 1.,  1.,  1.],\n",
        "        [ 1.,  1.,  1.]],\n",
        "\n",
        "       [[ 1.,  1.,  1.],\n",
        "        [ 1.,  1.,  1.],\n",
        "        [ 1.,  1.,  1.],\n",
        "        ..., \n",
        "        [ 1.,  1.,  1.],\n",
        "        [ 1.,  1.,  1.],\n",
        "        [ 1.,  1.,  1.]],\n",
        "\n",
        "       ..., \n",
        "       [[ 1.,  1.,  1.],\n",
        "        [ 1.,  1.,  1.],\n",
        "        [ 1.,  1.,  1.],\n",
        "        ..., \n",
        "        [ 1.,  1.,  1.],\n",
        "        [ 1.,  1.,  1.],\n",
        "        [ 1.,  1.,  1.]],\n",
        "\n",
        "       [[ 1.,  1.,  1.],\n",
        "        [ 1.,  1.,  1.],\n",
        "        [ 1.,  1.,  1.],\n",
        "        ..., \n",
        "        [ 1.,  1.,  1.],\n",
        "        [ 1.,  1.,  1.],\n",
        "        [ 1.,  1.,  1.]],\n",
        "\n",
        "       [[ 1.,  1.,  1.],\n",
        "        [ 1.,  1.,  1.],\n",
        "        [ 1.,  1.,  1.],\n",
        "        ..., \n",
        "        [ 1.,  1.,  1.],\n",
        "        [ 1.,  1.,  1.],\n",
        "        [ 1.,  1.,  1.]]])"
       ]
      }
     ],
     "prompt_number": 39
    },
    {
     "cell_type": "code",
     "collapsed": false,
     "input": [
      "solver.net.save(\"./examples/cifar10/investigation/cifar10_quick_iter_4000_10svm.caffemodel\")"
     ],
     "language": "python",
     "metadata": {},
     "outputs": [],
     "prompt_number": 40
    },
    {
     "cell_type": "code",
     "collapsed": false,
     "input": [
      "activationArray"
     ],
     "language": "python",
     "metadata": {},
     "outputs": [
      {
       "metadata": {},
       "output_type": "pyout",
       "prompt_number": 41,
       "text": [
        "array([[[[ 0.02965637,  0.        ,  0.        ,  0.01159291],\n",
        "         [ 0.        ,  0.        ,  0.02780858,  0.08850058],\n",
        "         [ 0.        ,  0.        ,  0.02780858,  0.07614347],\n",
        "         [ 0.        ,  0.        ,  0.        ,  0.02119139]],\n",
        "\n",
        "        [[ 0.26261702,  0.57488227,  0.73184085,  0.5076918 ],\n",
        "         [ 0.02735535,  0.23495248,  0.16002513,  0.        ],\n",
        "         [ 0.01169306,  0.1241359 ,  0.10508586,  0.06732588],\n",
        "         [ 0.12146213,  0.0204755 ,  0.09780714,  0.42977935]],\n",
        "\n",
        "        [[ 0.00741769,  0.        ,  0.        ,  0.        ],\n",
        "         [ 0.        ,  0.        ,  0.        ,  0.        ],\n",
        "         [ 0.        ,  0.        ,  0.        ,  0.        ],\n",
        "         [ 0.        ,  0.        ,  0.00751744,  0.01127616]],\n",
        "\n",
        "        ..., \n",
        "        [[ 0.        ,  0.        ,  0.        ,  0.        ],\n",
        "         [ 0.        ,  0.        ,  0.02372055,  0.03558082],\n",
        "         [ 0.15667149,  0.04393405,  0.03204527,  0.04806791],\n",
        "         [ 0.48203763,  0.11814644,  0.        ,  0.        ]],\n",
        "\n",
        "        [[ 0.        ,  0.        ,  0.00692048,  0.01038072],\n",
        "         [ 0.        ,  0.        ,  0.        ,  0.        ],\n",
        "         [ 0.        ,  0.        ,  0.        ,  0.        ],\n",
        "         [ 0.02063256,  0.        ,  0.04387227,  0.        ]],\n",
        "\n",
        "        [[ 0.18217717,  0.        ,  0.01009793,  0.1088849 ],\n",
        "         [ 0.03090766,  0.00996473,  0.        ,  0.0160015 ],\n",
        "         [ 0.20738345,  0.07843468,  0.        ,  0.        ],\n",
        "         [ 0.0517374 ,  0.06408751,  0.14547458,  0.10357726]]],\n",
        "\n",
        "\n",
        "       [[[ 0.        ,  0.        ,  0.        ,  0.01078791],\n",
        "         [ 0.        ,  0.        ,  0.        ,  0.        ],\n",
        "         [ 0.        ,  0.        ,  0.        ,  0.        ],\n",
        "         [ 0.        ,  0.        ,  0.        ,  0.        ]],\n",
        "\n",
        "        [[ 0.23288938,  0.22229664,  0.03193515,  0.13029484],\n",
        "         [ 0.44485039,  0.5970785 ,  0.23546052,  0.        ],\n",
        "         [ 1.22975326,  1.88858652,  1.77038622,  1.12543154],\n",
        "         [ 0.37919271,  0.71840233,  1.08329666,  1.29058361]],\n",
        "\n",
        "        [[ 0.        ,  0.        ,  0.        ,  0.01557892],\n",
        "         [ 0.02128994,  0.21751539,  0.10185091,  0.        ],\n",
        "         [ 0.03347733,  0.41820633,  0.35895523,  0.09540974],\n",
        "         [ 0.        ,  0.        ,  0.        ,  0.02234425]],\n",
        "\n",
        "        ..., \n",
        "        [[ 0.        ,  0.        ,  0.        ,  0.        ],\n",
        "         [ 0.        ,  0.        ,  0.        ,  0.        ],\n",
        "         [ 0.00516177,  0.06006564,  0.11124771,  0.04217402],\n",
        "         [ 0.06367133,  0.05707004,  0.12946968,  0.18151617]],\n",
        "\n",
        "        [[ 0.        ,  0.        ,  0.        ,  0.        ],\n",
        "         [ 0.        ,  0.        ,  0.        ,  0.        ],\n",
        "         [ 0.        ,  0.        ,  0.        ,  0.        ],\n",
        "         [ 0.        ,  0.        ,  0.        ,  0.07273581]],\n",
        "\n",
        "        [[ 0.92318916,  0.36260474,  0.06200914,  0.        ],\n",
        "         [ 0.7146427 ,  0.42997253,  0.1210895 ,  0.20910029],\n",
        "         [ 1.16621578,  0.68044639,  0.3799907 ,  0.05912459],\n",
        "         [ 1.15571034,  0.95358199,  0.71714407,  0.07817458]]],\n",
        "\n",
        "\n",
        "       [[[ 0.        ,  0.        ,  0.15996531,  0.46249536],\n",
        "         [ 0.        ,  0.        ,  0.        ,  0.04892853],\n",
        "         [ 0.        ,  0.        ,  0.        ,  0.        ],\n",
        "         [ 0.        ,  0.        ,  0.        ,  0.        ]],\n",
        "\n",
        "        [[ 0.2299117 ,  0.01184149,  0.03931598,  0.18327685],\n",
        "         [ 0.76114833,  0.67845768,  0.10047706,  0.00547911],\n",
        "         [ 0.80352044,  1.06370449,  0.36666763,  0.12216977],\n",
        "         [ 0.47886062,  0.85610646,  0.74748021,  0.60055894]],\n",
        "\n",
        "        [[ 0.        ,  0.01954155,  0.19320565,  0.2863414 ],\n",
        "         [ 0.01581728,  0.05711475,  0.12604254,  0.29478902],\n",
        "         [ 0.        ,  0.        ,  0.        ,  0.        ],\n",
        "         [ 0.        ,  0.        ,  0.        ,  0.        ]],\n",
        "\n",
        "        ..., \n",
        "        [[ 0.        ,  0.        ,  0.        ,  0.        ],\n",
        "         [ 0.        ,  0.033239  ,  0.12626137,  0.02823162],\n",
        "         [ 0.        ,  0.01025674,  0.10975581,  0.02823162],\n",
        "         [ 0.        ,  0.        ,  0.        ,  0.        ]],\n",
        "\n",
        "        [[ 0.        ,  0.        ,  0.        ,  0.        ],\n",
        "         [ 0.07097917,  0.02008455,  0.        ,  0.        ],\n",
        "         [ 0.0518732 ,  0.02008455,  0.        ,  0.00675724],\n",
        "         [ 0.03692671,  0.        ,  0.        ,  0.        ]],\n",
        "\n",
        "        [[ 0.20737918,  0.30599001,  1.18230486,  0.82484752],\n",
        "         [ 0.67807961,  0.0805186 ,  0.37353528,  0.37423959],\n",
        "         [ 0.46068615,  0.02723571,  0.02723571,  0.        ],\n",
        "         [ 0.        ,  0.        ,  0.        ,  0.        ]]],\n",
        "\n",
        "\n",
        "       ..., \n",
        "       [[[ 0.        ,  0.        ,  0.        ,  0.04006216],\n",
        "         [ 0.        ,  0.        ,  0.        ,  0.00285976],\n",
        "         [ 0.        ,  0.        ,  0.        ,  0.        ],\n",
        "         [ 0.        ,  0.        ,  0.        ,  0.        ]],\n",
        "\n",
        "        [[ 0.62292331,  0.61324501,  0.57921869,  0.4148221 ],\n",
        "         [ 0.19248563,  0.69476575,  0.85555673,  0.85914701],\n",
        "         [ 0.50127375,  1.24071932,  1.2244339 ,  0.9703536 ],\n",
        "         [ 0.59895831,  0.95427537,  0.93165857,  0.99756265]],\n",
        "\n",
        "        [[ 0.03092391,  0.16956931,  0.29847434,  0.13170727],\n",
        "         [ 0.        ,  0.05380623,  0.21883923,  0.13170727],\n",
        "         [ 0.        ,  0.        ,  0.        ,  0.        ],\n",
        "         [ 0.        ,  0.        ,  0.        ,  0.        ]],\n",
        "\n",
        "        ..., \n",
        "        [[ 0.        ,  0.        ,  0.        ,  0.        ],\n",
        "         [ 0.        ,  0.00477867,  0.20928533,  0.34042993],\n",
        "         [ 0.        ,  0.00693665,  0.22083455,  0.269961  ],\n",
        "         [ 0.        ,  0.        ,  0.        ,  0.        ]],\n",
        "\n",
        "        [[ 0.        ,  0.        ,  0.        ,  0.        ],\n",
        "         [ 0.00647378,  0.03220237,  0.03220237,  0.        ],\n",
        "         [ 0.00647378,  0.        ,  0.        ,  0.        ],\n",
        "         [ 0.        ,  0.        ,  0.        ,  0.        ]],\n",
        "\n",
        "        [[ 1.08680534,  1.08213198,  0.91311574,  0.69979197],\n",
        "         [ 1.20603955,  0.67238623,  0.64576036,  0.47283795],\n",
        "         [ 0.53461695,  0.32082117,  0.        ,  0.        ],\n",
        "         [ 0.01918048,  0.01918048,  0.        ,  0.        ]]],\n",
        "\n",
        "\n",
        "       [[[ 0.        ,  0.        ,  0.        ,  0.0327091 ],\n",
        "         [ 0.        ,  0.        ,  0.        ,  0.01072188],\n",
        "         [ 0.        ,  0.        ,  0.        ,  0.06059218],\n",
        "         [ 0.        ,  0.        ,  0.        ,  0.07480545]],\n",
        "\n",
        "        [[ 0.08097032,  0.15567274,  0.02911485,  0.0408101 ],\n",
        "         [ 0.75992799,  1.01133239,  0.43091357,  0.18565273],\n",
        "         [ 0.80156809,  1.54031622,  1.12373626,  0.74944586],\n",
        "         [ 0.40529835,  0.9123928 ,  1.20959437,  1.08075297]],\n",
        "\n",
        "        [[ 0.        ,  0.08406062,  0.0402903 ,  0.0605263 ],\n",
        "         [ 0.01090923,  0.23182589,  0.11754157,  0.08304854],\n",
        "         [ 0.        ,  0.0037199 ,  0.05260896,  0.09430998],\n",
        "         [ 0.        ,  0.        ,  0.        ,  0.00670293]],\n",
        "\n",
        "        ..., \n",
        "        [[ 0.        ,  0.        ,  0.        ,  0.        ],\n",
        "         [ 0.        ,  0.        ,  0.        ,  0.        ],\n",
        "         [ 0.01129144,  0.18574657,  0.21242326,  0.27171186],\n",
        "         [ 0.11464448,  0.26635721,  0.37842488,  0.39329958]],\n",
        "\n",
        "        [[ 0.        ,  0.        ,  0.        ,  0.        ],\n",
        "         [ 0.        ,  0.        ,  0.        ,  0.        ],\n",
        "         [ 0.        ,  0.        ,  0.        ,  0.        ],\n",
        "         [ 0.        ,  0.        ,  0.        ,  0.        ]],\n",
        "\n",
        "        [[ 0.94799161,  1.01166666,  0.55056059,  0.18943997],\n",
        "         [ 1.5703398 ,  1.76548815,  0.79846299,  0.26869804],\n",
        "         [ 1.89716101,  1.85339761,  0.68205506,  0.04862629],\n",
        "         [ 1.57035887,  1.75917923,  0.89271092,  0.03419392]]],\n",
        "\n",
        "\n",
        "       [[[ 0.        ,  0.01075859,  0.02256644,  0.10628403],\n",
        "         [ 0.        ,  0.        ,  0.        ,  0.        ],\n",
        "         [ 0.        ,  0.        ,  0.        ,  0.02975267],\n",
        "         [ 0.        ,  0.        ,  0.        ,  0.04462901]],\n",
        "\n",
        "        [[ 0.71623397,  1.21242905,  1.18346632,  1.09037149],\n",
        "         [ 0.71393144,  1.25569105,  1.36903369,  0.90144306],\n",
        "         [ 0.51988184,  0.89316589,  0.86610764,  0.23451078],\n",
        "         [ 0.11127625,  0.34499931,  0.21197708,  0.00443003]],\n",
        "\n",
        "        [[ 0.28552145,  0.2109438 ,  0.02571683,  0.02320461],\n",
        "         [ 0.        ,  0.        ,  0.04784938,  0.14166309],\n",
        "         [ 0.        ,  0.        ,  0.18987614,  0.24803829],\n",
        "         [ 0.        ,  0.        ,  0.16341347,  0.26093268]],\n",
        "\n",
        "        ..., \n",
        "        [[ 0.04649515,  0.06472933,  0.12167659,  0.22386314],\n",
        "         [ 0.        ,  0.        ,  0.05339313,  0.07507037],\n",
        "         [ 0.        ,  0.01017376,  0.03878262,  0.05817392],\n",
        "         [ 0.        ,  0.22198105,  0.27127972,  0.12082902]],\n",
        "\n",
        "        [[ 0.        ,  0.        ,  0.        ,  0.        ],\n",
        "         [ 0.        ,  0.        ,  0.        ,  0.        ],\n",
        "         [ 0.        ,  0.        ,  0.        ,  0.        ],\n",
        "         [ 0.03169595,  0.        ,  0.        ,  0.        ]],\n",
        "\n",
        "        [[ 1.41419339,  1.57674551,  1.24007213,  0.73550081],\n",
        "         [ 0.7819832 ,  0.7279911 ,  0.21950991,  0.16698228],\n",
        "         [ 0.1610418 ,  0.5521726 ,  0.22032106,  0.09323291],\n",
        "         [ 0.18979925,  0.32037622,  0.21298034,  0.        ]]]], dtype=float32)"
       ]
      }
     ],
     "prompt_number": 41
    },
    {
     "cell_type": "code",
     "collapsed": false,
     "input": [],
     "language": "python",
     "metadata": {},
     "outputs": []
    }
   ],
   "metadata": {}
  }
 ]
}