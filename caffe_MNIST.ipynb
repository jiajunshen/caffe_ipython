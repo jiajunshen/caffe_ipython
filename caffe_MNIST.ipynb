{
 "metadata": {
  "name": "",
  "signature": "sha256:afb1e6a14a6a50c9e0d0f9925cc23fe06959b59b5f8f26b7c9bd0509b3ae6d81"
 },
 "nbformat": 3,
 "nbformat_minor": 0,
 "worksheets": [
  {
   "cells": [
    {
     "cell_type": "code",
     "collapsed": false,
     "input": [
      "import lmdb\n",
      "import os"
     ],
     "language": "python",
     "metadata": {},
     "outputs": [],
     "prompt_number": 1
    },
    {
     "cell_type": "code",
     "collapsed": false,
     "input": [
      "ls"
     ],
     "language": "python",
     "metadata": {},
     "outputs": [
      {
       "output_type": "stream",
       "stream": "stdout",
       "text": [
        "Group_gradient.ipynb                           gradientPlot_conv_layer_first10_filter_0.png\r\n",
        "caffe_MNIST.ipynb                              gradientPlot_conv_layer_first10_filter_49.png\r\n",
        "classification.ipynb                           gradientPlot_conv_layer_last10_filter_0.png\r\n",
        "detection.ipynb                                gradientPlot_conv_layer_last10_filter_49.png\r\n",
        "filter_investigation.ipynb                     hdf5_classification.ipynb\r\n",
        "filter_visualization.ipynb                     \u001b[34mmylmdb\u001b[m\u001b[m/\r\n",
        "fully_connected_investigation.ipynb            net_surgery.ipynb\r\n",
        "gradientPlot_0_first100.png                    \u001b[34mtestlmdb\u001b[m\u001b[m/\r\n",
        "gradientPlot_0_last100.png                     train_MNIST.ipynb\r\n",
        "gradientPlot_200_first100.png                  \u001b[34mtrainlmdb\u001b[m\u001b[m/\r\n",
        "gradientPlot_200_last100.png\r\n"
       ]
      }
     ],
     "prompt_number": 2
    },
    {
     "cell_type": "code",
     "collapsed": false,
     "input": [
      "import sys\n",
      "import caffe\n",
      "import Image\n",
      "import matplotlib\n",
      "matplotlib.rcParams['backend'] = \"Qt4Agg\"\n",
      "import numpy as np\n",
      "import lmdb\n",
      "caffe_root = '/Users/jiajunshen/Documents/Research/caffe/'\n",
      "os.chdir(caffe_root)\n",
      "caffe.set_mode_cpu()\n",
      "MODEL_FILE = caffe_root+'examples/mnist/lenet_train_test.prototxt'\n",
      "PRETRAINED = caffe_root+'examples/mnist/lenet_snapshot/unique_10000.caffemodel'\n",
      "#net = caffe.Net(\"examples/mnist/nofully-connect/lenet_train_test.prototxt\", \"examples/mnist/lenet_snapshot/lenet_iter_10000.caffemodel\",caffe.TEST)\n",
      "net = caffe.Net(MODEL_FILE, PRETRAINED,caffe.TEST)\n"
     ],
     "language": "python",
     "metadata": {},
     "outputs": [],
     "prompt_number": 19
    },
    {
     "cell_type": "code",
     "collapsed": false,
     "input": [
      "newsolcer = caffe.get_solver(caffe_root+'examples/mnist/lenet_solver.prototxt')\n",
      "newsolcer.net.copy_from(PRETRAINED)"
     ],
     "language": "python",
     "metadata": {},
     "outputs": [],
     "prompt_number": 28
    },
    {
     "cell_type": "code",
     "collapsed": false,
     "input": [],
     "language": "python",
     "metadata": {},
     "outputs": [
      {
       "metadata": {},
       "output_type": "pyout",
       "prompt_number": 29,
       "text": [
        "array([[[[ 0.01829883, -0.007429  , -0.10248398, ...,  0.03247324,\n",
        "          -0.08840152, -0.08032639],\n",
        "         [ 0.10464559, -0.01284263,  0.08534886, ...,  0.08449813,\n",
        "           0.02900289, -0.00316852],\n",
        "         [ 0.03716251, -0.00127094,  0.07000059, ..., -0.0732327 ,\n",
        "           0.00903472, -0.00526767],\n",
        "         ..., \n",
        "         [ 0.01068113, -0.04250355, -0.09860995, ...,  0.10440871,\n",
        "           0.00910928, -0.173511  ],\n",
        "         [-0.04437381,  0.08380228,  0.07742964, ...,  0.01209931,\n",
        "          -0.15929399, -0.12315401],\n",
        "         [ 0.00408653, -0.03963949,  0.03266665, ..., -0.06159728,\n",
        "           0.039348  , -0.07423381]]],\n",
        "\n",
        "\n",
        "       [[[ 0.12448037,  0.01758114,  0.10167661, ...,  0.11960115,\n",
        "           0.01170891, -0.11253526],\n",
        "         [-0.08597188, -0.05067766, -0.01714197, ..., -0.09114825,\n",
        "          -0.05026057, -0.09482616],\n",
        "         [-0.03522179,  0.00392093,  0.05080976, ..., -0.0331789 ,\n",
        "          -0.00767599,  0.08386364],\n",
        "         ..., \n",
        "         [-0.1150518 , -0.08402605,  0.09860056, ...,  0.03335542,\n",
        "          -0.14474112,  0.04984843],\n",
        "         [-0.13627788,  0.02770748,  0.00752985, ..., -0.00038018,\n",
        "          -0.1336551 , -0.05097266],\n",
        "         [-0.02121154, -0.11063428, -0.05885574, ..., -0.09992719,\n",
        "           0.06575558,  0.08006125]]],\n",
        "\n",
        "\n",
        "       [[[ 0.09064077,  0.02085947, -0.0789815 , ..., -0.07071212,\n",
        "           0.05800198,  0.03791613],\n",
        "         [ 0.00068362,  0.04074999,  0.1444466 , ...,  0.16311425,\n",
        "           0.05418417, -0.14225511],\n",
        "         [ 0.09992139,  0.07851352,  0.11355302, ...,  0.17852475,\n",
        "          -0.00529859, -0.03347548],\n",
        "         ..., \n",
        "         [-0.01626548, -0.04718789,  0.03822745, ...,  0.05095303,\n",
        "          -0.17845388,  0.03448333],\n",
        "         [-0.02562943,  0.13895449,  0.00138271, ..., -0.04051332,\n",
        "          -0.14675181, -0.0545433 ],\n",
        "         [ 0.11288229,  0.01154044,  0.14563456, ..., -0.07170408,\n",
        "          -0.15413621, -0.08404072]]],\n",
        "\n",
        "\n",
        "       ..., \n",
        "       [[[-0.0135422 ,  0.00069912, -0.03700111, ..., -0.12546767,\n",
        "          -0.05016235, -0.01063746],\n",
        "         [-0.09952606, -0.07313728, -0.05126062, ..., -0.01466669,\n",
        "          -0.05124611, -0.10475931],\n",
        "         [ 0.11360235, -0.01782833, -0.04380665, ..., -0.00161188,\n",
        "          -0.0856503 , -0.14440717],\n",
        "         ..., \n",
        "         [ 0.04339498, -0.00510328, -0.01408357, ...,  0.06034479,\n",
        "          -0.06691987,  0.11659029],\n",
        "         [-0.04912659,  0.00762987,  0.03900446, ...,  0.13689823,\n",
        "          -0.01395254,  0.07047059],\n",
        "         [ 0.06864746,  0.11841217, -0.09278033, ...,  0.06243334,\n",
        "           0.08119623,  0.1351984 ]]],\n",
        "\n",
        "\n",
        "       [[[ 0.03797242,  0.04162781,  0.06366818, ..., -0.14502262,\n",
        "          -0.02809187,  0.01184464],\n",
        "         [ 0.0720103 ,  0.00358447,  0.06372855, ...,  0.00050957,\n",
        "           0.02569407,  0.02294212],\n",
        "         [-0.03688121, -0.08028153, -0.08389905, ..., -0.04181118,\n",
        "          -0.08072119, -0.06580182],\n",
        "         ..., \n",
        "         [-0.10334004,  0.07139076,  0.03416163, ...,  0.11115585,\n",
        "          -0.06598976,  0.094356  ],\n",
        "         [-0.05639371, -0.07562129, -0.1268785 , ..., -0.07640444,\n",
        "           0.06028743, -0.06459539],\n",
        "         [-0.15966159, -0.09710533,  0.07619431, ..., -0.04106342,\n",
        "           0.02665607,  0.0515728 ]]],\n",
        "\n",
        "\n",
        "       [[[ 0.13755651, -0.04127888,  0.01439798, ...,  0.07377966,\n",
        "           0.11676976, -0.04421368],\n",
        "         [ 0.09148913,  0.06902874,  0.07200404, ..., -0.07560527,\n",
        "          -0.00171616, -0.0528437 ],\n",
        "         [-0.06164847, -0.00351754,  0.07921171, ...,  0.09144907,\n",
        "          -0.10128518,  0.05723224],\n",
        "         ..., \n",
        "         [-0.01776024, -0.10967546, -0.1345717 , ..., -0.02598852,\n",
        "           0.01134443, -0.04586202],\n",
        "         [ 0.07329006,  0.07875123, -0.01490419, ..., -0.07698773,\n",
        "           0.09215654,  0.06756478],\n",
        "         [ 0.07643432,  0.09107052,  0.12176521, ...,  0.15602554,\n",
        "          -0.05016045,  0.0262044 ]]]], dtype=float32)"
       ]
      }
     ],
     "prompt_number": 29
    },
    {
     "cell_type": "code",
     "collapsed": false,
     "input": [
      "net.params['conv2'][0].data"
     ],
     "language": "python",
     "metadata": {},
     "outputs": [
      {
       "metadata": {},
       "output_type": "pyout",
       "prompt_number": 25,
       "text": [
        "array([[[[ 0.01829883, -0.007429  , -0.10248398, ...,  0.03247324,\n",
        "          -0.08840152, -0.08032639],\n",
        "         [ 0.10464559, -0.01284263,  0.08534886, ...,  0.08449813,\n",
        "           0.02900289, -0.00316852],\n",
        "         [ 0.03716251, -0.00127094,  0.07000059, ..., -0.0732327 ,\n",
        "           0.00903472, -0.00526767],\n",
        "         ..., \n",
        "         [ 0.01068113, -0.04250355, -0.09860995, ...,  0.10440871,\n",
        "           0.00910928, -0.173511  ],\n",
        "         [-0.04437381,  0.08380228,  0.07742964, ...,  0.01209931,\n",
        "          -0.15929399, -0.12315401],\n",
        "         [ 0.00408653, -0.03963949,  0.03266665, ..., -0.06159728,\n",
        "           0.039348  , -0.07423381]]],\n",
        "\n",
        "\n",
        "       [[[ 0.12448037,  0.01758114,  0.10167661, ...,  0.11960115,\n",
        "           0.01170891, -0.11253526],\n",
        "         [-0.08597188, -0.05067766, -0.01714197, ..., -0.09114825,\n",
        "          -0.05026057, -0.09482616],\n",
        "         [-0.03522179,  0.00392093,  0.05080976, ..., -0.0331789 ,\n",
        "          -0.00767599,  0.08386364],\n",
        "         ..., \n",
        "         [-0.1150518 , -0.08402605,  0.09860056, ...,  0.03335542,\n",
        "          -0.14474112,  0.04984843],\n",
        "         [-0.13627788,  0.02770748,  0.00752985, ..., -0.00038018,\n",
        "          -0.1336551 , -0.05097266],\n",
        "         [-0.02121154, -0.11063428, -0.05885574, ..., -0.09992719,\n",
        "           0.06575558,  0.08006125]]],\n",
        "\n",
        "\n",
        "       [[[ 0.09064077,  0.02085947, -0.0789815 , ..., -0.07071212,\n",
        "           0.05800198,  0.03791613],\n",
        "         [ 0.00068362,  0.04074999,  0.1444466 , ...,  0.16311425,\n",
        "           0.05418417, -0.14225511],\n",
        "         [ 0.09992139,  0.07851352,  0.11355302, ...,  0.17852475,\n",
        "          -0.00529859, -0.03347548],\n",
        "         ..., \n",
        "         [-0.01626548, -0.04718789,  0.03822745, ...,  0.05095303,\n",
        "          -0.17845388,  0.03448333],\n",
        "         [-0.02562943,  0.13895449,  0.00138271, ..., -0.04051332,\n",
        "          -0.14675181, -0.0545433 ],\n",
        "         [ 0.11288229,  0.01154044,  0.14563456, ..., -0.07170408,\n",
        "          -0.15413621, -0.08404072]]],\n",
        "\n",
        "\n",
        "       ..., \n",
        "       [[[-0.0135422 ,  0.00069912, -0.03700111, ..., -0.12546767,\n",
        "          -0.05016235, -0.01063746],\n",
        "         [-0.09952606, -0.07313728, -0.05126062, ..., -0.01466669,\n",
        "          -0.05124611, -0.10475931],\n",
        "         [ 0.11360235, -0.01782833, -0.04380665, ..., -0.00161188,\n",
        "          -0.0856503 , -0.14440717],\n",
        "         ..., \n",
        "         [ 0.04339498, -0.00510328, -0.01408357, ...,  0.06034479,\n",
        "          -0.06691987,  0.11659029],\n",
        "         [-0.04912659,  0.00762987,  0.03900446, ...,  0.13689823,\n",
        "          -0.01395254,  0.07047059],\n",
        "         [ 0.06864746,  0.11841217, -0.09278033, ...,  0.06243334,\n",
        "           0.08119623,  0.1351984 ]]],\n",
        "\n",
        "\n",
        "       [[[ 0.03797242,  0.04162781,  0.06366818, ..., -0.14502262,\n",
        "          -0.02809187,  0.01184464],\n",
        "         [ 0.0720103 ,  0.00358447,  0.06372855, ...,  0.00050957,\n",
        "           0.02569407,  0.02294212],\n",
        "         [-0.03688121, -0.08028153, -0.08389905, ..., -0.04181118,\n",
        "          -0.08072119, -0.06580182],\n",
        "         ..., \n",
        "         [-0.10334004,  0.07139076,  0.03416163, ...,  0.11115585,\n",
        "          -0.06598976,  0.094356  ],\n",
        "         [-0.05639371, -0.07562129, -0.1268785 , ..., -0.07640444,\n",
        "           0.06028743, -0.06459539],\n",
        "         [-0.15966159, -0.09710533,  0.07619431, ..., -0.04106342,\n",
        "           0.02665607,  0.0515728 ]]],\n",
        "\n",
        "\n",
        "       [[[ 0.13755651, -0.04127888,  0.01439798, ...,  0.07377966,\n",
        "           0.11676976, -0.04421368],\n",
        "         [ 0.09148913,  0.06902874,  0.07200404, ..., -0.07560527,\n",
        "          -0.00171616, -0.0528437 ],\n",
        "         [-0.06164847, -0.00351754,  0.07921171, ...,  0.09144907,\n",
        "          -0.10128518,  0.05723224],\n",
        "         ..., \n",
        "         [-0.01776024, -0.10967546, -0.1345717 , ..., -0.02598852,\n",
        "           0.01134443, -0.04586202],\n",
        "         [ 0.07329006,  0.07875123, -0.01490419, ..., -0.07698773,\n",
        "           0.09215654,  0.06756478],\n",
        "         [ 0.07643432,  0.09107052,  0.12176521, ...,  0.15602554,\n",
        "          -0.05016045,  0.0262044 ]]]], dtype=float32)"
       ]
      }
     ],
     "prompt_number": 25
    },
    {
     "cell_type": "code",
     "collapsed": false,
     "input": [
      "caffe.SGDSolver(caffe_root+'examples/mnist/lenet_snapshot/lenet_iter_10000.solverstate')"
     ],
     "language": "python",
     "metadata": {},
     "outputs": []
    },
    {
     "cell_type": "code",
     "collapsed": false,
     "input": [
      "import deepdish as dd"
     ],
     "language": "python",
     "metadata": {},
     "outputs": [],
     "prompt_number": 2
    },
    {
     "cell_type": "code",
     "collapsed": false,
     "input": [
      "x = net.params['conv1'][0].data\n",
      "dd.plot.ImageGrid(x, cmap=cm.RdBu_r, vsym=True).scaled_image(3)"
     ],
     "language": "python",
     "metadata": {},
     "outputs": [
      {
       "output_type": "stream",
       "stream": "stderr",
       "text": [
        "/Users/jiajunshen/Library/Enthought/Canopy_64bit/User/lib/python2.7/site-packages/skimage/util/dtype.py:111: UserWarning: Possible precision loss when converting from float64 to uint8\n",
        "  \"%s to %s\" % (dtypeobj_in, dtypeobj))\n"
       ]
      },
      {
       "jpeg": "[encoded data removed]",
       "metadata": {},
       "output_type": "pyout",
       "png": "[encoded data removed]",
       "prompt_number": 6,
       "text": [
        "Image([[[ 1.,  1.,  1.],\n",
        "        [ 1.,  1.,  1.],\n",
        "        [ 1.,  1.,  1.],\n",
        "        ..., \n",
        "        [ 1.,  1.,  1.],\n",
        "        [ 1.,  1.,  1.],\n",
        "        [ 1.,  1.,  1.]],\n",
        "\n",
        "       [[ 1.,  1.,  1.],\n",
        "        [ 1.,  1.,  1.],\n",
        "        [ 1.,  1.,  1.],\n",
        "        ..., \n",
        "        [ 1.,  1.,  1.],\n",
        "        [ 1.,  1.,  1.],\n",
        "        [ 1.,  1.,  1.]],\n",
        "\n",
        "       [[ 1.,  1.,  1.],\n",
        "        [ 1.,  1.,  1.],\n",
        "        [ 1.,  1.,  1.],\n",
        "        ..., \n",
        "        [ 1.,  1.,  1.],\n",
        "        [ 1.,  1.,  1.],\n",
        "        [ 1.,  1.,  1.]],\n",
        "\n",
        "       ..., \n",
        "       [[ 1.,  1.,  1.],\n",
        "        [ 1.,  1.,  1.],\n",
        "        [ 1.,  1.,  1.],\n",
        "        ..., \n",
        "        [ 1.,  1.,  1.],\n",
        "        [ 1.,  1.,  1.],\n",
        "        [ 1.,  1.,  1.]],\n",
        "\n",
        "       [[ 1.,  1.,  1.],\n",
        "        [ 1.,  1.,  1.],\n",
        "        [ 1.,  1.,  1.],\n",
        "        ..., \n",
        "        [ 1.,  1.,  1.],\n",
        "        [ 1.,  1.,  1.],\n",
        "        [ 1.,  1.,  1.]],\n",
        "\n",
        "       [[ 1.,  1.,  1.],\n",
        "        [ 1.,  1.,  1.],\n",
        "        [ 1.,  1.,  1.],\n",
        "        ..., \n",
        "        [ 1.,  1.,  1.],\n",
        "        [ 1.,  1.,  1.],\n",
        "        [ 1.,  1.,  1.]]])"
       ]
      }
     ],
     "prompt_number": 6
    },
    {
     "cell_type": "code",
     "collapsed": false,
     "input": [
      "import amitgroup.plot as gr"
     ],
     "language": "python",
     "metadata": {},
     "outputs": [
      {
       "output_type": "stream",
       "stream": "stderr",
       "text": [
        "/Users/jiajunshen/Library/Enthought/Canopy_64bit/User/lib/python2.7/site-packages/matplotlib/__init__.py:1155: UserWarning:  This call to matplotlib.use() has no effect\n",
        "because the backend has already been chosen;\n",
        "matplotlib.use() must be called *before* pylab, matplotlib.pyplot,\n",
        "or matplotlib.backends is imported for the first time.\n",
        "\n",
        "  warnings.warn(_use_error_msg)\n"
       ]
      }
     ],
     "prompt_number": 7
    },
    {
     "cell_type": "code",
     "collapsed": false,
     "input": [
      "gr.images(net.params['conv1'][0].data.reshape(50,14,14),vmin = -2, vmax = 2)"
     ],
     "language": "python",
     "metadata": {},
     "outputs": [
      {
       "metadata": {},
       "output_type": "display_data",
       "png": "[encoded data removed]",
       "text": [
        "<matplotlib.figure.Figure at 0x12df26150>"
       ]
      }
     ],
     "prompt_number": 10
    },
    {
     "cell_type": "code",
     "collapsed": false,
     "input": [
      "net.params"
     ],
     "language": "python",
     "metadata": {},
     "outputs": [
      {
       "metadata": {},
       "output_type": "pyout",
       "prompt_number": 4,
       "text": [
        "OrderedDict([('conv1', <caffe._caffe.BlobVec object at 0x11b0b2980>), ('conv2', <caffe._caffe.BlobVec object at 0x11b370210>), ('ip1', <caffe._caffe.BlobVec object at 0x11b370280>), ('ip2', <caffe._caffe.BlobVec object at 0x11b3702f0>)])"
       ]
      }
     ],
     "prompt_number": 4
    },
    {
     "cell_type": "code",
     "collapsed": false,
     "input": [
      "net.blobs['conv1'].data"
     ],
     "language": "python",
     "metadata": {},
     "outputs": [
      {
       "metadata": {},
       "output_type": "pyout",
       "prompt_number": 5,
       "text": [
        "array([[[[ 0.,  0.,  0., ...,  0.,  0.,  0.],\n",
        "         [ 0.,  0.,  0., ...,  0.,  0.,  0.],\n",
        "         [ 0.,  0.,  0., ...,  0.,  0.,  0.],\n",
        "         ..., \n",
        "         [ 0.,  0.,  0., ...,  0.,  0.,  0.],\n",
        "         [ 0.,  0.,  0., ...,  0.,  0.,  0.],\n",
        "         [ 0.,  0.,  0., ...,  0.,  0.,  0.]],\n",
        "\n",
        "        [[ 0.,  0.,  0., ...,  0.,  0.,  0.],\n",
        "         [ 0.,  0.,  0., ...,  0.,  0.,  0.],\n",
        "         [ 0.,  0.,  0., ...,  0.,  0.,  0.],\n",
        "         ..., \n",
        "         [ 0.,  0.,  0., ...,  0.,  0.,  0.],\n",
        "         [ 0.,  0.,  0., ...,  0.,  0.,  0.],\n",
        "         [ 0.,  0.,  0., ...,  0.,  0.,  0.]],\n",
        "\n",
        "        [[ 0.,  0.,  0., ...,  0.,  0.,  0.],\n",
        "         [ 0.,  0.,  0., ...,  0.,  0.,  0.],\n",
        "         [ 0.,  0.,  0., ...,  0.,  0.,  0.],\n",
        "         ..., \n",
        "         [ 0.,  0.,  0., ...,  0.,  0.,  0.],\n",
        "         [ 0.,  0.,  0., ...,  0.,  0.,  0.],\n",
        "         [ 0.,  0.,  0., ...,  0.,  0.,  0.]],\n",
        "\n",
        "        ..., \n",
        "        [[ 0.,  0.,  0., ...,  0.,  0.,  0.],\n",
        "         [ 0.,  0.,  0., ...,  0.,  0.,  0.],\n",
        "         [ 0.,  0.,  0., ...,  0.,  0.,  0.],\n",
        "         ..., \n",
        "         [ 0.,  0.,  0., ...,  0.,  0.,  0.],\n",
        "         [ 0.,  0.,  0., ...,  0.,  0.,  0.],\n",
        "         [ 0.,  0.,  0., ...,  0.,  0.,  0.]],\n",
        "\n",
        "        [[ 0.,  0.,  0., ...,  0.,  0.,  0.],\n",
        "         [ 0.,  0.,  0., ...,  0.,  0.,  0.],\n",
        "         [ 0.,  0.,  0., ...,  0.,  0.,  0.],\n",
        "         ..., \n",
        "         [ 0.,  0.,  0., ...,  0.,  0.,  0.],\n",
        "         [ 0.,  0.,  0., ...,  0.,  0.,  0.],\n",
        "         [ 0.,  0.,  0., ...,  0.,  0.,  0.]],\n",
        "\n",
        "        [[ 0.,  0.,  0., ...,  0.,  0.,  0.],\n",
        "         [ 0.,  0.,  0., ...,  0.,  0.,  0.],\n",
        "         [ 0.,  0.,  0., ...,  0.,  0.,  0.],\n",
        "         ..., \n",
        "         [ 0.,  0.,  0., ...,  0.,  0.,  0.],\n",
        "         [ 0.,  0.,  0., ...,  0.,  0.,  0.],\n",
        "         [ 0.,  0.,  0., ...,  0.,  0.,  0.]]],\n",
        "\n",
        "\n",
        "       [[[ 0.,  0.,  0., ...,  0.,  0.,  0.],\n",
        "         [ 0.,  0.,  0., ...,  0.,  0.,  0.],\n",
        "         [ 0.,  0.,  0., ...,  0.,  0.,  0.],\n",
        "         ..., \n",
        "         [ 0.,  0.,  0., ...,  0.,  0.,  0.],\n",
        "         [ 0.,  0.,  0., ...,  0.,  0.,  0.],\n",
        "         [ 0.,  0.,  0., ...,  0.,  0.,  0.]],\n",
        "\n",
        "        [[ 0.,  0.,  0., ...,  0.,  0.,  0.],\n",
        "         [ 0.,  0.,  0., ...,  0.,  0.,  0.],\n",
        "         [ 0.,  0.,  0., ...,  0.,  0.,  0.],\n",
        "         ..., \n",
        "         [ 0.,  0.,  0., ...,  0.,  0.,  0.],\n",
        "         [ 0.,  0.,  0., ...,  0.,  0.,  0.],\n",
        "         [ 0.,  0.,  0., ...,  0.,  0.,  0.]],\n",
        "\n",
        "        [[ 0.,  0.,  0., ...,  0.,  0.,  0.],\n",
        "         [ 0.,  0.,  0., ...,  0.,  0.,  0.],\n",
        "         [ 0.,  0.,  0., ...,  0.,  0.,  0.],\n",
        "         ..., \n",
        "         [ 0.,  0.,  0., ...,  0.,  0.,  0.],\n",
        "         [ 0.,  0.,  0., ...,  0.,  0.,  0.],\n",
        "         [ 0.,  0.,  0., ...,  0.,  0.,  0.]],\n",
        "\n",
        "        ..., \n",
        "        [[ 0.,  0.,  0., ...,  0.,  0.,  0.],\n",
        "         [ 0.,  0.,  0., ...,  0.,  0.,  0.],\n",
        "         [ 0.,  0.,  0., ...,  0.,  0.,  0.],\n",
        "         ..., \n",
        "         [ 0.,  0.,  0., ...,  0.,  0.,  0.],\n",
        "         [ 0.,  0.,  0., ...,  0.,  0.,  0.],\n",
        "         [ 0.,  0.,  0., ...,  0.,  0.,  0.]],\n",
        "\n",
        "        [[ 0.,  0.,  0., ...,  0.,  0.,  0.],\n",
        "         [ 0.,  0.,  0., ...,  0.,  0.,  0.],\n",
        "         [ 0.,  0.,  0., ...,  0.,  0.,  0.],\n",
        "         ..., \n",
        "         [ 0.,  0.,  0., ...,  0.,  0.,  0.],\n",
        "         [ 0.,  0.,  0., ...,  0.,  0.,  0.],\n",
        "         [ 0.,  0.,  0., ...,  0.,  0.,  0.]],\n",
        "\n",
        "        [[ 0.,  0.,  0., ...,  0.,  0.,  0.],\n",
        "         [ 0.,  0.,  0., ...,  0.,  0.,  0.],\n",
        "         [ 0.,  0.,  0., ...,  0.,  0.,  0.],\n",
        "         ..., \n",
        "         [ 0.,  0.,  0., ...,  0.,  0.,  0.],\n",
        "         [ 0.,  0.,  0., ...,  0.,  0.,  0.],\n",
        "         [ 0.,  0.,  0., ...,  0.,  0.,  0.]]],\n",
        "\n",
        "\n",
        "       [[[ 0.,  0.,  0., ...,  0.,  0.,  0.],\n",
        "         [ 0.,  0.,  0., ...,  0.,  0.,  0.],\n",
        "         [ 0.,  0.,  0., ...,  0.,  0.,  0.],\n",
        "         ..., \n",
        "         [ 0.,  0.,  0., ...,  0.,  0.,  0.],\n",
        "         [ 0.,  0.,  0., ...,  0.,  0.,  0.],\n",
        "         [ 0.,  0.,  0., ...,  0.,  0.,  0.]],\n",
        "\n",
        "        [[ 0.,  0.,  0., ...,  0.,  0.,  0.],\n",
        "         [ 0.,  0.,  0., ...,  0.,  0.,  0.],\n",
        "         [ 0.,  0.,  0., ...,  0.,  0.,  0.],\n",
        "         ..., \n",
        "         [ 0.,  0.,  0., ...,  0.,  0.,  0.],\n",
        "         [ 0.,  0.,  0., ...,  0.,  0.,  0.],\n",
        "         [ 0.,  0.,  0., ...,  0.,  0.,  0.]],\n",
        "\n",
        "        [[ 0.,  0.,  0., ...,  0.,  0.,  0.],\n",
        "         [ 0.,  0.,  0., ...,  0.,  0.,  0.],\n",
        "         [ 0.,  0.,  0., ...,  0.,  0.,  0.],\n",
        "         ..., \n",
        "         [ 0.,  0.,  0., ...,  0.,  0.,  0.],\n",
        "         [ 0.,  0.,  0., ...,  0.,  0.,  0.],\n",
        "         [ 0.,  0.,  0., ...,  0.,  0.,  0.]],\n",
        "\n",
        "        ..., \n",
        "        [[ 0.,  0.,  0., ...,  0.,  0.,  0.],\n",
        "         [ 0.,  0.,  0., ...,  0.,  0.,  0.],\n",
        "         [ 0.,  0.,  0., ...,  0.,  0.,  0.],\n",
        "         ..., \n",
        "         [ 0.,  0.,  0., ...,  0.,  0.,  0.],\n",
        "         [ 0.,  0.,  0., ...,  0.,  0.,  0.],\n",
        "         [ 0.,  0.,  0., ...,  0.,  0.,  0.]],\n",
        "\n",
        "        [[ 0.,  0.,  0., ...,  0.,  0.,  0.],\n",
        "         [ 0.,  0.,  0., ...,  0.,  0.,  0.],\n",
        "         [ 0.,  0.,  0., ...,  0.,  0.,  0.],\n",
        "         ..., \n",
        "         [ 0.,  0.,  0., ...,  0.,  0.,  0.],\n",
        "         [ 0.,  0.,  0., ...,  0.,  0.,  0.],\n",
        "         [ 0.,  0.,  0., ...,  0.,  0.,  0.]],\n",
        "\n",
        "        [[ 0.,  0.,  0., ...,  0.,  0.,  0.],\n",
        "         [ 0.,  0.,  0., ...,  0.,  0.,  0.],\n",
        "         [ 0.,  0.,  0., ...,  0.,  0.,  0.],\n",
        "         ..., \n",
        "         [ 0.,  0.,  0., ...,  0.,  0.,  0.],\n",
        "         [ 0.,  0.,  0., ...,  0.,  0.,  0.],\n",
        "         [ 0.,  0.,  0., ...,  0.,  0.,  0.]]],\n",
        "\n",
        "\n",
        "       ..., \n",
        "       [[[ 0.,  0.,  0., ...,  0.,  0.,  0.],\n",
        "         [ 0.,  0.,  0., ...,  0.,  0.,  0.],\n",
        "         [ 0.,  0.,  0., ...,  0.,  0.,  0.],\n",
        "         ..., \n",
        "         [ 0.,  0.,  0., ...,  0.,  0.,  0.],\n",
        "         [ 0.,  0.,  0., ...,  0.,  0.,  0.],\n",
        "         [ 0.,  0.,  0., ...,  0.,  0.,  0.]],\n",
        "\n",
        "        [[ 0.,  0.,  0., ...,  0.,  0.,  0.],\n",
        "         [ 0.,  0.,  0., ...,  0.,  0.,  0.],\n",
        "         [ 0.,  0.,  0., ...,  0.,  0.,  0.],\n",
        "         ..., \n",
        "         [ 0.,  0.,  0., ...,  0.,  0.,  0.],\n",
        "         [ 0.,  0.,  0., ...,  0.,  0.,  0.],\n",
        "         [ 0.,  0.,  0., ...,  0.,  0.,  0.]],\n",
        "\n",
        "        [[ 0.,  0.,  0., ...,  0.,  0.,  0.],\n",
        "         [ 0.,  0.,  0., ...,  0.,  0.,  0.],\n",
        "         [ 0.,  0.,  0., ...,  0.,  0.,  0.],\n",
        "         ..., \n",
        "         [ 0.,  0.,  0., ...,  0.,  0.,  0.],\n",
        "         [ 0.,  0.,  0., ...,  0.,  0.,  0.],\n",
        "         [ 0.,  0.,  0., ...,  0.,  0.,  0.]],\n",
        "\n",
        "        ..., \n",
        "        [[ 0.,  0.,  0., ...,  0.,  0.,  0.],\n",
        "         [ 0.,  0.,  0., ...,  0.,  0.,  0.],\n",
        "         [ 0.,  0.,  0., ...,  0.,  0.,  0.],\n",
        "         ..., \n",
        "         [ 0.,  0.,  0., ...,  0.,  0.,  0.],\n",
        "         [ 0.,  0.,  0., ...,  0.,  0.,  0.],\n",
        "         [ 0.,  0.,  0., ...,  0.,  0.,  0.]],\n",
        "\n",
        "        [[ 0.,  0.,  0., ...,  0.,  0.,  0.],\n",
        "         [ 0.,  0.,  0., ...,  0.,  0.,  0.],\n",
        "         [ 0.,  0.,  0., ...,  0.,  0.,  0.],\n",
        "         ..., \n",
        "         [ 0.,  0.,  0., ...,  0.,  0.,  0.],\n",
        "         [ 0.,  0.,  0., ...,  0.,  0.,  0.],\n",
        "         [ 0.,  0.,  0., ...,  0.,  0.,  0.]],\n",
        "\n",
        "        [[ 0.,  0.,  0., ...,  0.,  0.,  0.],\n",
        "         [ 0.,  0.,  0., ...,  0.,  0.,  0.],\n",
        "         [ 0.,  0.,  0., ...,  0.,  0.,  0.],\n",
        "         ..., \n",
        "         [ 0.,  0.,  0., ...,  0.,  0.,  0.],\n",
        "         [ 0.,  0.,  0., ...,  0.,  0.,  0.],\n",
        "         [ 0.,  0.,  0., ...,  0.,  0.,  0.]]],\n",
        "\n",
        "\n",
        "       [[[ 0.,  0.,  0., ...,  0.,  0.,  0.],\n",
        "         [ 0.,  0.,  0., ...,  0.,  0.,  0.],\n",
        "         [ 0.,  0.,  0., ...,  0.,  0.,  0.],\n",
        "         ..., \n",
        "         [ 0.,  0.,  0., ...,  0.,  0.,  0.],\n",
        "         [ 0.,  0.,  0., ...,  0.,  0.,  0.],\n",
        "         [ 0.,  0.,  0., ...,  0.,  0.,  0.]],\n",
        "\n",
        "        [[ 0.,  0.,  0., ...,  0.,  0.,  0.],\n",
        "         [ 0.,  0.,  0., ...,  0.,  0.,  0.],\n",
        "         [ 0.,  0.,  0., ...,  0.,  0.,  0.],\n",
        "         ..., \n",
        "         [ 0.,  0.,  0., ...,  0.,  0.,  0.],\n",
        "         [ 0.,  0.,  0., ...,  0.,  0.,  0.],\n",
        "         [ 0.,  0.,  0., ...,  0.,  0.,  0.]],\n",
        "\n",
        "        [[ 0.,  0.,  0., ...,  0.,  0.,  0.],\n",
        "         [ 0.,  0.,  0., ...,  0.,  0.,  0.],\n",
        "         [ 0.,  0.,  0., ...,  0.,  0.,  0.],\n",
        "         ..., \n",
        "         [ 0.,  0.,  0., ...,  0.,  0.,  0.],\n",
        "         [ 0.,  0.,  0., ...,  0.,  0.,  0.],\n",
        "         [ 0.,  0.,  0., ...,  0.,  0.,  0.]],\n",
        "\n",
        "        ..., \n",
        "        [[ 0.,  0.,  0., ...,  0.,  0.,  0.],\n",
        "         [ 0.,  0.,  0., ...,  0.,  0.,  0.],\n",
        "         [ 0.,  0.,  0., ...,  0.,  0.,  0.],\n",
        "         ..., \n",
        "         [ 0.,  0.,  0., ...,  0.,  0.,  0.],\n",
        "         [ 0.,  0.,  0., ...,  0.,  0.,  0.],\n",
        "         [ 0.,  0.,  0., ...,  0.,  0.,  0.]],\n",
        "\n",
        "        [[ 0.,  0.,  0., ...,  0.,  0.,  0.],\n",
        "         [ 0.,  0.,  0., ...,  0.,  0.,  0.],\n",
        "         [ 0.,  0.,  0., ...,  0.,  0.,  0.],\n",
        "         ..., \n",
        "         [ 0.,  0.,  0., ...,  0.,  0.,  0.],\n",
        "         [ 0.,  0.,  0., ...,  0.,  0.,  0.],\n",
        "         [ 0.,  0.,  0., ...,  0.,  0.,  0.]],\n",
        "\n",
        "        [[ 0.,  0.,  0., ...,  0.,  0.,  0.],\n",
        "         [ 0.,  0.,  0., ...,  0.,  0.,  0.],\n",
        "         [ 0.,  0.,  0., ...,  0.,  0.,  0.],\n",
        "         ..., \n",
        "         [ 0.,  0.,  0., ...,  0.,  0.,  0.],\n",
        "         [ 0.,  0.,  0., ...,  0.,  0.,  0.],\n",
        "         [ 0.,  0.,  0., ...,  0.,  0.,  0.]]],\n",
        "\n",
        "\n",
        "       [[[ 0.,  0.,  0., ...,  0.,  0.,  0.],\n",
        "         [ 0.,  0.,  0., ...,  0.,  0.,  0.],\n",
        "         [ 0.,  0.,  0., ...,  0.,  0.,  0.],\n",
        "         ..., \n",
        "         [ 0.,  0.,  0., ...,  0.,  0.,  0.],\n",
        "         [ 0.,  0.,  0., ...,  0.,  0.,  0.],\n",
        "         [ 0.,  0.,  0., ...,  0.,  0.,  0.]],\n",
        "\n",
        "        [[ 0.,  0.,  0., ...,  0.,  0.,  0.],\n",
        "         [ 0.,  0.,  0., ...,  0.,  0.,  0.],\n",
        "         [ 0.,  0.,  0., ...,  0.,  0.,  0.],\n",
        "         ..., \n",
        "         [ 0.,  0.,  0., ...,  0.,  0.,  0.],\n",
        "         [ 0.,  0.,  0., ...,  0.,  0.,  0.],\n",
        "         [ 0.,  0.,  0., ...,  0.,  0.,  0.]],\n",
        "\n",
        "        [[ 0.,  0.,  0., ...,  0.,  0.,  0.],\n",
        "         [ 0.,  0.,  0., ...,  0.,  0.,  0.],\n",
        "         [ 0.,  0.,  0., ...,  0.,  0.,  0.],\n",
        "         ..., \n",
        "         [ 0.,  0.,  0., ...,  0.,  0.,  0.],\n",
        "         [ 0.,  0.,  0., ...,  0.,  0.,  0.],\n",
        "         [ 0.,  0.,  0., ...,  0.,  0.,  0.]],\n",
        "\n",
        "        ..., \n",
        "        [[ 0.,  0.,  0., ...,  0.,  0.,  0.],\n",
        "         [ 0.,  0.,  0., ...,  0.,  0.,  0.],\n",
        "         [ 0.,  0.,  0., ...,  0.,  0.,  0.],\n",
        "         ..., \n",
        "         [ 0.,  0.,  0., ...,  0.,  0.,  0.],\n",
        "         [ 0.,  0.,  0., ...,  0.,  0.,  0.],\n",
        "         [ 0.,  0.,  0., ...,  0.,  0.,  0.]],\n",
        "\n",
        "        [[ 0.,  0.,  0., ...,  0.,  0.,  0.],\n",
        "         [ 0.,  0.,  0., ...,  0.,  0.,  0.],\n",
        "         [ 0.,  0.,  0., ...,  0.,  0.,  0.],\n",
        "         ..., \n",
        "         [ 0.,  0.,  0., ...,  0.,  0.,  0.],\n",
        "         [ 0.,  0.,  0., ...,  0.,  0.,  0.],\n",
        "         [ 0.,  0.,  0., ...,  0.,  0.,  0.]],\n",
        "\n",
        "        [[ 0.,  0.,  0., ...,  0.,  0.,  0.],\n",
        "         [ 0.,  0.,  0., ...,  0.,  0.,  0.],\n",
        "         [ 0.,  0.,  0., ...,  0.,  0.,  0.],\n",
        "         ..., \n",
        "         [ 0.,  0.,  0., ...,  0.,  0.,  0.],\n",
        "         [ 0.,  0.,  0., ...,  0.,  0.,  0.],\n",
        "         [ 0.,  0.,  0., ...,  0.,  0.,  0.]]]], dtype=float32)"
       ]
      }
     ],
     "prompt_number": 5
    },
    {
     "cell_type": "code",
     "collapsed": false,
     "input": [
      "PRETRAINED = caffe_root+'examples/mnist/lenet_snapshot/lenet_iter_99.caffemodel'\n",
      "\n",
      "net = caffe.Net(MODEL_FILE, PRETRAINED,caffe.TRAIN)"
     ],
     "language": "python",
     "metadata": {},
     "outputs": [],
     "prompt_number": 11
    },
    {
     "cell_type": "code",
     "collapsed": false,
     "input": [],
     "language": "python",
     "metadata": {},
     "outputs": [],
     "prompt_number": 11
    },
    {
     "cell_type": "code",
     "collapsed": false,
     "input": [
      "solver = caffe.get_solver(caffe_root+'example/mnist/lenet_snapshot/lenet_iter_99.solverstate')"
     ],
     "language": "python",
     "metadata": {},
     "outputs": []
    },
    {
     "cell_type": "code",
     "collapsed": false,
     "input": [
      "mean(net.blobs['data'].data)"
     ],
     "language": "python",
     "metadata": {},
     "outputs": [
      {
       "metadata": {},
       "output_type": "pyout",
       "prompt_number": 23,
       "text": [
        "0.0"
       ]
      }
     ],
     "prompt_number": 23
    },
    {
     "cell_type": "code",
     "collapsed": false,
     "input": [
      "net.blobs"
     ],
     "language": "python",
     "metadata": {},
     "outputs": [
      {
       "metadata": {},
       "output_type": "pyout",
       "prompt_number": 25,
       "text": [
        "OrderedDict([('data', <caffe._caffe.Blob object at 0x122689cf8>), ('conv1', <caffe._caffe.Blob object at 0x122689ed8>), ('pool1', <caffe._caffe.Blob object at 0x122689f50>), ('conv2', <caffe._caffe.Blob object at 0x12265c0c8>), ('pool2', <caffe._caffe.Blob object at 0x12265c140>), ('ip1', <caffe._caffe.Blob object at 0x12265c1b8>), ('ip2', <caffe._caffe.Blob object at 0x12265c230>), ('prob', <caffe._caffe.Blob object at 0x12265c2a8>)])"
       ]
      }
     ],
     "prompt_number": 25
    },
    {
     "cell_type": "code",
     "collapsed": false,
     "input": [
      "net.blobs['data'].data.shape"
     ],
     "language": "python",
     "metadata": {},
     "outputs": [
      {
       "metadata": {},
       "output_type": "pyout",
       "prompt_number": 18,
       "text": [
        "(64, 1, 28, 28)"
       ]
      }
     ],
     "prompt_number": 18
    },
    {
     "cell_type": "code",
     "collapsed": false,
     "input": [
      "caffe.proto.caffe_pb2.Datum().label"
     ],
     "language": "python",
     "metadata": {},
     "outputs": [
      {
       "metadata": {},
       "output_type": "pyout",
       "prompt_number": 7,
       "text": [
        "0"
       ]
      }
     ],
     "prompt_number": 7
    },
    {
     "cell_type": "code",
     "collapsed": false,
     "input": [
      "# Test self-made image\n",
      "\"\"\"\n",
      "img = caffe.io.load_image('./examples/images/two_g.jpg', color=False)\n",
      "img = img.astype(np.uint8)\n",
      "out = net.forward_all(data=np.asarray([img.transpose(2,0,1)]))\n",
      "print out['prob'][0]\n",
      "\"\"\"\n",
      "db_path = '../ndsb_competition/ndsb_trial_train_lmdb'\n",
      "lmdb_env = lmdb.open(db_path)\n",
      "lmdb_txn = lmdb_env.begin()\n",
      "lmdb_cursor = lmdb_txn.cursor()\n",
      "count = 0\n",
      "correct = 0\n",
      "for key, value in lmdb_cursor:\n",
      "    print \"Count:\"\n",
      "    print count\n",
      "    count = count + 1\n",
      "    datum = caffe.proto.caffe_pb2.Datum()\n",
      "    datum.ParseFromString(value)\n",
      "    label = int(datum.label)\n",
      "\n",
      "    image = image.transpose()\n",
      "    out = net.forward_all(data=np.asarray([image]))\n",
      "    predicted_label = out['prob'][0].argmax(axis=0)\n",
      "    print out['prob']\n",
      "    if label == predicted_label[0][0]:\n",
      "        correct = correct + 1\n",
      "    print(\"Label is class \" + str(label) + \", predicted class is \" + str(predicted_label[0][0]))\n",
      "\n",
      "print(str(correct) + \" out of \" + str(count) + \" were classified correctly\")"
     ],
     "language": "python",
     "metadata": {},
     "outputs": []
    },
    {
     "cell_type": "code",
     "collapsed": false,
     "input": [
      "transformer = caffe.io.Transformer({'data': net.blobs['data'].data.shape})"
     ],
     "language": "python",
     "metadata": {},
     "outputs": [],
     "prompt_number": 26
    },
    {
     "cell_type": "code",
     "collapsed": false,
     "input": [
      "net.blobs['data'].data.shape"
     ],
     "language": "python",
     "metadata": {},
     "outputs": [
      {
       "metadata": {},
       "output_type": "pyout",
       "prompt_number": 9,
       "text": [
        "(64, 1, 28, 28)"
       ]
      }
     ],
     "prompt_number": 9
    },
    {
     "cell_type": "code",
     "collapsed": false,
     "input": [
      "import amitgroup.plot as gr"
     ],
     "language": "python",
     "metadata": {},
     "outputs": [
      {
       "output_type": "stream",
       "stream": "stderr",
       "text": [
        "/Users/jiajunshen/Library/Enthought/Canopy_64bit/User/lib/python2.7/site-packages/matplotlib/__init__.py:1155: UserWarning:  This call to matplotlib.use() has no effect\n",
        "because the backend has already been chosen;\n",
        "matplotlib.use() must be called *before* pylab, matplotlib.pyplot,\n",
        "or matplotlib.backends is imported for the first time.\n",
        "\n",
        "  warnings.warn(_use_error_msg)\n"
       ]
      }
     ],
     "prompt_number": 29
    },
    {
     "cell_type": "code",
     "collapsed": false,
     "input": [
      "net.blobs"
     ],
     "language": "python",
     "metadata": {},
     "outputs": [
      {
       "metadata": {},
       "output_type": "pyout",
       "prompt_number": 40,
       "text": [
        "OrderedDict([('data', <caffe._caffe.Blob object at 0x127929a28>), ('conv1', <caffe._caffe.Blob object at 0x127929410>), ('pool1', <caffe._caffe.Blob object at 0x1279295f0>), ('conv2', <caffe._caffe.Blob object at 0x127929ed8>), ('pool2', <caffe._caffe.Blob object at 0x127929de8>), ('ip1', <caffe._caffe.Blob object at 0x127929aa0>), ('ip2', <caffe._caffe.Blob object at 0x127929230>), ('prob', <caffe._caffe.Blob object at 0x127929578>)])"
       ]
      }
     ],
     "prompt_number": 40
    },
    {
     "cell_type": "code",
     "collapsed": false,
     "input": [
      "gr.images(net.blobs['data'].data.reshape(64,28,28))"
     ],
     "language": "python",
     "metadata": {},
     "outputs": [
      {
       "metadata": {},
       "output_type": "display_data",
       "png": "[encoded data removed]",
       "text": [
        "<matplotlib.figure.Figure at 0x11b45e490>"
       ]
      }
     ],
     "prompt_number": 34
    },
    {
     "cell_type": "code",
     "collapsed": false,
     "input": [
      "net.blobs['conv1'].data.shape"
     ],
     "language": "python",
     "metadata": {},
     "outputs": [
      {
       "metadata": {},
       "output_type": "pyout",
       "prompt_number": 13,
       "text": [
        "(64, 20, 24, 24)"
       ]
      }
     ],
     "prompt_number": 13
    },
    {
     "cell_type": "code",
     "collapsed": false,
     "input": [
      "net.params"
     ],
     "language": "python",
     "metadata": {},
     "outputs": [
      {
       "metadata": {},
       "output_type": "pyout",
       "prompt_number": 14,
       "text": [
        "OrderedDict([('conv1', <caffe._caffe.BlobVec object at 0x11b39ed00>), ('conv2', <caffe._caffe.BlobVec object at 0x11b39eec0>), ('ip1', <caffe._caffe.BlobVec object at 0x11b39ee50>), ('ip2', <caffe._caffe.BlobVec object at 0x11b39ef30>)])"
       ]
      }
     ],
     "prompt_number": 14
    },
    {
     "cell_type": "code",
     "collapsed": false,
     "input": [
      "net.params['conv1'][0].data.shape"
     ],
     "language": "python",
     "metadata": {},
     "outputs": [
      {
       "metadata": {},
       "output_type": "pyout",
       "prompt_number": 22,
       "text": [
        "(20, 1, 5, 5)"
       ]
      }
     ],
     "prompt_number": 22
    },
    {
     "cell_type": "code",
     "collapsed": false,
     "input": [
      "net.params['conv1'][1].data.shape"
     ],
     "language": "python",
     "metadata": {},
     "outputs": [
      {
       "metadata": {},
       "output_type": "pyout",
       "prompt_number": 23,
       "text": [
        "(20,)"
       ]
      }
     ],
     "prompt_number": 23
    },
    {
     "cell_type": "code",
     "collapsed": false,
     "input": [
      "gr.images(net.params['conv1'][0].data.reshape(50,14,14),vmin = -2, vmax = 2)"
     ],
     "language": "python",
     "metadata": {},
     "outputs": [
      {
       "ename": "NameError",
       "evalue": "name 'gr' is not defined",
       "output_type": "pyerr",
       "traceback": [
        "\u001b[0;31m---------------------------------------------------------------------------\u001b[0m\n\u001b[0;31mNameError\u001b[0m                                 Traceback (most recent call last)",
        "\u001b[0;32m<ipython-input-2-7b8edaa037de>\u001b[0m in \u001b[0;36m<module>\u001b[0;34m()\u001b[0m\n\u001b[0;32m----> 1\u001b[0;31m \u001b[0mgr\u001b[0m\u001b[0;34m.\u001b[0m\u001b[0mimages\u001b[0m\u001b[0;34m(\u001b[0m\u001b[0mnet\u001b[0m\u001b[0;34m.\u001b[0m\u001b[0mparams\u001b[0m\u001b[0;34m[\u001b[0m\u001b[0;34m'conv1'\u001b[0m\u001b[0;34m]\u001b[0m\u001b[0;34m[\u001b[0m\u001b[0;36m0\u001b[0m\u001b[0;34m]\u001b[0m\u001b[0;34m.\u001b[0m\u001b[0mdata\u001b[0m\u001b[0;34m.\u001b[0m\u001b[0mreshape\u001b[0m\u001b[0;34m(\u001b[0m\u001b[0;36m20\u001b[0m\u001b[0;34m,\u001b[0m\u001b[0;36m5\u001b[0m\u001b[0;34m,\u001b[0m\u001b[0;36m5\u001b[0m\u001b[0;34m)\u001b[0m\u001b[0;34m,\u001b[0m\u001b[0mvmin\u001b[0m \u001b[0;34m=\u001b[0m \u001b[0;34m-\u001b[0m\u001b[0;36m2\u001b[0m\u001b[0;34m,\u001b[0m \u001b[0mvmax\u001b[0m \u001b[0;34m=\u001b[0m \u001b[0;36m2\u001b[0m\u001b[0;34m)\u001b[0m\u001b[0;34m\u001b[0m\u001b[0m\n\u001b[0m",
        "\u001b[0;31mNameError\u001b[0m: name 'gr' is not defined"
       ]
      }
     ],
     "prompt_number": 2
    },
    {
     "cell_type": "code",
     "collapsed": false,
     "input": [
      "net.params['conv1'][0].data.shape"
     ],
     "language": "python",
     "metadata": {},
     "outputs": [
      {
       "metadata": {},
       "output_type": "pyout",
       "prompt_number": 12,
       "text": [
        "(20, 1, 5, 5)"
       ]
      }
     ],
     "prompt_number": 12
    },
    {
     "cell_type": "code",
     "collapsed": false,
     "input": [
      "gr.images(net.params['conv1'][0].data.reshape(20,5,5))"
     ],
     "language": "python",
     "metadata": {},
     "outputs": [
      {
       "metadata": {},
       "output_type": "display_data",
       "png": "[encoded data removed]",
       "text": [
        "<matplotlib.figure.Figure at 0x127926ad0>"
       ]
      }
     ],
     "prompt_number": 49
    },
    {
     "cell_type": "heading",
     "level": 6,
     "metadata": {},
     "source": [
      "60000\u300164"
     ]
    },
    {
     "cell_type": "code",
     "collapsed": false,
     "input": [
      "60000/64"
     ],
     "language": "python",
     "metadata": {},
     "outputs": [
      {
       "metadata": {},
       "output_type": "pyout",
       "prompt_number": 29,
       "text": [
        "937"
       ]
      }
     ],
     "prompt_number": 29
    },
    {
     "cell_type": "code",
     "collapsed": false,
     "input": [
      "from amitgroup.io import load_mnist\n",
      "x, y = load_mnist(\"training\", range(10),asbytes=True)"
     ],
     "language": "python",
     "metadata": {},
     "outputs": [
      {
       "output_type": "stream",
       "stream": "stderr",
       "text": [
        "/Users/jiajunshen/Library/Enthought/Canopy_64bit/User/lib/python2.7/site-packages/matplotlib/__init__.py:1155: UserWarning:  This call to matplotlib.use() has no effect\n",
        "because the backend has already been chosen;\n",
        "matplotlib.use() must be called *before* pylab, matplotlib.pyplot,\n",
        "or matplotlib.backends is imported for the first time.\n",
        "\n",
        "  warnings.warn(_use_error_msg)\n"
       ]
      }
     ],
     "prompt_number": 1
    },
    {
     "cell_type": "code",
     "collapsed": false,
     "input": [
      "import amitgroup.plot as gr"
     ],
     "language": "python",
     "metadata": {},
     "outputs": [],
     "prompt_number": 2
    },
    {
     "cell_type": "code",
     "collapsed": false,
     "input": [
      "x.shape"
     ],
     "language": "python",
     "metadata": {},
     "outputs": [
      {
       "metadata": {},
       "output_type": "pyout",
       "prompt_number": 3,
       "text": [
        "(60000, 28, 28)"
       ]
      }
     ],
     "prompt_number": 3
    },
    {
     "cell_type": "code",
     "collapsed": false,
     "input": [
      "gr.images(x[:100])"
     ],
     "language": "python",
     "metadata": {},
     "outputs": [
      {
       "metadata": {},
       "output_type": "display_data",
       "png": "[encoded data removed]",
       "text": [
        "<matplotlib.figure.Figure at 0x1021330d0>"
       ]
      }
     ],
     "prompt_number": 8
    },
    {
     "cell_type": "code",
     "collapsed": false,
     "input": [
      "gr.images(x[:10])"
     ],
     "language": "python",
     "metadata": {},
     "outputs": [
      {
       "metadata": {},
       "output_type": "display_data",
       "png": "[encoded data removed]",
       "text": [
        "<matplotlib.figure.Figure at 0x10214fb50>"
       ]
      }
     ],
     "prompt_number": 9
    },
    {
     "cell_type": "code",
     "collapsed": false,
     "input": [
      "65%64"
     ],
     "language": "python",
     "metadata": {},
     "outputs": [
      {
       "metadata": {},
       "output_type": "pyout",
       "prompt_number": 37,
       "text": [
        "1"
       ]
      }
     ],
     "prompt_number": 37
    },
    {
     "cell_type": "code",
     "collapsed": false,
     "input": [
      "new_x = []\n",
      "new_y = []\n",
      "for i in range(60000):\n",
      "    if i%64 == 0:\n",
      "        new_x.append(x[3])\n",
      "        new_y.append(1)\n",
      "    new_x.append(x[i])\n",
      "    new_y.append(y[i])"
     ],
     "language": "python",
     "metadata": {},
     "outputs": [],
     "prompt_number": 4
    },
    {
     "cell_type": "code",
     "collapsed": false,
     "input": [
      "new_x = np.array(new_x)\n",
      "new_y = np.array(new_y)"
     ],
     "language": "python",
     "metadata": {},
     "outputs": [],
     "prompt_number": 5
    },
    {
     "cell_type": "code",
     "collapsed": false,
     "input": [
      "counts = []\n",
      "for i in range(938):\n",
      "    counts.append(i*65)"
     ],
     "language": "python",
     "metadata": {},
     "outputs": [],
     "prompt_number": 53
    },
    {
     "cell_type": "code",
     "collapsed": false,
     "input": [
      "60000/64"
     ],
     "language": "python",
     "metadata": {},
     "outputs": [
      {
       "metadata": {},
       "output_type": "pyout",
       "prompt_number": 48,
       "text": [
        "937"
       ]
      }
     ],
     "prompt_number": 48
    },
    {
     "cell_type": "code",
     "collapsed": false,
     "input": [
      "counts[468]"
     ],
     "language": "python",
     "metadata": {},
     "outputs": [
      {
       "metadata": {},
       "output_type": "pyout",
       "prompt_number": 62,
       "text": [
        "30420"
       ]
      }
     ],
     "prompt_number": 62
    },
    {
     "cell_type": "code",
     "collapsed": false,
     "input": [
      "gr.images(new_x[counts[::-1][:100]])"
     ],
     "language": "python",
     "metadata": {},
     "outputs": [
      {
       "metadata": {},
       "output_type": "display_data",
       "png": "[encoded data removed]",
       "text": [
        "<matplotlib.figure.Figure at 0x11ee19190>"
       ]
      }
     ],
     "prompt_number": 65
    },
    {
     "cell_type": "code",
     "collapsed": false,
     "input": [
      "new_y[:100]"
     ],
     "language": "python",
     "metadata": {},
     "outputs": [
      {
       "metadata": {},
       "output_type": "pyout",
       "prompt_number": 26,
       "text": [
        "array([1, 5, 0, 4, 1, 9, 2, 1, 3, 1, 4, 3, 5, 3, 6, 1, 7, 2, 8, 6, 9, 4, 0,\n",
        "       9, 1, 1, 2, 4, 3, 2, 7, 3, 8, 6, 9, 0, 5, 6, 0, 7, 6, 1, 8, 7, 9, 3,\n",
        "       9, 8, 5, 9, 3, 3, 0, 7, 4, 9, 8, 0, 9, 4, 1, 4, 4, 6, 0, 1, 4, 5, 6,\n",
        "       1, 0, 0, 1, 7, 1, 6, 3, 0, 2, 1, 1, 7, 9, 0, 2, 6, 7, 8, 3, 9, 0, 4,\n",
        "       6, 7, 4, 6, 8, 0, 7, 8])"
       ]
      }
     ],
     "prompt_number": 26
    },
    {
     "cell_type": "code",
     "collapsed": false,
     "input": [
      "x = x[:64]\n",
      "y = y[:64]"
     ],
     "language": "python",
     "metadata": {},
     "outputs": [],
     "prompt_number": 43
    },
    {
     "cell_type": "code",
     "collapsed": false,
     "input": [
      "new_x.shape"
     ],
     "language": "python",
     "metadata": {},
     "outputs": [
      {
       "metadata": {},
       "output_type": "pyout",
       "prompt_number": 21,
       "text": [
        "(60938, 28, 28)"
       ]
      }
     ],
     "prompt_number": 21
    },
    {
     "cell_type": "code",
     "collapsed": false,
     "input": [
      "new_x_1 = np.zeros((60938 * 3,28,28))"
     ],
     "language": "python",
     "metadata": {},
     "outputs": [],
     "prompt_number": 6
    },
    {
     "cell_type": "code",
     "collapsed": false,
     "input": [
      "new_x_1[:60938] = new_x\n",
      "new_x_1[60938:60938 * 2] = new_x\n",
      "new_x_1[60938 * 2:60938 * 3] = new_x"
     ],
     "language": "python",
     "metadata": {},
     "outputs": [],
     "prompt_number": 7
    },
    {
     "cell_type": "code",
     "collapsed": false,
     "input": [
      "new_y_1 = np.zeros(60938 * 3)\n",
      "new_y_1[:60938] = new_y\n",
      "new_y_1[60938:60938*2] = new_y\n",
      "new_y_1[60938*2:60938*3] = new_y"
     ],
     "language": "python",
     "metadata": {},
     "outputs": [],
     "prompt_number": 8
    },
    {
     "cell_type": "code",
     "collapsed": false,
     "input": [
      "new_x_1.shape"
     ],
     "language": "python",
     "metadata": {},
     "outputs": [
      {
       "metadata": {},
       "output_type": "pyout",
       "prompt_number": 10,
       "text": [
        "(182814, 28, 28)"
       ]
      }
     ],
     "prompt_number": 10
    },
    {
     "cell_type": "code",
     "collapsed": false,
     "input": [
      "new_y = np.array([new_y, new_y, new_y])"
     ],
     "language": "python",
     "metadata": {},
     "outputs": [],
     "prompt_number": 78
    },
    {
     "cell_type": "code",
     "collapsed": false,
     "input": [
      "new_y = np.swapaxes(new_y,0,1)"
     ],
     "language": "python",
     "metadata": {},
     "outputs": [],
     "prompt_number": 73
    },
    {
     "cell_type": "code",
     "collapsed": false,
     "input": [
      "import numpy as np\n",
      "import lmdb\n",
      "import caffe\n",
      "import deepdish as dd\n",
      "N = 60938\n",
      "\n",
      "# Let's pretend this is interesting data\n",
      "X = new_x.reshape(60938,1,28,28)\n",
      "y = new_y\n",
      "\n",
      "\n",
      "# We need to prepare the database for the size. If you don't have \n",
      "# deepdish installed, just set this to something comfortably big \n",
      "# (there is little drawback to settings this comfortably big).\n",
      "map_size = dd.bytesize(X) * 2\n",
      "\n",
      "env = lmdb.open('trainlmdb', map_size=map_size)\n",
      "\n",
      "for i in range(N):\n",
      "    datum = caffe.proto.caffe_pb2.Datum()\n",
      "    datum.channels = X.shape[1]\n",
      "    datum.height = X.shape[2]\n",
      "    datum.width = X.shape[3]\n",
      "    datum.data = X[i].tobytes()\n",
      "    datum.label = int(y[i])\n",
      "    str_id = '{:08}'.format(i)\n",
      "\n",
      "    with env.begin(write=True) as txn:\n",
      "        # txn is a Transaction object\n",
      "        # The encode is only essential in Python 3\n",
      "        txn.put(str_id.encode('ascii'), datum.SerializeToString())"
     ],
     "language": "python",
     "metadata": {},
     "outputs": [],
     "prompt_number": 6
    },
    {
     "cell_type": "code",
     "collapsed": false,
     "input": [
      "import numpy as np\n",
      "import lmdb\n",
      "import caffe\n",
      "x2, y2 = load_mnist(\"testing\", range(10),asbytes=True)\n",
      "N = x2.shape[0]\n",
      "\n",
      "# Let's pretend this is interesting data\n",
      "\n",
      "X = x2.reshape(10000,1,28,28)\n",
      "y = y2\n",
      "\n",
      "\n",
      "# We need to prepare the database for the size. If you don't have \n",
      "# deepdish installed, just set this to something comfortably big \n",
      "# (there is little drawback to settings this comfortably big).\n",
      "map_size = 100000000000\n",
      "\n",
      "env = lmdb.open('testlmdb', map_size=map_size)\n",
      "\n",
      "for i in range(N):\n",
      "    datum = caffe.proto.caffe_pb2.Datum()\n",
      "    datum.channels = X.shape[1]\n",
      "    datum.height = X.shape[2]\n",
      "    datum.width = X.shape[3]\n",
      "    datum.data = X[i].tobytes()\n",
      "    datum.label = int(y[i])\n",
      "    str_id = '{:08}'.format(i)\n",
      "\n",
      "    with env.begin(write=True) as txn:\n",
      "        # txn is a Transaction object\n",
      "        # The encode is only essential in Python 3\n",
      "        txn.put(str_id.encode('ascii'), datum.SerializeToString())"
     ],
     "language": "python",
     "metadata": {},
     "outputs": [],
     "prompt_number": 60
    },
    {
     "cell_type": "code",
     "collapsed": false,
     "input": [
      "map_size = 1000000000\n",
      "env = lmdb.open('../examples/mnist/mnist_train_lmdb', map_size=map_size)"
     ],
     "language": "python",
     "metadata": {},
     "outputs": [],
     "prompt_number": 13
    },
    {
     "cell_type": "code",
     "collapsed": false,
     "input": [],
     "language": "python",
     "metadata": {},
     "outputs": []
    },
    {
     "cell_type": "code",
     "collapsed": false,
     "input": [
      "with env.begin() as txn:\n",
      "    raw_datum = env.get(b'00000000')\n",
      "\n",
      "datum = caffe.proto.caffe_pb2.Datum()\n",
      "datum.ParseFromString(raw_datum)\n",
      "\n",
      "flat_x = np.fromstring(datum.data, dtype=np.uint8)\n",
      "x = flat_x.reshape(datum.channels, datum.height, datum.width)\n",
      "y = datum.label"
     ],
     "language": "python",
     "metadata": {},
     "outputs": [
      {
       "ename": "AttributeError",
       "evalue": "'Environment' object has no attribute 'get'",
       "output_type": "pyerr",
       "traceback": [
        "\u001b[0;31m---------------------------------------------------------------------------\u001b[0m\n\u001b[0;31mAttributeError\u001b[0m                            Traceback (most recent call last)",
        "\u001b[0;32m<ipython-input-14-45877049b483>\u001b[0m in \u001b[0;36m<module>\u001b[0;34m()\u001b[0m\n\u001b[1;32m      1\u001b[0m \u001b[0;32mwith\u001b[0m \u001b[0menv\u001b[0m\u001b[0;34m.\u001b[0m\u001b[0mbegin\u001b[0m\u001b[0;34m(\u001b[0m\u001b[0;34m)\u001b[0m \u001b[0;32mas\u001b[0m \u001b[0mtxn\u001b[0m\u001b[0;34m:\u001b[0m\u001b[0;34m\u001b[0m\u001b[0m\n\u001b[0;32m----> 2\u001b[0;31m     \u001b[0mraw_datum\u001b[0m \u001b[0;34m=\u001b[0m \u001b[0menv\u001b[0m\u001b[0;34m.\u001b[0m\u001b[0mget\u001b[0m\u001b[0;34m(\u001b[0m\u001b[0;34mb'00000000'\u001b[0m\u001b[0;34m)\u001b[0m\u001b[0;34m\u001b[0m\u001b[0m\n\u001b[0m\u001b[1;32m      3\u001b[0m \u001b[0;34m\u001b[0m\u001b[0m\n\u001b[1;32m      4\u001b[0m \u001b[0mdatum\u001b[0m \u001b[0;34m=\u001b[0m \u001b[0mcaffe\u001b[0m\u001b[0;34m.\u001b[0m\u001b[0mproto\u001b[0m\u001b[0;34m.\u001b[0m\u001b[0mcaffe_pb2\u001b[0m\u001b[0;34m.\u001b[0m\u001b[0mDatum\u001b[0m\u001b[0;34m(\u001b[0m\u001b[0;34m)\u001b[0m\u001b[0;34m\u001b[0m\u001b[0m\n\u001b[1;32m      5\u001b[0m \u001b[0mdatum\u001b[0m\u001b[0;34m.\u001b[0m\u001b[0mParseFromString\u001b[0m\u001b[0;34m(\u001b[0m\u001b[0mraw_datum\u001b[0m\u001b[0;34m)\u001b[0m\u001b[0;34m\u001b[0m\u001b[0m\n",
        "\u001b[0;31mAttributeError\u001b[0m: 'Environment' object has no attribute 'get'"
       ]
      }
     ],
     "prompt_number": 14
    },
    {
     "cell_type": "code",
     "collapsed": false,
     "input": [
      "x1.shape"
     ],
     "language": "python",
     "metadata": {},
     "outputs": [
      {
       "metadata": {},
       "output_type": "pyout",
       "prompt_number": 10,
       "text": [
        "(10000, 28, 28)"
       ]
      }
     ],
     "prompt_number": 10
    },
    {
     "cell_type": "code",
     "collapsed": false,
     "input": [
      "469 * 65"
     ],
     "language": "python",
     "metadata": {},
     "outputs": [
      {
       "metadata": {},
       "output_type": "pyout",
       "prompt_number": 59,
       "text": [
        "30485"
       ]
      }
     ],
     "prompt_number": 59
    },
    {
     "cell_type": "code",
     "collapsed": false,
     "input": [],
     "language": "python",
     "metadata": {},
     "outputs": []
    }
   ],
   "metadata": {}
  }
 ]
}