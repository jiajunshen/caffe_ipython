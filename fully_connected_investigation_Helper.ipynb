{
 "metadata": {
  "name": "",
  "signature": "sha256:de92f170f973d79a6cc9e5baceff4e48f0e4ec6fc391ae4269aa2c04a85c52a6"
 },
 "nbformat": 3,
 "nbformat_minor": 0,
 "worksheets": [
  {
   "cells": [
    {
     "cell_type": "code",
     "collapsed": false,
     "input": [
      "import caffe\n",
      "import os\n",
      "import deepdish as dd\n",
      "import amitgroup.plot as gr\n",
      "os.chdir(\"/Users/jiajunshen/Documents/Research/caffe/\")\n",
      "caffe.set_mode_cpu()\n",
      "solver = caffe.get_solver(\"./examples/mnist/lenet_solver.prototxt\")"
     ],
     "language": "python",
     "metadata": {},
     "outputs": [],
     "prompt_number": 94
    },
    {
     "cell_type": "code",
     "collapsed": false,
     "input": [
      "PRETRAINED = './examples/mnist/lenet_snapshot/old_lenet_snapshot/unique_10000.caffemodel'\n",
      "solver.net.copy_from(PRETRAINED)"
     ],
     "language": "python",
     "metadata": {},
     "outputs": [],
     "prompt_number": 95
    },
    {
     "cell_type": "code",
     "collapsed": false,
     "input": [
      "MODEL_FILE = './examples/mnist/lenet_train_test.prototxt'\n",
      "PRETRAINED = './examples/mnist/lenet_snapshot/old_lenet_snapshot/unique_10000.caffemodel'"
     ],
     "language": "python",
     "metadata": {},
     "outputs": [],
     "prompt_number": 96
    },
    {
     "cell_type": "code",
     "collapsed": false,
     "input": [
      "newfullyConnected = np.load(\"allCoef.npy\")\n",
      "newfullyConnectedBias = np.load(\"allBias.npy\")"
     ],
     "language": "python",
     "metadata": {},
     "outputs": [],
     "prompt_number": 97
    },
    {
     "cell_type": "code",
     "collapsed": false,
     "input": [
      "solver.net.params['conv2'][1].data[...] = np.zeros(50)\n",
      "solver.net.params['ip1'][0].data[...] = newfullyConnected\n",
      "solver.net.params['ip1'][1].data[...] = newfullyConnectedBias[:,0]\n",
      "solver.net.params['ip2'][0].data[...] = np.zeros((10,100))\n",
      "solver.net.params['ip2'][1].data[...] = np.zeros(10)"
     ],
     "language": "python",
     "metadata": {},
     "outputs": [],
     "prompt_number": 98
    },
    {
     "cell_type": "code",
     "collapsed": false,
     "input": [
      "import amitgroup.io\n",
      "data,label = amitgroup.io.load_mnist(selection = slice(6400))\n",
      "solver.net.blobs['data'].data[...] = data.reshape(6400,1,28,28)\n",
      "solver.net.blobs['label'].data[...] = label\n",
      "solver.net.params['ip1'][0].data\n",
      "solver.net.forward(start = 'conv2')\n",
      "solver.net.blobs['ip1'].data[:6400]\n",
      "#solver.net.blobs['pool2'].data"
     ],
     "language": "python",
     "metadata": {},
     "outputs": [
      {
       "metadata": {},
       "output_type": "pyout",
       "prompt_number": 99,
       "text": [
        "array([[ 0.19342026,  1.21907341,  2.08037066, ..., -0.20587033,\n",
        "         0.08240235,  1.53598177],\n",
        "       [ 1.4840126 , -0.68748182,  1.74523616, ..., -1.58940101,\n",
        "        -2.03204489,  2.14451861],\n",
        "       [-1.23376703, -1.19230628, -0.5736053 , ...,  0.87420362,\n",
        "         1.36391127, -1.70687854],\n",
        "       ..., \n",
        "       [ 0.21234423, -0.07739894,  0.34089044, ..., -1.3844583 ,\n",
        "        -0.76358509,  1.20582759],\n",
        "       [ 0.35411257,  0.75595003,  0.87887931, ...,  0.52510899,\n",
        "         1.04337978, -0.84694326],\n",
        "       [-0.97297722,  1.21340168,  0.55670333, ..., -2.23431849,\n",
        "         1.95969212,  1.50376952]], dtype=float32)"
       ]
      }
     ],
     "prompt_number": 99
    },
    {
     "cell_type": "code",
     "collapsed": false,
     "input": [
      "solver.net.blobs['ip1'].data.shape"
     ],
     "language": "python",
     "metadata": {},
     "outputs": [
      {
       "metadata": {},
       "output_type": "pyout",
       "prompt_number": 100,
       "text": [
        "(6400, 100)"
       ]
      }
     ],
     "prompt_number": 100
    },
    {
     "cell_type": "code",
     "collapsed": false,
     "input": [
      "np.max(solver.net.blobs['ip1'].data)"
     ],
     "language": "python",
     "metadata": {},
     "outputs": [
      {
       "metadata": {},
       "output_type": "pyout",
       "prompt_number": 101,
       "text": [
        "7.8017263"
       ]
      }
     ],
     "prompt_number": 101
    },
    {
     "cell_type": "code",
     "collapsed": false,
     "input": [
      "hist(solver.net.blobs['ip1'].data[:,15])"
     ],
     "language": "python",
     "metadata": {},
     "outputs": [
      {
       "metadata": {},
       "output_type": "pyout",
       "prompt_number": 103,
       "text": [
        "(array([   20.,    67.,   300.,   910.,  1382.,  1670.,  1429.,   521.,\n",
        "           88.,    13.]),\n",
        " array([-3.19829202, -2.5868634 , -1.97543478, -1.36400616, -0.75257754,\n",
        "        -0.14114892,  0.47027969,  1.08170831,  1.69313693,  2.30456555,\n",
        "         2.91599417]),\n",
        " <a list of 10 Patch objects>)"
       ]
      },
      {
       "metadata": {},
       "output_type": "display_data",
       "png": "[encoded data removed]",
       "text": [
        "<matplotlib.figure.Figure at 0x13bb61150>"
       ]
      }
     ],
     "prompt_number": 103
    },
    {
     "cell_type": "code",
     "collapsed": false,
     "input": [
      "solver.step(3000)"
     ],
     "language": "python",
     "metadata": {},
     "outputs": [],
     "prompt_number": 34
    },
    {
     "cell_type": "code",
     "collapsed": false,
     "input": [
      "solver.net.params['conv2'][1].data"
     ],
     "language": "python",
     "metadata": {},
     "outputs": [
      {
       "metadata": {},
       "output_type": "pyout",
       "prompt_number": 221,
       "text": [
        "array([ 0.,  0.,  0.,  0.,  0.,  0.,  0.,  0.,  0.,  0.,  0.,  0.,  0.,\n",
        "        0.,  0.,  0.,  0.,  0.,  0.,  0.,  0.,  0.,  0.,  0.,  0.,  0.,\n",
        "        0.,  0.,  0.,  0.,  0.,  0.,  0.,  0.,  0.,  0.,  0.,  0.,  0.,\n",
        "        0.,  0.,  0.,  0.,  0.,  0.,  0.,  0.,  0.,  0.,  0.], dtype=float32)"
       ]
      }
     ],
     "prompt_number": 221
    },
    {
     "cell_type": "code",
     "collapsed": false,
     "input": [
      "partition = [1, 8, 6, 2, 5]"
     ],
     "language": "python",
     "metadata": {},
     "outputs": [],
     "prompt_number": 239
    },
    {
     "cell_type": "code",
     "collapsed": false,
     "input": [
      "solver.net.blobs['label'].data"
     ],
     "language": "python",
     "metadata": {},
     "outputs": [
      {
       "metadata": {},
       "output_type": "pyout",
       "prompt_number": 128,
       "text": [
        "array([ 1.,  1.,  8.,  2.,  5.,  3.,  9.,  4.,  0.,  5.,  5.,  6.,  8.,\n",
        "        7.,  1.,  8.,  5.,  9.,  4.,  0.,  0.,  1.,  5.,  2.,  0.,  3.,\n",
        "        5.,  4.,  5.,  5.,  5.,  6.,  0.,  7.,  2.,  8.,  5.,  9.,  9.,\n",
        "        0.,  4.,  1.,  5.,  2.,  1.,  3.,  3.,  4.,  1.,  5.,  1.,  6.,\n",
        "        1.,  7.,  4.,  8.,  0.,  9.,  8.,  8.,  5.,  9.,  9.,  5.], dtype=float32)"
       ]
      }
     ],
     "prompt_number": 128
    },
    {
     "cell_type": "code",
     "collapsed": false,
     "input": [
      "modelResult = np.array([i in partition for i in solver.net.blobs['label'].data],dtype=np.int)"
     ],
     "language": "python",
     "metadata": {},
     "outputs": [],
     "prompt_number": 136
    },
    {
     "cell_type": "code",
     "collapsed": false,
     "input": [
      "result = solver.net.blobs['ip1'].data[:,0]\n",
      "result[result>=1]= 1\n",
      "result[result<1] = 0\n",
      "result = np.array(result, dtype=np.int)"
     ],
     "language": "python",
     "metadata": {},
     "outputs": [],
     "prompt_number": 151
    },
    {
     "cell_type": "code",
     "collapsed": false,
     "input": [
      "result.shape"
     ],
     "language": "python",
     "metadata": {},
     "outputs": [
      {
       "metadata": {},
       "output_type": "pyout",
       "prompt_number": 152,
       "text": [
        "(64,)"
       ]
      }
     ],
     "prompt_number": 152
    },
    {
     "cell_type": "code",
     "collapsed": false,
     "input": [
      "np.mean(modelResult == result)"
     ],
     "language": "python",
     "metadata": {},
     "outputs": [
      {
       "metadata": {},
       "output_type": "pyout",
       "prompt_number": 155,
       "text": [
        "0.5"
       ]
      }
     ],
     "prompt_number": 155
    },
    {
     "cell_type": "code",
     "collapsed": false,
     "input": [
      "modelResult.shape"
     ],
     "language": "python",
     "metadata": {},
     "outputs": [
      {
       "metadata": {},
       "output_type": "pyout",
       "prompt_number": 144,
       "text": [
        "(64,)"
       ]
      }
     ],
     "prompt_number": 144
    },
    {
     "cell_type": "code",
     "collapsed": false,
     "input": [
      "result"
     ],
     "language": "python",
     "metadata": {},
     "outputs": [
      {
       "metadata": {},
       "output_type": "pyout",
       "prompt_number": 153,
       "text": [
        "array([0, 1, 1, 1, 1, 1, 1, 1, 0, 1, 1, 1, 1, 0, 0, 1, 1, 1, 1, 0, 1, 1, 1,\n",
        "       1, 1, 1, 1, 1, 1, 1, 1, 1, 1, 0, 1, 1, 1, 1, 0, 0, 1, 1, 1, 1, 1, 1,\n",
        "       1, 1, 0, 1, 1, 1, 0, 0, 1, 1, 1, 1, 1, 1, 1, 1, 1, 1])"
       ]
      }
     ],
     "prompt_number": 153
    },
    {
     "cell_type": "code",
     "collapsed": false,
     "input": [
      "modelResult"
     ],
     "language": "python",
     "metadata": {},
     "outputs": [
      {
       "metadata": {},
       "output_type": "pyout",
       "prompt_number": 154,
       "text": [
        "array([0, 0, 1, 1, 0, 1, 0, 1, 0, 0, 0, 0, 1, 0, 0, 1, 0, 0, 1, 0, 0, 0, 0,\n",
        "       1, 0, 1, 0, 1, 0, 0, 0, 0, 0, 0, 1, 1, 0, 0, 0, 0, 1, 0, 0, 1, 0, 1,\n",
        "       1, 1, 0, 0, 0, 0, 0, 0, 1, 1, 0, 0, 1, 1, 0, 0, 0, 0])"
       ]
      }
     ],
     "prompt_number": 154
    },
    {
     "cell_type": "code",
     "collapsed": false,
     "input": [
      "solver.net.params['ip1'][0].data.shape"
     ],
     "language": "python",
     "metadata": {},
     "outputs": [
      {
       "metadata": {},
       "output_type": "pyout",
       "prompt_number": 69,
       "text": [
        "(100, 800)"
       ]
      }
     ],
     "prompt_number": 69
    },
    {
     "cell_type": "code",
     "collapsed": false,
     "input": [
      "hist(solver.net.blobs['ip1'].data[:,6])"
     ],
     "language": "python",
     "metadata": {},
     "outputs": [
      {
       "metadata": {},
       "output_type": "pyout",
       "prompt_number": 126,
       "text": [
        "(array([  1.,   3.,   6.,   5.,  12.,   9.,   9.,  16.,   2.,   1.]),\n",
        " array([-3.07890391, -2.53164363, -1.98438334, -1.43712306, -0.88986278,\n",
        "        -0.34260249,  0.20465779,  0.75191808,  1.29917836,  1.84643865,\n",
        "         2.39369893]),\n",
        " <a list of 10 Patch objects>)"
       ]
      },
      {
       "metadata": {},
       "output_type": "display_data",
       "png": "[encoded data removed]",
       "text": [
        "<matplotlib.figure.Figure at 0x1300d6450>"
       ]
      }
     ],
     "prompt_number": 126
    },
    {
     "cell_type": "code",
     "collapsed": false,
     "input": [
      "solver.net.blobs['pool2'].data.shape"
     ],
     "language": "python",
     "metadata": {},
     "outputs": [
      {
       "metadata": {},
       "output_type": "pyout",
       "prompt_number": 49,
       "text": [
        "(1280, 50, 4, 4)"
       ]
      }
     ],
     "prompt_number": 49
    },
    {
     "cell_type": "code",
     "collapsed": false,
     "input": [
      "np.dot(solver.net.blobs['pool2'].data.reshape(1280,800) , np.swapaxes(solver.net.params['ip1'][0].data,0,1)) + solver.net.params['ip1'][1].data"
     ],
     "language": "python",
     "metadata": {},
     "outputs": [
      {
       "metadata": {},
       "output_type": "pyout",
       "prompt_number": 51,
       "text": [
        "array([[ -0.65871704,  -5.5524435 ,  -4.61064625, ...,   1.93441427,\n",
        "         -0.75129324,  13.27339458],\n",
        "       [ -3.14115   ,   3.58894348,   1.40132105, ...,  -6.90937519,\n",
        "         -4.56220627,   5.7047925 ],\n",
        "       [-10.04877663,  -0.30704731,  -2.85556173, ...,   2.64081335,\n",
        "          5.30656195,   5.7798686 ],\n",
        "       ..., \n",
        "       [  1.95503104, -14.73888779, -26.6103878 , ...,  -6.76704454,\n",
        "        -13.01616287,  15.08613491],\n",
        "       [ -8.77313328,  -3.40015626,  -1.29641485, ...,  -5.17346048,\n",
        "         -4.75338459,   9.20446587],\n",
        "       [ -2.19266701, -14.81204891, -22.11824608, ...,  -6.19221878,\n",
        "        -11.98097038,  27.98649025]], dtype=float32)"
       ]
      }
     ],
     "prompt_number": 51
    },
    {
     "cell_type": "code",
     "collapsed": false,
     "input": [
      "solver.net.blobs['ip1'].data[:64]"
     ],
     "language": "python",
     "metadata": {},
     "outputs": [
      {
       "metadata": {},
       "output_type": "pyout",
       "prompt_number": 20,
       "text": [
        "array([[ -0.66066605,  -5.53013372,  -4.59012747, ...,   1.92647827,\n",
        "         -0.74868035,  13.21918774],\n",
        "       [ -3.13339901,   3.57554483,   1.39835453, ...,  -6.88276482,\n",
        "         -4.54470491,   5.68015146],\n",
        "       [-10.01403999,  -0.30522507,  -2.84189939, ...,   2.63012266,\n",
        "          5.28550816,   5.7549367 ],\n",
        "       ..., \n",
        "       [ -2.88142157,  -4.39101458, -13.11671543, ...,  -1.7294687 ,\n",
        "         -7.76638985,   8.89350986],\n",
        "       [ -3.87625599,  -7.47229385, -13.16328335, ...,  -9.7887001 ,\n",
        "        -14.67163754,  13.53425217],\n",
        "       [  5.01959562,   4.92831755,  -3.14092875, ...,  -6.82415676,\n",
        "         -9.55635548,   8.56821823]], dtype=float32)"
       ]
      }
     ],
     "prompt_number": 20
    },
    {
     "cell_type": "code",
     "collapsed": false,
     "input": [
      "calc = np.array(solver.net.blobs['ip1'].data)"
     ],
     "language": "python",
     "metadata": {},
     "outputs": [],
     "prompt_number": 61
    },
    {
     "cell_type": "code",
     "collapsed": false,
     "input": [
      "calc[calc>0] = 1"
     ],
     "language": "python",
     "metadata": {},
     "outputs": [],
     "prompt_number": 62
    },
    {
     "cell_type": "code",
     "collapsed": false,
     "input": [
      "calc[calc<=0] = 0"
     ],
     "language": "python",
     "metadata": {},
     "outputs": [],
     "prompt_number": 63
    },
    {
     "cell_type": "code",
     "collapsed": false,
     "input": [
      "np.mean(calc,axis = 0)"
     ],
     "language": "python",
     "metadata": {},
     "outputs": [
      {
       "metadata": {},
       "output_type": "pyout",
       "prompt_number": 68,
       "text": [
        "array([ 0.39218751,  0.1609375 ,  0.0828125 ,  0.38437501,  0.92343748,\n",
        "        0.28515625,  0.95546877,  0.54374999,  0.52031249,  0.24296875,\n",
        "        0.27421874,  0.85546875,  0.22031251,  0.11953125,  0.07578125,\n",
        "        0.4296875 ,  0.20078126,  0.47499999,  0.95859373,  0.44218749,\n",
        "        0.87968749,  0.103125  ,  0.91718751,  0.85468751,  0.38359374,\n",
        "        0.1125    ,  0.35703126,  0.1375    ,  0.76875001,  0.82421875,\n",
        "        0.08125   ,  0.24062499,  0.95937502,  0.93984377,  0.58671874,\n",
        "        0.89296877,  0.88203126,  0.27109376,  0.60000002,  0.14453125,\n",
        "        0.24140625,  0.1015625 ,  0.99531251,  0.55859375,  0.97421873,\n",
        "        0.7890625 ,  0.13906249,  0.96484375,  0.01328125,  0.10546875,\n",
        "        0.1484375 ,  0.41640624,  0.95234376,  0.090625  ,  0.18203124,\n",
        "        0.25546876,  0.08984375,  0.51796877,  0.07265625,  0.27734375,\n",
        "        0.21953125,  0.25468749,  0.97500002,  0.71718752,  0.04140625,\n",
        "        0.49453124,  0.95937502,  0.86328125,  0.77578127,  0.14296874,\n",
        "        0.38437501,  0.5078125 ,  0.01328125,  0.2140625 ,  0.19921875,\n",
        "        0.065625  ,  0.45468751,  0.97187501,  0.4765625 ,  0.77734375,\n",
        "        0.79140627,  0.0296875 ,  0.13359375,  0.29140624,  0.99531251,\n",
        "        0.94765627,  0.3359375 ,  0.74374998,  0.74296874,  0.48593751,\n",
        "        0.80312502,  0.89218748,  0.74687499,  0.12656251,  0.56640625,\n",
        "        0.08046875,  0.47343749,  0.25624999,  0.1609375 ,  0.984375  ], dtype=float32)"
       ]
      }
     ],
     "prompt_number": 68
    },
    {
     "cell_type": "code",
     "collapsed": false,
     "input": [
      "solver.net.backward()"
     ],
     "language": "python",
     "metadata": {},
     "outputs": [
      {
       "metadata": {},
       "output_type": "pyout",
       "prompt_number": 120,
       "text": [
        "{}"
       ]
      }
     ],
     "prompt_number": 120
    },
    {
     "cell_type": "code",
     "collapsed": false,
     "input": [],
     "language": "python",
     "metadata": {},
     "outputs": []
    },
    {
     "cell_type": "code",
     "collapsed": false,
     "input": [
      "solver.step(10000)"
     ],
     "language": "python",
     "metadata": {},
     "outputs": [],
     "prompt_number": 216
    },
    {
     "cell_type": "code",
     "collapsed": false,
     "input": [
      "solver.net.blobs['ip2'].data"
     ],
     "language": "python",
     "metadata": {},
     "outputs": [
      {
       "metadata": {},
       "output_type": "pyout",
       "prompt_number": 114,
       "text": [
        "array([[ nan,  nan,  nan,  nan,  nan,  nan,  nan,  nan,  nan,  nan],\n",
        "       [ nan,  nan,  nan,  nan,  nan,  nan,  nan,  nan,  nan,  nan],\n",
        "       [ nan,  nan,  nan,  nan,  nan,  nan,  nan,  nan,  nan,  nan],\n",
        "       [ nan,  nan,  nan,  nan,  nan,  nan,  nan,  nan,  nan,  nan],\n",
        "       [ nan,  nan,  nan,  nan,  nan,  nan,  nan,  nan,  nan,  nan],\n",
        "       [ nan,  nan,  nan,  nan,  nan,  nan,  nan,  nan,  nan,  nan],\n",
        "       [ nan,  nan,  nan,  nan,  nan,  nan,  nan,  nan,  nan,  nan],\n",
        "       [ nan,  nan,  nan,  nan,  nan,  nan,  nan,  nan,  nan,  nan],\n",
        "       [ nan,  nan,  nan,  nan,  nan,  nan,  nan,  nan,  nan,  nan],\n",
        "       [ nan,  nan,  nan,  nan,  nan,  nan,  nan,  nan,  nan,  nan],\n",
        "       [ nan,  nan,  nan,  nan,  nan,  nan,  nan,  nan,  nan,  nan],\n",
        "       [ nan,  nan,  nan,  nan,  nan,  nan,  nan,  nan,  nan,  nan],\n",
        "       [ nan,  nan,  nan,  nan,  nan,  nan,  nan,  nan,  nan,  nan],\n",
        "       [ nan,  nan,  nan,  nan,  nan,  nan,  nan,  nan,  nan,  nan],\n",
        "       [ nan,  nan,  nan,  nan,  nan,  nan,  nan,  nan,  nan,  nan],\n",
        "       [ nan,  nan,  nan,  nan,  nan,  nan,  nan,  nan,  nan,  nan],\n",
        "       [ nan,  nan,  nan,  nan,  nan,  nan,  nan,  nan,  nan,  nan],\n",
        "       [ nan,  nan,  nan,  nan,  nan,  nan,  nan,  nan,  nan,  nan],\n",
        "       [ nan,  nan,  nan,  nan,  nan,  nan,  nan,  nan,  nan,  nan],\n",
        "       [ nan,  nan,  nan,  nan,  nan,  nan,  nan,  nan,  nan,  nan],\n",
        "       [ nan,  nan,  nan,  nan,  nan,  nan,  nan,  nan,  nan,  nan],\n",
        "       [ nan,  nan,  nan,  nan,  nan,  nan,  nan,  nan,  nan,  nan],\n",
        "       [ nan,  nan,  nan,  nan,  nan,  nan,  nan,  nan,  nan,  nan],\n",
        "       [ nan,  nan,  nan,  nan,  nan,  nan,  nan,  nan,  nan,  nan],\n",
        "       [ nan,  nan,  nan,  nan,  nan,  nan,  nan,  nan,  nan,  nan],\n",
        "       [ nan,  nan,  nan,  nan,  nan,  nan,  nan,  nan,  nan,  nan],\n",
        "       [ nan,  nan,  nan,  nan,  nan,  nan,  nan,  nan,  nan,  nan],\n",
        "       [ nan,  nan,  nan,  nan,  nan,  nan,  nan,  nan,  nan,  nan],\n",
        "       [ nan,  nan,  nan,  nan,  nan,  nan,  nan,  nan,  nan,  nan],\n",
        "       [ nan,  nan,  nan,  nan,  nan,  nan,  nan,  nan,  nan,  nan],\n",
        "       [ nan,  nan,  nan,  nan,  nan,  nan,  nan,  nan,  nan,  nan],\n",
        "       [ nan,  nan,  nan,  nan,  nan,  nan,  nan,  nan,  nan,  nan],\n",
        "       [ nan,  nan,  nan,  nan,  nan,  nan,  nan,  nan,  nan,  nan],\n",
        "       [ nan,  nan,  nan,  nan,  nan,  nan,  nan,  nan,  nan,  nan],\n",
        "       [ nan,  nan,  nan,  nan,  nan,  nan,  nan,  nan,  nan,  nan],\n",
        "       [ nan,  nan,  nan,  nan,  nan,  nan,  nan,  nan,  nan,  nan],\n",
        "       [ nan,  nan,  nan,  nan,  nan,  nan,  nan,  nan,  nan,  nan],\n",
        "       [ nan,  nan,  nan,  nan,  nan,  nan,  nan,  nan,  nan,  nan],\n",
        "       [ nan,  nan,  nan,  nan,  nan,  nan,  nan,  nan,  nan,  nan],\n",
        "       [ nan,  nan,  nan,  nan,  nan,  nan,  nan,  nan,  nan,  nan],\n",
        "       [ nan,  nan,  nan,  nan,  nan,  nan,  nan,  nan,  nan,  nan],\n",
        "       [ nan,  nan,  nan,  nan,  nan,  nan,  nan,  nan,  nan,  nan],\n",
        "       [ nan,  nan,  nan,  nan,  nan,  nan,  nan,  nan,  nan,  nan],\n",
        "       [ nan,  nan,  nan,  nan,  nan,  nan,  nan,  nan,  nan,  nan],\n",
        "       [ nan,  nan,  nan,  nan,  nan,  nan,  nan,  nan,  nan,  nan],\n",
        "       [ nan,  nan,  nan,  nan,  nan,  nan,  nan,  nan,  nan,  nan],\n",
        "       [ nan,  nan,  nan,  nan,  nan,  nan,  nan,  nan,  nan,  nan],\n",
        "       [ nan,  nan,  nan,  nan,  nan,  nan,  nan,  nan,  nan,  nan],\n",
        "       [ nan,  nan,  nan,  nan,  nan,  nan,  nan,  nan,  nan,  nan],\n",
        "       [ nan,  nan,  nan,  nan,  nan,  nan,  nan,  nan,  nan,  nan],\n",
        "       [ nan,  nan,  nan,  nan,  nan,  nan,  nan,  nan,  nan,  nan],\n",
        "       [ nan,  nan,  nan,  nan,  nan,  nan,  nan,  nan,  nan,  nan],\n",
        "       [ nan,  nan,  nan,  nan,  nan,  nan,  nan,  nan,  nan,  nan],\n",
        "       [ nan,  nan,  nan,  nan,  nan,  nan,  nan,  nan,  nan,  nan],\n",
        "       [ nan,  nan,  nan,  nan,  nan,  nan,  nan,  nan,  nan,  nan],\n",
        "       [ nan,  nan,  nan,  nan,  nan,  nan,  nan,  nan,  nan,  nan],\n",
        "       [ nan,  nan,  nan,  nan,  nan,  nan,  nan,  nan,  nan,  nan],\n",
        "       [ nan,  nan,  nan,  nan,  nan,  nan,  nan,  nan,  nan,  nan],\n",
        "       [ nan,  nan,  nan,  nan,  nan,  nan,  nan,  nan,  nan,  nan],\n",
        "       [ nan,  nan,  nan,  nan,  nan,  nan,  nan,  nan,  nan,  nan],\n",
        "       [ nan,  nan,  nan,  nan,  nan,  nan,  nan,  nan,  nan,  nan],\n",
        "       [ nan,  nan,  nan,  nan,  nan,  nan,  nan,  nan,  nan,  nan],\n",
        "       [ nan,  nan,  nan,  nan,  nan,  nan,  nan,  nan,  nan,  nan],\n",
        "       [ nan,  nan,  nan,  nan,  nan,  nan,  nan,  nan,  nan,  nan]], dtype=float32)"
       ]
      }
     ],
     "prompt_number": 114
    },
    {
     "cell_type": "code",
     "collapsed": false,
     "input": [
      "solver.net.params['ip1'][1].data.shape"
     ],
     "language": "python",
     "metadata": {},
     "outputs": [
      {
       "metadata": {},
       "output_type": "pyout",
       "prompt_number": 88,
       "text": [
        "(100,)"
       ]
      }
     ],
     "prompt_number": 88
    },
    {
     "cell_type": "code",
     "collapsed": false,
     "input": [
      "np.swapaxes(solver.net.params['ip1'][0].data,0,1)"
     ],
     "language": "python",
     "metadata": {},
     "outputs": [
      {
       "metadata": {},
       "output_type": "pyout",
       "prompt_number": 85,
       "text": [
        "(800, 100)"
       ]
      }
     ],
     "prompt_number": 85
    },
    {
     "cell_type": "code",
     "collapsed": false,
     "input": [],
     "language": "python",
     "metadata": {},
     "outputs": []
    },
    {
     "cell_type": "code",
     "collapsed": false,
     "input": [
      "solver.net.params['ip2'][0].data"
     ],
     "language": "python",
     "metadata": {},
     "outputs": [
      {
       "metadata": {},
       "output_type": "pyout",
       "prompt_number": 94,
       "text": [
        "array([[ 0.,  0.,  0.,  0.,  0.,  0.,  0.,  0.,  0.,  0.,  0.,  0.,  0.,\n",
        "         0.,  0.,  0.,  0.,  0.,  0.,  0.,  0.,  0.,  0.,  0.,  0.,  0.,\n",
        "         0.,  0.,  0.,  0.,  0.,  0.,  0.,  0.,  0.,  0.,  0.,  0.,  0.,\n",
        "         0.,  0.,  0.,  0.,  0.,  0.,  0.,  0.,  0.,  0.,  0.,  0.,  0.,\n",
        "         0.,  0.,  0.,  0.,  0.,  0.,  0.,  0.,  0.,  0.,  0.,  0.,  0.,\n",
        "         0.,  0.,  0.,  0.,  0.,  0.,  0.,  0.,  0.,  0.,  0.,  0.,  0.,\n",
        "         0.,  0.,  0.,  0.,  0.,  0.,  0.,  0.,  0.,  0.,  0.,  0.,  0.,\n",
        "         0.,  0.,  0.,  0.,  0.,  0.,  0.,  0.,  0.],\n",
        "       [ 0.,  0.,  0.,  0.,  0.,  0.,  0.,  0.,  0.,  0.,  0.,  0.,  0.,\n",
        "         0.,  0.,  0.,  0.,  0.,  0.,  0.,  0.,  0.,  0.,  0.,  0.,  0.,\n",
        "         0.,  0.,  0.,  0.,  0.,  0.,  0.,  0.,  0.,  0.,  0.,  0.,  0.,\n",
        "         0.,  0.,  0.,  0.,  0.,  0.,  0.,  0.,  0.,  0.,  0.,  0.,  0.,\n",
        "         0.,  0.,  0.,  0.,  0.,  0.,  0.,  0.,  0.,  0.,  0.,  0.,  0.,\n",
        "         0.,  0.,  0.,  0.,  0.,  0.,  0.,  0.,  0.,  0.,  0.,  0.,  0.,\n",
        "         0.,  0.,  0.,  0.,  0.,  0.,  0.,  0.,  0.,  0.,  0.,  0.,  0.,\n",
        "         0.,  0.,  0.,  0.,  0.,  0.,  0.,  0.,  0.],\n",
        "       [ 0.,  0.,  0.,  0.,  0.,  0.,  0.,  0.,  0.,  0.,  0.,  0.,  0.,\n",
        "         0.,  0.,  0.,  0.,  0.,  0.,  0.,  0.,  0.,  0.,  0.,  0.,  0.,\n",
        "         0.,  0.,  0.,  0.,  0.,  0.,  0.,  0.,  0.,  0.,  0.,  0.,  0.,\n",
        "         0.,  0.,  0.,  0.,  0.,  0.,  0.,  0.,  0.,  0.,  0.,  0.,  0.,\n",
        "         0.,  0.,  0.,  0.,  0.,  0.,  0.,  0.,  0.,  0.,  0.,  0.,  0.,\n",
        "         0.,  0.,  0.,  0.,  0.,  0.,  0.,  0.,  0.,  0.,  0.,  0.,  0.,\n",
        "         0.,  0.,  0.,  0.,  0.,  0.,  0.,  0.,  0.,  0.,  0.,  0.,  0.,\n",
        "         0.,  0.,  0.,  0.,  0.,  0.,  0.,  0.,  0.],\n",
        "       [ 0.,  0.,  0.,  0.,  0.,  0.,  0.,  0.,  0.,  0.,  0.,  0.,  0.,\n",
        "         0.,  0.,  0.,  0.,  0.,  0.,  0.,  0.,  0.,  0.,  0.,  0.,  0.,\n",
        "         0.,  0.,  0.,  0.,  0.,  0.,  0.,  0.,  0.,  0.,  0.,  0.,  0.,\n",
        "         0.,  0.,  0.,  0.,  0.,  0.,  0.,  0.,  0.,  0.,  0.,  0.,  0.,\n",
        "         0.,  0.,  0.,  0.,  0.,  0.,  0.,  0.,  0.,  0.,  0.,  0.,  0.,\n",
        "         0.,  0.,  0.,  0.,  0.,  0.,  0.,  0.,  0.,  0.,  0.,  0.,  0.,\n",
        "         0.,  0.,  0.,  0.,  0.,  0.,  0.,  0.,  0.,  0.,  0.,  0.,  0.,\n",
        "         0.,  0.,  0.,  0.,  0.,  0.,  0.,  0.,  0.],\n",
        "       [ 0.,  0.,  0.,  0.,  0.,  0.,  0.,  0.,  0.,  0.,  0.,  0.,  0.,\n",
        "         0.,  0.,  0.,  0.,  0.,  0.,  0.,  0.,  0.,  0.,  0.,  0.,  0.,\n",
        "         0.,  0.,  0.,  0.,  0.,  0.,  0.,  0.,  0.,  0.,  0.,  0.,  0.,\n",
        "         0.,  0.,  0.,  0.,  0.,  0.,  0.,  0.,  0.,  0.,  0.,  0.,  0.,\n",
        "         0.,  0.,  0.,  0.,  0.,  0.,  0.,  0.,  0.,  0.,  0.,  0.,  0.,\n",
        "         0.,  0.,  0.,  0.,  0.,  0.,  0.,  0.,  0.,  0.,  0.,  0.,  0.,\n",
        "         0.,  0.,  0.,  0.,  0.,  0.,  0.,  0.,  0.,  0.,  0.,  0.,  0.,\n",
        "         0.,  0.,  0.,  0.,  0.,  0.,  0.,  0.,  0.],\n",
        "       [ 0.,  0.,  0.,  0.,  0.,  0.,  0.,  0.,  0.,  0.,  0.,  0.,  0.,\n",
        "         0.,  0.,  0.,  0.,  0.,  0.,  0.,  0.,  0.,  0.,  0.,  0.,  0.,\n",
        "         0.,  0.,  0.,  0.,  0.,  0.,  0.,  0.,  0.,  0.,  0.,  0.,  0.,\n",
        "         0.,  0.,  0.,  0.,  0.,  0.,  0.,  0.,  0.,  0.,  0.,  0.,  0.,\n",
        "         0.,  0.,  0.,  0.,  0.,  0.,  0.,  0.,  0.,  0.,  0.,  0.,  0.,\n",
        "         0.,  0.,  0.,  0.,  0.,  0.,  0.,  0.,  0.,  0.,  0.,  0.,  0.,\n",
        "         0.,  0.,  0.,  0.,  0.,  0.,  0.,  0.,  0.,  0.,  0.,  0.,  0.,\n",
        "         0.,  0.,  0.,  0.,  0.,  0.,  0.,  0.,  0.],\n",
        "       [ 0.,  0.,  0.,  0.,  0.,  0.,  0.,  0.,  0.,  0.,  0.,  0.,  0.,\n",
        "         0.,  0.,  0.,  0.,  0.,  0.,  0.,  0.,  0.,  0.,  0.,  0.,  0.,\n",
        "         0.,  0.,  0.,  0.,  0.,  0.,  0.,  0.,  0.,  0.,  0.,  0.,  0.,\n",
        "         0.,  0.,  0.,  0.,  0.,  0.,  0.,  0.,  0.,  0.,  0.,  0.,  0.,\n",
        "         0.,  0.,  0.,  0.,  0.,  0.,  0.,  0.,  0.,  0.,  0.,  0.,  0.,\n",
        "         0.,  0.,  0.,  0.,  0.,  0.,  0.,  0.,  0.,  0.,  0.,  0.,  0.,\n",
        "         0.,  0.,  0.,  0.,  0.,  0.,  0.,  0.,  0.,  0.,  0.,  0.,  0.,\n",
        "         0.,  0.,  0.,  0.,  0.,  0.,  0.,  0.,  0.],\n",
        "       [ 0.,  0.,  0.,  0.,  0.,  0.,  0.,  0.,  0.,  0.,  0.,  0.,  0.,\n",
        "         0.,  0.,  0.,  0.,  0.,  0.,  0.,  0.,  0.,  0.,  0.,  0.,  0.,\n",
        "         0.,  0.,  0.,  0.,  0.,  0.,  0.,  0.,  0.,  0.,  0.,  0.,  0.,\n",
        "         0.,  0.,  0.,  0.,  0.,  0.,  0.,  0.,  0.,  0.,  0.,  0.,  0.,\n",
        "         0.,  0.,  0.,  0.,  0.,  0.,  0.,  0.,  0.,  0.,  0.,  0.,  0.,\n",
        "         0.,  0.,  0.,  0.,  0.,  0.,  0.,  0.,  0.,  0.,  0.,  0.,  0.,\n",
        "         0.,  0.,  0.,  0.,  0.,  0.,  0.,  0.,  0.,  0.,  0.,  0.,  0.,\n",
        "         0.,  0.,  0.,  0.,  0.,  0.,  0.,  0.,  0.],\n",
        "       [ 0.,  0.,  0.,  0.,  0.,  0.,  0.,  0.,  0.,  0.,  0.,  0.,  0.,\n",
        "         0.,  0.,  0.,  0.,  0.,  0.,  0.,  0.,  0.,  0.,  0.,  0.,  0.,\n",
        "         0.,  0.,  0.,  0.,  0.,  0.,  0.,  0.,  0.,  0.,  0.,  0.,  0.,\n",
        "         0.,  0.,  0.,  0.,  0.,  0.,  0.,  0.,  0.,  0.,  0.,  0.,  0.,\n",
        "         0.,  0.,  0.,  0.,  0.,  0.,  0.,  0.,  0.,  0.,  0.,  0.,  0.,\n",
        "         0.,  0.,  0.,  0.,  0.,  0.,  0.,  0.,  0.,  0.,  0.,  0.,  0.,\n",
        "         0.,  0.,  0.,  0.,  0.,  0.,  0.,  0.,  0.,  0.,  0.,  0.,  0.,\n",
        "         0.,  0.,  0.,  0.,  0.,  0.,  0.,  0.,  0.],\n",
        "       [ 0.,  0.,  0.,  0.,  0.,  0.,  0.,  0.,  0.,  0.,  0.,  0.,  0.,\n",
        "         0.,  0.,  0.,  0.,  0.,  0.,  0.,  0.,  0.,  0.,  0.,  0.,  0.,\n",
        "         0.,  0.,  0.,  0.,  0.,  0.,  0.,  0.,  0.,  0.,  0.,  0.,  0.,\n",
        "         0.,  0.,  0.,  0.,  0.,  0.,  0.,  0.,  0.,  0.,  0.,  0.,  0.,\n",
        "         0.,  0.,  0.,  0.,  0.,  0.,  0.,  0.,  0.,  0.,  0.,  0.,  0.,\n",
        "         0.,  0.,  0.,  0.,  0.,  0.,  0.,  0.,  0.,  0.,  0.,  0.,  0.,\n",
        "         0.,  0.,  0.,  0.,  0.,  0.,  0.,  0.,  0.,  0.,  0.,  0.,  0.,\n",
        "         0.,  0.,  0.,  0.,  0.,  0.,  0.,  0.,  0.]], dtype=float32)"
       ]
      }
     ],
     "prompt_number": 94
    },
    {
     "cell_type": "code",
     "collapsed": false,
     "input": [
      "np.dot(solver.net.blobs['pool2'].data.reshape((64, 800)), np.swapaxes(newfullyConnected,0,1)) + newfullyConnectedBias.reshape(1, 100)"
     ],
     "language": "python",
     "metadata": {},
     "outputs": [
      {
       "metadata": {},
       "output_type": "pyout",
       "prompt_number": 194,
       "text": [
        "array([[  6.27614474,  -6.9420044 ,  -9.21786174, ...,  -2.37098642,\n",
        "         -5.39615263,   3.51827411],\n",
        "       [  1.60590907,  -7.49506465, -19.48543988, ...,  -2.79589804,\n",
        "         -7.19534964,   6.51483369],\n",
        "       [ -6.07770262, -10.88058395, -16.7668016 , ...,  -5.44293882,\n",
        "        -11.94713157,  10.08293697],\n",
        "       ..., \n",
        "       [  1.54151735, -10.95366194, -21.50875803, ...,  -1.33196411,\n",
        "        -11.59186778,  20.94944067],\n",
        "       [  2.59656567,   0.15661284, -17.93638199, ...,  -1.41165612,\n",
        "          0.44935042,  21.69076076],\n",
        "       [-11.38719371, -19.09161157,  -7.91496582, ...,  -6.2799755 ,\n",
        "        -12.05272067,  13.38415877]])"
       ]
      }
     ],
     "prompt_number": 194
    },
    {
     "cell_type": "code",
     "collapsed": false,
     "input": [
      "np.dot(solver.net.blobs['pool2'].data.reshape((64, 800)),np.swapaxes(solver.net.params['ip1'][0].data,0,1)) + solver.net.params['ip1'][1].data"
     ],
     "language": "python",
     "metadata": {},
     "outputs": [
      {
       "metadata": {},
       "output_type": "pyout",
       "prompt_number": 190,
       "text": [
        "array([[  6.27614498,  -6.94200373,  -9.21786308, ...,  -2.37098742,\n",
        "         -5.39615297,   3.51827407],\n",
        "       [  1.60590303,  -7.49506283, -19.48544693, ...,  -2.79589796,\n",
        "         -7.19534922,   6.51483297],\n",
        "       [ -6.07770681, -10.88058186, -16.76679993, ...,  -5.44293928,\n",
        "        -11.94713116,  10.08293724],\n",
        "       ..., \n",
        "       [  1.5415045 , -10.95366192, -21.50875854, ...,  -1.33196473,\n",
        "        -11.59186745,  20.94944   ],\n",
        "       [  2.59656668,   0.15660761, -17.9363842 , ...,  -1.41165519,\n",
        "          0.44934911,  21.69075966],\n",
        "       [-11.38719463, -19.09161186,  -7.91496658, ...,  -6.27997446,\n",
        "        -12.05272007,  13.38415909]], dtype=float32)"
       ]
      }
     ],
     "prompt_number": 190
    },
    {
     "cell_type": "code",
     "collapsed": false,
     "input": [
      "solver.net.forward(start = 'conv2')\n",
      "solver.net.blobs['pool2'].data"
     ],
     "language": "python",
     "metadata": {},
     "outputs": [
      {
       "metadata": {},
       "output_type": "pyout",
       "prompt_number": 156,
       "text": [
        "array([[[[ -2.53189057e-01,   1.57491758e-01,   2.12131038e-01,\n",
        "           -4.72002253e-02],\n",
        "         [ -1.02094984e+00,  -6.23376608e-01,   1.83733881e-01,\n",
        "           -2.28421949e-02],\n",
        "         [ -5.11889160e-01,  -4.73584652e-01,   5.20051956e-01,\n",
        "            7.19779253e-01],\n",
        "         [  6.76123619e-01,  -2.59357840e-01,  -4.83760983e-01,\n",
        "            1.41921625e-01]],\n",
        "\n",
        "        [[ -2.24038601e-01,   7.89011776e-01,   6.75067842e-01,\n",
        "            3.24750632e-01],\n",
        "         [ -5.36422431e-01,  -1.10052681e+00,  -2.18096934e-02,\n",
        "           -4.43551689e-01],\n",
        "         [ -5.26964366e-01,  -1.06944847e+00,  -4.93609637e-01,\n",
        "            7.14391828e-01],\n",
        "         [ -2.72261053e-01,   9.07365084e-02,  -2.00251620e-02,\n",
        "           -1.85087740e-01]],\n",
        "\n",
        "        [[ -4.40317154e-01,  -4.45350185e-02,  -1.61670521e-01,\n",
        "            1.38899878e-01],\n",
        "         [ -2.14924738e-02,   3.18591557e-02,  -8.22622925e-02,\n",
        "           -8.28103900e-01],\n",
        "         [ -5.87262213e-01,  -2.46522856e+00,  -1.27128565e+00,\n",
        "           -3.79227281e-01],\n",
        "         [ -1.22041440e+00,  -3.75693232e-01,   7.30081350e-02,\n",
        "            8.49273324e-01]],\n",
        "\n",
        "        ..., \n",
        "        [[  8.03533435e-01,   1.66830051e+00,   1.12162387e+00,\n",
        "            8.61371040e-01],\n",
        "         [ -2.41721541e-01,   2.34189332e-01,  -5.95997751e-01,\n",
        "           -1.80190551e+00],\n",
        "         [ -5.04187047e-01,  -5.23197949e-01,  -1.69355765e-01,\n",
        "           -7.03164995e-01],\n",
        "         [ -4.26740021e-01,  -8.72987270e-01,   6.51579857e-01,\n",
        "            7.63273716e-01]],\n",
        "\n",
        "        [[ -4.26366538e-01,  -1.73774302e-01,   4.25110251e-01,\n",
        "            4.20035034e-01],\n",
        "         [  2.37657167e-02,  -9.05232668e-01,   2.11163566e-01,\n",
        "            6.81312978e-01],\n",
        "         [ -2.76200503e-01,   1.94296569e-01,   2.74111517e-04,\n",
        "            2.80082077e-01],\n",
        "         [ -2.42068961e-01,   1.70679726e-02,  -2.62315214e-01,\n",
        "            9.99482274e-02]],\n",
        "\n",
        "        [[ -1.27338842e-01,  -1.00941345e-01,   1.31601635e-02,\n",
        "            1.94266528e-01],\n",
        "         [ -9.32174265e-01,  -1.78328186e-01,   1.57238796e-01,\n",
        "           -1.48454130e-01],\n",
        "         [  2.34866112e-01,   8.13480094e-02,   1.13646969e-01,\n",
        "           -1.25501320e-01],\n",
        "         [ -1.42266601e-01,  -8.33388090e-01,  -6.38761997e-01,\n",
        "            5.72229445e-01]]],\n",
        "\n",
        "\n",
        "       [[[  1.89083293e-01,  -1.17398649e-02,   2.84113474e-02,\n",
        "            7.36965418e-01],\n",
        "         [ -3.79093677e-01,  -5.96676886e-01,  -1.03535295e+00,\n",
        "            5.30930310e-02],\n",
        "         [  7.74646252e-02,  -4.93889526e-02,  -5.83560944e-01,\n",
        "           -2.38995716e-01],\n",
        "         [  3.64132643e-01,   6.91746414e-01,  -3.06587011e-01,\n",
        "           -2.45817780e-01]],\n",
        "\n",
        "        [[ -4.51669663e-01,   3.15437704e-01,   1.23555526e-01,\n",
        "            8.49330425e-01],\n",
        "         [  3.83865714e-01,  -4.52625334e-01,  -1.02569580e+00,\n",
        "            3.82139627e-03],\n",
        "         [  1.67680085e-01,  -1.06899834e+00,  -9.96770620e-01,\n",
        "           -9.01863649e-02],\n",
        "         [ -4.66889054e-01,   6.24530435e-01,   2.24290073e-01,\n",
        "           -2.34127462e-01]],\n",
        "\n",
        "        [[ -1.34158027e+00,  -9.59680915e-01,  -4.92170215e-01,\n",
        "            2.96456426e-01],\n",
        "         [ -4.15587038e-01,   2.67818719e-01,  -5.83459854e-01,\n",
        "           -1.39007181e-01],\n",
        "         [ -5.87722123e-01,  -1.59352696e+00,  -1.10151482e+00,\n",
        "           -8.24358046e-01],\n",
        "         [ -2.51114011e-01,   5.97094186e-02,   6.87446952e-01,\n",
        "            2.22363129e-01]],\n",
        "\n",
        "        ..., \n",
        "        [[ -1.66958913e-01,   1.00098133e-01,   1.22869301e+00,\n",
        "            1.23401642e+00],\n",
        "         [  4.79023129e-01,  -2.69630730e-01,  -4.94481325e-01,\n",
        "            3.97338182e-01],\n",
        "         [  1.41382247e-01,  -1.63270140e+00,  -1.35297251e+00,\n",
        "           -3.87926787e-01],\n",
        "         [  6.78005695e-01,   1.29784703e-01,   4.61439937e-01,\n",
        "            1.03938907e-01]],\n",
        "\n",
        "        [[ -1.02557376e-01,   3.12320024e-01,  -7.42074728e-01,\n",
        "            6.71191439e-02],\n",
        "         [  7.48454779e-02,  -1.82855159e-01,   3.17099720e-01,\n",
        "            1.12308159e-01],\n",
        "         [ -5.80119491e-01,   3.60807389e-01,   5.43833256e-01,\n",
        "           -5.62099367e-02],\n",
        "         [ -7.00248003e-01,   2.44117618e-01,  -4.07871157e-01,\n",
        "            1.02261722e-01]],\n",
        "\n",
        "        [[  1.64096907e-01,  -6.54452980e-01,  -3.28850150e-01,\n",
        "            5.94865382e-01],\n",
        "         [ -6.54530942e-01,  -8.23631167e-01,   4.69174355e-01,\n",
        "           -6.30165935e-02],\n",
        "         [ -3.12081158e-01,   8.98339331e-01,  -3.91488105e-01,\n",
        "           -6.83030069e-01],\n",
        "         [ -1.62837297e-01,  -1.72707945e-01,  -1.01495087e+00,\n",
        "            2.12163627e-02]]],\n",
        "\n",
        "\n",
        "       [[[  3.13442975e-01,  -1.30191520e-01,  -7.86414444e-02,\n",
        "            3.07910204e-01],\n",
        "         [  7.76199937e-01,   5.02498150e-01,  -1.19930506e-01,\n",
        "            4.45369661e-01],\n",
        "         [ -1.73877686e-01,  -1.01416394e-01,  -3.87027353e-01,\n",
        "            6.25973105e-01],\n",
        "         [ -4.92824703e-01,  -5.20689130e-01,  -6.32731020e-01,\n",
        "            4.75077212e-01]],\n",
        "\n",
        "        [[ -3.79633754e-02,  -1.88253492e-01,  -5.40696740e-01,\n",
        "            3.59004945e-01],\n",
        "         [  1.43970534e-01,   6.81381971e-02,  -1.13409668e-01,\n",
        "            3.45380038e-01],\n",
        "         [  2.10802048e-01,   4.24952894e-01,  -6.61625341e-03,\n",
        "            5.22664860e-02],\n",
        "         [ -8.04175198e-01,  -6.49840832e-01,  -5.54421246e-01,\n",
        "           -3.06955725e-01]],\n",
        "\n",
        "        [[ -6.46746755e-01,  -5.23527861e-01,  -1.36932302e+00,\n",
        "           -7.05681980e-01],\n",
        "         [ -1.08861303e+00,  -1.43141639e+00,  -1.15607321e+00,\n",
        "           -4.80648220e-01],\n",
        "         [  7.93696284e-01,   7.83889815e-02,  -1.61436662e-01,\n",
        "           -4.75413501e-02],\n",
        "         [  3.66720051e-01,   2.99810946e-01,  -2.42872179e-01,\n",
        "            1.46862447e-01]],\n",
        "\n",
        "        ..., \n",
        "        [[ -8.02194417e-01,  -2.94134498e-01,  -1.66375563e-01,\n",
        "            1.04364559e-01],\n",
        "         [ -4.05649960e-01,  -9.20423090e-01,  -4.67142314e-01,\n",
        "           -2.14240029e-01],\n",
        "         [  1.11490238e+00,   1.16957068e+00,   1.23144269e+00,\n",
        "            2.24924907e-02],\n",
        "         [ -4.59438592e-01,  -6.82157874e-01,   9.56353396e-02,\n",
        "           -1.53467104e-01]],\n",
        "\n",
        "        [[  2.44704604e-01,  -1.32644594e-01,   1.04070231e-01,\n",
        "            9.70999524e-03],\n",
        "         [  1.08322740e-01,  -2.08565995e-01,   2.48233601e-03,\n",
        "           -9.94597841e-03],\n",
        "         [  1.38001576e-01,  -1.17631897e-01,  -3.29500996e-02,\n",
        "            2.41348132e-01],\n",
        "         [ -6.10434860e-02,  -1.25532880e-01,  -1.54490292e-01,\n",
        "           -9.73668173e-02]],\n",
        "\n",
        "        [[  2.07092792e-01,   4.17303503e-01,   3.73371214e-01,\n",
        "           -2.30277717e-01],\n",
        "         [  2.01498479e-01,  -4.28626835e-02,  -2.41536736e-01,\n",
        "           -2.73574650e-01],\n",
        "         [  1.47794008e-01,  -1.13562673e-01,  -4.89505619e-01,\n",
        "            4.98417526e-01],\n",
        "         [ -1.66637331e-01,  -1.82281882e-01,  -9.90742087e-01,\n",
        "            3.89985740e-01]]],\n",
        "\n",
        "\n",
        "       ..., \n",
        "       [[[  1.62594825e-01,   4.43531930e-01,   2.51761138e-01,\n",
        "            2.66993523e-01],\n",
        "         [  1.48810670e-01,   7.18567312e-01,   2.39064157e-01,\n",
        "            1.16797201e-01],\n",
        "         [ -8.70902896e-01,  -3.89108777e-01,   2.95301862e-02,\n",
        "            1.16157524e-01],\n",
        "         [ -8.35571110e-01,  -3.53552282e-01,  -6.13314211e-01,\n",
        "           -6.22586794e-02]],\n",
        "\n",
        "        [[ -2.39831164e-01,  -1.33375674e-01,  -1.70013532e-01,\n",
        "            6.20898344e-02],\n",
        "         [ -3.20450425e-01,   3.97429347e-01,   5.65682650e-01,\n",
        "           -1.54566243e-01],\n",
        "         [ -3.88342947e-01,  -1.30823299e-01,   9.05371755e-02,\n",
        "            1.82955623e-01],\n",
        "         [ -5.76179206e-01,  -7.81471848e-01,  -5.48002601e-01,\n",
        "           -8.31265748e-02]],\n",
        "\n",
        "        [[ -1.12315619e+00,  -1.68394351e+00,  -1.53172278e+00,\n",
        "           -2.66124696e-01],\n",
        "         [ -1.31419337e+00,  -1.57086003e+00,  -9.98147964e-01,\n",
        "           -4.90616202e-01],\n",
        "         [ -7.21873283e-01,   4.50623572e-01,   5.98841906e-01,\n",
        "            6.56794608e-01],\n",
        "         [ -5.23159169e-02,   1.43791094e-01,   1.73026711e-01,\n",
        "            2.96722293e-01]],\n",
        "\n",
        "        ..., \n",
        "        [[ -3.62647846e-02,  -4.01208222e-01,  -1.00804126e+00,\n",
        "           -2.27720171e-01],\n",
        "         [  3.26860905e-01,   4.22572613e-01,  -3.95846486e-01,\n",
        "           -1.01368892e+00],\n",
        "         [  5.58621109e-01,   1.00912690e+00,   3.73642325e-01,\n",
        "            5.36974549e-01],\n",
        "         [ -1.92954078e-01,  -5.23601711e-01,  -7.22541571e-01,\n",
        "           -1.93598822e-01]],\n",
        "\n",
        "        [[ -3.07564884e-01,  -1.36784434e-01,   3.15276682e-01,\n",
        "            2.05021966e-02],\n",
        "         [ -4.48121428e-01,  -2.55042583e-01,   2.33657032e-01,\n",
        "            3.58695567e-01],\n",
        "         [ -4.19139490e-02,  -1.66688293e-01,   2.74140865e-01,\n",
        "            2.56612241e-01],\n",
        "         [ -4.50630859e-02,  -1.46976948e-01,   2.54974365e-01,\n",
        "            1.81078747e-01]],\n",
        "\n",
        "        [[  5.04281342e-01,   3.30125391e-01,  -9.17866379e-02,\n",
        "           -4.48211953e-02],\n",
        "         [  1.20573238e-01,  -1.14429146e-01,  -7.27835298e-01,\n",
        "            6.02982819e-01],\n",
        "         [ -5.22781074e-01,  -5.01872838e-01,   2.07607299e-02,\n",
        "            3.01398754e-01],\n",
        "         [ -8.88643622e-01,  -4.35982078e-01,   1.83132499e-01,\n",
        "           -1.07775614e-01]]],\n",
        "\n",
        "\n",
        "       [[[  8.22329447e-02,  -1.35320678e-01,   1.52342245e-01,\n",
        "           -3.48493606e-02],\n",
        "         [ -2.95212865e-01,   6.35795236e-01,   3.50208700e-01,\n",
        "            3.52066576e-01],\n",
        "         [ -8.73411536e-01,   2.20547110e-01,   1.69461697e-01,\n",
        "            9.11288500e-01],\n",
        "         [ -1.16878903e+00,  -2.93638378e-01,  -3.10762286e-01,\n",
        "            1.38057247e-01]],\n",
        "\n",
        "        [[ -4.10636514e-01,   5.48662364e-01,   3.63669842e-02,\n",
        "           -5.07129170e-02],\n",
        "         [ -5.16425550e-01,  -1.63065106e-01,  -4.79484677e-01,\n",
        "            1.88037381e-02],\n",
        "         [ -5.56643724e-01,   6.62880242e-02,  -6.07588440e-02,\n",
        "            7.84031451e-01],\n",
        "         [ -9.58917379e-01,  -1.15353620e+00,   5.00551403e-01,\n",
        "           -3.83395344e-01]],\n",
        "\n",
        "        [[ -1.45419693e+00,  -1.42046785e+00,  -1.16160703e+00,\n",
        "            1.35865867e-01],\n",
        "         [ -1.59120870e+00,  -1.25194204e+00,  -1.81330371e+00,\n",
        "           -1.14918768e+00],\n",
        "         [ -7.85491765e-01,  -1.44864905e+00,  -1.13572240e+00,\n",
        "           -1.45114213e-01],\n",
        "         [ -4.30618301e-02,   7.25143969e-01,   4.54320908e-01,\n",
        "            6.23323679e-01]],\n",
        "\n",
        "        ..., \n",
        "        [[ -1.11817434e-01,   2.09752858e-01,  -1.33785754e-01,\n",
        "            3.56419235e-02],\n",
        "         [  4.64370131e-01,   2.65090883e-01,  -1.88389945e+00,\n",
        "           -1.59379244e+00],\n",
        "         [  5.91831505e-01,   5.22304118e-01,   3.20968628e-01,\n",
        "            1.73253305e-02],\n",
        "         [  3.47616255e-01,   4.68222946e-01,   3.09584200e-01,\n",
        "            7.24467188e-02]],\n",
        "\n",
        "        [[ -2.76656419e-01,   1.55466378e-01,   2.79060692e-01,\n",
        "            5.15242398e-01],\n",
        "         [ -3.11263919e-01,  -8.98812652e-01,   4.14999366e-01,\n",
        "            5.35277605e-01],\n",
        "         [ -4.50233370e-01,  -2.09085733e-01,   5.52822590e-01,\n",
        "            3.75930429e-01],\n",
        "         [ -4.51459736e-01,  -6.63224280e-01,   2.92437673e-01,\n",
        "           -4.31655124e-02]],\n",
        "\n",
        "        [[  5.93743324e-01,  -1.55628681e-01,  -1.14238568e-01,\n",
        "            7.74376869e-01],\n",
        "         [  1.47764385e-01,  -1.05377400e+00,   7.60602534e-01,\n",
        "            3.70314233e-02],\n",
        "         [ -7.49414980e-01,   3.22210640e-01,   2.02535108e-01,\n",
        "            4.15147543e-02],\n",
        "         [ -1.56058466e+00,  -4.92413305e-02,  -1.22284257e+00,\n",
        "            3.22518378e-01]]],\n",
        "\n",
        "\n",
        "       [[[  2.63885260e-01,   6.34518683e-01,   1.07407832e+00,\n",
        "            1.17374170e+00],\n",
        "         [ -3.48280311e-01,  -6.30388558e-01,  -1.03638208e+00,\n",
        "            5.40905952e-01],\n",
        "         [ -1.14313968e-01,  -8.55146348e-01,  -1.05223191e+00,\n",
        "           -1.91838115e-01],\n",
        "         [  4.85360444e-01,   4.27532762e-01,  -5.88641167e-01,\n",
        "           -4.04898793e-01]],\n",
        "\n",
        "        [[ -6.24435484e-01,   5.51437810e-02,   3.39618891e-01,\n",
        "            1.10933948e+00],\n",
        "         [  1.20906986e-01,  -3.12751234e-01,  -4.79716659e-01,\n",
        "            5.06483555e-01],\n",
        "         [ -4.50852923e-02,  -1.32359552e+00,  -1.66195202e+00,\n",
        "           -1.60992384e-01],\n",
        "         [ -3.46166432e-01,  -2.80256569e-01,   3.12601358e-01,\n",
        "           -3.50831449e-01]],\n",
        "\n",
        "        [[ -2.02793527e+00,  -2.54986835e+00,  -2.06009388e+00,\n",
        "           -9.29217279e-01],\n",
        "         [ -1.69298375e+00,  -6.15341783e-01,  -4.66217816e-01,\n",
        "            2.59121120e-01],\n",
        "         [ -2.30497450e-01,  -2.32253000e-01,  -9.53402221e-01,\n",
        "           -6.94140136e-01],\n",
        "         [ -9.89054203e-01,  -1.02204800e+00,   1.63577467e-01,\n",
        "            1.17233582e-01]],\n",
        "\n",
        "        ..., \n",
        "        [[ -6.46366701e-02,   2.76866406e-01,   4.27290529e-01,\n",
        "           -2.53734589e-01],\n",
        "         [  1.29484653e-01,  -3.02627623e-01,   7.14776278e-01,\n",
        "            1.44393671e+00],\n",
        "         [  3.50228816e-01,  -9.71990108e-01,  -1.44880629e+00,\n",
        "           -4.95361716e-01],\n",
        "         [  3.70078087e-01,  -1.45307589e+00,  -4.84872013e-01,\n",
        "            1.08085513e-01]],\n",
        "\n",
        "        [[ -4.40153033e-01,  -1.05428703e-01,  -7.15932906e-01,\n",
        "            2.86306977e-01],\n",
        "         [  2.76988029e-01,   7.77172893e-02,  -2.94604152e-03,\n",
        "            2.41076082e-01],\n",
        "         [ -5.69658875e-01,  -2.52081692e-01,   6.64916575e-01,\n",
        "            2.21553594e-01],\n",
        "         [ -4.17521387e-01,   6.49548590e-01,   1.22346878e-01,\n",
        "           -1.21115275e-01]],\n",
        "\n",
        "        [[  4.37801242e-01,  -3.52871448e-01,  -2.09497407e-01,\n",
        "            4.48007286e-01],\n",
        "         [ -5.26547253e-01,  -1.05691922e+00,   2.03847781e-01,\n",
        "            4.41378802e-01],\n",
        "         [ -1.25772214e+00,   2.13981450e-01,  -2.15977356e-01,\n",
        "           -7.04132497e-01],\n",
        "         [ -3.35973203e-01,   5.91118455e-01,  -1.13562524e+00,\n",
        "           -4.65126812e-01]]]], dtype=float32)"
       ]
      }
     ],
     "prompt_number": 156
    },
    {
     "cell_type": "code",
     "collapsed": false,
     "input": [
      "label"
     ],
     "language": "python",
     "metadata": {},
     "outputs": [
      {
       "metadata": {},
       "output_type": "pyout",
       "prompt_number": 253,
       "text": [
        "array([5, 0, 4, 1, 9, 2, 1, 3, 1, 4, 3, 5, 3, 6, 1, 7, 2, 8, 6, 9, 4, 0, 9,\n",
        "       1, 1, 2, 4, 3, 2, 7, 3, 8, 6, 9, 0, 5, 6, 0, 7, 6, 1, 8, 7, 9, 3, 9,\n",
        "       8, 5, 9, 3, 3, 0, 7, 4, 9, 8, 0, 9, 4, 1, 4, 4, 6, 0], dtype=int8)"
       ]
      }
     ],
     "prompt_number": 253
    },
    {
     "cell_type": "code",
     "collapsed": false,
     "input": [
      "modelResult = np.array([i in partition for i in solver.net.blobs['label'].data],dtype=np.int)"
     ],
     "language": "python",
     "metadata": {},
     "outputs": [],
     "prompt_number": 254
    },
    {
     "cell_type": "code",
     "collapsed": false,
     "input": [
      "modelResult"
     ],
     "language": "python",
     "metadata": {},
     "outputs": [
      {
       "metadata": {},
       "output_type": "pyout",
       "prompt_number": 258,
       "text": [
        "array([1, 0, 0, 1, 0, 1, 1, 0, 1, 0, 0, 1, 0, 1, 1, 0, 1, 1, 1, 0, 0, 0, 0,\n",
        "       1, 1, 1, 0, 0, 1, 0, 0, 1, 1, 0, 0, 1, 1, 0, 0, 1, 1, 1, 0, 0, 0, 0,\n",
        "       1, 1, 0, 0, 0, 0, 0, 0, 0, 1, 0, 0, 0, 1, 0, 0, 1, 0])"
       ]
      }
     ],
     "prompt_number": 258
    },
    {
     "cell_type": "code",
     "collapsed": false,
     "input": [
      "solver.net.params['ip1'][0].data.shape"
     ],
     "language": "python",
     "metadata": {},
     "outputs": [
      {
       "metadata": {},
       "output_type": "pyout",
       "prompt_number": 272,
       "text": [
        "(100, 800)"
       ]
      }
     ],
     "prompt_number": 272
    },
    {
     "cell_type": "code",
     "collapsed": false,
     "input": [
      "solver.net.blobs['pool2'].data.reshape((64, 800)).shape"
     ],
     "language": "python",
     "metadata": {},
     "outputs": [
      {
       "metadata": {},
       "output_type": "pyout",
       "prompt_number": 274,
       "text": [
        "(64, 800)"
       ]
      }
     ],
     "prompt_number": 274
    },
    {
     "cell_type": "code",
     "collapsed": false,
     "input": [
      "solver.net.params['ip1'][0].data.shape"
     ],
     "language": "python",
     "metadata": {},
     "outputs": [
      {
       "metadata": {},
       "output_type": "pyout",
       "prompt_number": 282,
       "text": [
        "(100, 800)"
       ]
      }
     ],
     "prompt_number": 282
    },
    {
     "cell_type": "code",
     "collapsed": false,
     "input": [
      "newfullyConnected"
     ],
     "language": "python",
     "metadata": {},
     "outputs": [
      {
       "metadata": {},
       "output_type": "pyout",
       "prompt_number": 294,
       "text": [
        "array([[ 0.03272495, -0.23624029,  0.76370498, ..., -0.3541479 ,\n",
        "        -0.36213225, -0.21412054],\n",
        "       [ 0.16790764,  0.08216152, -0.28210237, ...,  0.5770373 ,\n",
        "        -0.43041291, -0.49542646],\n",
        "       [-0.62675121, -0.14647783,  0.49322765, ...,  0.52891543,\n",
        "        -1.04163067, -0.15212865],\n",
        "       ..., \n",
        "       [ 0.31111955,  0.23422262,  0.44645235, ..., -0.15128603,\n",
        "        -0.16429066,  0.47221946],\n",
        "       [ 0.80603186,  0.7939938 ,  0.33816793, ..., -0.56702415,\n",
        "         0.1260613 ,  0.45585127],\n",
        "       [-0.18623342, -0.12187746, -0.01492897, ..., -0.4087109 ,\n",
        "         0.33073566,  0.16589643]])"
       ]
      }
     ],
     "prompt_number": 294
    },
    {
     "cell_type": "code",
     "collapsed": false,
     "input": [
      "solver.net.blobs['pool2'].data"
     ],
     "language": "python",
     "metadata": {},
     "outputs": [
      {
       "metadata": {},
       "output_type": "pyout",
       "prompt_number": 295,
       "text": [
        "array([[[[  5.40210724e-01,   5.79570353e-01,   5.85432351e-02,\n",
        "           -3.90081443e-02],\n",
        "         [ -4.93959814e-01,  -1.33089113e+00,  -6.92014635e-01,\n",
        "            1.49458900e-01],\n",
        "         [ -6.94124877e-01,  -5.33099249e-02,   2.05698758e-01,\n",
        "            6.14708006e-01],\n",
        "         [ -1.05662510e-01,   9.19205427e-01,   3.85066986e-01,\n",
        "           -7.48496830e-01]],\n",
        "\n",
        "        [[ -1.63891137e-01,  -9.08908129e-01,  -4.17221725e-01,\n",
        "            2.00438112e-01],\n",
        "         [  1.14361763e+00,   4.34253156e-01,   5.61714917e-02,\n",
        "            5.27641535e-01],\n",
        "         [  4.37814981e-01,  -3.12905252e-01,  -1.24634898e+00,\n",
        "           -3.50701630e-01],\n",
        "         [ -4.39876795e-01,   1.63588926e-01,  -1.50333822e-01,\n",
        "            1.82426155e-01]],\n",
        "\n",
        "        [[ -4.90639269e-01,  -7.88426042e-01,  -4.67229560e-02,\n",
        "            1.48052111e-01],\n",
        "         [  3.67577404e-01,  -1.92143738e-01,   1.80566177e-01,\n",
        "            3.98978233e-01],\n",
        "         [  8.55228961e-01,   8.30491722e-01,   6.76189214e-02,\n",
        "            2.85597444e-01],\n",
        "         [  4.23301578e-01,  -4.34817791e-01,  -1.05044687e+00,\n",
        "           -1.13089018e-01]],\n",
        "\n",
        "        ..., \n",
        "        [[  5.66866040e-01,   7.82261968e-01,   3.87206316e-01,\n",
        "            3.97093296e-01],\n",
        "         [ -3.45040500e-01,  -2.75349673e-02,  -3.03344298e-02,\n",
        "           -6.36708915e-01],\n",
        "         [ -5.81862986e-01,   5.16093254e-01,   9.61468741e-02,\n",
        "           -9.06386077e-02],\n",
        "         [ -2.41669491e-02,  -8.15270424e-01,   4.66949910e-01,\n",
        "            3.39918196e-01]],\n",
        "\n",
        "        [[ -6.62798584e-02,   2.36630455e-01,   2.77507275e-01,\n",
        "            2.08954141e-03],\n",
        "         [  7.21910477e-01,  -3.52791511e-02,   5.85529566e-01,\n",
        "           -3.80378395e-01],\n",
        "         [ -1.96337044e-01,  -7.97666550e-01,  -8.39792132e-01,\n",
        "           -2.04132020e-01],\n",
        "         [ -4.21587437e-01,   1.02171198e-01,  -3.57664049e-01,\n",
        "            5.86762071e-01]],\n",
        "\n",
        "        [[  3.63885909e-01,   2.60929555e-01,   2.24068880e-01,\n",
        "            2.26142302e-01],\n",
        "         [ -5.20888031e-01,   2.56422088e-02,  -9.44858864e-02,\n",
        "            1.15628093e-01],\n",
        "         [ -2.72973984e-01,  -4.30146605e-01,   6.01264894e-01,\n",
        "            7.40792155e-01],\n",
        "         [  1.95671424e-01,   5.89489639e-01,   2.03895584e-01,\n",
        "           -2.22683534e-01]]],\n",
        "\n",
        "\n",
        "       [[[ -6.93222359e-02,   1.06215239e+00,   1.45641491e-02,\n",
        "           -5.37773252e-01],\n",
        "         [  1.67724490e-01,  -8.38431597e-01,  -6.13617659e-01,\n",
        "           -3.75136733e-04],\n",
        "         [ -1.02001572e+00,  -4.18734491e-01,   5.93428254e-01,\n",
        "            5.86126029e-01],\n",
        "         [  9.40258056e-02,   5.12841821e-01,  -1.06455609e-02,\n",
        "           -4.89540875e-01]],\n",
        "\n",
        "        [[ -2.10851416e-01,  -5.61777771e-01,  -4.59207773e-01,\n",
        "           -4.37405378e-01],\n",
        "         [ -1.53094247e-01,   5.48927784e-01,   1.06460690e+00,\n",
        "           -3.04542154e-01],\n",
        "         [  1.64601505e-01,  -2.04659104e-01,   4.27573323e-01,\n",
        "           -2.96545684e-01],\n",
        "         [ -5.39995968e-01,  -3.21180701e-01,   4.00418520e-01,\n",
        "            6.08715773e-01]],\n",
        "\n",
        "        [[  5.30186117e-01,  -2.84844100e-01,  -7.17571914e-01,\n",
        "           -1.85361773e-01],\n",
        "         [ -6.41260743e-02,   3.51734698e-01,   4.91590530e-01,\n",
        "           -6.61181033e-01],\n",
        "         [  1.72784835e-01,   1.16997099e+00,   8.63758266e-01,\n",
        "           -5.57351828e-01],\n",
        "         [ -1.15840685e+00,  -3.70496184e-01,  -6.12266958e-01,\n",
        "           -3.11893016e-01]],\n",
        "\n",
        "        ..., \n",
        "        [[  3.77926737e-01,  -1.48620740e-01,   1.17125320e+00,\n",
        "            4.53286618e-01],\n",
        "         [ -2.20508441e-01,  -3.30871642e-01,   5.30160442e-02,\n",
        "            4.33854163e-01],\n",
        "         [ -3.66457328e-02,  -3.33614498e-01,  -8.72291446e-01,\n",
        "           -1.61399245e-02],\n",
        "         [  5.38811862e-01,  -1.06556475e-01,  -3.85105282e-01,\n",
        "            1.66007757e-01]],\n",
        "\n",
        "        [[ -9.51074883e-02,   2.10426703e-01,  -7.87794411e-01,\n",
        "            2.86988020e-01],\n",
        "         [  2.33132273e-01,   2.13950902e-01,   7.21087277e-01,\n",
        "           -1.13997795e-01],\n",
        "         [ -6.15346134e-01,  -4.77900624e-01,  -2.14694023e-01,\n",
        "           -9.76340711e-01],\n",
        "         [ -3.90957296e-01,   6.66841030e-01,  -1.98415518e-01,\n",
        "           -1.33069083e-01]],\n",
        "\n",
        "        [[ -1.45860195e-01,   4.93407249e-01,   6.76214576e-01,\n",
        "            1.76367953e-01],\n",
        "         [  2.51669139e-02,   1.00184819e-02,  -4.03917938e-01,\n",
        "            4.99279916e-01],\n",
        "         [  3.20961662e-02,  -7.98156038e-02,  -8.40184689e-02,\n",
        "            7.56486773e-01],\n",
        "         [  4.72167999e-01,   4.50842798e-01,   2.82163233e-01,\n",
        "           -2.60452628e-01]]],\n",
        "\n",
        "\n",
        "       [[[  3.85368317e-02,  -9.58710164e-02,   1.30868927e-02,\n",
        "            2.28632450e-01],\n",
        "         [ -5.35249174e-01,  -6.84706345e-02,   1.29697070e-01,\n",
        "            4.07091975e-02],\n",
        "         [  4.36544567e-01,  -5.98611757e-02,  -4.95078683e-01,\n",
        "           -9.05704573e-02],\n",
        "         [ -6.04003906e-01,  -3.28850359e-01,  -7.73812607e-02,\n",
        "           -5.17630056e-02]],\n",
        "\n",
        "        [[ -2.87343860e-01,   2.65761614e-01,  -3.40870768e-01,\n",
        "           -4.06996340e-01],\n",
        "         [ -6.88361704e-01,   1.53986402e-02,  -4.38329399e-01,\n",
        "           -3.36556047e-01],\n",
        "         [ -2.04904020e-01,   1.79478779e-01,   1.09639741e-01,\n",
        "           -5.96659362e-01],\n",
        "         [  5.41424036e-01,   8.33550811e-01,   4.46716517e-01,\n",
        "           -9.03345525e-01]],\n",
        "\n",
        "        [[  6.05570853e-01,   3.75095665e-01,   7.39287972e-01,\n",
        "           -8.73235017e-02],\n",
        "         [  7.60723591e-01,   4.87985551e-01,   3.82931620e-01,\n",
        "           -4.71556723e-01],\n",
        "         [ -4.91140634e-01,  -6.22330904e-02,   9.92170423e-02,\n",
        "           -2.08683878e-01],\n",
        "         [  3.05691436e-02,   6.91123903e-02,  -4.62210327e-01,\n",
        "           -3.10430616e-01]],\n",
        "\n",
        "        ..., \n",
        "        [[ -2.22339272e-01,  -1.15370490e-01,   1.73646465e-01,\n",
        "            5.96071035e-03],\n",
        "         [  1.55922145e-01,  -9.58358943e-02,  -2.46919185e-01,\n",
        "            1.83536738e-01],\n",
        "         [  4.69001293e-01,   4.49600548e-01,   1.15938313e-01,\n",
        "            3.44162256e-01],\n",
        "         [ -3.83980095e-01,  -2.96600342e-01,  -6.67949840e-02,\n",
        "            3.32568020e-01]],\n",
        "\n",
        "        [[ -2.45740354e-01,  -6.17138922e-01,  -2.59488881e-01,\n",
        "           -5.98804951e-01],\n",
        "         [ -1.74956933e-01,  -1.10660851e+00,  -4.14575338e-01,\n",
        "           -5.18996000e-01],\n",
        "         [  1.07175624e+00,   2.00631827e-01,   2.78379675e-02,\n",
        "            3.32430631e-01],\n",
        "         [  4.76748288e-01,   6.57161295e-01,  -3.04207951e-01,\n",
        "            3.96701634e-01]],\n",
        "\n",
        "        [[  1.30350769e-01,  -3.86701152e-02,  -1.43075347e-01,\n",
        "            4.22050536e-01],\n",
        "         [  2.83436552e-02,   3.94100308e-01,   8.86966661e-02,\n",
        "            4.05460775e-01],\n",
        "         [  1.97659165e-01,   1.29098147e-01,  -1.67785451e-01,\n",
        "            1.24835901e-01],\n",
        "         [ -3.28869402e-01,  -7.78355151e-02,   2.74829809e-02,\n",
        "           -7.79946297e-02]]],\n",
        "\n",
        "\n",
        "       ..., \n",
        "       [[[ -5.02500832e-01,  -3.91975254e-01,   6.72701716e-01,\n",
        "            6.22471035e-01],\n",
        "         [ -1.93238273e-01,  -4.28581238e-03,  -2.67667860e-01,\n",
        "           -1.23739958e-01],\n",
        "         [  2.48413049e-02,  -3.92936170e-02,   2.63249308e-01,\n",
        "            4.59333509e-02],\n",
        "         [ -3.34453583e-01,  -3.36377978e-01,  -3.10827583e-01,\n",
        "           -2.81449594e-02]],\n",
        "\n",
        "        [[ -3.87004912e-01,  -3.24181795e-01,  -4.60660994e-01,\n",
        "           -5.84439337e-01],\n",
        "         [ -4.09923941e-01,  -1.27831995e+00,  -1.99276328e-01,\n",
        "            3.48741747e-03],\n",
        "         [  1.32655233e-01,  -1.30686775e-01,   2.12658584e-01,\n",
        "            3.20342243e-01],\n",
        "         [  7.60331273e-01,   9.12128687e-02,   7.69617558e-01,\n",
        "            2.79197097e-01]],\n",
        "\n",
        "        [[  6.16513610e-01,   8.56682062e-01,   4.05619711e-01,\n",
        "           -2.07038254e-01],\n",
        "         [  3.26577276e-01,   6.61500320e-02,   4.81014073e-01,\n",
        "            2.65048683e-01],\n",
        "         [  2.75176316e-01,  -7.24807680e-01,  -6.24910057e-01,\n",
        "           -5.60626574e-02],\n",
        "         [  1.12169012e-01,  -3.18483919e-01,  -1.91779938e-02,\n",
        "           -1.55572534e-01]],\n",
        "\n",
        "        ..., \n",
        "        [[  1.57144815e-01,   5.54224402e-02,  -1.36410519e-01,\n",
        "            4.86885011e-03],\n",
        "         [  4.03618693e-01,   4.63297278e-01,  -3.47095758e-01,\n",
        "            2.23061740e-02],\n",
        "         [  2.11677566e-01,   4.21352059e-01,   3.27304870e-01,\n",
        "           -2.39425823e-02],\n",
        "         [ -7.31008053e-01,  -4.05009985e-01,  -1.00672111e-01,\n",
        "            6.85809627e-02]],\n",
        "\n",
        "        [[ -6.13278449e-01,  -7.55622327e-01,  -6.88489199e-01,\n",
        "           -4.07628566e-01],\n",
        "         [ -6.75126493e-01,  -4.47118819e-01,  -6.90208018e-01,\n",
        "           -3.71019721e-01],\n",
        "         [  3.85064691e-01,   5.24710894e-01,   4.66443479e-01,\n",
        "            4.82426941e-01],\n",
        "         [  2.86839068e-01,   4.04397964e-01,   2.04112276e-01,\n",
        "            2.05320209e-01]],\n",
        "\n",
        "        [[ -7.99050033e-02,  -3.49878110e-02,   3.54621321e-01,\n",
        "            5.78294635e-01],\n",
        "         [ -1.61910318e-02,   3.61442357e-01,   3.87081057e-01,\n",
        "            1.66088194e-01],\n",
        "         [ -1.08598657e-01,   8.67944285e-02,   6.01422608e-01,\n",
        "           -9.91065055e-03],\n",
        "         [ -3.98090333e-01,  -1.12876169e-01,  -8.29721466e-02,\n",
        "            1.19997032e-01]]],\n",
        "\n",
        "\n",
        "       [[[ -3.31201106e-01,   1.88710898e-01,   1.10151000e-01,\n",
        "           -1.53159201e-01],\n",
        "         [ -3.75931710e-01,  -1.09078121e+00,  -1.93387464e-01,\n",
        "            3.99601758e-01],\n",
        "         [ -3.68088514e-01,  -9.72269997e-02,   9.59161073e-02,\n",
        "            4.71764416e-01],\n",
        "         [ -2.80237168e-01,  -3.52959573e-01,   2.15753913e-01,\n",
        "           -4.74670261e-01]],\n",
        "\n",
        "        [[ -3.22149992e-01,  -5.10661244e-01,  -7.47162938e-01,\n",
        "            3.62742722e-01],\n",
        "         [ -6.04258239e-01,  -1.68318659e-01,  -6.36247993e-01,\n",
        "            7.28692785e-02],\n",
        "         [  2.79390484e-01,  -1.20593357e+00,  -3.61166388e-01,\n",
        "           -4.62375909e-01],\n",
        "         [  1.27003574e+00,  -4.95538116e-05,   6.30322874e-01,\n",
        "           -2.01376490e-02]],\n",
        "\n",
        "        [[  8.06067467e-01,   3.24485660e-01,   2.79999226e-01,\n",
        "            4.64056671e-01],\n",
        "         [  7.37891316e-01,   1.35902375e-01,   8.69787455e-01,\n",
        "            4.03226793e-01],\n",
        "         [  3.97402614e-01,  -4.07261729e-01,   3.82351339e-01,\n",
        "            4.18246612e-02],\n",
        "         [ -2.08914205e-01,  -9.94628966e-01,  -8.89662027e-01,\n",
        "           -4.89755660e-01]],\n",
        "\n",
        "        ..., \n",
        "        [[  2.92679191e-01,  -8.16995725e-02,   6.47769213e-01,\n",
        "            1.13148242e-03],\n",
        "         [  1.59677312e-01,   7.09446073e-02,  -6.09975457e-01,\n",
        "           -3.59400034e-01],\n",
        "         [ -8.40009078e-02,   1.00164199e+00,   6.04262888e-01,\n",
        "           -1.01630792e-01],\n",
        "         [ -3.03091466e-01,   1.95986465e-01,  -3.31984133e-01,\n",
        "            5.71814477e-01]],\n",
        "\n",
        "        [[ -4.39014524e-01,  -3.51116270e-01,  -4.43087965e-01,\n",
        "            1.89134941e-01],\n",
        "         [ -2.84772933e-01,  -8.89258742e-01,  -9.24401581e-01,\n",
        "           -7.06549168e-01],\n",
        "         [ -1.98654830e-01,  -1.87289834e-01,  -3.75555336e-01,\n",
        "           -1.90759093e-01],\n",
        "         [  4.38593626e-01,   9.25499678e-01,   6.22536063e-01,\n",
        "            1.19416073e-01]],\n",
        "\n",
        "        [[ -6.90328181e-02,   4.07736264e-02,   3.65486234e-01,\n",
        "            2.36800015e-01],\n",
        "         [ -2.45519549e-01,   2.72619545e-01,   3.34505707e-01,\n",
        "            2.55390376e-01],\n",
        "         [ -1.63821474e-01,   1.84492677e-01,   4.48028207e-01,\n",
        "            8.07578981e-01],\n",
        "         [ -1.31169334e-01,  -7.09100515e-02,   4.12555635e-01,\n",
        "           -8.39289352e-02]]],\n",
        "\n",
        "\n",
        "       [[[ -3.58622700e-01,   6.00333571e-01,   1.35006040e-01,\n",
        "            2.12818384e-02],\n",
        "         [  1.37946218e-01,   1.66603133e-01,  -2.34178528e-01,\n",
        "           -6.06396616e-01],\n",
        "         [ -5.29545069e-01,  -1.03249538e+00,  -3.49023521e-01,\n",
        "            7.49488652e-01],\n",
        "         [ -1.09146476e+00,  -3.68518755e-03,   8.18941772e-01,\n",
        "           -3.87825400e-01]],\n",
        "\n",
        "        [[ -4.24672246e-01,  -1.33346915e+00,  -1.46833694e+00,\n",
        "           -7.43749559e-01],\n",
        "         [ -3.98955464e-01,   5.01500070e-02,   6.19579792e-01,\n",
        "           -3.66757661e-01],\n",
        "         [  1.85677350e-01,   9.15127635e-01,   1.36502278e+00,\n",
        "           -3.90563309e-01],\n",
        "         [ -6.08076394e-01,  -1.03527997e-02,   3.33059490e-01,\n",
        "            6.13290310e-01]],\n",
        "\n",
        "        [[  7.83304870e-01,   2.47715697e-01,  -1.40913278e-01,\n",
        "            3.19658577e-01],\n",
        "         [  6.89529598e-01,   1.47612393e-02,  -2.38577545e-01,\n",
        "           -5.39129317e-01],\n",
        "         [ -2.07483947e-01,   6.12094045e-01,   7.04138994e-01,\n",
        "           -8.37550163e-01],\n",
        "         [ -1.92677602e-01,   4.24291074e-01,  -3.41870070e-01,\n",
        "           -5.48446596e-01]],\n",
        "\n",
        "        ..., \n",
        "        [[  5.61110616e-01,   3.88043314e-01,   8.06380153e-01,\n",
        "           -7.08566308e-02],\n",
        "         [ -1.90792471e-01,  -9.88645703e-02,   8.73992741e-01,\n",
        "            8.59529436e-01],\n",
        "         [ -6.16169989e-01,  -5.72892785e-01,  -6.97733939e-01,\n",
        "           -2.37573907e-02],\n",
        "         [  8.15405369e-01,  -2.33105287e-01,  -7.61871397e-01,\n",
        "            3.86953443e-01]],\n",
        "\n",
        "        [[ -5.67825019e-01,  -7.93403506e-01,  -1.89741790e+00,\n",
        "           -6.07900262e-01],\n",
        "         [  2.46464740e-03,   3.42812628e-01,   3.61309469e-01,\n",
        "            2.42845267e-01],\n",
        "         [ -3.14154290e-02,   1.34813040e-03,   4.62508440e-01,\n",
        "           -6.07261062e-01],\n",
        "         [ -2.86190331e-01,   9.12558436e-02,  -1.39644459e-01,\n",
        "           -4.75559413e-01]],\n",
        "\n",
        "        [[ -1.55019969e-01,   4.59074885e-01,   1.09612989e+00,\n",
        "            5.36187947e-01],\n",
        "         [ -1.37188882e-01,   4.39380258e-01,   2.21433163e-01,\n",
        "            4.71626014e-01],\n",
        "         [  4.09948766e-01,  -2.81933516e-01,  -5.48090637e-01,\n",
        "            9.82802868e-01],\n",
        "         [ -1.45276770e-01,   4.85181808e-01,   8.25326085e-01,\n",
        "           -1.02436528e-01]]]], dtype=float32)"
       ]
      }
     ],
     "prompt_number": 295
    },
    {
     "cell_type": "code",
     "collapsed": false,
     "input": [
      "test = np.dot(solver.net.blobs['pool2'].data.reshape((64, 800)), np.swapaxes(solver.net.params['ip1'][0].data,0,1)) + solver.net.params['ip1'][1].data"
     ],
     "language": "python",
     "metadata": {},
     "outputs": [],
     "prompt_number": 290
    },
    {
     "cell_type": "code",
     "collapsed": false,
     "input": [
      "test[:,0]"
     ],
     "language": "python",
     "metadata": {},
     "outputs": [
      {
       "metadata": {},
       "output_type": "pyout",
       "prompt_number": 291,
       "text": [
        "array([  6.20887995,   7.78198004,   8.64043331,  12.93007278,\n",
        "         3.56032467,   9.05699921,   3.83809233,  14.50471497,\n",
        "         2.54475117,  11.63760853,   1.82329702,   7.32899618,\n",
        "         1.53612006,  10.40232182,   6.38635731,   3.79600668,\n",
        "         2.55087996,   8.90091133,   3.22634411,   3.59808779,\n",
        "        13.35772896,   7.90982771,   8.72833443,  11.94787979,\n",
        "         5.73151684,  20.46971321,   1.05976152,   7.4432435 ,\n",
        "         2.55551672,   5.22727156,   7.91942787,  14.9073143 ,\n",
        "         5.80379438,   4.76730728,   9.75541019,  10.35126591,\n",
        "        17.75879478,   7.95693684,  -6.54287052,   5.5788517 ,\n",
        "         6.88026142,   5.67600965,  -4.80778885,   4.23198795,\n",
        "        -3.09512234,  -1.38295281,   1.1136986 ,  12.11730957,\n",
        "        -4.0601368 ,   6.87722301,   3.45410156,   5.69794655,\n",
        "        -8.69279099,   8.00232697,   3.4462676 ,   7.36321211,\n",
        "         2.57636166,   1.98438239,  10.82489014,  13.77683544,\n",
        "        14.26567936,  11.40964413,  14.88722515,   0.07488883], dtype=float32)"
       ]
      }
     ],
     "prompt_number": 291
    },
    {
     "cell_type": "code",
     "collapsed": false,
     "input": [
      "solver.net.blobs['ip1'].data[:,0]"
     ],
     "language": "python",
     "metadata": {},
     "outputs": [
      {
       "metadata": {},
       "output_type": "pyout",
       "prompt_number": 292,
       "text": [
        "array([  6.20887995,   7.78198433,   8.64043427,  12.93007469,\n",
        "         3.5603199 ,   9.05700207,   3.83809185,  14.50471401,\n",
        "         2.54475117,  11.63761044,   1.82329881,   7.3289957 ,\n",
        "         1.53611922,  10.40232277,   6.38635921,   3.79600716,\n",
        "         2.55088043,   8.90091705,   3.22634411,   3.59808731,\n",
        "        13.35773468,   7.90982819,   8.72833443,  11.94787979,\n",
        "         5.73151398,  20.4697094 ,   1.05976152,   7.44324398,\n",
        "         2.55552459,   5.22727251,   7.91942787,  14.90731621,\n",
        "         5.80379677,   4.76731062,   9.75541019,  10.35127449,\n",
        "        17.75880051,   7.95693636,   0.        ,   5.57885122,\n",
        "         6.88026142,   5.67600918,   0.        ,   4.23198748,\n",
        "         0.        ,   0.        ,   1.11369634,  12.11730957,\n",
        "         0.        ,   6.87722588,   3.45410347,   5.69795036,\n",
        "         0.        ,   8.00232697,   3.44626522,   7.36321402,\n",
        "         2.57635164,   1.98438227,  10.82488823,  13.77684021,\n",
        "        14.2656765 ,  11.40964127,  14.88722229,   0.07489264], dtype=float32)"
       ]
      }
     ],
     "prompt_number": 292
    },
    {
     "cell_type": "code",
     "collapsed": false,
     "input": [],
     "language": "python",
     "metadata": {},
     "outputs": []
    },
    {
     "cell_type": "code",
     "collapsed": false,
     "input": [
      "result = solver.net.blobs['ip1'].data[:,0]\n",
      "result[result>0]= 1\n",
      "result[result<=0] = 0\n",
      "result = np.array(result, dtype=np.int)"
     ],
     "language": "python",
     "metadata": {},
     "outputs": [],
     "prompt_number": 259
    },
    {
     "cell_type": "code",
     "collapsed": false,
     "input": [
      "np.mean(result == modelResult)"
     ],
     "language": "python",
     "metadata": {},
     "outputs": [
      {
       "metadata": {},
       "output_type": "pyout",
       "prompt_number": 261,
       "text": [
        "0.515625"
       ]
      }
     ],
     "prompt_number": 261
    },
    {
     "cell_type": "code",
     "collapsed": false,
     "input": [
      "modelResult"
     ],
     "language": "python",
     "metadata": {},
     "outputs": [
      {
       "metadata": {},
       "output_type": "pyout",
       "prompt_number": 190,
       "text": [
        "array([0, 0, 1, 0, 0, 1, 0, 1, 0, 1, 1, 0, 1, 0, 0, 0, 1, 1, 0, 0, 1, 0, 0,\n",
        "       0, 0, 1, 1, 1, 1, 0, 1, 1, 0, 0, 0, 0, 0, 0, 0, 0, 0, 1, 0, 0, 1, 0,\n",
        "       1, 0, 0, 1, 1, 0, 0, 1, 0, 1, 0, 0, 1, 0, 1, 1, 0, 0])"
       ]
      }
     ],
     "prompt_number": 190
    },
    {
     "cell_type": "code",
     "collapsed": false,
     "input": [
      "np.mean(result == modelResult)"
     ],
     "language": "python",
     "metadata": {},
     "outputs": [
      {
       "metadata": {},
       "output_type": "pyout",
       "prompt_number": 191,
       "text": [
        "0.609375"
       ]
      }
     ],
     "prompt_number": 191
    },
    {
     "cell_type": "code",
     "collapsed": false,
     "input": [
      "solver.net.blobs['pool2'].data[:64].shape"
     ],
     "language": "python",
     "metadata": {},
     "outputs": [
      {
       "metadata": {},
       "output_type": "pyout",
       "prompt_number": 197,
       "text": [
        "(64, 50, 4, 4)"
       ]
      }
     ],
     "prompt_number": 197
    },
    {
     "cell_type": "code",
     "collapsed": false,
     "input": [],
     "language": "python",
     "metadata": {},
     "outputs": []
    }
   ],
   "metadata": {}
  }
 ]
}