{
 "metadata": {
  "name": "",
  "signature": "sha256:960b71b00e375433243a5965037f1061d6d2e15736c6e90bfd19617a3eee188b"
 },
 "nbformat": 3,
 "nbformat_minor": 0,
 "worksheets": [
  {
   "cells": [
    {
     "cell_type": "code",
     "collapsed": false,
     "input": [
      "import caffe\n",
      "import os\n",
      "import deepdish as dd\n",
      "import amitgroup.plot as gr\n",
      "os.chdir(\"/Users/jiajunshen/Documents/Research/caffe/\")\n",
      "caffe.set_mode_gpu()\n",
      "solver = caffe.get_solver(\"./examples/cifar10/cifar10_quick_solver.prototxt\")"
     ],
     "language": "python",
     "metadata": {},
     "outputs": [],
     "prompt_number": 45
    },
    {
     "cell_type": "code",
     "collapsed": false,
     "input": [
      "#randomly divide the entire label sets into to classes.\n",
      "def newPartition(trainingLabel, testLabel):\n",
      "    sampleNumber = np.random.randint(4, 7)\n",
      "    sampledGroup = np.random.choice(range(10),size = sampleNumber,replace=False)\n",
      "    newTestLabel = [testLabel[i] in sampledGroup for i in range(len(testLabel))]\n",
      "    newTestLabel = np.array(newTestLabel,dtype=np.int)\n",
      "    newTrainLabel = [trainingLabel[i] in sampledGroup for i in range(len(trainingLabel))]\n",
      "    newTrainLabel = np.array(newTrainLabel,dtype=np.int)\n",
      "    return newTrainLabel, newTestLabel, sampledGroup"
     ],
     "language": "python",
     "metadata": {},
     "outputs": [],
     "prompt_number": 46
    },
    {
     "cell_type": "code",
     "collapsed": false,
     "input": [
      "#new Partition test#\n",
      "trainingLabel = np.random.choice(range(10),size = 200, replace=True)\n",
      "testLabel = np.random.choice(range(10), size = 100, replace = True)\n",
      "np.mean(newPartition(trainingLabel, testLabel)[0])"
     ],
     "language": "python",
     "metadata": {},
     "outputs": [
      {
       "metadata": {},
       "output_type": "pyout",
       "prompt_number": 47,
       "text": [
        "0.55000000000000004"
       ]
      }
     ],
     "prompt_number": 47
    },
    {
     "cell_type": "code",
     "collapsed": false,
     "input": [
      "solver.net.params"
     ],
     "language": "python",
     "metadata": {},
     "outputs": [
      {
       "metadata": {},
       "output_type": "pyout",
       "prompt_number": 48,
       "text": [
        "OrderedDict([('conv1', <caffe._caffe.BlobVec object at 0x1277c3fa0>), ('conv2', <caffe._caffe.BlobVec object at 0x1277ef1a0>), ('conv3', <caffe._caffe.BlobVec object at 0x12c6cb280>), ('ip1', <caffe._caffe.BlobVec object at 0x12c6cb360>), ('ip2', <caffe._caffe.BlobVec object at 0x12c6cb3d0>)])"
       ]
      }
     ],
     "prompt_number": 48
    },
    {
     "cell_type": "code",
     "collapsed": false,
     "input": [
      "solver.net.params['conv1'][1].data[...] = np.zeros(32)\n",
      "solver.net.params['conv2'][1].data[...] = np.zeros(32)\n",
      "solver.net.params['conv3'][1].data[...] = np.zeros(64)\n",
      "solver.net.params['ip1'][1].data[...] = np.zeros(64)\n",
      "solver.net.params['ip2'][1].data[...] = np.zeros(10)"
     ],
     "language": "python",
     "metadata": {},
     "outputs": [],
     "prompt_number": 49
    },
    {
     "cell_type": "code",
     "collapsed": false,
     "input": [
      "solver.step(4000)"
     ],
     "language": "python",
     "metadata": {},
     "outputs": [],
     "prompt_number": 50
    },
    {
     "cell_type": "code",
     "collapsed": false,
     "input": [
      "solver.net.params['conv1'][1].data"
     ],
     "language": "python",
     "metadata": {},
     "outputs": [
      {
       "metadata": {},
       "output_type": "pyout",
       "prompt_number": 13,
       "text": [
        "array([ 0.,  0.,  0.,  0.,  0.,  0.,  0.,  0.,  0.,  0.,  0.,  0.,  0.,\n",
        "        0.,  0.,  0.,  0.,  0.,  0.,  0.,  0.,  0.,  0.,  0.,  0.,  0.,\n",
        "        0.,  0.,  0.,  0.,  0.,  0.], dtype=float32)"
       ]
      }
     ],
     "prompt_number": 13
    },
    {
     "cell_type": "code",
     "collapsed": false,
     "input": [
      "#Train the architecture, to get the nice filters#\n",
      "#for i in range(1000):\n",
      "solver.step(10000)"
     ],
     "language": "python",
     "metadata": {},
     "outputs": [],
     "prompt_number": 39
    },
    {
     "cell_type": "code",
     "collapsed": false,
     "input": [
      "from amitgroup import io"
     ],
     "language": "python",
     "metadata": {},
     "outputs": [],
     "prompt_number": 14
    },
    {
     "cell_type": "code",
     "collapsed": false,
     "input": [
      "trainingData,trainingDataLabel = io.load_cifar10(\"training\")\n",
      "trainingData = trainingData * 255\n",
      "trainingData = trainingData - np.mean(trainingData,axis = 0)\n",
      "trainingData = np.rollaxis(trainingData,3,1)"
     ],
     "language": "python",
     "metadata": {},
     "outputs": [],
     "prompt_number": 15
    },
    {
     "cell_type": "code",
     "collapsed": false,
     "input": [],
     "language": "python",
     "metadata": {},
     "outputs": [
      {
       "metadata": {},
       "output_type": "display_data",
       "png": "[encoded data removed]",
       "text": [
        "<matplotlib.figure.Figure at 0x119039b50>"
       ]
      }
     ],
     "prompt_number": 6
    },
    {
     "cell_type": "code",
     "collapsed": false,
     "input": [
      "testingData, testingDataLabel = io.load_cifar10(\"testing\")\n",
      "testingData = testingData * 255\n",
      "testingData = testingData - np.mean(testingData, axis = 0)\n",
      "testingData = np.rollaxis(testingData, 3, 1)"
     ],
     "language": "python",
     "metadata": {},
     "outputs": [],
     "prompt_number": 16
    },
    {
     "cell_type": "code",
     "collapsed": false,
     "input": [
      "solver.net.blobs['pool2'].data"
     ],
     "language": "python",
     "metadata": {},
     "outputs": [
      {
       "metadata": {},
       "output_type": "pyout",
       "prompt_number": 18,
       "text": [
        "array([[[[  1.61947811e+00,   4.35891628e+00,   5.90459013e+00, ...,\n",
        "            2.92322946e+00,   3.26655126e+00,   2.46181417e+00],\n",
        "         [  1.61919698e-01,   7.28759050e-01,   1.02224863e+00, ...,\n",
        "            0.00000000e+00,   1.85434669e-01,   0.00000000e+00],\n",
        "         [  2.56356597e-01,   7.85317421e-02,   0.00000000e+00, ...,\n",
        "            0.00000000e+00,   1.13973290e-01,   1.70959935e-01],\n",
        "         ..., \n",
        "         [  0.00000000e+00,   0.00000000e+00,   0.00000000e+00, ...,\n",
        "            0.00000000e+00,   0.00000000e+00,   0.00000000e+00],\n",
        "         [  0.00000000e+00,   0.00000000e+00,   0.00000000e+00, ...,\n",
        "            4.26880360e-01,   0.00000000e+00,   0.00000000e+00],\n",
        "         [  0.00000000e+00,   0.00000000e+00,   0.00000000e+00, ...,\n",
        "            0.00000000e+00,   0.00000000e+00,   0.00000000e+00]],\n",
        "\n",
        "        [[  1.99818230e+00,   3.41920997e-03,   2.88240075e-01, ...,\n",
        "            5.65262198e-01,   3.46254945e-01,   0.00000000e+00],\n",
        "         [  1.84016335e+00,   0.00000000e+00,   1.55746654e-01, ...,\n",
        "            2.78316832e+00,   1.44371891e+00,   0.00000000e+00],\n",
        "         [  3.11328554e+00,   0.00000000e+00,   0.00000000e+00, ...,\n",
        "            5.05454445e+00,   3.49090123e+00,   0.00000000e+00],\n",
        "         ..., \n",
        "         [  5.97889376e+00,   2.80859542e+00,   0.00000000e+00, ...,\n",
        "            6.11677456e+00,   1.24223680e+01,   3.59160900e+00],\n",
        "         [  3.92174578e+00,   1.89260697e+00,   0.00000000e+00, ...,\n",
        "            3.77287412e+00,   7.95711088e+00,   2.45609164e+00],\n",
        "         [  2.14178109e+00,   2.06681654e-01,   0.00000000e+00, ...,\n",
        "            9.25551355e-01,   1.93664455e+00,   6.23028457e-01]],\n",
        "\n",
        "        [[  2.99643588e+00,   2.29311323e+00,   4.11213589e+00, ...,\n",
        "            1.12104559e+00,   1.30306053e+00,   6.79081857e-01],\n",
        "         [  5.63216329e-01,   3.43527198e-01,   3.41835693e-02, ...,\n",
        "            0.00000000e+00,   0.00000000e+00,   0.00000000e+00],\n",
        "         [  0.00000000e+00,   9.10068750e-01,   2.74555057e-01, ...,\n",
        "            0.00000000e+00,   0.00000000e+00,   0.00000000e+00],\n",
        "         ..., \n",
        "         [  0.00000000e+00,   0.00000000e+00,   5.14205247e-02, ...,\n",
        "            1.02179968e+00,   2.44424582e-01,   0.00000000e+00],\n",
        "         [  1.03686795e-01,   0.00000000e+00,   5.14205247e-02, ...,\n",
        "            1.14841759e+00,   2.44424582e-01,   0.00000000e+00],\n",
        "         [  7.00045288e-01,   0.00000000e+00,   0.00000000e+00, ...,\n",
        "            7.43697882e-01,   5.01141131e-01,   0.00000000e+00]],\n",
        "\n",
        "        ..., \n",
        "        [[  0.00000000e+00,   0.00000000e+00,   0.00000000e+00, ...,\n",
        "            0.00000000e+00,   0.00000000e+00,   0.00000000e+00],\n",
        "         [  0.00000000e+00,   0.00000000e+00,   0.00000000e+00, ...,\n",
        "            0.00000000e+00,   0.00000000e+00,   0.00000000e+00],\n",
        "         [  0.00000000e+00,   0.00000000e+00,   0.00000000e+00, ...,\n",
        "            0.00000000e+00,   0.00000000e+00,   0.00000000e+00],\n",
        "         ..., \n",
        "         [  0.00000000e+00,   1.44443452e-01,   3.70871753e-01, ...,\n",
        "            0.00000000e+00,   0.00000000e+00,   1.47997105e+00],\n",
        "         [  2.33995736e-01,   9.05317843e-01,   1.22181976e+00, ...,\n",
        "            0.00000000e+00,   0.00000000e+00,   9.21462834e-01],\n",
        "         [  4.11025524e-01,   7.15235531e-01,   8.03562880e-01, ...,\n",
        "            0.00000000e+00,   0.00000000e+00,   6.54845834e-02]],\n",
        "\n",
        "        [[  7.88280487e-01,   3.04175057e-02,   2.13167250e-01, ...,\n",
        "            1.67540085e+00,   2.52061367e+00,   1.01772642e+00],\n",
        "         [  1.92243361e+00,   6.51322305e-01,   9.95555997e-01, ...,\n",
        "            2.81395364e+00,   4.12044621e+00,   2.56142735e+00],\n",
        "         [  3.34169221e+00,   3.11477304e+00,   2.10258365e+00, ...,\n",
        "            3.17063713e+00,   2.43385792e+00,   1.18011844e+00],\n",
        "         ..., \n",
        "         [  4.05301380e+00,   1.01421607e+00,   1.05084933e-01, ...,\n",
        "            6.41261244e+00,   5.72600746e+00,   7.62303293e-01],\n",
        "         [  4.99997711e+00,   2.18365192e+00,   2.02970052e+00, ...,\n",
        "            6.01340532e+00,   5.39262152e+00,   1.38516581e+00],\n",
        "         [  4.79344797e+00,   4.80355072e+00,   4.29223490e+00, ...,\n",
        "            5.70668793e+00,   5.10965014e+00,   1.55136085e+00]],\n",
        "\n",
        "        [[  7.09054708e-01,   2.42636538e+00,   1.02388716e+00, ...,\n",
        "            0.00000000e+00,   0.00000000e+00,   0.00000000e+00],\n",
        "         [  1.21297836e-01,   1.33876085e+00,   5.67274511e-01, ...,\n",
        "            2.13172268e-02,   0.00000000e+00,   0.00000000e+00],\n",
        "         [  0.00000000e+00,   0.00000000e+00,   0.00000000e+00, ...,\n",
        "            2.13172268e-02,   0.00000000e+00,   0.00000000e+00],\n",
        "         ..., \n",
        "         [  0.00000000e+00,   4.92369771e-01,   6.49375558e-01, ...,\n",
        "            0.00000000e+00,   0.00000000e+00,   0.00000000e+00],\n",
        "         [  0.00000000e+00,   2.64124542e-01,   4.90345538e-01, ...,\n",
        "            0.00000000e+00,   3.66094452e-03,   4.58345801e-01],\n",
        "         [  0.00000000e+00,   1.63374916e-01,   1.10050464e+00, ...,\n",
        "            0.00000000e+00,   3.94777626e-01,   2.16776252e+00]]],\n",
        "\n",
        "\n",
        "       [[[  1.90534151e+00,   4.92406178e+00,   4.96512222e+00, ...,\n",
        "            4.06288052e+00,   2.49399185e+00,   6.99392498e-01],\n",
        "         [  1.60537386e+00,   5.69069338e+00,   6.80202198e+00, ...,\n",
        "            0.00000000e+00,   0.00000000e+00,   0.00000000e+00],\n",
        "         [  2.03301620e+00,   7.50835848e+00,   1.05543957e+01, ...,\n",
        "            0.00000000e+00,   0.00000000e+00,   0.00000000e+00],\n",
        "         ..., \n",
        "         [  1.90971887e+00,   4.44830227e+00,   5.24587488e+00, ...,\n",
        "            1.13436174e+00,   6.45725369e-01,   0.00000000e+00],\n",
        "         [  0.00000000e+00,   0.00000000e+00,   0.00000000e+00, ...,\n",
        "            8.04946363e-01,   6.45981073e-01,   0.00000000e+00],\n",
        "         [  0.00000000e+00,   0.00000000e+00,   0.00000000e+00, ...,\n",
        "            0.00000000e+00,   0.00000000e+00,   0.00000000e+00]],\n",
        "\n",
        "        [[  1.86076844e+00,   0.00000000e+00,   0.00000000e+00, ...,\n",
        "            3.87880385e-01,   3.27796578e-01,   2.20389438e+00],\n",
        "         [  2.22448969e+00,   0.00000000e+00,   0.00000000e+00, ...,\n",
        "            4.65547562e-01,   0.00000000e+00,   3.97003144e-01],\n",
        "         [  2.25686264e+00,   0.00000000e+00,   6.18122995e-01, ...,\n",
        "            2.58484960e-01,   0.00000000e+00,   0.00000000e+00],\n",
        "         ..., \n",
        "         [  1.22801409e+01,   9.91902828e+00,   4.85077477e+00, ...,\n",
        "            1.15034151e+00,   4.57490730e+00,   2.05124164e+00],\n",
        "         [  6.38342857e+00,   3.99130535e+00,   2.86869764e+00, ...,\n",
        "            4.86540377e-01,   1.67579985e+00,   1.04141092e+00],\n",
        "         [  2.18186879e+00,   6.52172983e-01,   2.57148117e-01, ...,\n",
        "            0.00000000e+00,   0.00000000e+00,   0.00000000e+00]],\n",
        "\n",
        "        [[  1.23222017e+00,   4.12998438e+00,   5.42189360e+00, ...,\n",
        "            6.98388040e-01,   0.00000000e+00,   0.00000000e+00],\n",
        "         [  0.00000000e+00,   1.46417642e+00,   2.82747698e+00, ...,\n",
        "            0.00000000e+00,   0.00000000e+00,   0.00000000e+00],\n",
        "         [  0.00000000e+00,   1.53738809e+00,   4.53460503e+00, ...,\n",
        "            0.00000000e+00,   0.00000000e+00,   0.00000000e+00],\n",
        "         ..., \n",
        "         [  5.27977705e-01,   0.00000000e+00,   0.00000000e+00, ...,\n",
        "            4.09087467e+00,   2.81585860e+00,   0.00000000e+00],\n",
        "         [  5.79695702e+00,   1.11450207e+00,   0.00000000e+00, ...,\n",
        "            3.99278760e+00,   4.63697481e+00,   0.00000000e+00],\n",
        "         [  2.27326846e+00,   7.54915237e-01,   2.38696575e-01, ...,\n",
        "            5.05145788e-01,   1.47684705e+00,   0.00000000e+00]],\n",
        "\n",
        "        ..., \n",
        "        [[  0.00000000e+00,   0.00000000e+00,   0.00000000e+00, ...,\n",
        "            0.00000000e+00,   0.00000000e+00,   1.66062593e-01],\n",
        "         [  0.00000000e+00,   0.00000000e+00,   0.00000000e+00, ...,\n",
        "            0.00000000e+00,   0.00000000e+00,   5.61527193e-01],\n",
        "         [  0.00000000e+00,   0.00000000e+00,   0.00000000e+00, ...,\n",
        "            4.53080058e-01,   0.00000000e+00,   2.16462731e-01],\n",
        "         ..., \n",
        "         [  0.00000000e+00,   0.00000000e+00,   0.00000000e+00, ...,\n",
        "            1.48359144e+00,   1.33782476e-01,   1.56895041e-01],\n",
        "         [  0.00000000e+00,   0.00000000e+00,   0.00000000e+00, ...,\n",
        "            0.00000000e+00,   0.00000000e+00,   0.00000000e+00],\n",
        "         [  0.00000000e+00,   0.00000000e+00,   0.00000000e+00, ...,\n",
        "            0.00000000e+00,   0.00000000e+00,   0.00000000e+00]],\n",
        "\n",
        "        [[  1.67965269e+00,   1.47762072e+00,   1.82910287e+00, ...,\n",
        "            6.76850319e+00,   4.50991249e+00,   2.68198895e+00],\n",
        "         [  1.83910394e+00,   1.17598331e+00,   2.17872143e+00, ...,\n",
        "            1.09575882e+01,   8.50619030e+00,   3.14669132e+00],\n",
        "         [  1.18394339e+00,   4.37139452e-01,   2.94352889e+00, ...,\n",
        "            9.56498528e+00,   9.54863358e+00,   4.10127401e+00],\n",
        "         ..., \n",
        "         [  8.87806034e+00,   7.63678551e+00,   5.60982800e+00, ...,\n",
        "            9.32271957e-01,   1.44130194e+00,   1.27392635e-01],\n",
        "         [  7.27443933e+00,   1.25765257e+01,   1.13119135e+01, ...,\n",
        "            1.83405113e+00,   1.70766199e+00,   5.31506240e-01],\n",
        "         [  5.61453581e+00,   1.26403008e+01,   1.25760469e+01, ...,\n",
        "            5.46526337e+00,   5.27786350e+00,   2.56806803e+00]],\n",
        "\n",
        "        [[  1.87711716e+00,   1.97551560e+00,   1.43015158e+00, ...,\n",
        "            0.00000000e+00,   7.71745071e-02,   1.47292793e+00],\n",
        "         [  2.62909293e-01,   2.62909293e-01,   0.00000000e+00, ...,\n",
        "            0.00000000e+00,   0.00000000e+00,   4.37179446e-01],\n",
        "         [  3.46554518e-01,   3.46554518e-01,   0.00000000e+00, ...,\n",
        "            0.00000000e+00,   0.00000000e+00,   0.00000000e+00],\n",
        "         ..., \n",
        "         [  0.00000000e+00,   0.00000000e+00,   0.00000000e+00, ...,\n",
        "            0.00000000e+00,   0.00000000e+00,   2.72859424e-01],\n",
        "         [  0.00000000e+00,   0.00000000e+00,   0.00000000e+00, ...,\n",
        "            8.86186719e-01,   6.27493203e-01,   1.87075362e-01],\n",
        "         [  0.00000000e+00,   0.00000000e+00,   0.00000000e+00, ...,\n",
        "            7.79286861e-01,   8.91440094e-01,   1.42776012e-01]]],\n",
        "\n",
        "\n",
        "       [[[  1.71304178e+00,   2.90030450e-01,   3.38630915e-01, ...,\n",
        "            3.10400033e+00,   3.09212637e+00,   7.53938854e-01],\n",
        "         [  1.63064182e-01,   0.00000000e+00,   0.00000000e+00, ...,\n",
        "            0.00000000e+00,   0.00000000e+00,   0.00000000e+00],\n",
        "         [  1.28239729e-02,   0.00000000e+00,   0.00000000e+00, ...,\n",
        "            0.00000000e+00,   0.00000000e+00,   0.00000000e+00],\n",
        "         ..., \n",
        "         [  0.00000000e+00,   0.00000000e+00,   0.00000000e+00, ...,\n",
        "            0.00000000e+00,   0.00000000e+00,   0.00000000e+00],\n",
        "         [  0.00000000e+00,   0.00000000e+00,   0.00000000e+00, ...,\n",
        "            0.00000000e+00,   0.00000000e+00,   4.07351600e-03],\n",
        "         [  0.00000000e+00,   0.00000000e+00,   0.00000000e+00, ...,\n",
        "            0.00000000e+00,   0.00000000e+00,   0.00000000e+00]],\n",
        "\n",
        "        [[  4.76173982e-02,   2.59795159e-01,   1.05175503e-01, ...,\n",
        "            1.59324966e-02,   0.00000000e+00,   0.00000000e+00],\n",
        "         [  0.00000000e+00,   0.00000000e+00,   0.00000000e+00, ...,\n",
        "            0.00000000e+00,   0.00000000e+00,   0.00000000e+00],\n",
        "         [  0.00000000e+00,   0.00000000e+00,   0.00000000e+00, ...,\n",
        "            0.00000000e+00,   0.00000000e+00,   0.00000000e+00],\n",
        "         ..., \n",
        "         [  0.00000000e+00,   0.00000000e+00,   0.00000000e+00, ...,\n",
        "            1.78323448e+00,   3.65777984e-02,   0.00000000e+00],\n",
        "         [  0.00000000e+00,   0.00000000e+00,   0.00000000e+00, ...,\n",
        "            9.30174291e-02,   3.65777984e-02,   0.00000000e+00],\n",
        "         [  0.00000000e+00,   0.00000000e+00,   6.03249557e-02, ...,\n",
        "            0.00000000e+00,   0.00000000e+00,   0.00000000e+00]],\n",
        "\n",
        "        [[  4.95318830e-01,   0.00000000e+00,   0.00000000e+00, ...,\n",
        "            0.00000000e+00,   0.00000000e+00,   0.00000000e+00],\n",
        "         [  1.87043086e-01,   0.00000000e+00,   0.00000000e+00, ...,\n",
        "            0.00000000e+00,   0.00000000e+00,   0.00000000e+00],\n",
        "         [  0.00000000e+00,   0.00000000e+00,   0.00000000e+00, ...,\n",
        "            1.55297124e+00,   2.36900404e-01,   0.00000000e+00],\n",
        "         ..., \n",
        "         [  9.92581606e-01,   1.80394793e+00,   3.05941987e+00, ...,\n",
        "            0.00000000e+00,   0.00000000e+00,   0.00000000e+00],\n",
        "         [  1.18572712e+00,   1.28259134e+00,   3.18548298e+00, ...,\n",
        "            9.74173665e-01,   0.00000000e+00,   0.00000000e+00],\n",
        "         [  8.26907456e-01,   7.09820271e-01,   6.03854001e-01, ...,\n",
        "            6.83325768e-01,   0.00000000e+00,   0.00000000e+00]],\n",
        "\n",
        "        ..., \n",
        "        [[  1.74229413e-01,   5.74229002e-01,   8.63337219e-01, ...,\n",
        "            1.03207380e-01,   5.25045276e-01,   1.12200415e+00],\n",
        "         [  1.05810061e-01,   1.35530233e+00,   2.59689879e+00, ...,\n",
        "            1.25151110e+00,   6.84676409e-01,   2.29808784e+00],\n",
        "         [  1.50786072e-01,   1.26509583e+00,   2.65459442e+00, ...,\n",
        "            1.47025442e+00,   3.27456534e-01,   1.55911171e+00],\n",
        "         ..., \n",
        "         [  8.79362822e-01,   1.56717825e+00,   2.48575211e+00, ...,\n",
        "            0.00000000e+00,   1.20965648e+00,   1.80662298e+00],\n",
        "         [  9.30189967e-01,   1.43568265e+00,   2.06379223e+00, ...,\n",
        "            0.00000000e+00,   1.64292695e-03,   8.67140472e-01],\n",
        "         [  7.76617467e-01,   5.18344641e-01,   9.70003366e-01, ...,\n",
        "            5.30122854e-02,   0.00000000e+00,   7.11646304e-02]],\n",
        "\n",
        "        [[  2.97058940e+00,   2.57345700e+00,   6.99557126e-01, ...,\n",
        "            2.90556240e+00,   1.94784462e+00,   3.03017110e-01],\n",
        "         [  5.69196224e+00,   5.08902073e+00,   2.07835960e+00, ...,\n",
        "            6.34149361e+00,   5.07465124e+00,   1.79242265e+00],\n",
        "         [  6.44534397e+00,   5.89041805e+00,   4.29071617e+00, ...,\n",
        "            6.39099407e+00,   5.72054911e+00,   4.17858267e+00],\n",
        "         ..., \n",
        "         [  1.36848724e+00,   1.96381843e+00,   3.52811956e+00, ...,\n",
        "            7.77077818e+00,   3.58698273e+00,   1.55104887e+00],\n",
        "         [  1.00421286e+00,   1.20716786e+00,   2.31940722e+00, ...,\n",
        "            6.92131042e+00,   3.93877673e+00,   3.19816899e+00],\n",
        "         [  1.90916693e+00,   2.86374497e+00,   3.89245892e+00, ...,\n",
        "            6.04262161e+00,   4.69194221e+00,   3.24766207e+00]],\n",
        "\n",
        "        [[  7.53905773e-02,   1.88346779e+00,   2.21398664e+00, ...,\n",
        "            2.43534058e-01,   1.69496095e+00,   3.09975266e+00],\n",
        "         [  0.00000000e+00,   0.00000000e+00,   0.00000000e+00, ...,\n",
        "            0.00000000e+00,   0.00000000e+00,   0.00000000e+00],\n",
        "         [  0.00000000e+00,   0.00000000e+00,   0.00000000e+00, ...,\n",
        "            0.00000000e+00,   0.00000000e+00,   0.00000000e+00],\n",
        "         ..., \n",
        "         [  9.99544859e-01,   1.39569914e+00,   3.70611370e-01, ...,\n",
        "            0.00000000e+00,   1.03501117e+00,   1.85100555e+00],\n",
        "         [  1.13189220e+00,   2.87077522e+00,   1.42006683e+00, ...,\n",
        "            0.00000000e+00,   5.58462262e-01,   1.10730469e+00],\n",
        "         [  9.08008397e-01,   2.27404666e+00,   1.29165781e+00, ...,\n",
        "            0.00000000e+00,   2.26087153e-01,   3.39130729e-01]]],\n",
        "\n",
        "\n",
        "       ..., \n",
        "       [[[  9.96391678e+00,   1.62512112e+01,   1.61678333e+01, ...,\n",
        "            1.06789579e+01,   1.14906530e+01,   4.20922136e+00],\n",
        "         [  4.33923149e+00,   1.01043930e+01,   9.13972855e+00, ...,\n",
        "            5.75040483e+00,   6.72610474e+00,   4.66743946e-01],\n",
        "         [  2.16321731e+00,   3.48756909e+00,   2.05965519e+00, ...,\n",
        "            3.16092551e-01,   1.68544221e+00,   0.00000000e+00],\n",
        "         ..., \n",
        "         [  0.00000000e+00,   0.00000000e+00,   0.00000000e+00, ...,\n",
        "            0.00000000e+00,   0.00000000e+00,   0.00000000e+00],\n",
        "         [  0.00000000e+00,   0.00000000e+00,   0.00000000e+00, ...,\n",
        "            0.00000000e+00,   6.34407029e-02,   0.00000000e+00],\n",
        "         [  0.00000000e+00,   0.00000000e+00,   0.00000000e+00, ...,\n",
        "            0.00000000e+00,   0.00000000e+00,   0.00000000e+00]],\n",
        "\n",
        "        [[  8.69452190e+00,   0.00000000e+00,   0.00000000e+00, ...,\n",
        "            0.00000000e+00,   0.00000000e+00,   0.00000000e+00],\n",
        "         [  9.29945755e+00,   0.00000000e+00,   0.00000000e+00, ...,\n",
        "            5.87404788e-01,   0.00000000e+00,   0.00000000e+00],\n",
        "         [  8.33792305e+00,   9.46869999e-02,   0.00000000e+00, ...,\n",
        "            1.13418818e+00,   0.00000000e+00,   0.00000000e+00],\n",
        "         ..., \n",
        "         [  1.68937922e+00,   4.56147814e+00,   1.78220797e+00, ...,\n",
        "            0.00000000e+00,   0.00000000e+00,   0.00000000e+00],\n",
        "         [  4.28967381e+00,   1.76399040e+00,   5.14758937e-02, ...,\n",
        "            2.98041143e-02,   0.00000000e+00,   0.00000000e+00],\n",
        "         [  2.67482948e+00,   3.37665007e-02,   0.00000000e+00, ...,\n",
        "            0.00000000e+00,   0.00000000e+00,   0.00000000e+00]],\n",
        "\n",
        "        [[  9.61002254e+00,   1.13329744e+01,   1.03685331e+01, ...,\n",
        "            5.05182838e+00,   3.70877743e+00,   0.00000000e+00],\n",
        "         [  6.82954597e+00,   1.19231730e+01,   6.75319386e+00, ...,\n",
        "            6.78122342e-01,   5.08138359e-01,   0.00000000e+00],\n",
        "         [  2.69836783e-01,   1.59659684e+00,   5.53283572e-01, ...,\n",
        "            0.00000000e+00,   0.00000000e+00,   0.00000000e+00],\n",
        "         ..., \n",
        "         [  1.91539812e+00,   2.33789873e+00,   2.45840013e-01, ...,\n",
        "            0.00000000e+00,   0.00000000e+00,   0.00000000e+00],\n",
        "         [  1.91601944e+00,   2.18881154e+00,   2.30500507e+00, ...,\n",
        "            8.32275748e-01,   4.15748537e-01,   0.00000000e+00],\n",
        "         [  3.05781770e+00,   3.22210622e+00,   4.38152409e+00, ...,\n",
        "            4.06354332e+00,   2.46117377e+00,   0.00000000e+00]],\n",
        "\n",
        "        ..., \n",
        "        [[  3.85628891e+00,   1.19366360e+00,   3.67583558e-02, ...,\n",
        "            0.00000000e+00,   0.00000000e+00,   0.00000000e+00],\n",
        "         [  9.79036033e-01,   1.57594144e-01,   0.00000000e+00, ...,\n",
        "            1.14823446e-01,   5.32560766e-01,   3.12924653e-01],\n",
        "         [  0.00000000e+00,   0.00000000e+00,   8.67556989e-01, ...,\n",
        "            8.18161726e-01,   2.75100803e+00,   1.50575602e+00],\n",
        "         ..., \n",
        "         [  3.56352353e+00,   4.04555178e+00,   3.94851899e+00, ...,\n",
        "            5.64464569e+00,   4.32109976e+00,   1.46459961e+00],\n",
        "         [  5.80044222e+00,   6.43275070e+00,   4.39618492e+00, ...,\n",
        "            6.05328751e+00,   5.70172215e+00,   1.90002120e+00],\n",
        "         [  5.75032997e+00,   5.64629126e+00,   4.48748732e+00, ...,\n",
        "            5.29958868e+00,   5.37570238e+00,   1.89926314e+00]],\n",
        "\n",
        "        [[  0.00000000e+00,   0.00000000e+00,   0.00000000e+00, ...,\n",
        "            2.70300031e-01,   1.14307296e+00,   3.96646619e-01],\n",
        "         [  0.00000000e+00,   0.00000000e+00,   0.00000000e+00, ...,\n",
        "            0.00000000e+00,   4.79537845e-01,   2.41543129e-02],\n",
        "         [  2.55521625e-01,   3.32862765e-01,   4.87999439e-01, ...,\n",
        "            1.47180498e-01,   8.43382850e-02,   0.00000000e+00],\n",
        "         ..., \n",
        "         [  1.88047493e+00,   1.57569456e+00,   2.98591256e-01, ...,\n",
        "            3.11612427e-01,   2.71811873e-01,   0.00000000e+00],\n",
        "         [  6.05703175e-01,   0.00000000e+00,   0.00000000e+00, ...,\n",
        "            0.00000000e+00,   0.00000000e+00,   0.00000000e+00],\n",
        "         [  8.18660483e-02,   0.00000000e+00,   0.00000000e+00, ...,\n",
        "            0.00000000e+00,   0.00000000e+00,   0.00000000e+00]],\n",
        "\n",
        "        [[  0.00000000e+00,   0.00000000e+00,   1.25917137e-01, ...,\n",
        "            3.77504945e-01,   0.00000000e+00,   0.00000000e+00],\n",
        "         [  0.00000000e+00,   0.00000000e+00,   5.46766296e-02, ...,\n",
        "            1.05197668e+00,   0.00000000e+00,   3.25841121e-02],\n",
        "         [  0.00000000e+00,   0.00000000e+00,   0.00000000e+00, ...,\n",
        "            7.12377965e-01,   7.58649409e-02,   3.25841121e-02],\n",
        "         ..., \n",
        "         [  0.00000000e+00,   0.00000000e+00,   0.00000000e+00, ...,\n",
        "            0.00000000e+00,   0.00000000e+00,   0.00000000e+00],\n",
        "         [  0.00000000e+00,   1.78210214e-02,   9.04097855e-02, ...,\n",
        "            2.78847255e-02,   1.04966693e-01,   1.57450035e-01],\n",
        "         [  8.34068581e-02,   7.45595634e-01,   1.27641392e+00, ...,\n",
        "            1.49276543e+00,   1.24773586e+00,   7.50288188e-01]]],\n",
        "\n",
        "\n",
        "       [[[  5.44200897e+00,   1.04936028e+01,   1.03308725e+01, ...,\n",
        "            1.03639030e+01,   1.14232273e+01,   7.99199724e+00],\n",
        "         [  4.31842709e+00,   9.81841278e+00,   1.02419167e+01, ...,\n",
        "            1.02199364e+01,   1.03775377e+01,   6.29620695e+00],\n",
        "         [  4.30518579e+00,   9.58408260e+00,   1.06934481e+01, ...,\n",
        "            8.78808975e+00,   6.23520899e+00,   2.71036220e+00],\n",
        "         ..., \n",
        "         [  6.31226361e-01,   2.75828987e-01,   3.36365014e-01, ...,\n",
        "            1.31020629e+00,   7.29202390e-01,   0.00000000e+00],\n",
        "         [  0.00000000e+00,   0.00000000e+00,   0.00000000e+00, ...,\n",
        "            5.84004283e-01,   1.02491759e-01,   0.00000000e+00],\n",
        "         [  0.00000000e+00,   0.00000000e+00,   0.00000000e+00, ...,\n",
        "            0.00000000e+00,   0.00000000e+00,   0.00000000e+00]],\n",
        "\n",
        "        [[  5.41686058e+00,   0.00000000e+00,   0.00000000e+00, ...,\n",
        "            0.00000000e+00,   0.00000000e+00,   0.00000000e+00],\n",
        "         [  6.86049986e+00,   0.00000000e+00,   0.00000000e+00, ...,\n",
        "            5.73093221e-02,   2.26956662e-02,   0.00000000e+00],\n",
        "         [  7.20795202e+00,   5.55061102e-01,   4.09049034e-01, ...,\n",
        "            4.04219121e-01,   2.26956662e-02,   0.00000000e+00],\n",
        "         ..., \n",
        "         [  1.26401787e+01,   2.80935812e+00,   3.25930178e-01, ...,\n",
        "            0.00000000e+00,   0.00000000e+00,   0.00000000e+00],\n",
        "         [  3.10082459e+00,   1.92772403e-01,   1.69826186e+00, ...,\n",
        "            0.00000000e+00,   0.00000000e+00,   0.00000000e+00],\n",
        "         [  4.19266038e-02,   0.00000000e+00,   7.54444838e-01, ...,\n",
        "            0.00000000e+00,   0.00000000e+00,   0.00000000e+00]],\n",
        "\n",
        "        [[  1.89873040e+00,   5.01523066e+00,   6.28671932e+00, ...,\n",
        "            7.19038582e+00,   6.47284889e+00,   1.33415556e+00],\n",
        "         [  0.00000000e+00,   1.16236591e+00,   1.43423378e+00, ...,\n",
        "            2.26227307e+00,   2.74989605e+00,   2.47122064e-01],\n",
        "         [  0.00000000e+00,   0.00000000e+00,   0.00000000e+00, ...,\n",
        "            1.40852615e-01,   3.33737254e-01,   0.00000000e+00],\n",
        "         ..., \n",
        "         [  7.98133492e-01,   0.00000000e+00,   4.94551450e-01, ...,\n",
        "            0.00000000e+00,   0.00000000e+00,   0.00000000e+00],\n",
        "         [  4.65208054e-01,   0.00000000e+00,   0.00000000e+00, ...,\n",
        "            0.00000000e+00,   0.00000000e+00,   0.00000000e+00],\n",
        "         [  0.00000000e+00,   9.58080664e-02,   2.17674091e-01, ...,\n",
        "            0.00000000e+00,   0.00000000e+00,   0.00000000e+00]],\n",
        "\n",
        "        ..., \n",
        "        [[  0.00000000e+00,   0.00000000e+00,   0.00000000e+00, ...,\n",
        "            0.00000000e+00,   0.00000000e+00,   0.00000000e+00],\n",
        "         [  0.00000000e+00,   0.00000000e+00,   0.00000000e+00, ...,\n",
        "            0.00000000e+00,   0.00000000e+00,   0.00000000e+00],\n",
        "         [  0.00000000e+00,   0.00000000e+00,   0.00000000e+00, ...,\n",
        "            0.00000000e+00,   0.00000000e+00,   0.00000000e+00],\n",
        "         ..., \n",
        "         [  0.00000000e+00,   0.00000000e+00,   0.00000000e+00, ...,\n",
        "            0.00000000e+00,   0.00000000e+00,   3.76450807e-01],\n",
        "         [  0.00000000e+00,   0.00000000e+00,   0.00000000e+00, ...,\n",
        "            0.00000000e+00,   0.00000000e+00,   3.76450807e-01],\n",
        "         [  0.00000000e+00,   0.00000000e+00,   0.00000000e+00, ...,\n",
        "            0.00000000e+00,   0.00000000e+00,   0.00000000e+00]],\n",
        "\n",
        "        [[  0.00000000e+00,   0.00000000e+00,   0.00000000e+00, ...,\n",
        "            0.00000000e+00,   1.36247739e-01,   0.00000000e+00],\n",
        "         [  0.00000000e+00,   0.00000000e+00,   0.00000000e+00, ...,\n",
        "            0.00000000e+00,   0.00000000e+00,   0.00000000e+00],\n",
        "         [  0.00000000e+00,   0.00000000e+00,   0.00000000e+00, ...,\n",
        "            0.00000000e+00,   0.00000000e+00,   0.00000000e+00],\n",
        "         ..., \n",
        "         [  1.73474777e+00,   3.88958573e-01,   8.26567411e-02, ...,\n",
        "            5.74090481e-02,   0.00000000e+00,   0.00000000e+00],\n",
        "         [  3.64017820e+00,   3.52398729e+00,   2.98211837e+00, ...,\n",
        "            1.70153618e+00,   2.10829949e+00,   5.37106037e-01],\n",
        "         [  3.66265488e+00,   4.68365192e+00,   5.67448616e+00, ...,\n",
        "            4.79026699e+00,   4.60620356e+00,   2.05623245e+00]],\n",
        "\n",
        "        [[  1.31279841e-01,   1.22712083e-01,   0.00000000e+00, ...,\n",
        "            0.00000000e+00,   0.00000000e+00,   0.00000000e+00],\n",
        "         [  0.00000000e+00,   0.00000000e+00,   0.00000000e+00, ...,\n",
        "            1.30020857e+00,   5.62000036e-01,   0.00000000e+00],\n",
        "         [  0.00000000e+00,   0.00000000e+00,   0.00000000e+00, ...,\n",
        "            1.62513924e+00,   1.20779920e+00,   1.60033417e+00],\n",
        "         ..., \n",
        "         [  4.66093659e-01,   1.76979113e+00,   5.36708951e-01, ...,\n",
        "            7.43370950e-01,   7.15043306e-01,   4.69909668e+00],\n",
        "         [  2.42221996e-01,   2.26715946e+00,   1.33212447e+00, ...,\n",
        "            0.00000000e+00,   4.30876851e-01,   2.87531590e+00],\n",
        "         [  3.72304767e-01,   3.40636325e+00,   3.32335305e+00, ...,\n",
        "            2.34803036e-01,   4.95704293e-01,   1.18570697e+00]]],\n",
        "\n",
        "\n",
        "       [[[  3.68850112e+00,   6.25159883e+00,   7.03679562e+00, ...,\n",
        "            7.40435123e+00,   6.34956789e+00,   4.05238676e+00],\n",
        "         [  2.41651982e-01,   1.54618442e-01,   0.00000000e+00, ...,\n",
        "            2.29065597e-01,   0.00000000e+00,   0.00000000e+00],\n",
        "         [  0.00000000e+00,   0.00000000e+00,   0.00000000e+00, ...,\n",
        "            0.00000000e+00,   5.18128157e-01,   2.94422776e-01],\n",
        "         ..., \n",
        "         [  2.56286502e-01,   0.00000000e+00,   0.00000000e+00, ...,\n",
        "            1.14158973e-01,   0.00000000e+00,   0.00000000e+00],\n",
        "         [  0.00000000e+00,   0.00000000e+00,   0.00000000e+00, ...,\n",
        "            0.00000000e+00,   0.00000000e+00,   0.00000000e+00],\n",
        "         [  0.00000000e+00,   0.00000000e+00,   0.00000000e+00, ...,\n",
        "            0.00000000e+00,   0.00000000e+00,   0.00000000e+00]],\n",
        "\n",
        "        [[  6.44690132e+00,   3.17919731e-01,   0.00000000e+00, ...,\n",
        "            0.00000000e+00,   0.00000000e+00,   0.00000000e+00],\n",
        "         [  4.54490089e+00,   0.00000000e+00,   0.00000000e+00, ...,\n",
        "            7.15394095e-02,   4.06374127e-01,   1.75181493e-01],\n",
        "         [  1.22080994e+00,   5.51879965e-03,   5.51879965e-03, ...,\n",
        "            1.36072290e+00,   1.07453489e+00,   4.41612959e-01],\n",
        "         ..., \n",
        "         [  5.75185490e+00,   1.67395663e+00,   0.00000000e+00, ...,\n",
        "            2.00410032e+00,   1.25170350e+00,   0.00000000e+00],\n",
        "         [  1.35107934e+00,   4.11344707e-01,   0.00000000e+00, ...,\n",
        "            7.05846623e-02,   5.31631708e-01,   0.00000000e+00],\n",
        "         [  4.38887149e-01,   0.00000000e+00,   0.00000000e+00, ...,\n",
        "            0.00000000e+00,   6.52663410e-01,   0.00000000e+00]],\n",
        "\n",
        "        [[  9.81493711e-01,   2.32023144e+00,   3.76745725e+00, ...,\n",
        "            3.80112553e+00,   3.11388659e+00,   6.08154237e-01],\n",
        "         [  0.00000000e+00,   0.00000000e+00,   0.00000000e+00, ...,\n",
        "            0.00000000e+00,   0.00000000e+00,   0.00000000e+00],\n",
        "         [  0.00000000e+00,   0.00000000e+00,   0.00000000e+00, ...,\n",
        "            2.56844223e-01,   2.56844223e-01,   0.00000000e+00],\n",
        "         ..., \n",
        "         [  1.51349998e+00,   6.36562109e-01,   5.56698704e+00, ...,\n",
        "            1.65007913e+00,   4.85057890e-01,   0.00000000e+00],\n",
        "         [  1.73775148e+00,   0.00000000e+00,   2.34511733e+00, ...,\n",
        "            5.57279539e+00,   2.07089615e+00,   0.00000000e+00],\n",
        "         [  7.53132880e-01,   0.00000000e+00,   0.00000000e+00, ...,\n",
        "            2.39889383e+00,   1.27130508e+00,   0.00000000e+00]],\n",
        "\n",
        "        ..., \n",
        "        [[  0.00000000e+00,   0.00000000e+00,   0.00000000e+00, ...,\n",
        "            0.00000000e+00,   0.00000000e+00,   0.00000000e+00],\n",
        "         [  0.00000000e+00,   0.00000000e+00,   0.00000000e+00, ...,\n",
        "            0.00000000e+00,   0.00000000e+00,   0.00000000e+00],\n",
        "         [  0.00000000e+00,   0.00000000e+00,   0.00000000e+00, ...,\n",
        "            4.66343760e-02,   1.10463440e-01,   0.00000000e+00],\n",
        "         ..., \n",
        "         [  0.00000000e+00,   0.00000000e+00,   0.00000000e+00, ...,\n",
        "            0.00000000e+00,   0.00000000e+00,   0.00000000e+00],\n",
        "         [  0.00000000e+00,   0.00000000e+00,   0.00000000e+00, ...,\n",
        "            0.00000000e+00,   0.00000000e+00,   4.31243004e-03],\n",
        "         [  0.00000000e+00,   0.00000000e+00,   0.00000000e+00, ...,\n",
        "            0.00000000e+00,   0.00000000e+00,   6.46864483e-03]],\n",
        "\n",
        "        [[  7.28553951e-01,   0.00000000e+00,   0.00000000e+00, ...,\n",
        "            0.00000000e+00,   0.00000000e+00,   1.99964836e-01],\n",
        "         [  1.99444366e+00,   1.48647916e+00,   5.64804375e-01, ...,\n",
        "            1.74407041e+00,   1.79913902e+00,   9.65567350e-01],\n",
        "         [  3.28777575e+00,   7.13666868e+00,   3.93271852e+00, ...,\n",
        "            6.26710606e+00,   4.45663929e+00,   7.39005566e-01],\n",
        "         ..., \n",
        "         [  1.56350183e+00,   0.00000000e+00,   1.02557734e-01, ...,\n",
        "            0.00000000e+00,   5.47974966e-02,   0.00000000e+00],\n",
        "         [  2.63947582e+00,   1.00076950e+00,   1.01725690e-01, ...,\n",
        "            5.17134070e-01,   2.09413981e+00,   1.07188404e+00],\n",
        "         [  2.51123881e+00,   2.28198385e+00,   3.40400547e-01, ...,\n",
        "            1.30268753e+00,   4.75744534e+00,   3.92630625e+00]],\n",
        "\n",
        "        [[  1.64414203e+00,   4.08386374e+00,   2.45717120e+00, ...,\n",
        "            2.09671304e-01,   1.74622118e-01,   0.00000000e+00],\n",
        "         [  6.28232956e-01,   1.25250387e+00,   1.72355354e+00, ...,\n",
        "            2.71340907e-02,   1.94774061e-01,   4.49390858e-01],\n",
        "         [  0.00000000e+00,   0.00000000e+00,   1.45156920e-01, ...,\n",
        "            0.00000000e+00,   7.23144859e-02,   3.06402624e-01],\n",
        "         ..., \n",
        "         [  0.00000000e+00,   3.37979770e+00,   5.39086056e+00, ...,\n",
        "            1.44709051e+00,   4.71258521e-01,   3.00589943e+00],\n",
        "         [  0.00000000e+00,   3.44290805e+00,   7.86601686e+00, ...,\n",
        "            2.36314511e+00,   9.15636960e-03,   1.11536145e-01],\n",
        "         [  0.00000000e+00,   9.10226822e-01,   5.56306076e+00, ...,\n",
        "            2.42212296e+00,   4.18107249e-02,   0.00000000e+00]]]], dtype=float32)"
       ]
      }
     ],
     "prompt_number": 18
    },
    {
     "cell_type": "code",
     "collapsed": false,
     "input": [
      "#Help to double check the data\n",
      "#solver.net.params['conv2'][0].data\n",
      "solver.net.blobs['data'].data[...] = trainingData[0:100].reshape(100,3,32,32)\n",
      "solver.net.forward(start=\"conv1\")\n",
      "solver.net.blobs['pool3'].data"
     ],
     "language": "python",
     "metadata": {},
     "outputs": [
      {
       "metadata": {},
       "output_type": "pyout",
       "prompt_number": 17,
       "text": [
        "array([[[[  1.09060302e-01,   4.11445618e-01,   5.26040435e-01,\n",
        "            1.30696386e-01],\n",
        "         [  3.11254524e-02,   3.79553914e-01,   9.12074387e-01,\n",
        "            4.20338035e-01],\n",
        "         [  5.31790964e-02,   2.25636750e-01,   5.66725016e-01,\n",
        "            3.21719408e-01],\n",
        "         [  7.97686428e-02,   3.60277817e-02,   8.12530965e-02,\n",
        "            6.76403567e-02]],\n",
        "\n",
        "        [[  0.00000000e+00,   0.00000000e+00,   0.00000000e+00,\n",
        "            2.36578584e-02],\n",
        "         [  0.00000000e+00,   0.00000000e+00,   0.00000000e+00,\n",
        "            0.00000000e+00],\n",
        "         [  0.00000000e+00,   3.54560278e-02,   3.14208716e-02,\n",
        "            7.81151429e-02],\n",
        "         [  2.32664496e-02,   1.47284403e-01,   9.39603448e-02,\n",
        "            1.17172711e-01]],\n",
        "\n",
        "        [[  2.26464272e-01,   0.00000000e+00,   0.00000000e+00,\n",
        "            0.00000000e+00],\n",
        "         [  1.12196818e-01,   0.00000000e+00,   0.00000000e+00,\n",
        "            0.00000000e+00],\n",
        "         [  0.00000000e+00,   0.00000000e+00,   0.00000000e+00,\n",
        "            0.00000000e+00],\n",
        "         [  0.00000000e+00,   0.00000000e+00,   0.00000000e+00,\n",
        "            0.00000000e+00]],\n",
        "\n",
        "        ..., \n",
        "        [[  5.64128458e-01,   4.26821470e-01,   1.75556436e-03,\n",
        "            2.63334648e-03],\n",
        "         [  9.27555621e-01,   5.44951856e-01,   2.45395720e-01,\n",
        "            9.38382819e-02],\n",
        "         [  1.89841732e-01,   1.43152252e-01,   4.67737943e-01,\n",
        "            2.62943178e-01],\n",
        "         [  0.00000000e+00,   0.00000000e+00,   1.05744369e-01,\n",
        "            7.43336454e-02]],\n",
        "\n",
        "        [[  1.75495774e-01,   1.20424308e-01,   3.19339514e-01,\n",
        "            7.90548790e-03],\n",
        "         [  0.00000000e+00,   2.60405652e-02,   1.05806440e-01,\n",
        "            1.92965772e-02],\n",
        "         [  3.03391293e-02,   8.91822949e-02,   8.20181519e-02,\n",
        "            1.92965772e-02],\n",
        "         [  2.46619269e-01,   3.95577401e-01,   1.13087617e-01,\n",
        "            6.50744373e-03]],\n",
        "\n",
        "        [[  1.15377560e-01,   3.80118847e-01,   1.97524369e-01,\n",
        "            1.62526473e-01],\n",
        "         [  4.17386621e-01,   7.07814574e-01,   2.63453066e-01,\n",
        "            2.65566826e-01],\n",
        "         [  5.07164776e-01,   4.07119930e-01,   5.63179404e-02,\n",
        "            1.22613154e-01],\n",
        "         [  2.73703575e-01,   1.68730631e-01,   1.85601905e-01,\n",
        "            4.29621994e-01]]],\n",
        "\n",
        "\n",
        "       [[[  3.46577317e-01,   6.38712466e-01,   2.78834015e-01,\n",
        "            1.95454285e-01],\n",
        "         [  4.48893130e-01,   1.51762295e+00,   9.14032102e-01,\n",
        "            7.45385170e-01],\n",
        "         [  7.06176877e-01,   1.87601256e+00,   1.38283122e+00,\n",
        "            6.88409150e-01],\n",
        "         [  5.30030310e-01,   1.57974422e+00,   1.20697725e+00,\n",
        "            6.35406852e-01]],\n",
        "\n",
        "        [[  1.29098639e-01,   9.40312296e-02,   0.00000000e+00,\n",
        "            0.00000000e+00],\n",
        "         [  0.00000000e+00,   0.00000000e+00,   0.00000000e+00,\n",
        "            0.00000000e+00],\n",
        "         [  0.00000000e+00,   0.00000000e+00,   0.00000000e+00,\n",
        "            0.00000000e+00],\n",
        "         [  0.00000000e+00,   0.00000000e+00,   0.00000000e+00,\n",
        "            0.00000000e+00]],\n",
        "\n",
        "        [[  0.00000000e+00,   0.00000000e+00,   1.70562621e-02,\n",
        "            2.55843922e-02],\n",
        "         [  0.00000000e+00,   0.00000000e+00,   9.41228494e-03,\n",
        "            1.41184283e-02],\n",
        "         [  0.00000000e+00,   0.00000000e+00,   0.00000000e+00,\n",
        "            0.00000000e+00],\n",
        "         [  0.00000000e+00,   0.00000000e+00,   0.00000000e+00,\n",
        "            0.00000000e+00]],\n",
        "\n",
        "        ..., \n",
        "        [[  3.26988883e-02,   0.00000000e+00,   0.00000000e+00,\n",
        "            0.00000000e+00],\n",
        "         [  0.00000000e+00,   0.00000000e+00,   0.00000000e+00,\n",
        "            0.00000000e+00],\n",
        "         [  0.00000000e+00,   0.00000000e+00,   8.32571164e-02,\n",
        "            2.20006034e-01],\n",
        "         [  5.40540405e-02,   6.68135658e-02,   2.75989622e-02,\n",
        "            6.84659034e-02]],\n",
        "\n",
        "        [[  7.13171780e-01,   5.82412541e-01,   4.38962907e-01,\n",
        "            1.76976025e-01],\n",
        "         [  1.99219835e+00,   2.31025982e+00,   1.60841978e+00,\n",
        "            4.58728433e-01],\n",
        "         [  1.71483207e+00,   1.96408796e+00,   1.23289192e+00,\n",
        "            4.72948074e-01],\n",
        "         [  4.25176263e-01,   5.56022346e-01,   3.87099236e-01,\n",
        "            3.72648150e-01]],\n",
        "\n",
        "        [[  4.40088391e-01,   7.56802142e-01,   4.26572442e-01,\n",
        "            1.95188835e-01],\n",
        "         [  7.94127464e-01,   1.19883680e+00,   7.01529145e-01,\n",
        "            4.66988057e-01],\n",
        "         [  7.93296635e-01,   2.96378583e-01,   1.02176871e-02,\n",
        "            1.07392155e-01],\n",
        "         [  1.75250471e-01,   3.39259543e-02,   8.33024308e-02,\n",
        "            4.41973448e-01]]],\n",
        "\n",
        "\n",
        "       [[[  3.11806738e-01,   4.81837869e-01,   2.59538800e-01,\n",
        "            0.00000000e+00],\n",
        "         [  7.84085333e-01,   1.00391400e+00,   6.61833882e-01,\n",
        "            5.73278451e-03],\n",
        "         [  1.47145659e-01,   1.86658442e-01,   1.34769365e-01,\n",
        "            0.00000000e+00],\n",
        "         [  0.00000000e+00,   0.00000000e+00,   1.23768440e-02,\n",
        "            1.85652655e-02]],\n",
        "\n",
        "        [[  3.73353600e-03,   0.00000000e+00,   0.00000000e+00,\n",
        "            0.00000000e+00],\n",
        "         [  0.00000000e+00,   0.00000000e+00,   0.00000000e+00,\n",
        "            0.00000000e+00],\n",
        "         [  0.00000000e+00,   0.00000000e+00,   0.00000000e+00,\n",
        "            6.89307377e-02],\n",
        "         [  0.00000000e+00,   0.00000000e+00,   0.00000000e+00,\n",
        "            1.36243343e-01]],\n",
        "\n",
        "        [[  9.54737235e-03,   0.00000000e+00,   0.00000000e+00,\n",
        "            0.00000000e+00],\n",
        "         [  0.00000000e+00,   0.00000000e+00,   0.00000000e+00,\n",
        "            0.00000000e+00],\n",
        "         [  0.00000000e+00,   0.00000000e+00,   0.00000000e+00,\n",
        "            0.00000000e+00],\n",
        "         [  0.00000000e+00,   0.00000000e+00,   0.00000000e+00,\n",
        "            0.00000000e+00]],\n",
        "\n",
        "        ..., \n",
        "        [[  0.00000000e+00,   0.00000000e+00,   0.00000000e+00,\n",
        "            1.55642172e-02],\n",
        "         [  9.73270759e-02,   5.89665845e-02,   0.00000000e+00,\n",
        "            0.00000000e+00],\n",
        "         [  1.17326885e-01,   4.10871729e-02,   0.00000000e+00,\n",
        "            0.00000000e+00],\n",
        "         [  0.00000000e+00,   0.00000000e+00,   0.00000000e+00,\n",
        "            0.00000000e+00]],\n",
        "\n",
        "        [[  5.06847620e-01,   5.83698332e-01,   5.33515275e-01,\n",
        "            1.45222083e-01],\n",
        "         [  6.99615717e-01,   9.55120325e-01,   7.16269493e-01,\n",
        "            2.01651618e-01],\n",
        "         [  4.65743011e-03,   1.12675708e-02,   1.12675708e-02,\n",
        "            0.00000000e+00],\n",
        "         [  0.00000000e+00,   0.00000000e+00,   0.00000000e+00,\n",
        "            0.00000000e+00]],\n",
        "\n",
        "        [[  3.28172535e-01,   2.46655464e-01,   0.00000000e+00,\n",
        "            7.22133666e-02],\n",
        "         [  5.77989459e-01,   2.33066797e-01,   1.47901729e-01,\n",
        "            4.65875119e-01],\n",
        "         [  1.39882281e-01,   7.56288469e-02,   2.22762242e-01,\n",
        "            7.21166611e-01],\n",
        "         [  2.39729479e-01,   3.00899863e-01,   3.63955170e-01,\n",
        "            6.38335824e-01]]],\n",
        "\n",
        "\n",
        "       ..., \n",
        "       [[[  2.03311905e-01,   6.79598331e-01,   8.56705606e-01,\n",
        "            6.81083977e-01],\n",
        "         [  5.42177483e-02,   4.92730737e-01,   1.06780183e+00,\n",
        "            1.11612630e+00],\n",
        "         [  9.61557850e-02,   0.00000000e+00,   1.32591948e-01,\n",
        "            5.84608555e-01],\n",
        "         [  9.83721241e-02,   2.02701278e-02,   1.87247202e-01,\n",
        "            6.50707126e-01]],\n",
        "\n",
        "        [[  0.00000000e+00,   2.45489925e-02,   5.56239933e-02,\n",
        "            3.03688552e-03],\n",
        "         [  0.00000000e+00,   0.00000000e+00,   0.00000000e+00,\n",
        "            0.00000000e+00],\n",
        "         [  0.00000000e+00,   0.00000000e+00,   0.00000000e+00,\n",
        "            3.30843106e-02],\n",
        "         [  0.00000000e+00,   0.00000000e+00,   8.39541014e-03,\n",
        "            1.39987588e-01]],\n",
        "\n",
        "        [[  0.00000000e+00,   0.00000000e+00,   0.00000000e+00,\n",
        "            0.00000000e+00],\n",
        "         [  0.00000000e+00,   0.00000000e+00,   0.00000000e+00,\n",
        "            0.00000000e+00],\n",
        "         [  0.00000000e+00,   0.00000000e+00,   0.00000000e+00,\n",
        "            0.00000000e+00],\n",
        "         [  0.00000000e+00,   0.00000000e+00,   0.00000000e+00,\n",
        "            0.00000000e+00]],\n",
        "\n",
        "        ..., \n",
        "        [[  1.37303829e-01,   3.57712954e-01,   2.04299182e-01,\n",
        "            5.32424152e-02],\n",
        "         [  1.57852277e-01,   7.16358244e-01,   5.92712700e-01,\n",
        "            3.51615041e-01],\n",
        "         [  0.00000000e+00,   4.03390527e-02,   1.88755259e-01,\n",
        "            1.35543033e-01],\n",
        "         [  4.91873175e-02,   1.08709596e-01,   0.00000000e+00,\n",
        "            5.97746409e-02]],\n",
        "\n",
        "        [[  4.83909398e-01,   1.12216032e+00,   9.36076283e-01,\n",
        "            3.39378476e-01],\n",
        "         [  6.47496656e-02,   2.63263494e-01,   4.03000563e-01,\n",
        "            2.88004845e-01],\n",
        "         [  8.79714414e-02,   4.16106246e-02,   2.86158204e-01,\n",
        "            2.49551699e-01],\n",
        "         [  2.50662584e-02,   0.00000000e+00,   2.70719156e-02,\n",
        "            4.06078734e-02]],\n",
        "\n",
        "        [[  2.74613202e-02,   2.46556520e-01,   2.60557920e-01,\n",
        "            4.16609138e-01],\n",
        "         [  1.92810118e-01,   2.23864928e-01,   2.36282006e-01,\n",
        "            5.25812328e-01],\n",
        "         [  4.89380032e-01,   6.48424387e-01,   3.89707536e-01,\n",
        "            4.22461003e-01],\n",
        "         [  4.65899080e-01,   6.35283172e-01,   3.64217728e-01,\n",
        "            5.77611685e-01]]],\n",
        "\n",
        "\n",
        "       [[[  2.65465617e-01,   5.64882398e-01,   7.46152699e-01,\n",
        "            5.27909756e-01],\n",
        "         [  3.53727937e-01,   3.50882620e-01,   4.92702544e-01,\n",
        "            1.01768792e+00],\n",
        "         [  3.95363569e-01,   4.21924442e-01,   5.16319633e-01,\n",
        "            7.25020885e-01],\n",
        "         [  6.44915029e-02,   2.09864393e-01,   3.88077170e-01,\n",
        "            3.46239150e-01]],\n",
        "\n",
        "        [[  0.00000000e+00,   0.00000000e+00,   0.00000000e+00,\n",
        "            0.00000000e+00],\n",
        "         [  0.00000000e+00,   0.00000000e+00,   0.00000000e+00,\n",
        "            9.84223410e-02],\n",
        "         [  0.00000000e+00,   0.00000000e+00,   1.69378445e-02,\n",
        "            1.82872966e-01],\n",
        "         [  9.12345201e-03,   0.00000000e+00,   2.65265945e-02,\n",
        "            1.58620223e-01]],\n",
        "\n",
        "        [[  6.72380812e-03,   0.00000000e+00,   0.00000000e+00,\n",
        "            0.00000000e+00],\n",
        "         [  0.00000000e+00,   0.00000000e+00,   0.00000000e+00,\n",
        "            0.00000000e+00],\n",
        "         [  0.00000000e+00,   0.00000000e+00,   0.00000000e+00,\n",
        "            2.54819933e-02],\n",
        "         [  0.00000000e+00,   0.00000000e+00,   0.00000000e+00,\n",
        "            3.82229909e-02]],\n",
        "\n",
        "        ..., \n",
        "        [[  1.89812258e-01,   1.86446786e-01,   7.57727697e-02,\n",
        "            7.71508040e-03],\n",
        "         [  3.25514287e-01,   4.17089164e-01,   3.93086225e-01,\n",
        "            1.05706090e-02],\n",
        "         [  4.55426097e-01,   3.53800982e-01,   1.42598286e-01,\n",
        "            1.05706090e-02],\n",
        "         [  3.60654145e-01,   2.56705880e-01,   9.41222608e-02,\n",
        "            3.19954343e-02]],\n",
        "\n",
        "        [[  1.42310068e-01,   3.69201064e-01,   3.31014812e-01,\n",
        "            1.01822905e-01],\n",
        "         [  1.48724794e-01,   0.00000000e+00,   1.75982770e-02,\n",
        "            2.63974145e-02],\n",
        "         [  1.25236541e-01,   2.42481148e-03,   2.07811184e-02,\n",
        "            1.48142681e-01],\n",
        "         [  0.00000000e+00,   0.00000000e+00,   2.75344606e-02,\n",
        "            2.22214013e-01]],\n",
        "\n",
        "        [[  0.00000000e+00,   3.21726315e-02,   2.79561311e-01,\n",
        "            4.34025288e-01],\n",
        "         [  4.29661870e-02,   1.63256437e-01,   5.88219047e-01,\n",
        "            8.55372369e-01],\n",
        "         [  1.88305035e-01,   6.20294690e-01,   7.24977970e-01,\n",
        "            7.01586723e-01],\n",
        "         [  1.65919155e-01,   1.92641199e-01,   2.32190087e-01,\n",
        "            3.03527385e-01]]],\n",
        "\n",
        "\n",
        "       [[[  1.19676195e-01,   4.14451510e-01,   4.43948865e-01,\n",
        "            2.42722332e-01],\n",
        "         [  5.69460727e-02,   5.13368607e-01,   9.84141469e-01,\n",
        "            7.91603506e-01],\n",
        "         [  1.21755823e-01,   7.45297849e-01,   1.27927506e+00,\n",
        "            1.66475964e+00],\n",
        "         [  2.79849797e-01,   8.30443799e-01,   4.13596869e-01,\n",
        "            7.42305100e-01]],\n",
        "\n",
        "        [[  0.00000000e+00,   0.00000000e+00,   3.42169032e-02,\n",
        "            1.40357211e-01],\n",
        "         [  0.00000000e+00,   0.00000000e+00,   0.00000000e+00,\n",
        "            0.00000000e+00],\n",
        "         [  0.00000000e+00,   9.09138937e-03,   1.78901136e-01,\n",
        "            4.52972263e-01],\n",
        "         [  0.00000000e+00,   6.62723854e-02,   2.54756391e-01,\n",
        "            4.06697631e-01]],\n",
        "\n",
        "        [[  2.13247418e-01,   3.42859328e-02,   5.30691817e-02,\n",
        "            3.62486653e-02],\n",
        "         [  8.91116038e-02,   0.00000000e+00,   0.00000000e+00,\n",
        "            0.00000000e+00],\n",
        "         [  0.00000000e+00,   0.00000000e+00,   0.00000000e+00,\n",
        "            0.00000000e+00],\n",
        "         [  0.00000000e+00,   0.00000000e+00,   0.00000000e+00,\n",
        "            0.00000000e+00]],\n",
        "\n",
        "        ..., \n",
        "        [[  5.99236488e-02,   7.95424208e-02,   2.30603199e-03,\n",
        "            5.86930253e-02],\n",
        "         [  4.48381752e-02,   3.90924215e-02,   0.00000000e+00,\n",
        "            0.00000000e+00],\n",
        "         [  0.00000000e+00,   0.00000000e+00,   0.00000000e+00,\n",
        "            1.50364995e-01],\n",
        "         [  0.00000000e+00,   0.00000000e+00,   0.00000000e+00,\n",
        "            3.15168321e-01]],\n",
        "\n",
        "        [[  8.24665576e-02,   1.17263213e-01,   7.33759031e-02,\n",
        "            0.00000000e+00],\n",
        "         [  5.54908365e-02,   0.00000000e+00,   6.71271840e-03,\n",
        "            1.00690778e-02],\n",
        "         [  5.53003728e-01,   6.80398285e-01,   7.63409734e-01,\n",
        "            8.16114902e-01],\n",
        "         [  1.40522194e+00,   2.16354918e+00,   2.13514829e+00,\n",
        "            1.99559379e+00]],\n",
        "\n",
        "        [[  0.00000000e+00,   0.00000000e+00,   0.00000000e+00,\n",
        "            1.04209781e-02],\n",
        "         [  1.24027394e-02,   2.02816427e-01,   6.06080443e-02,\n",
        "            3.85523438e-01],\n",
        "         [  6.97881281e-01,   2.53010839e-01,   3.25555205e-01,\n",
        "            1.01286471e+00],\n",
        "         [  1.94717312e+00,   5.42131841e-01,   3.66270930e-01,\n",
        "            5.01659691e-01]]]], dtype=float32)"
       ]
      }
     ],
     "prompt_number": 17
    },
    {
     "cell_type": "code",
     "collapsed": false,
     "input": [
      "#Show the layers configuration\n",
      "solver.net.blobs"
     ],
     "language": "python",
     "metadata": {},
     "outputs": [
      {
       "metadata": {},
       "output_type": "pyout",
       "prompt_number": 18,
       "text": [
        "OrderedDict([('data', <caffe._caffe.Blob object at 0x119077f50>), ('label', <caffe._caffe.Blob object at 0x11907f140>), ('conv1', <caffe._caffe.Blob object at 0x11907f578>), ('pool1', <caffe._caffe.Blob object at 0x11907f410>), ('conv2', <caffe._caffe.Blob object at 0x11907f0c8>), ('pool2', <caffe._caffe.Blob object at 0x11907f5f0>), ('conv3', <caffe._caffe.Blob object at 0x11907f2a8>), ('pool3', <caffe._caffe.Blob object at 0x11907f6e0>), ('ip1', <caffe._caffe.Blob object at 0x11907f488>), ('ip2', <caffe._caffe.Blob object at 0x11907f500>), ('loss', <caffe._caffe.Blob object at 0x11907f668>)])"
       ]
      }
     ],
     "prompt_number": 18
    },
    {
     "cell_type": "code",
     "collapsed": false,
     "input": [
      "activationArray = None\n",
      "for i in range(500):\n",
      "    print i\n",
      "    solver.net.blobs['data'].data[...] = np.array(trainingData[i * 100: (i + 1) * 100].reshape(100,3,32,32))\n",
      "    solver.net.forward(start = \"conv1\")\n",
      "    if activationArray == None:\n",
      "        activationArray = np.array(solver.net.blobs['pool3'].data)\n",
      "        tem = np.array(solver.net.blobs['pool3'].data)\n",
      "    else:\n",
      "        activationArray = np.concatenate((activationArray, np.array(solver.net.blobs['pool3'].data)))\n",
      "        \n",
      "    "
     ],
     "language": "python",
     "metadata": {},
     "outputs": [
      {
       "output_type": "stream",
       "stream": "stdout",
       "text": [
        "0\n",
        "1"
       ]
      },
      {
       "output_type": "stream",
       "stream": "stdout",
       "text": [
        "\n",
        "2"
       ]
      },
      {
       "output_type": "stream",
       "stream": "stdout",
       "text": [
        "\n",
        "3"
       ]
      },
      {
       "output_type": "stream",
       "stream": "stdout",
       "text": [
        "\n",
        "4\n",
        "5"
       ]
      },
      {
       "output_type": "stream",
       "stream": "stdout",
       "text": [
        "\n",
        "6\n",
        "7"
       ]
      },
      {
       "output_type": "stream",
       "stream": "stdout",
       "text": [
        "\n",
        "8\n",
        "9"
       ]
      },
      {
       "output_type": "stream",
       "stream": "stdout",
       "text": [
        "\n",
        "10\n",
        "11"
       ]
      },
      {
       "output_type": "stream",
       "stream": "stdout",
       "text": [
        "\n",
        "12\n",
        "13"
       ]
      },
      {
       "output_type": "stream",
       "stream": "stdout",
       "text": [
        "\n",
        "14\n",
        "15"
       ]
      },
      {
       "output_type": "stream",
       "stream": "stdout",
       "text": [
        "\n",
        "16\n",
        "17"
       ]
      },
      {
       "output_type": "stream",
       "stream": "stdout",
       "text": [
        "\n",
        "18\n",
        "19"
       ]
      },
      {
       "output_type": "stream",
       "stream": "stdout",
       "text": [
        "\n",
        "20\n",
        "21"
       ]
      },
      {
       "output_type": "stream",
       "stream": "stdout",
       "text": [
        "\n",
        "22\n",
        "23"
       ]
      },
      {
       "output_type": "stream",
       "stream": "stdout",
       "text": [
        "\n",
        "24\n",
        "25"
       ]
      },
      {
       "output_type": "stream",
       "stream": "stdout",
       "text": [
        "\n",
        "26\n",
        "27"
       ]
      },
      {
       "output_type": "stream",
       "stream": "stdout",
       "text": [
        "\n",
        "28\n",
        "29"
       ]
      },
      {
       "output_type": "stream",
       "stream": "stdout",
       "text": [
        "\n",
        "30\n",
        "31"
       ]
      },
      {
       "output_type": "stream",
       "stream": "stdout",
       "text": [
        "\n",
        "32\n",
        "33"
       ]
      },
      {
       "output_type": "stream",
       "stream": "stdout",
       "text": [
        "\n",
        "34\n",
        "35"
       ]
      },
      {
       "output_type": "stream",
       "stream": "stdout",
       "text": [
        "\n",
        "36\n",
        "37"
       ]
      },
      {
       "output_type": "stream",
       "stream": "stdout",
       "text": [
        "\n",
        "38\n",
        "39"
       ]
      },
      {
       "output_type": "stream",
       "stream": "stdout",
       "text": [
        "\n",
        "40\n",
        "41"
       ]
      },
      {
       "output_type": "stream",
       "stream": "stdout",
       "text": [
        "\n",
        "42\n",
        "43"
       ]
      },
      {
       "output_type": "stream",
       "stream": "stdout",
       "text": [
        "\n",
        "44\n",
        "45"
       ]
      },
      {
       "output_type": "stream",
       "stream": "stdout",
       "text": [
        "\n",
        "46\n",
        "47"
       ]
      },
      {
       "output_type": "stream",
       "stream": "stdout",
       "text": [
        "\n",
        "48\n",
        "49"
       ]
      },
      {
       "output_type": "stream",
       "stream": "stdout",
       "text": [
        "\n",
        "50\n",
        "51"
       ]
      },
      {
       "output_type": "stream",
       "stream": "stdout",
       "text": [
        "\n",
        "52\n",
        "53"
       ]
      },
      {
       "output_type": "stream",
       "stream": "stdout",
       "text": [
        "\n",
        "54\n",
        "55"
       ]
      },
      {
       "output_type": "stream",
       "stream": "stdout",
       "text": [
        "\n",
        "56\n",
        "57"
       ]
      },
      {
       "output_type": "stream",
       "stream": "stdout",
       "text": [
        "\n",
        "58\n",
        "59"
       ]
      },
      {
       "output_type": "stream",
       "stream": "stdout",
       "text": [
        "\n",
        "60\n",
        "61"
       ]
      },
      {
       "output_type": "stream",
       "stream": "stdout",
       "text": [
        "\n",
        "62\n",
        "63"
       ]
      },
      {
       "output_type": "stream",
       "stream": "stdout",
       "text": [
        "\n",
        "64\n",
        "65"
       ]
      },
      {
       "output_type": "stream",
       "stream": "stdout",
       "text": [
        "\n",
        "66"
       ]
      },
      {
       "output_type": "stream",
       "stream": "stdout",
       "text": [
        "\n",
        "67"
       ]
      },
      {
       "output_type": "stream",
       "stream": "stdout",
       "text": [
        "\n",
        "68\n",
        "69"
       ]
      },
      {
       "output_type": "stream",
       "stream": "stdout",
       "text": [
        "\n",
        "70\n",
        "71"
       ]
      },
      {
       "output_type": "stream",
       "stream": "stdout",
       "text": [
        "\n",
        "72"
       ]
      },
      {
       "output_type": "stream",
       "stream": "stdout",
       "text": [
        "\n",
        "73"
       ]
      },
      {
       "output_type": "stream",
       "stream": "stdout",
       "text": [
        "\n",
        "74\n",
        "75"
       ]
      },
      {
       "output_type": "stream",
       "stream": "stdout",
       "text": [
        "\n",
        "76"
       ]
      },
      {
       "output_type": "stream",
       "stream": "stdout",
       "text": [
        "\n",
        "77"
       ]
      },
      {
       "output_type": "stream",
       "stream": "stdout",
       "text": [
        "\n",
        "78"
       ]
      },
      {
       "output_type": "stream",
       "stream": "stdout",
       "text": [
        "\n",
        "79"
       ]
      },
      {
       "output_type": "stream",
       "stream": "stdout",
       "text": [
        "\n",
        "80"
       ]
      },
      {
       "output_type": "stream",
       "stream": "stdout",
       "text": [
        "\n",
        "81"
       ]
      },
      {
       "output_type": "stream",
       "stream": "stdout",
       "text": [
        "\n",
        "82"
       ]
      },
      {
       "output_type": "stream",
       "stream": "stdout",
       "text": [
        "\n",
        "83"
       ]
      },
      {
       "output_type": "stream",
       "stream": "stdout",
       "text": [
        "\n",
        "84"
       ]
      },
      {
       "output_type": "stream",
       "stream": "stdout",
       "text": [
        "\n",
        "85"
       ]
      },
      {
       "output_type": "stream",
       "stream": "stdout",
       "text": [
        "\n",
        "86"
       ]
      },
      {
       "output_type": "stream",
       "stream": "stdout",
       "text": [
        "\n",
        "87"
       ]
      },
      {
       "output_type": "stream",
       "stream": "stdout",
       "text": [
        "\n",
        "88"
       ]
      },
      {
       "output_type": "stream",
       "stream": "stdout",
       "text": [
        "\n",
        "89"
       ]
      },
      {
       "output_type": "stream",
       "stream": "stdout",
       "text": [
        "\n",
        "90"
       ]
      },
      {
       "output_type": "stream",
       "stream": "stdout",
       "text": [
        "\n",
        "91"
       ]
      },
      {
       "output_type": "stream",
       "stream": "stdout",
       "text": [
        "\n",
        "92"
       ]
      },
      {
       "output_type": "stream",
       "stream": "stdout",
       "text": [
        "\n",
        "93"
       ]
      },
      {
       "output_type": "stream",
       "stream": "stdout",
       "text": [
        "\n",
        "94"
       ]
      },
      {
       "output_type": "stream",
       "stream": "stdout",
       "text": [
        "\n",
        "95"
       ]
      },
      {
       "output_type": "stream",
       "stream": "stdout",
       "text": [
        "\n",
        "96"
       ]
      },
      {
       "output_type": "stream",
       "stream": "stdout",
       "text": [
        "\n",
        "97"
       ]
      },
      {
       "output_type": "stream",
       "stream": "stdout",
       "text": [
        "\n",
        "98"
       ]
      },
      {
       "output_type": "stream",
       "stream": "stdout",
       "text": [
        "\n",
        "99"
       ]
      },
      {
       "output_type": "stream",
       "stream": "stdout",
       "text": [
        "\n",
        "100"
       ]
      },
      {
       "output_type": "stream",
       "stream": "stdout",
       "text": [
        "\n",
        "101"
       ]
      },
      {
       "output_type": "stream",
       "stream": "stdout",
       "text": [
        "\n",
        "102"
       ]
      },
      {
       "output_type": "stream",
       "stream": "stdout",
       "text": [
        "\n",
        "103"
       ]
      },
      {
       "output_type": "stream",
       "stream": "stdout",
       "text": [
        "\n",
        "104"
       ]
      },
      {
       "output_type": "stream",
       "stream": "stdout",
       "text": [
        "\n",
        "105"
       ]
      },
      {
       "output_type": "stream",
       "stream": "stdout",
       "text": [
        "\n",
        "106"
       ]
      },
      {
       "output_type": "stream",
       "stream": "stdout",
       "text": [
        "\n",
        "107"
       ]
      },
      {
       "output_type": "stream",
       "stream": "stdout",
       "text": [
        "\n",
        "108"
       ]
      },
      {
       "output_type": "stream",
       "stream": "stdout",
       "text": [
        "\n",
        "109"
       ]
      },
      {
       "output_type": "stream",
       "stream": "stdout",
       "text": [
        "\n",
        "110"
       ]
      },
      {
       "output_type": "stream",
       "stream": "stdout",
       "text": [
        "\n",
        "111"
       ]
      },
      {
       "output_type": "stream",
       "stream": "stdout",
       "text": [
        "\n",
        "112"
       ]
      },
      {
       "output_type": "stream",
       "stream": "stdout",
       "text": [
        "\n",
        "113"
       ]
      },
      {
       "output_type": "stream",
       "stream": "stdout",
       "text": [
        "\n",
        "114"
       ]
      },
      {
       "output_type": "stream",
       "stream": "stdout",
       "text": [
        "\n",
        "115"
       ]
      },
      {
       "output_type": "stream",
       "stream": "stdout",
       "text": [
        "\n",
        "116"
       ]
      },
      {
       "output_type": "stream",
       "stream": "stdout",
       "text": [
        "\n",
        "117"
       ]
      },
      {
       "output_type": "stream",
       "stream": "stdout",
       "text": [
        "\n",
        "118"
       ]
      },
      {
       "output_type": "stream",
       "stream": "stdout",
       "text": [
        "\n",
        "119"
       ]
      },
      {
       "output_type": "stream",
       "stream": "stdout",
       "text": [
        "\n",
        "120"
       ]
      },
      {
       "output_type": "stream",
       "stream": "stdout",
       "text": [
        "\n",
        "121"
       ]
      },
      {
       "output_type": "stream",
       "stream": "stdout",
       "text": [
        "\n",
        "122"
       ]
      },
      {
       "output_type": "stream",
       "stream": "stdout",
       "text": [
        "\n",
        "123"
       ]
      },
      {
       "output_type": "stream",
       "stream": "stdout",
       "text": [
        "\n",
        "124"
       ]
      },
      {
       "output_type": "stream",
       "stream": "stdout",
       "text": [
        "\n",
        "125"
       ]
      },
      {
       "output_type": "stream",
       "stream": "stdout",
       "text": [
        "\n",
        "126"
       ]
      },
      {
       "output_type": "stream",
       "stream": "stdout",
       "text": [
        "\n",
        "127"
       ]
      },
      {
       "output_type": "stream",
       "stream": "stdout",
       "text": [
        "\n",
        "128"
       ]
      },
      {
       "output_type": "stream",
       "stream": "stdout",
       "text": [
        "\n",
        "129"
       ]
      },
      {
       "output_type": "stream",
       "stream": "stdout",
       "text": [
        "\n",
        "130"
       ]
      },
      {
       "output_type": "stream",
       "stream": "stdout",
       "text": [
        "\n",
        "131"
       ]
      },
      {
       "output_type": "stream",
       "stream": "stdout",
       "text": [
        "\n",
        "132"
       ]
      },
      {
       "output_type": "stream",
       "stream": "stdout",
       "text": [
        "\n",
        "133"
       ]
      },
      {
       "output_type": "stream",
       "stream": "stdout",
       "text": [
        "\n",
        "134"
       ]
      },
      {
       "output_type": "stream",
       "stream": "stdout",
       "text": [
        "\n",
        "135"
       ]
      },
      {
       "output_type": "stream",
       "stream": "stdout",
       "text": [
        "\n",
        "136"
       ]
      },
      {
       "output_type": "stream",
       "stream": "stdout",
       "text": [
        "\n",
        "137"
       ]
      },
      {
       "output_type": "stream",
       "stream": "stdout",
       "text": [
        "\n",
        "138"
       ]
      },
      {
       "output_type": "stream",
       "stream": "stdout",
       "text": [
        "\n",
        "139"
       ]
      },
      {
       "output_type": "stream",
       "stream": "stdout",
       "text": [
        "\n",
        "140"
       ]
      },
      {
       "output_type": "stream",
       "stream": "stdout",
       "text": [
        "\n",
        "141"
       ]
      },
      {
       "output_type": "stream",
       "stream": "stdout",
       "text": [
        "\n",
        "142"
       ]
      },
      {
       "output_type": "stream",
       "stream": "stdout",
       "text": [
        "\n",
        "143"
       ]
      },
      {
       "output_type": "stream",
       "stream": "stdout",
       "text": [
        "\n",
        "144"
       ]
      },
      {
       "output_type": "stream",
       "stream": "stdout",
       "text": [
        "\n",
        "145"
       ]
      },
      {
       "output_type": "stream",
       "stream": "stdout",
       "text": [
        "\n",
        "146"
       ]
      },
      {
       "output_type": "stream",
       "stream": "stdout",
       "text": [
        "\n",
        "147"
       ]
      },
      {
       "output_type": "stream",
       "stream": "stdout",
       "text": [
        "\n",
        "148"
       ]
      },
      {
       "output_type": "stream",
       "stream": "stdout",
       "text": [
        "\n",
        "149"
       ]
      },
      {
       "output_type": "stream",
       "stream": "stdout",
       "text": [
        "\n",
        "150"
       ]
      },
      {
       "output_type": "stream",
       "stream": "stdout",
       "text": [
        "\n",
        "151"
       ]
      },
      {
       "output_type": "stream",
       "stream": "stdout",
       "text": [
        "\n",
        "152"
       ]
      },
      {
       "output_type": "stream",
       "stream": "stdout",
       "text": [
        "\n",
        "153"
       ]
      },
      {
       "output_type": "stream",
       "stream": "stdout",
       "text": [
        "\n",
        "154"
       ]
      },
      {
       "output_type": "stream",
       "stream": "stdout",
       "text": [
        "\n",
        "155"
       ]
      },
      {
       "output_type": "stream",
       "stream": "stdout",
       "text": [
        "\n",
        "156"
       ]
      },
      {
       "output_type": "stream",
       "stream": "stdout",
       "text": [
        "\n",
        "157"
       ]
      },
      {
       "output_type": "stream",
       "stream": "stdout",
       "text": [
        "\n",
        "158"
       ]
      },
      {
       "output_type": "stream",
       "stream": "stdout",
       "text": [
        "\n",
        "159"
       ]
      },
      {
       "output_type": "stream",
       "stream": "stdout",
       "text": [
        "\n",
        "160"
       ]
      },
      {
       "output_type": "stream",
       "stream": "stdout",
       "text": [
        "\n",
        "161"
       ]
      },
      {
       "output_type": "stream",
       "stream": "stdout",
       "text": [
        "\n",
        "162"
       ]
      },
      {
       "output_type": "stream",
       "stream": "stdout",
       "text": [
        "\n",
        "163"
       ]
      },
      {
       "output_type": "stream",
       "stream": "stdout",
       "text": [
        "\n",
        "164"
       ]
      },
      {
       "output_type": "stream",
       "stream": "stdout",
       "text": [
        "\n",
        "165"
       ]
      },
      {
       "output_type": "stream",
       "stream": "stdout",
       "text": [
        "\n",
        "166"
       ]
      },
      {
       "output_type": "stream",
       "stream": "stdout",
       "text": [
        "\n",
        "167"
       ]
      },
      {
       "output_type": "stream",
       "stream": "stdout",
       "text": [
        "\n",
        "168"
       ]
      },
      {
       "output_type": "stream",
       "stream": "stdout",
       "text": [
        "\n",
        "169"
       ]
      },
      {
       "output_type": "stream",
       "stream": "stdout",
       "text": [
        "\n",
        "170"
       ]
      },
      {
       "output_type": "stream",
       "stream": "stdout",
       "text": [
        "\n",
        "171"
       ]
      },
      {
       "output_type": "stream",
       "stream": "stdout",
       "text": [
        "\n",
        "172"
       ]
      },
      {
       "output_type": "stream",
       "stream": "stdout",
       "text": [
        "\n",
        "173"
       ]
      },
      {
       "output_type": "stream",
       "stream": "stdout",
       "text": [
        "\n",
        "174"
       ]
      },
      {
       "output_type": "stream",
       "stream": "stdout",
       "text": [
        "\n",
        "175"
       ]
      },
      {
       "output_type": "stream",
       "stream": "stdout",
       "text": [
        "\n",
        "176"
       ]
      },
      {
       "output_type": "stream",
       "stream": "stdout",
       "text": [
        "\n",
        "177"
       ]
      },
      {
       "output_type": "stream",
       "stream": "stdout",
       "text": [
        "\n",
        "178"
       ]
      },
      {
       "output_type": "stream",
       "stream": "stdout",
       "text": [
        "\n",
        "179"
       ]
      },
      {
       "output_type": "stream",
       "stream": "stdout",
       "text": [
        "\n",
        "180"
       ]
      },
      {
       "output_type": "stream",
       "stream": "stdout",
       "text": [
        "\n",
        "181"
       ]
      },
      {
       "output_type": "stream",
       "stream": "stdout",
       "text": [
        "\n",
        "182"
       ]
      },
      {
       "output_type": "stream",
       "stream": "stdout",
       "text": [
        "\n",
        "183"
       ]
      },
      {
       "output_type": "stream",
       "stream": "stdout",
       "text": [
        "\n",
        "184"
       ]
      },
      {
       "output_type": "stream",
       "stream": "stdout",
       "text": [
        "\n",
        "185"
       ]
      },
      {
       "output_type": "stream",
       "stream": "stdout",
       "text": [
        "\n",
        "186"
       ]
      },
      {
       "output_type": "stream",
       "stream": "stdout",
       "text": [
        "\n",
        "187"
       ]
      },
      {
       "output_type": "stream",
       "stream": "stdout",
       "text": [
        "\n",
        "188"
       ]
      },
      {
       "output_type": "stream",
       "stream": "stdout",
       "text": [
        "\n",
        "189"
       ]
      },
      {
       "output_type": "stream",
       "stream": "stdout",
       "text": [
        "\n",
        "190"
       ]
      },
      {
       "output_type": "stream",
       "stream": "stdout",
       "text": [
        "\n",
        "191"
       ]
      },
      {
       "output_type": "stream",
       "stream": "stdout",
       "text": [
        "\n",
        "192"
       ]
      },
      {
       "output_type": "stream",
       "stream": "stdout",
       "text": [
        "\n",
        "193"
       ]
      },
      {
       "output_type": "stream",
       "stream": "stdout",
       "text": [
        "\n",
        "194"
       ]
      },
      {
       "output_type": "stream",
       "stream": "stdout",
       "text": [
        "\n",
        "195"
       ]
      },
      {
       "output_type": "stream",
       "stream": "stdout",
       "text": [
        "\n",
        "196"
       ]
      },
      {
       "output_type": "stream",
       "stream": "stdout",
       "text": [
        "\n",
        "197"
       ]
      },
      {
       "output_type": "stream",
       "stream": "stdout",
       "text": [
        "\n",
        "198"
       ]
      },
      {
       "output_type": "stream",
       "stream": "stdout",
       "text": [
        "\n",
        "199"
       ]
      },
      {
       "output_type": "stream",
       "stream": "stdout",
       "text": [
        "\n",
        "200"
       ]
      },
      {
       "output_type": "stream",
       "stream": "stdout",
       "text": [
        "\n",
        "201"
       ]
      },
      {
       "output_type": "stream",
       "stream": "stdout",
       "text": [
        "\n",
        "202"
       ]
      },
      {
       "output_type": "stream",
       "stream": "stdout",
       "text": [
        "\n",
        "203"
       ]
      },
      {
       "output_type": "stream",
       "stream": "stdout",
       "text": [
        "\n",
        "204"
       ]
      },
      {
       "output_type": "stream",
       "stream": "stdout",
       "text": [
        "\n",
        "205"
       ]
      },
      {
       "output_type": "stream",
       "stream": "stdout",
       "text": [
        "\n",
        "206"
       ]
      },
      {
       "output_type": "stream",
       "stream": "stdout",
       "text": [
        "\n",
        "207"
       ]
      },
      {
       "output_type": "stream",
       "stream": "stdout",
       "text": [
        "\n",
        "208"
       ]
      },
      {
       "output_type": "stream",
       "stream": "stdout",
       "text": [
        "\n",
        "209"
       ]
      },
      {
       "output_type": "stream",
       "stream": "stdout",
       "text": [
        "\n",
        "210"
       ]
      },
      {
       "output_type": "stream",
       "stream": "stdout",
       "text": [
        "\n",
        "211"
       ]
      },
      {
       "output_type": "stream",
       "stream": "stdout",
       "text": [
        "\n",
        "212"
       ]
      },
      {
       "output_type": "stream",
       "stream": "stdout",
       "text": [
        "\n",
        "213"
       ]
      },
      {
       "output_type": "stream",
       "stream": "stdout",
       "text": [
        "\n",
        "214"
       ]
      },
      {
       "output_type": "stream",
       "stream": "stdout",
       "text": [
        "\n",
        "215"
       ]
      },
      {
       "output_type": "stream",
       "stream": "stdout",
       "text": [
        "\n",
        "216"
       ]
      },
      {
       "output_type": "stream",
       "stream": "stdout",
       "text": [
        "\n",
        "217"
       ]
      },
      {
       "output_type": "stream",
       "stream": "stdout",
       "text": [
        "\n",
        "218"
       ]
      },
      {
       "output_type": "stream",
       "stream": "stdout",
       "text": [
        "\n",
        "219"
       ]
      },
      {
       "output_type": "stream",
       "stream": "stdout",
       "text": [
        "\n",
        "220"
       ]
      },
      {
       "output_type": "stream",
       "stream": "stdout",
       "text": [
        "\n",
        "221"
       ]
      },
      {
       "output_type": "stream",
       "stream": "stdout",
       "text": [
        "\n",
        "222"
       ]
      },
      {
       "output_type": "stream",
       "stream": "stdout",
       "text": [
        "\n",
        "223"
       ]
      },
      {
       "output_type": "stream",
       "stream": "stdout",
       "text": [
        "\n",
        "224"
       ]
      },
      {
       "output_type": "stream",
       "stream": "stdout",
       "text": [
        "\n",
        "225"
       ]
      },
      {
       "output_type": "stream",
       "stream": "stdout",
       "text": [
        "\n",
        "226"
       ]
      },
      {
       "output_type": "stream",
       "stream": "stdout",
       "text": [
        "\n",
        "227"
       ]
      },
      {
       "output_type": "stream",
       "stream": "stdout",
       "text": [
        "\n",
        "228"
       ]
      },
      {
       "output_type": "stream",
       "stream": "stdout",
       "text": [
        "\n",
        "229"
       ]
      },
      {
       "output_type": "stream",
       "stream": "stdout",
       "text": [
        "\n",
        "230"
       ]
      },
      {
       "output_type": "stream",
       "stream": "stdout",
       "text": [
        "\n",
        "231"
       ]
      },
      {
       "output_type": "stream",
       "stream": "stdout",
       "text": [
        "\n",
        "232"
       ]
      },
      {
       "output_type": "stream",
       "stream": "stdout",
       "text": [
        "\n",
        "233"
       ]
      },
      {
       "output_type": "stream",
       "stream": "stdout",
       "text": [
        "\n",
        "234"
       ]
      },
      {
       "output_type": "stream",
       "stream": "stdout",
       "text": [
        "\n",
        "235"
       ]
      },
      {
       "output_type": "stream",
       "stream": "stdout",
       "text": [
        "\n",
        "236"
       ]
      },
      {
       "output_type": "stream",
       "stream": "stdout",
       "text": [
        "\n",
        "237"
       ]
      },
      {
       "output_type": "stream",
       "stream": "stdout",
       "text": [
        "\n",
        "238"
       ]
      },
      {
       "output_type": "stream",
       "stream": "stdout",
       "text": [
        "\n",
        "239"
       ]
      },
      {
       "output_type": "stream",
       "stream": "stdout",
       "text": [
        "\n",
        "240"
       ]
      },
      {
       "output_type": "stream",
       "stream": "stdout",
       "text": [
        "\n",
        "241"
       ]
      },
      {
       "output_type": "stream",
       "stream": "stdout",
       "text": [
        "\n",
        "242"
       ]
      },
      {
       "output_type": "stream",
       "stream": "stdout",
       "text": [
        "\n",
        "243"
       ]
      },
      {
       "output_type": "stream",
       "stream": "stdout",
       "text": [
        "\n",
        "244"
       ]
      },
      {
       "output_type": "stream",
       "stream": "stdout",
       "text": [
        "\n",
        "245"
       ]
      },
      {
       "output_type": "stream",
       "stream": "stdout",
       "text": [
        "\n",
        "246"
       ]
      },
      {
       "output_type": "stream",
       "stream": "stdout",
       "text": [
        "\n",
        "247"
       ]
      },
      {
       "output_type": "stream",
       "stream": "stdout",
       "text": [
        "\n",
        "248"
       ]
      },
      {
       "output_type": "stream",
       "stream": "stdout",
       "text": [
        "\n",
        "249"
       ]
      },
      {
       "output_type": "stream",
       "stream": "stdout",
       "text": [
        "\n",
        "250"
       ]
      },
      {
       "output_type": "stream",
       "stream": "stdout",
       "text": [
        "\n",
        "251"
       ]
      },
      {
       "output_type": "stream",
       "stream": "stdout",
       "text": [
        "\n",
        "252"
       ]
      },
      {
       "output_type": "stream",
       "stream": "stdout",
       "text": [
        "\n",
        "253"
       ]
      },
      {
       "output_type": "stream",
       "stream": "stdout",
       "text": [
        "\n",
        "254"
       ]
      },
      {
       "output_type": "stream",
       "stream": "stdout",
       "text": [
        "\n",
        "255"
       ]
      },
      {
       "output_type": "stream",
       "stream": "stdout",
       "text": [
        "\n",
        "256"
       ]
      },
      {
       "output_type": "stream",
       "stream": "stdout",
       "text": [
        "\n",
        "257"
       ]
      },
      {
       "output_type": "stream",
       "stream": "stdout",
       "text": [
        "\n",
        "258"
       ]
      },
      {
       "output_type": "stream",
       "stream": "stdout",
       "text": [
        "\n",
        "259"
       ]
      },
      {
       "output_type": "stream",
       "stream": "stdout",
       "text": [
        "\n",
        "260"
       ]
      },
      {
       "output_type": "stream",
       "stream": "stdout",
       "text": [
        "\n",
        "261"
       ]
      },
      {
       "output_type": "stream",
       "stream": "stdout",
       "text": [
        "\n",
        "262"
       ]
      },
      {
       "output_type": "stream",
       "stream": "stdout",
       "text": [
        "\n",
        "263"
       ]
      },
      {
       "output_type": "stream",
       "stream": "stdout",
       "text": [
        "\n",
        "264"
       ]
      },
      {
       "output_type": "stream",
       "stream": "stdout",
       "text": [
        "\n",
        "265"
       ]
      },
      {
       "output_type": "stream",
       "stream": "stdout",
       "text": [
        "\n",
        "266"
       ]
      },
      {
       "output_type": "stream",
       "stream": "stdout",
       "text": [
        "\n",
        "267"
       ]
      },
      {
       "output_type": "stream",
       "stream": "stdout",
       "text": [
        "\n",
        "268"
       ]
      },
      {
       "output_type": "stream",
       "stream": "stdout",
       "text": [
        "\n",
        "269"
       ]
      },
      {
       "output_type": "stream",
       "stream": "stdout",
       "text": [
        "\n",
        "270"
       ]
      },
      {
       "output_type": "stream",
       "stream": "stdout",
       "text": [
        "\n",
        "271"
       ]
      },
      {
       "output_type": "stream",
       "stream": "stdout",
       "text": [
        "\n",
        "272"
       ]
      },
      {
       "output_type": "stream",
       "stream": "stdout",
       "text": [
        "\n",
        "273"
       ]
      },
      {
       "output_type": "stream",
       "stream": "stdout",
       "text": [
        "\n",
        "274"
       ]
      },
      {
       "output_type": "stream",
       "stream": "stdout",
       "text": [
        "\n",
        "275"
       ]
      },
      {
       "output_type": "stream",
       "stream": "stdout",
       "text": [
        "\n",
        "276"
       ]
      },
      {
       "output_type": "stream",
       "stream": "stdout",
       "text": [
        "\n",
        "277"
       ]
      },
      {
       "output_type": "stream",
       "stream": "stdout",
       "text": [
        "\n",
        "278"
       ]
      },
      {
       "output_type": "stream",
       "stream": "stdout",
       "text": [
        "\n",
        "279"
       ]
      },
      {
       "output_type": "stream",
       "stream": "stdout",
       "text": [
        "\n",
        "280"
       ]
      },
      {
       "output_type": "stream",
       "stream": "stdout",
       "text": [
        "\n",
        "281"
       ]
      },
      {
       "output_type": "stream",
       "stream": "stdout",
       "text": [
        "\n",
        "282"
       ]
      },
      {
       "output_type": "stream",
       "stream": "stdout",
       "text": [
        "\n",
        "283"
       ]
      },
      {
       "output_type": "stream",
       "stream": "stdout",
       "text": [
        "\n",
        "284"
       ]
      },
      {
       "output_type": "stream",
       "stream": "stdout",
       "text": [
        "\n",
        "285"
       ]
      },
      {
       "output_type": "stream",
       "stream": "stdout",
       "text": [
        "\n",
        "286"
       ]
      },
      {
       "output_type": "stream",
       "stream": "stdout",
       "text": [
        "\n",
        "287"
       ]
      },
      {
       "output_type": "stream",
       "stream": "stdout",
       "text": [
        "\n",
        "288"
       ]
      },
      {
       "output_type": "stream",
       "stream": "stdout",
       "text": [
        "\n",
        "289"
       ]
      },
      {
       "output_type": "stream",
       "stream": "stdout",
       "text": [
        "\n",
        "290"
       ]
      },
      {
       "output_type": "stream",
       "stream": "stdout",
       "text": [
        "\n",
        "291"
       ]
      },
      {
       "output_type": "stream",
       "stream": "stdout",
       "text": [
        "\n",
        "292"
       ]
      },
      {
       "output_type": "stream",
       "stream": "stdout",
       "text": [
        "\n",
        "293"
       ]
      },
      {
       "output_type": "stream",
       "stream": "stdout",
       "text": [
        "\n",
        "294"
       ]
      },
      {
       "output_type": "stream",
       "stream": "stdout",
       "text": [
        "\n",
        "295"
       ]
      },
      {
       "output_type": "stream",
       "stream": "stdout",
       "text": [
        "\n",
        "296"
       ]
      },
      {
       "output_type": "stream",
       "stream": "stdout",
       "text": [
        "\n",
        "297"
       ]
      },
      {
       "output_type": "stream",
       "stream": "stdout",
       "text": [
        "\n",
        "298"
       ]
      },
      {
       "output_type": "stream",
       "stream": "stdout",
       "text": [
        "\n",
        "299"
       ]
      },
      {
       "output_type": "stream",
       "stream": "stdout",
       "text": [
        "\n",
        "300"
       ]
      },
      {
       "output_type": "stream",
       "stream": "stdout",
       "text": [
        "\n",
        "301"
       ]
      },
      {
       "output_type": "stream",
       "stream": "stdout",
       "text": [
        "\n",
        "302"
       ]
      },
      {
       "output_type": "stream",
       "stream": "stdout",
       "text": [
        "\n",
        "303"
       ]
      },
      {
       "output_type": "stream",
       "stream": "stdout",
       "text": [
        "\n",
        "304"
       ]
      },
      {
       "output_type": "stream",
       "stream": "stdout",
       "text": [
        "\n",
        "305"
       ]
      },
      {
       "output_type": "stream",
       "stream": "stdout",
       "text": [
        "\n",
        "306"
       ]
      },
      {
       "output_type": "stream",
       "stream": "stdout",
       "text": [
        "\n",
        "307"
       ]
      },
      {
       "output_type": "stream",
       "stream": "stdout",
       "text": [
        "\n",
        "308"
       ]
      },
      {
       "output_type": "stream",
       "stream": "stdout",
       "text": [
        "\n",
        "309"
       ]
      },
      {
       "output_type": "stream",
       "stream": "stdout",
       "text": [
        "\n",
        "310"
       ]
      },
      {
       "output_type": "stream",
       "stream": "stdout",
       "text": [
        "\n",
        "311"
       ]
      },
      {
       "output_type": "stream",
       "stream": "stdout",
       "text": [
        "\n",
        "312"
       ]
      },
      {
       "output_type": "stream",
       "stream": "stdout",
       "text": [
        "\n",
        "313"
       ]
      },
      {
       "output_type": "stream",
       "stream": "stdout",
       "text": [
        "\n",
        "314"
       ]
      },
      {
       "output_type": "stream",
       "stream": "stdout",
       "text": [
        "\n",
        "315"
       ]
      },
      {
       "output_type": "stream",
       "stream": "stdout",
       "text": [
        "\n",
        "316"
       ]
      },
      {
       "output_type": "stream",
       "stream": "stdout",
       "text": [
        "\n",
        "317"
       ]
      },
      {
       "output_type": "stream",
       "stream": "stdout",
       "text": [
        "\n",
        "318"
       ]
      },
      {
       "output_type": "stream",
       "stream": "stdout",
       "text": [
        "\n",
        "319"
       ]
      },
      {
       "output_type": "stream",
       "stream": "stdout",
       "text": [
        "\n",
        "320"
       ]
      },
      {
       "output_type": "stream",
       "stream": "stdout",
       "text": [
        "\n",
        "321"
       ]
      },
      {
       "output_type": "stream",
       "stream": "stdout",
       "text": [
        "\n",
        "322"
       ]
      },
      {
       "output_type": "stream",
       "stream": "stdout",
       "text": [
        "\n",
        "323"
       ]
      },
      {
       "output_type": "stream",
       "stream": "stdout",
       "text": [
        "\n",
        "324"
       ]
      },
      {
       "output_type": "stream",
       "stream": "stdout",
       "text": [
        "\n",
        "325"
       ]
      },
      {
       "output_type": "stream",
       "stream": "stdout",
       "text": [
        "\n",
        "326"
       ]
      },
      {
       "output_type": "stream",
       "stream": "stdout",
       "text": [
        "\n",
        "327"
       ]
      },
      {
       "output_type": "stream",
       "stream": "stdout",
       "text": [
        "\n",
        "328"
       ]
      },
      {
       "output_type": "stream",
       "stream": "stdout",
       "text": [
        "\n",
        "329"
       ]
      },
      {
       "output_type": "stream",
       "stream": "stdout",
       "text": [
        "\n",
        "330"
       ]
      },
      {
       "output_type": "stream",
       "stream": "stdout",
       "text": [
        "\n",
        "331"
       ]
      },
      {
       "output_type": "stream",
       "stream": "stdout",
       "text": [
        "\n",
        "332"
       ]
      },
      {
       "output_type": "stream",
       "stream": "stdout",
       "text": [
        "\n",
        "333"
       ]
      },
      {
       "output_type": "stream",
       "stream": "stdout",
       "text": [
        "\n",
        "334"
       ]
      },
      {
       "output_type": "stream",
       "stream": "stdout",
       "text": [
        "\n",
        "335"
       ]
      },
      {
       "output_type": "stream",
       "stream": "stdout",
       "text": [
        "\n",
        "336"
       ]
      },
      {
       "output_type": "stream",
       "stream": "stdout",
       "text": [
        "\n",
        "337"
       ]
      },
      {
       "output_type": "stream",
       "stream": "stdout",
       "text": [
        "\n",
        "338"
       ]
      },
      {
       "output_type": "stream",
       "stream": "stdout",
       "text": [
        "\n",
        "339"
       ]
      },
      {
       "output_type": "stream",
       "stream": "stdout",
       "text": [
        "\n",
        "340"
       ]
      },
      {
       "output_type": "stream",
       "stream": "stdout",
       "text": [
        "\n",
        "341"
       ]
      },
      {
       "output_type": "stream",
       "stream": "stdout",
       "text": [
        "\n",
        "342"
       ]
      },
      {
       "output_type": "stream",
       "stream": "stdout",
       "text": [
        "\n",
        "343"
       ]
      },
      {
       "output_type": "stream",
       "stream": "stdout",
       "text": [
        "\n",
        "344"
       ]
      },
      {
       "output_type": "stream",
       "stream": "stdout",
       "text": [
        "\n",
        "345"
       ]
      },
      {
       "output_type": "stream",
       "stream": "stdout",
       "text": [
        "\n",
        "346"
       ]
      },
      {
       "output_type": "stream",
       "stream": "stdout",
       "text": [
        "\n",
        "347"
       ]
      },
      {
       "output_type": "stream",
       "stream": "stdout",
       "text": [
        "\n",
        "348"
       ]
      },
      {
       "output_type": "stream",
       "stream": "stdout",
       "text": [
        "\n",
        "349"
       ]
      },
      {
       "output_type": "stream",
       "stream": "stdout",
       "text": [
        "\n",
        "350"
       ]
      },
      {
       "output_type": "stream",
       "stream": "stdout",
       "text": [
        "\n",
        "351"
       ]
      },
      {
       "output_type": "stream",
       "stream": "stdout",
       "text": [
        "\n",
        "352"
       ]
      },
      {
       "output_type": "stream",
       "stream": "stdout",
       "text": [
        "\n",
        "353"
       ]
      },
      {
       "output_type": "stream",
       "stream": "stdout",
       "text": [
        "\n",
        "354"
       ]
      },
      {
       "output_type": "stream",
       "stream": "stdout",
       "text": [
        "\n",
        "355"
       ]
      },
      {
       "output_type": "stream",
       "stream": "stdout",
       "text": [
        "\n",
        "356"
       ]
      },
      {
       "output_type": "stream",
       "stream": "stdout",
       "text": [
        "\n",
        "357"
       ]
      },
      {
       "output_type": "stream",
       "stream": "stdout",
       "text": [
        "\n",
        "358"
       ]
      },
      {
       "output_type": "stream",
       "stream": "stdout",
       "text": [
        "\n",
        "359"
       ]
      },
      {
       "output_type": "stream",
       "stream": "stdout",
       "text": [
        "\n",
        "360"
       ]
      },
      {
       "output_type": "stream",
       "stream": "stdout",
       "text": [
        "\n",
        "361"
       ]
      },
      {
       "output_type": "stream",
       "stream": "stdout",
       "text": [
        "\n",
        "362"
       ]
      },
      {
       "output_type": "stream",
       "stream": "stdout",
       "text": [
        "\n",
        "363"
       ]
      },
      {
       "output_type": "stream",
       "stream": "stdout",
       "text": [
        "\n",
        "364"
       ]
      },
      {
       "output_type": "stream",
       "stream": "stdout",
       "text": [
        "\n",
        "365"
       ]
      },
      {
       "output_type": "stream",
       "stream": "stdout",
       "text": [
        "\n",
        "366"
       ]
      },
      {
       "output_type": "stream",
       "stream": "stdout",
       "text": [
        "\n",
        "367"
       ]
      },
      {
       "output_type": "stream",
       "stream": "stdout",
       "text": [
        "\n",
        "368"
       ]
      },
      {
       "output_type": "stream",
       "stream": "stdout",
       "text": [
        "\n",
        "369"
       ]
      },
      {
       "output_type": "stream",
       "stream": "stdout",
       "text": [
        "\n",
        "370"
       ]
      },
      {
       "output_type": "stream",
       "stream": "stdout",
       "text": [
        "\n",
        "371"
       ]
      },
      {
       "output_type": "stream",
       "stream": "stdout",
       "text": [
        "\n",
        "372"
       ]
      },
      {
       "output_type": "stream",
       "stream": "stdout",
       "text": [
        "\n",
        "373"
       ]
      },
      {
       "output_type": "stream",
       "stream": "stdout",
       "text": [
        "\n",
        "374"
       ]
      },
      {
       "output_type": "stream",
       "stream": "stdout",
       "text": [
        "\n",
        "375"
       ]
      },
      {
       "output_type": "stream",
       "stream": "stdout",
       "text": [
        "\n",
        "376"
       ]
      },
      {
       "output_type": "stream",
       "stream": "stdout",
       "text": [
        "\n",
        "377"
       ]
      },
      {
       "output_type": "stream",
       "stream": "stdout",
       "text": [
        "\n",
        "378"
       ]
      },
      {
       "output_type": "stream",
       "stream": "stdout",
       "text": [
        "\n",
        "379"
       ]
      },
      {
       "output_type": "stream",
       "stream": "stdout",
       "text": [
        "\n",
        "380"
       ]
      },
      {
       "output_type": "stream",
       "stream": "stdout",
       "text": [
        "\n",
        "381"
       ]
      },
      {
       "output_type": "stream",
       "stream": "stdout",
       "text": [
        "\n",
        "382"
       ]
      },
      {
       "output_type": "stream",
       "stream": "stdout",
       "text": [
        "\n",
        "383"
       ]
      },
      {
       "output_type": "stream",
       "stream": "stdout",
       "text": [
        "\n",
        "384"
       ]
      },
      {
       "output_type": "stream",
       "stream": "stdout",
       "text": [
        "\n",
        "385"
       ]
      },
      {
       "output_type": "stream",
       "stream": "stdout",
       "text": [
        "\n",
        "386"
       ]
      },
      {
       "output_type": "stream",
       "stream": "stdout",
       "text": [
        "\n",
        "387"
       ]
      },
      {
       "output_type": "stream",
       "stream": "stdout",
       "text": [
        "\n",
        "388"
       ]
      },
      {
       "output_type": "stream",
       "stream": "stdout",
       "text": [
        "\n",
        "389"
       ]
      },
      {
       "output_type": "stream",
       "stream": "stdout",
       "text": [
        "\n",
        "390"
       ]
      },
      {
       "output_type": "stream",
       "stream": "stdout",
       "text": [
        "\n",
        "391"
       ]
      },
      {
       "output_type": "stream",
       "stream": "stdout",
       "text": [
        "\n",
        "392"
       ]
      },
      {
       "output_type": "stream",
       "stream": "stdout",
       "text": [
        "\n",
        "393"
       ]
      },
      {
       "output_type": "stream",
       "stream": "stdout",
       "text": [
        "\n",
        "394"
       ]
      },
      {
       "output_type": "stream",
       "stream": "stdout",
       "text": [
        "\n",
        "395"
       ]
      },
      {
       "output_type": "stream",
       "stream": "stdout",
       "text": [
        "\n",
        "396"
       ]
      },
      {
       "output_type": "stream",
       "stream": "stdout",
       "text": [
        "\n",
        "397"
       ]
      },
      {
       "output_type": "stream",
       "stream": "stdout",
       "text": [
        "\n",
        "398"
       ]
      },
      {
       "output_type": "stream",
       "stream": "stdout",
       "text": [
        "\n",
        "399"
       ]
      },
      {
       "output_type": "stream",
       "stream": "stdout",
       "text": [
        "\n",
        "400"
       ]
      },
      {
       "output_type": "stream",
       "stream": "stdout",
       "text": [
        "\n",
        "401"
       ]
      },
      {
       "output_type": "stream",
       "stream": "stdout",
       "text": [
        "\n",
        "402"
       ]
      },
      {
       "output_type": "stream",
       "stream": "stdout",
       "text": [
        "\n",
        "403"
       ]
      },
      {
       "output_type": "stream",
       "stream": "stdout",
       "text": [
        "\n",
        "404"
       ]
      },
      {
       "output_type": "stream",
       "stream": "stdout",
       "text": [
        "\n",
        "405"
       ]
      },
      {
       "output_type": "stream",
       "stream": "stdout",
       "text": [
        "\n",
        "406"
       ]
      },
      {
       "output_type": "stream",
       "stream": "stdout",
       "text": [
        "\n",
        "407"
       ]
      },
      {
       "output_type": "stream",
       "stream": "stdout",
       "text": [
        "\n",
        "408"
       ]
      },
      {
       "output_type": "stream",
       "stream": "stdout",
       "text": [
        "\n",
        "409"
       ]
      },
      {
       "output_type": "stream",
       "stream": "stdout",
       "text": [
        "\n",
        "410"
       ]
      },
      {
       "output_type": "stream",
       "stream": "stdout",
       "text": [
        "\n",
        "411"
       ]
      },
      {
       "output_type": "stream",
       "stream": "stdout",
       "text": [
        "\n",
        "412"
       ]
      },
      {
       "output_type": "stream",
       "stream": "stdout",
       "text": [
        "\n",
        "413"
       ]
      },
      {
       "output_type": "stream",
       "stream": "stdout",
       "text": [
        "\n",
        "414"
       ]
      },
      {
       "output_type": "stream",
       "stream": "stdout",
       "text": [
        "\n",
        "415"
       ]
      },
      {
       "output_type": "stream",
       "stream": "stdout",
       "text": [
        "\n",
        "416"
       ]
      },
      {
       "output_type": "stream",
       "stream": "stdout",
       "text": [
        "\n",
        "417"
       ]
      },
      {
       "output_type": "stream",
       "stream": "stdout",
       "text": [
        "\n",
        "418"
       ]
      },
      {
       "output_type": "stream",
       "stream": "stdout",
       "text": [
        "\n",
        "419"
       ]
      },
      {
       "output_type": "stream",
       "stream": "stdout",
       "text": [
        "\n",
        "420"
       ]
      },
      {
       "output_type": "stream",
       "stream": "stdout",
       "text": [
        "\n",
        "421"
       ]
      },
      {
       "output_type": "stream",
       "stream": "stdout",
       "text": [
        "\n",
        "422"
       ]
      },
      {
       "output_type": "stream",
       "stream": "stdout",
       "text": [
        "\n",
        "423"
       ]
      },
      {
       "output_type": "stream",
       "stream": "stdout",
       "text": [
        "\n",
        "424"
       ]
      },
      {
       "output_type": "stream",
       "stream": "stdout",
       "text": [
        "\n",
        "425"
       ]
      },
      {
       "output_type": "stream",
       "stream": "stdout",
       "text": [
        "\n",
        "426"
       ]
      },
      {
       "output_type": "stream",
       "stream": "stdout",
       "text": [
        "\n",
        "427"
       ]
      },
      {
       "output_type": "stream",
       "stream": "stdout",
       "text": [
        "\n",
        "428"
       ]
      },
      {
       "output_type": "stream",
       "stream": "stdout",
       "text": [
        "\n",
        "429"
       ]
      },
      {
       "output_type": "stream",
       "stream": "stdout",
       "text": [
        "\n",
        "430"
       ]
      },
      {
       "output_type": "stream",
       "stream": "stdout",
       "text": [
        "\n",
        "431"
       ]
      },
      {
       "output_type": "stream",
       "stream": "stdout",
       "text": [
        "\n",
        "432"
       ]
      },
      {
       "output_type": "stream",
       "stream": "stdout",
       "text": [
        "\n",
        "433"
       ]
      },
      {
       "output_type": "stream",
       "stream": "stdout",
       "text": [
        "\n",
        "434"
       ]
      },
      {
       "output_type": "stream",
       "stream": "stdout",
       "text": [
        "\n",
        "435"
       ]
      },
      {
       "output_type": "stream",
       "stream": "stdout",
       "text": [
        "\n",
        "436"
       ]
      },
      {
       "output_type": "stream",
       "stream": "stdout",
       "text": [
        "\n",
        "437"
       ]
      },
      {
       "output_type": "stream",
       "stream": "stdout",
       "text": [
        "\n",
        "438"
       ]
      },
      {
       "output_type": "stream",
       "stream": "stdout",
       "text": [
        "\n",
        "439"
       ]
      },
      {
       "output_type": "stream",
       "stream": "stdout",
       "text": [
        "\n",
        "440"
       ]
      },
      {
       "output_type": "stream",
       "stream": "stdout",
       "text": [
        "\n",
        "441"
       ]
      },
      {
       "output_type": "stream",
       "stream": "stdout",
       "text": [
        "\n",
        "442"
       ]
      },
      {
       "output_type": "stream",
       "stream": "stdout",
       "text": [
        "\n",
        "443"
       ]
      },
      {
       "output_type": "stream",
       "stream": "stdout",
       "text": [
        "\n",
        "444"
       ]
      },
      {
       "output_type": "stream",
       "stream": "stdout",
       "text": [
        "\n",
        "445"
       ]
      },
      {
       "output_type": "stream",
       "stream": "stdout",
       "text": [
        "\n",
        "446"
       ]
      },
      {
       "output_type": "stream",
       "stream": "stdout",
       "text": [
        "\n",
        "447"
       ]
      },
      {
       "output_type": "stream",
       "stream": "stdout",
       "text": [
        "\n",
        "448"
       ]
      },
      {
       "output_type": "stream",
       "stream": "stdout",
       "text": [
        "\n",
        "449"
       ]
      },
      {
       "output_type": "stream",
       "stream": "stdout",
       "text": [
        "\n",
        "450"
       ]
      },
      {
       "output_type": "stream",
       "stream": "stdout",
       "text": [
        "\n",
        "451"
       ]
      },
      {
       "output_type": "stream",
       "stream": "stdout",
       "text": [
        "\n",
        "452"
       ]
      },
      {
       "output_type": "stream",
       "stream": "stdout",
       "text": [
        "\n",
        "453"
       ]
      },
      {
       "output_type": "stream",
       "stream": "stdout",
       "text": [
        "\n",
        "454"
       ]
      },
      {
       "output_type": "stream",
       "stream": "stdout",
       "text": [
        "\n",
        "455"
       ]
      },
      {
       "output_type": "stream",
       "stream": "stdout",
       "text": [
        "\n",
        "456"
       ]
      },
      {
       "output_type": "stream",
       "stream": "stdout",
       "text": [
        "\n",
        "457"
       ]
      },
      {
       "output_type": "stream",
       "stream": "stdout",
       "text": [
        "\n",
        "458"
       ]
      },
      {
       "output_type": "stream",
       "stream": "stdout",
       "text": [
        "\n",
        "459"
       ]
      },
      {
       "output_type": "stream",
       "stream": "stdout",
       "text": [
        "\n",
        "460"
       ]
      },
      {
       "output_type": "stream",
       "stream": "stdout",
       "text": [
        "\n",
        "461"
       ]
      },
      {
       "output_type": "stream",
       "stream": "stdout",
       "text": [
        "\n",
        "462"
       ]
      },
      {
       "output_type": "stream",
       "stream": "stdout",
       "text": [
        "\n",
        "463"
       ]
      },
      {
       "output_type": "stream",
       "stream": "stdout",
       "text": [
        "\n",
        "464"
       ]
      },
      {
       "output_type": "stream",
       "stream": "stdout",
       "text": [
        "\n",
        "465"
       ]
      },
      {
       "output_type": "stream",
       "stream": "stdout",
       "text": [
        "\n",
        "466"
       ]
      },
      {
       "output_type": "stream",
       "stream": "stdout",
       "text": [
        "\n",
        "467"
       ]
      },
      {
       "output_type": "stream",
       "stream": "stdout",
       "text": [
        "\n",
        "468"
       ]
      },
      {
       "output_type": "stream",
       "stream": "stdout",
       "text": [
        "\n",
        "469"
       ]
      },
      {
       "output_type": "stream",
       "stream": "stdout",
       "text": [
        "\n",
        "470"
       ]
      },
      {
       "output_type": "stream",
       "stream": "stdout",
       "text": [
        "\n",
        "471"
       ]
      },
      {
       "output_type": "stream",
       "stream": "stdout",
       "text": [
        "\n",
        "472"
       ]
      },
      {
       "output_type": "stream",
       "stream": "stdout",
       "text": [
        "\n",
        "473"
       ]
      },
      {
       "output_type": "stream",
       "stream": "stdout",
       "text": [
        "\n",
        "474"
       ]
      },
      {
       "output_type": "stream",
       "stream": "stdout",
       "text": [
        "\n",
        "475"
       ]
      },
      {
       "output_type": "stream",
       "stream": "stdout",
       "text": [
        "\n",
        "476"
       ]
      },
      {
       "output_type": "stream",
       "stream": "stdout",
       "text": [
        "\n",
        "477"
       ]
      },
      {
       "output_type": "stream",
       "stream": "stdout",
       "text": [
        "\n",
        "478"
       ]
      },
      {
       "output_type": "stream",
       "stream": "stdout",
       "text": [
        "\n",
        "479"
       ]
      },
      {
       "output_type": "stream",
       "stream": "stdout",
       "text": [
        "\n",
        "480"
       ]
      },
      {
       "output_type": "stream",
       "stream": "stdout",
       "text": [
        "\n",
        "481"
       ]
      },
      {
       "output_type": "stream",
       "stream": "stdout",
       "text": [
        "\n",
        "482"
       ]
      },
      {
       "output_type": "stream",
       "stream": "stdout",
       "text": [
        "\n",
        "483"
       ]
      },
      {
       "output_type": "stream",
       "stream": "stdout",
       "text": [
        "\n",
        "484"
       ]
      },
      {
       "output_type": "stream",
       "stream": "stdout",
       "text": [
        "\n",
        "485"
       ]
      },
      {
       "output_type": "stream",
       "stream": "stdout",
       "text": [
        "\n",
        "486"
       ]
      },
      {
       "output_type": "stream",
       "stream": "stdout",
       "text": [
        "\n",
        "487"
       ]
      },
      {
       "output_type": "stream",
       "stream": "stdout",
       "text": [
        "\n",
        "488"
       ]
      },
      {
       "output_type": "stream",
       "stream": "stdout",
       "text": [
        "\n",
        "489"
       ]
      },
      {
       "output_type": "stream",
       "stream": "stdout",
       "text": [
        "\n",
        "490"
       ]
      },
      {
       "output_type": "stream",
       "stream": "stdout",
       "text": [
        "\n",
        "491"
       ]
      },
      {
       "output_type": "stream",
       "stream": "stdout",
       "text": [
        "\n",
        "492"
       ]
      },
      {
       "output_type": "stream",
       "stream": "stdout",
       "text": [
        "\n",
        "493"
       ]
      },
      {
       "output_type": "stream",
       "stream": "stdout",
       "text": [
        "\n",
        "494"
       ]
      },
      {
       "output_type": "stream",
       "stream": "stdout",
       "text": [
        "\n",
        "495"
       ]
      },
      {
       "output_type": "stream",
       "stream": "stdout",
       "text": [
        "\n",
        "496"
       ]
      },
      {
       "output_type": "stream",
       "stream": "stdout",
       "text": [
        "\n",
        "497"
       ]
      },
      {
       "output_type": "stream",
       "stream": "stdout",
       "text": [
        "\n",
        "498"
       ]
      },
      {
       "output_type": "stream",
       "stream": "stdout",
       "text": [
        "\n",
        "499"
       ]
      },
      {
       "output_type": "stream",
       "stream": "stdout",
       "text": [
        "\n"
       ]
      },
      {
       "output_type": "stream",
       "stream": "stderr",
       "text": [
        "-c:6: FutureWarning: comparison to `None` will result in an elementwise object comparison in the future.\n"
       ]
      }
     ],
     "prompt_number": 19
    },
    {
     "cell_type": "code",
     "collapsed": false,
     "input": [
      "activationTestArray = None\n",
      "\n",
      "for i in range(100):\n",
      "    print i\n",
      "    solver.net.blobs['data'].data[...] =np.array(testingData[i * 100: (i + 1) * 100].reshape(100,3,32,32))\n",
      "    solver.net.forward(start = \"conv1\")\n",
      "    if activationTestArray == None:\n",
      "        activationTestArray = np.array(solver.net.blobs['pool3'].data)\n",
      "        tmp = np.array(solver.net.blobs['pool3'].data)\n",
      "    else:\n",
      "        activationTestArray = np.concatenate((activationTestArray, np.array(solver.net.blobs['pool3'].data)))"
     ],
     "language": "python",
     "metadata": {},
     "outputs": [
      {
       "output_type": "stream",
       "stream": "stdout",
       "text": [
        "0\n",
        "1"
       ]
      },
      {
       "output_type": "stream",
       "stream": "stdout",
       "text": [
        "\n",
        "2"
       ]
      },
      {
       "output_type": "stream",
       "stream": "stdout",
       "text": [
        "\n",
        "3"
       ]
      },
      {
       "output_type": "stream",
       "stream": "stdout",
       "text": [
        "\n",
        "4\n",
        "5"
       ]
      },
      {
       "output_type": "stream",
       "stream": "stdout",
       "text": [
        "\n",
        "6\n",
        "7"
       ]
      },
      {
       "output_type": "stream",
       "stream": "stdout",
       "text": [
        "\n",
        "8\n",
        "9"
       ]
      },
      {
       "output_type": "stream",
       "stream": "stdout",
       "text": [
        "\n",
        "10\n",
        "11"
       ]
      },
      {
       "output_type": "stream",
       "stream": "stdout",
       "text": [
        "\n",
        "12\n",
        "13"
       ]
      },
      {
       "output_type": "stream",
       "stream": "stdout",
       "text": [
        "\n",
        "14\n",
        "15"
       ]
      },
      {
       "output_type": "stream",
       "stream": "stdout",
       "text": [
        "\n",
        "16\n",
        "17"
       ]
      },
      {
       "output_type": "stream",
       "stream": "stdout",
       "text": [
        "\n",
        "18\n",
        "19"
       ]
      },
      {
       "output_type": "stream",
       "stream": "stdout",
       "text": [
        "\n",
        "20\n",
        "21"
       ]
      },
      {
       "output_type": "stream",
       "stream": "stdout",
       "text": [
        "\n",
        "22\n",
        "23"
       ]
      },
      {
       "output_type": "stream",
       "stream": "stdout",
       "text": [
        "\n",
        "24\n",
        "25"
       ]
      },
      {
       "output_type": "stream",
       "stream": "stdout",
       "text": [
        "\n",
        "26\n",
        "27"
       ]
      },
      {
       "output_type": "stream",
       "stream": "stdout",
       "text": [
        "\n",
        "28\n",
        "29"
       ]
      },
      {
       "output_type": "stream",
       "stream": "stdout",
       "text": [
        "\n",
        "30\n",
        "31"
       ]
      },
      {
       "output_type": "stream",
       "stream": "stdout",
       "text": [
        "\n",
        "32\n",
        "33"
       ]
      },
      {
       "output_type": "stream",
       "stream": "stdout",
       "text": [
        "\n",
        "34\n",
        "35"
       ]
      },
      {
       "output_type": "stream",
       "stream": "stdout",
       "text": [
        "\n",
        "36\n",
        "37"
       ]
      },
      {
       "output_type": "stream",
       "stream": "stdout",
       "text": [
        "\n",
        "38\n",
        "39"
       ]
      },
      {
       "output_type": "stream",
       "stream": "stdout",
       "text": [
        "\n",
        "40\n",
        "41"
       ]
      },
      {
       "output_type": "stream",
       "stream": "stdout",
       "text": [
        "\n",
        "42\n",
        "43"
       ]
      },
      {
       "output_type": "stream",
       "stream": "stdout",
       "text": [
        "\n",
        "44\n",
        "45"
       ]
      },
      {
       "output_type": "stream",
       "stream": "stdout",
       "text": [
        "\n",
        "46\n",
        "47"
       ]
      },
      {
       "output_type": "stream",
       "stream": "stdout",
       "text": [
        "\n",
        "48\n",
        "49"
       ]
      },
      {
       "output_type": "stream",
       "stream": "stdout",
       "text": [
        "\n",
        "50\n",
        "51"
       ]
      },
      {
       "output_type": "stream",
       "stream": "stdout",
       "text": [
        "\n",
        "52\n",
        "53"
       ]
      },
      {
       "output_type": "stream",
       "stream": "stdout",
       "text": [
        "\n",
        "54\n",
        "55"
       ]
      },
      {
       "output_type": "stream",
       "stream": "stdout",
       "text": [
        "\n",
        "56\n",
        "57"
       ]
      },
      {
       "output_type": "stream",
       "stream": "stdout",
       "text": [
        "\n",
        "58\n",
        "59"
       ]
      },
      {
       "output_type": "stream",
       "stream": "stdout",
       "text": [
        "\n",
        "60\n",
        "61"
       ]
      },
      {
       "output_type": "stream",
       "stream": "stdout",
       "text": [
        "\n",
        "62"
       ]
      },
      {
       "output_type": "stream",
       "stream": "stdout",
       "text": [
        "\n",
        "63"
       ]
      },
      {
       "output_type": "stream",
       "stream": "stdout",
       "text": [
        "\n",
        "64\n",
        "65"
       ]
      },
      {
       "output_type": "stream",
       "stream": "stdout",
       "text": [
        "\n",
        "66"
       ]
      },
      {
       "output_type": "stream",
       "stream": "stdout",
       "text": [
        "\n",
        "67"
       ]
      },
      {
       "output_type": "stream",
       "stream": "stdout",
       "text": [
        "\n",
        "68"
       ]
      },
      {
       "output_type": "stream",
       "stream": "stdout",
       "text": [
        "\n",
        "69"
       ]
      },
      {
       "output_type": "stream",
       "stream": "stdout",
       "text": [
        "\n",
        "70"
       ]
      },
      {
       "output_type": "stream",
       "stream": "stdout",
       "text": [
        "\n",
        "71"
       ]
      },
      {
       "output_type": "stream",
       "stream": "stdout",
       "text": [
        "\n",
        "72"
       ]
      },
      {
       "output_type": "stream",
       "stream": "stdout",
       "text": [
        "\n",
        "73"
       ]
      },
      {
       "output_type": "stream",
       "stream": "stdout",
       "text": [
        "\n",
        "74"
       ]
      },
      {
       "output_type": "stream",
       "stream": "stdout",
       "text": [
        "\n",
        "75"
       ]
      },
      {
       "output_type": "stream",
       "stream": "stdout",
       "text": [
        "\n",
        "76"
       ]
      },
      {
       "output_type": "stream",
       "stream": "stdout",
       "text": [
        "\n",
        "77"
       ]
      },
      {
       "output_type": "stream",
       "stream": "stdout",
       "text": [
        "\n",
        "78"
       ]
      },
      {
       "output_type": "stream",
       "stream": "stdout",
       "text": [
        "\n",
        "79"
       ]
      },
      {
       "output_type": "stream",
       "stream": "stdout",
       "text": [
        "\n",
        "80"
       ]
      },
      {
       "output_type": "stream",
       "stream": "stdout",
       "text": [
        "\n",
        "81"
       ]
      },
      {
       "output_type": "stream",
       "stream": "stdout",
       "text": [
        "\n",
        "82"
       ]
      },
      {
       "output_type": "stream",
       "stream": "stdout",
       "text": [
        "\n",
        "83"
       ]
      },
      {
       "output_type": "stream",
       "stream": "stdout",
       "text": [
        "\n",
        "84"
       ]
      },
      {
       "output_type": "stream",
       "stream": "stdout",
       "text": [
        "\n",
        "85"
       ]
      },
      {
       "output_type": "stream",
       "stream": "stdout",
       "text": [
        "\n",
        "86"
       ]
      },
      {
       "output_type": "stream",
       "stream": "stdout",
       "text": [
        "\n",
        "87"
       ]
      },
      {
       "output_type": "stream",
       "stream": "stdout",
       "text": [
        "\n",
        "88"
       ]
      },
      {
       "output_type": "stream",
       "stream": "stdout",
       "text": [
        "\n",
        "89"
       ]
      },
      {
       "output_type": "stream",
       "stream": "stdout",
       "text": [
        "\n",
        "90"
       ]
      },
      {
       "output_type": "stream",
       "stream": "stdout",
       "text": [
        "\n",
        "91"
       ]
      },
      {
       "output_type": "stream",
       "stream": "stdout",
       "text": [
        "\n",
        "92"
       ]
      },
      {
       "output_type": "stream",
       "stream": "stdout",
       "text": [
        "\n",
        "93"
       ]
      },
      {
       "output_type": "stream",
       "stream": "stdout",
       "text": [
        "\n",
        "94"
       ]
      },
      {
       "output_type": "stream",
       "stream": "stdout",
       "text": [
        "\n",
        "95"
       ]
      },
      {
       "output_type": "stream",
       "stream": "stdout",
       "text": [
        "\n",
        "96"
       ]
      },
      {
       "output_type": "stream",
       "stream": "stdout",
       "text": [
        "\n",
        "97"
       ]
      },
      {
       "output_type": "stream",
       "stream": "stdout",
       "text": [
        "\n",
        "98"
       ]
      },
      {
       "output_type": "stream",
       "stream": "stdout",
       "text": [
        "\n",
        "99"
       ]
      },
      {
       "output_type": "stream",
       "stream": "stdout",
       "text": [
        "\n"
       ]
      },
      {
       "output_type": "stream",
       "stream": "stderr",
       "text": [
        "-c:7: FutureWarning: comparison to `None` will result in an elementwise object comparison in the future.\n"
       ]
      }
     ],
     "prompt_number": 20
    },
    {
     "cell_type": "code",
     "collapsed": false,
     "input": [
      "#generate 500 labels for the training and the testing\n",
      "alteredTrainingLabels = np.zeros((100, 50000))\n",
      "alteredTestingLabels = np.zeros((100, 10000))\n",
      "sampledPartition = []\n",
      "for i in range(100):\n",
      "    alteredTrainingLabels[i], alteredTestingLabels[i], partition = newPartition(trainingDataLabel, testingDataLabel)\n",
      "    sampledPartition.append(partition)\n"
     ],
     "language": "python",
     "metadata": {},
     "outputs": [],
     "prompt_number": 21
    },
    {
     "cell_type": "code",
     "collapsed": false,
     "input": [
      "activationArray.shape"
     ],
     "language": "python",
     "metadata": {},
     "outputs": [
      {
       "metadata": {},
       "output_type": "pyout",
       "prompt_number": 23,
       "text": [
        "(50000, 64, 4, 4)"
       ]
      }
     ],
     "prompt_number": 23
    },
    {
     "cell_type": "code",
     "collapsed": false,
     "input": [
      "##generate SVM\n",
      "from sklearn import svm\n",
      "allSVM = []\n",
      "predictionResult = []\n",
      "for i in range(100):\n",
      "    print i\n",
      "    clf = svm.LinearSVC()\n",
      "    clf.fit(activationArray[:50000].reshape(50000,-1),alteredTrainingLabels[i][:50000])\n",
      "    allSVM.append(clf)\n",
      "    predictionResult.append(np.mean(clf.predict(activationTestArray.reshape(10000,-1)) == alteredTestingLabels[i]))"
     ],
     "language": "python",
     "metadata": {},
     "outputs": [
      {
       "output_type": "stream",
       "stream": "stdout",
       "text": [
        "0\n",
        "1"
       ]
      },
      {
       "output_type": "stream",
       "stream": "stdout",
       "text": [
        "\n",
        "2"
       ]
      },
      {
       "output_type": "stream",
       "stream": "stdout",
       "text": [
        "\n",
        "3"
       ]
      },
      {
       "output_type": "stream",
       "stream": "stdout",
       "text": [
        "\n",
        "4"
       ]
      },
      {
       "output_type": "stream",
       "stream": "stdout",
       "text": [
        "\n",
        "5"
       ]
      },
      {
       "output_type": "stream",
       "stream": "stdout",
       "text": [
        "\n",
        "6"
       ]
      },
      {
       "output_type": "stream",
       "stream": "stdout",
       "text": [
        "\n",
        "7"
       ]
      },
      {
       "output_type": "stream",
       "stream": "stdout",
       "text": [
        "\n",
        "8"
       ]
      },
      {
       "output_type": "stream",
       "stream": "stdout",
       "text": [
        "\n",
        "9"
       ]
      },
      {
       "output_type": "stream",
       "stream": "stdout",
       "text": [
        "\n",
        "10"
       ]
      },
      {
       "output_type": "stream",
       "stream": "stdout",
       "text": [
        "\n",
        "11"
       ]
      },
      {
       "output_type": "stream",
       "stream": "stdout",
       "text": [
        "\n",
        "12"
       ]
      },
      {
       "output_type": "stream",
       "stream": "stdout",
       "text": [
        "\n",
        "13"
       ]
      },
      {
       "output_type": "stream",
       "stream": "stdout",
       "text": [
        "\n",
        "14"
       ]
      },
      {
       "output_type": "stream",
       "stream": "stdout",
       "text": [
        "\n",
        "15"
       ]
      },
      {
       "output_type": "stream",
       "stream": "stdout",
       "text": [
        "\n",
        "16"
       ]
      },
      {
       "output_type": "stream",
       "stream": "stdout",
       "text": [
        "\n",
        "17"
       ]
      },
      {
       "output_type": "stream",
       "stream": "stdout",
       "text": [
        "\n",
        "18"
       ]
      },
      {
       "output_type": "stream",
       "stream": "stdout",
       "text": [
        "\n",
        "19"
       ]
      },
      {
       "output_type": "stream",
       "stream": "stdout",
       "text": [
        "\n",
        "20"
       ]
      },
      {
       "output_type": "stream",
       "stream": "stdout",
       "text": [
        "\n",
        "21"
       ]
      },
      {
       "output_type": "stream",
       "stream": "stdout",
       "text": [
        "\n",
        "22"
       ]
      },
      {
       "output_type": "stream",
       "stream": "stdout",
       "text": [
        "\n",
        "23"
       ]
      },
      {
       "output_type": "stream",
       "stream": "stdout",
       "text": [
        "\n",
        "24"
       ]
      },
      {
       "output_type": "stream",
       "stream": "stdout",
       "text": [
        "\n",
        "25"
       ]
      },
      {
       "output_type": "stream",
       "stream": "stdout",
       "text": [
        "\n",
        "26"
       ]
      },
      {
       "output_type": "stream",
       "stream": "stdout",
       "text": [
        "\n",
        "27"
       ]
      },
      {
       "output_type": "stream",
       "stream": "stdout",
       "text": [
        "\n",
        "28"
       ]
      },
      {
       "output_type": "stream",
       "stream": "stdout",
       "text": [
        "\n",
        "29"
       ]
      },
      {
       "output_type": "stream",
       "stream": "stdout",
       "text": [
        "\n",
        "30"
       ]
      },
      {
       "output_type": "stream",
       "stream": "stdout",
       "text": [
        "\n",
        "31"
       ]
      },
      {
       "output_type": "stream",
       "stream": "stdout",
       "text": [
        "\n",
        "32"
       ]
      },
      {
       "output_type": "stream",
       "stream": "stdout",
       "text": [
        "\n",
        "33"
       ]
      },
      {
       "output_type": "stream",
       "stream": "stdout",
       "text": [
        "\n",
        "34"
       ]
      },
      {
       "output_type": "stream",
       "stream": "stdout",
       "text": [
        "\n",
        "35"
       ]
      },
      {
       "output_type": "stream",
       "stream": "stdout",
       "text": [
        "\n",
        "36"
       ]
      },
      {
       "output_type": "stream",
       "stream": "stdout",
       "text": [
        "\n",
        "37"
       ]
      },
      {
       "output_type": "stream",
       "stream": "stdout",
       "text": [
        "\n",
        "38"
       ]
      },
      {
       "output_type": "stream",
       "stream": "stdout",
       "text": [
        "\n",
        "39"
       ]
      },
      {
       "output_type": "stream",
       "stream": "stdout",
       "text": [
        "\n",
        "40"
       ]
      },
      {
       "output_type": "stream",
       "stream": "stdout",
       "text": [
        "\n",
        "41"
       ]
      },
      {
       "output_type": "stream",
       "stream": "stdout",
       "text": [
        "\n",
        "42"
       ]
      },
      {
       "output_type": "stream",
       "stream": "stdout",
       "text": [
        "\n",
        "43"
       ]
      },
      {
       "output_type": "stream",
       "stream": "stdout",
       "text": [
        "\n",
        "44"
       ]
      },
      {
       "output_type": "stream",
       "stream": "stdout",
       "text": [
        "\n",
        "45"
       ]
      },
      {
       "output_type": "stream",
       "stream": "stdout",
       "text": [
        "\n",
        "46"
       ]
      },
      {
       "output_type": "stream",
       "stream": "stdout",
       "text": [
        "\n",
        "47"
       ]
      },
      {
       "output_type": "stream",
       "stream": "stdout",
       "text": [
        "\n",
        "48"
       ]
      },
      {
       "output_type": "stream",
       "stream": "stdout",
       "text": [
        "\n",
        "49"
       ]
      },
      {
       "output_type": "stream",
       "stream": "stdout",
       "text": [
        "\n",
        "50"
       ]
      },
      {
       "output_type": "stream",
       "stream": "stdout",
       "text": [
        "\n",
        "51"
       ]
      },
      {
       "output_type": "stream",
       "stream": "stdout",
       "text": [
        "\n",
        "52"
       ]
      },
      {
       "output_type": "stream",
       "stream": "stdout",
       "text": [
        "\n",
        "53"
       ]
      },
      {
       "output_type": "stream",
       "stream": "stdout",
       "text": [
        "\n",
        "54"
       ]
      },
      {
       "output_type": "stream",
       "stream": "stdout",
       "text": [
        "\n",
        "55"
       ]
      },
      {
       "output_type": "stream",
       "stream": "stdout",
       "text": [
        "\n",
        "56"
       ]
      },
      {
       "output_type": "stream",
       "stream": "stdout",
       "text": [
        "\n",
        "57"
       ]
      },
      {
       "output_type": "stream",
       "stream": "stdout",
       "text": [
        "\n",
        "58"
       ]
      },
      {
       "output_type": "stream",
       "stream": "stdout",
       "text": [
        "\n",
        "59"
       ]
      },
      {
       "output_type": "stream",
       "stream": "stdout",
       "text": [
        "\n",
        "60"
       ]
      },
      {
       "output_type": "stream",
       "stream": "stdout",
       "text": [
        "\n",
        "61"
       ]
      },
      {
       "output_type": "stream",
       "stream": "stdout",
       "text": [
        "\n",
        "62"
       ]
      },
      {
       "output_type": "stream",
       "stream": "stdout",
       "text": [
        "\n",
        "63"
       ]
      },
      {
       "output_type": "stream",
       "stream": "stdout",
       "text": [
        "\n",
        "64"
       ]
      },
      {
       "output_type": "stream",
       "stream": "stdout",
       "text": [
        "\n",
        "65"
       ]
      },
      {
       "output_type": "stream",
       "stream": "stdout",
       "text": [
        "\n",
        "66"
       ]
      },
      {
       "output_type": "stream",
       "stream": "stdout",
       "text": [
        "\n",
        "67"
       ]
      },
      {
       "output_type": "stream",
       "stream": "stdout",
       "text": [
        "\n",
        "68"
       ]
      },
      {
       "output_type": "stream",
       "stream": "stdout",
       "text": [
        "\n",
        "69"
       ]
      },
      {
       "output_type": "stream",
       "stream": "stdout",
       "text": [
        "\n",
        "70"
       ]
      },
      {
       "output_type": "stream",
       "stream": "stdout",
       "text": [
        "\n",
        "71"
       ]
      },
      {
       "output_type": "stream",
       "stream": "stdout",
       "text": [
        "\n",
        "72"
       ]
      },
      {
       "output_type": "stream",
       "stream": "stdout",
       "text": [
        "\n",
        "73"
       ]
      },
      {
       "output_type": "stream",
       "stream": "stdout",
       "text": [
        "\n",
        "74"
       ]
      },
      {
       "output_type": "stream",
       "stream": "stdout",
       "text": [
        "\n",
        "75"
       ]
      },
      {
       "output_type": "stream",
       "stream": "stdout",
       "text": [
        "\n",
        "76"
       ]
      },
      {
       "output_type": "stream",
       "stream": "stdout",
       "text": [
        "\n",
        "77"
       ]
      },
      {
       "output_type": "stream",
       "stream": "stdout",
       "text": [
        "\n",
        "78"
       ]
      },
      {
       "output_type": "stream",
       "stream": "stdout",
       "text": [
        "\n",
        "79"
       ]
      },
      {
       "output_type": "stream",
       "stream": "stdout",
       "text": [
        "\n",
        "80"
       ]
      },
      {
       "output_type": "stream",
       "stream": "stdout",
       "text": [
        "\n",
        "81"
       ]
      },
      {
       "output_type": "stream",
       "stream": "stdout",
       "text": [
        "\n",
        "82"
       ]
      },
      {
       "output_type": "stream",
       "stream": "stdout",
       "text": [
        "\n",
        "83"
       ]
      },
      {
       "output_type": "stream",
       "stream": "stdout",
       "text": [
        "\n",
        "84"
       ]
      },
      {
       "output_type": "stream",
       "stream": "stdout",
       "text": [
        "\n",
        "85"
       ]
      },
      {
       "output_type": "stream",
       "stream": "stdout",
       "text": [
        "\n",
        "86"
       ]
      },
      {
       "output_type": "stream",
       "stream": "stdout",
       "text": [
        "\n",
        "87"
       ]
      },
      {
       "output_type": "stream",
       "stream": "stdout",
       "text": [
        "\n",
        "88"
       ]
      },
      {
       "output_type": "stream",
       "stream": "stdout",
       "text": [
        "\n",
        "89"
       ]
      },
      {
       "output_type": "stream",
       "stream": "stdout",
       "text": [
        "\n",
        "90"
       ]
      },
      {
       "output_type": "stream",
       "stream": "stdout",
       "text": [
        "\n",
        "91"
       ]
      },
      {
       "output_type": "stream",
       "stream": "stdout",
       "text": [
        "\n",
        "92"
       ]
      },
      {
       "output_type": "stream",
       "stream": "stdout",
       "text": [
        "\n",
        "93"
       ]
      },
      {
       "output_type": "stream",
       "stream": "stdout",
       "text": [
        "\n",
        "94"
       ]
      },
      {
       "output_type": "stream",
       "stream": "stdout",
       "text": [
        "\n",
        "95"
       ]
      },
      {
       "output_type": "stream",
       "stream": "stdout",
       "text": [
        "\n",
        "96"
       ]
      },
      {
       "output_type": "stream",
       "stream": "stdout",
       "text": [
        "\n",
        "97"
       ]
      },
      {
       "output_type": "stream",
       "stream": "stdout",
       "text": [
        "\n",
        "98"
       ]
      },
      {
       "output_type": "stream",
       "stream": "stdout",
       "text": [
        "\n",
        "99"
       ]
      },
      {
       "output_type": "stream",
       "stream": "stdout",
       "text": [
        "\n"
       ]
      }
     ],
     "prompt_number": 24
    },
    {
     "cell_type": "code",
     "collapsed": false,
     "input": [
      "predictionResult"
     ],
     "language": "python",
     "metadata": {},
     "outputs": [
      {
       "metadata": {},
       "output_type": "pyout",
       "prompt_number": 26,
       "text": [
        "[0.7833,\n",
        " 0.79759999999999998,\n",
        " 0.80989999999999995,\n",
        " 0.81389999999999996,\n",
        " 0.8105,\n",
        " 0.86519999999999997,\n",
        " 0.79049999999999998,\n",
        " 0.83450000000000002,\n",
        " 0.80859999999999999,\n",
        " 0.79430000000000001,\n",
        " 0.78620000000000001,\n",
        " 0.8448,\n",
        " 0.80920000000000003,\n",
        " 0.84609999999999996,\n",
        " 0.83579999999999999,\n",
        " 0.79590000000000005,\n",
        " 0.83099999999999996,\n",
        " 0.83499999999999996,\n",
        " 0.83009999999999995,\n",
        " 0.77359999999999995,\n",
        " 0.79630000000000001,\n",
        " 0.86040000000000005,\n",
        " 0.81479999999999997,\n",
        " 0.83509999999999995,\n",
        " 0.8054,\n",
        " 0.83999999999999997,\n",
        " 0.82330000000000003,\n",
        " 0.80940000000000001,\n",
        " 0.84330000000000005,\n",
        " 0.82950000000000002,\n",
        " 0.83899999999999997,\n",
        " 0.86680000000000001,\n",
        " 0.80859999999999999,\n",
        " 0.85240000000000005,\n",
        " 0.82799999999999996,\n",
        " 0.80549999999999999,\n",
        " 0.83699999999999997,\n",
        " 0.8115,\n",
        " 0.82040000000000002,\n",
        " 0.8377,\n",
        " 0.75060000000000004,\n",
        " 0.83179999999999998,\n",
        " 0.82879999999999998,\n",
        " 0.8125,\n",
        " 0.80740000000000001,\n",
        " 0.81020000000000003,\n",
        " 0.85119999999999996,\n",
        " 0.79569999999999996,\n",
        " 0.82330000000000003,\n",
        " 0.86670000000000003,\n",
        " 0.83379999999999999,\n",
        " 0.89100000000000001,\n",
        " 0.7974,\n",
        " 0.83560000000000001,\n",
        " 0.78320000000000001,\n",
        " 0.82289999999999996,\n",
        " 0.85389999999999999,\n",
        " 0.8206,\n",
        " 0.83069999999999999,\n",
        " 0.79020000000000001,\n",
        " 0.81289999999999996,\n",
        " 0.80410000000000004,\n",
        " 0.80879999999999996,\n",
        " 0.84550000000000003,\n",
        " 0.83079999999999998,\n",
        " 0.86529999999999996,\n",
        " 0.80930000000000002,\n",
        " 0.86660000000000004,\n",
        " 0.79449999999999998,\n",
        " 0.81120000000000003,\n",
        " 0.7863,\n",
        " 0.81200000000000006,\n",
        " 0.80589999999999995,\n",
        " 0.79879999999999995,\n",
        " 0.84630000000000005,\n",
        " 0.86629999999999996,\n",
        " 0.8306,\n",
        " 0.81799999999999995,\n",
        " 0.81830000000000003,\n",
        " 0.8508,\n",
        " 0.82789999999999997,\n",
        " 0.83360000000000001,\n",
        " 0.83140000000000003,\n",
        " 0.81840000000000002,\n",
        " 0.81669999999999998,\n",
        " 0.80549999999999999,\n",
        " 0.82620000000000005,\n",
        " 0.81140000000000001,\n",
        " 0.80300000000000005,\n",
        " 0.82399999999999995,\n",
        " 0.83379999999999999,\n",
        " 0.81910000000000005,\n",
        " 0.84730000000000005,\n",
        " 0.82609999999999995,\n",
        " 0.80489999999999995,\n",
        " 0.81540000000000001,\n",
        " 0.79749999999999999,\n",
        " 0.80179999999999996,\n",
        " 0.83620000000000005,\n",
        " 0.7863]"
       ]
      }
     ],
     "prompt_number": 26
    },
    {
     "cell_type": "code",
     "collapsed": false,
     "input": [
      "allCoef = []\n",
      "for i in range(100):\n",
      "    allCoef.append(allSVM[i].coef_)\n",
      "allCoef = np.array(allCoef).reshape((100,-1))"
     ],
     "language": "python",
     "metadata": {},
     "outputs": [],
     "prompt_number": 27
    },
    {
     "cell_type": "code",
     "collapsed": false,
     "input": [
      "allBias = []\n",
      "for i in range(100):\n",
      "    allBias.append(allSVM[i].intercept_)\n",
      "allBias = np.array(allBias).reshape((100,-1))"
     ],
     "language": "python",
     "metadata": {},
     "outputs": [],
     "prompt_number": 28
    },
    {
     "cell_type": "code",
     "collapsed": false,
     "input": [
      "activationArray.shape"
     ],
     "language": "python",
     "metadata": {},
     "outputs": [
      {
       "metadata": {},
       "output_type": "pyout",
       "prompt_number": 29,
       "text": [
        "(50000, 64, 4, 4)"
       ]
      }
     ],
     "prompt_number": 29
    },
    {
     "cell_type": "code",
     "collapsed": false,
     "input": [
      "import pickle"
     ],
     "language": "python",
     "metadata": {},
     "outputs": [],
     "prompt_number": 30
    },
    {
     "cell_type": "code",
     "collapsed": false,
     "input": [],
     "language": "python",
     "metadata": {},
     "outputs": [],
     "prompt_number": 30
    },
    {
     "cell_type": "code",
     "collapsed": false,
     "input": [
      "#This is for loading svms.\n",
      "#allSVM = pickle.load(open( \"svmObject.pkl\", \"rb\" ) )"
     ],
     "language": "python",
     "metadata": {},
     "outputs": [],
     "prompt_number": 31
    },
    {
     "cell_type": "code",
     "collapsed": false,
     "input": [
      "output = open('./ipython_workplace/cifar10_svmObject_update.pkl', 'wb')\n",
      "pickle.dump(allSVM,output,-1)\n",
      "np.save(\"./ipython_workplace/cifar10_alteredTrainingLabel_update.npy\", alteredTrainingLabels)\n",
      "np.save(\"./ipython_workplace/cifar10_alteredTestingLabel_update.npy\", alteredTestingLabels)\n",
      "np.save(\"./ipython_workplace/cifar10_sampledPartition_update.npy\", sampledPartition)\n",
      "np.save(\"./ipython_workplace/cifar10_trainingData_Feature_update.npy\",activationArray)\n",
      "np.save(\"./ipython_workplace/cifar10_testingData_Feature_update.npy\", activationTestArray)\n",
      "np.save(\"./ipython_workplace/cifar10_allCoef_update.npy\",allCoef)\n",
      "np.save(\"./ipython_workplace/cifar10_allBias_update.npy\",allBias)"
     ],
     "language": "python",
     "metadata": {},
     "outputs": [],
     "prompt_number": 32
    },
    {
     "cell_type": "code",
     "collapsed": false,
     "input": [
      "#see the range output value of svm \n",
      "f, ax = plt.subplots(5,5,figsize=(10,10))\n",
      "for j in range(5):\n",
      "    for i in range(5):\n",
      "        ax[i,j]"
     ],
     "language": "python",
     "metadata": {},
     "outputs": [
      {
       "metadata": {},
       "output_type": "pyout",
       "prompt_number": 73,
       "text": [
        "(array([  5.,   3.,  17.,  12.,  17.,  14.,   9.,  14.,   1.,   8.]),\n",
        " array([-0.46717703, -0.37080176, -0.2744265 , -0.17805123, -0.08167597,\n",
        "         0.01469929,  0.11107456,  0.20744982,  0.30382509,  0.40020035,\n",
        "         0.49657561]),\n",
        " <a list of 10 Patch objects>)"
       ]
      },
      {
       "metadata": {},
       "output_type": "display_data",
       "png": "[encoded data removed]",
       "text": [
        "<matplotlib.figure.Figure at 0x1b58dcb90>"
       ]
      }
     ],
     "prompt_number": 73
    },
    {
     "cell_type": "code",
     "collapsed": false,
     "input": [
      "#sanity check: The following two results should be the same\n",
      "result = np.dot(activationTestArray.reshape(10000,1024), np.swapaxes(np.array(allCoef),0,1)) + allBias.reshape((100,))"
     ],
     "language": "python",
     "metadata": {},
     "outputs": [],
     "prompt_number": 33
    },
    {
     "cell_type": "code",
     "collapsed": false,
     "input": [
      "np.mean(allSVM[0].predict(activationTestArray.reshape(10000,-1)) == alteredTestingLabels[0])"
     ],
     "language": "python",
     "metadata": {},
     "outputs": [
      {
       "metadata": {},
       "output_type": "pyout",
       "prompt_number": 34,
       "text": [
        "0.7833"
       ]
      }
     ],
     "prompt_number": 34
    },
    {
     "cell_type": "code",
     "collapsed": false,
     "input": [
      "result[result>0] = 1\n",
      "result[result<=0] =0\n",
      "np.mean(result[:,0] == alteredTestingLabels[0])"
     ],
     "language": "python",
     "metadata": {},
     "outputs": [
      {
       "metadata": {},
       "output_type": "pyout",
       "prompt_number": 35,
       "text": [
        "0.7833"
       ]
      }
     ],
     "prompt_number": 35
    },
    {
     "cell_type": "code",
     "collapsed": false,
     "input": [
      "#another sanity check with the helper\n",
      "result = np.dot(activationArray[:100].reshape(100,1024), np.swapaxes(np.array(allCoef),0,1)) + allBias.reshape((100,))\n",
      "print result"
     ],
     "language": "python",
     "metadata": {},
     "outputs": [
      {
       "output_type": "stream",
       "stream": "stdout",
       "text": [
        "[[ 1.16032654  0.28099464  0.8704765  ..., -0.75794608 -1.15575749\n",
        "  -0.40840161]\n",
        " [-0.28558392 -1.06862296 -1.15221807 ..., -1.23258117 -0.92714275\n",
        "  -1.77224213]\n",
        " [-0.23466513 -0.33635183 -0.38712636 ...,  0.22836536  0.00433002\n",
        "  -0.54590347]\n",
        " ..., \n",
        " [-0.23703574 -0.01040179 -0.6884655  ...,  0.55499953  0.42061459\n",
        "  -0.09672379]\n",
        " [ 0.1218755  -0.58658263 -0.62740422 ..., -0.02108357  0.13526662\n",
        "  -1.13356923]\n",
        " [ 0.08744243  1.51236139 -0.75802933 ...,  1.41709541  1.29373909\n",
        "   0.67243922]]\n"
       ]
      }
     ],
     "prompt_number": 36
    },
    {
     "cell_type": "code",
     "collapsed": false,
     "input": [
      "np.corrcoef(solver.net.params['conv1'][0].data.reshape((32,-1)))"
     ],
     "language": "python",
     "metadata": {},
     "outputs": [
      {
       "metadata": {},
       "output_type": "pyout",
       "prompt_number": 44,
       "text": [
        "array([[ 1.        ,  0.16878573,  0.12021627, ..., -0.01950293,\n",
        "         0.04507673, -0.07899616],\n",
        "       [ 0.16878573,  1.        ,  0.10261554, ...,  0.08785758,\n",
        "        -0.10473979,  0.12933121],\n",
        "       [ 0.12021627,  0.10261554,  1.        , ...,  0.13323937,\n",
        "        -0.08174651,  0.19680494],\n",
        "       ..., \n",
        "       [-0.01950293,  0.08785758,  0.13323937, ...,  1.        ,\n",
        "        -0.05524653,  0.06206453],\n",
        "       [ 0.04507673, -0.10473979, -0.08174651, ..., -0.05524653,\n",
        "         1.        ,  0.01958022],\n",
        "       [-0.07899616,  0.12933121,  0.19680494, ...,  0.06206453,\n",
        "         0.01958022,  1.        ]])"
       ]
      }
     ],
     "prompt_number": 44
    },
    {
     "cell_type": "code",
     "collapsed": false,
     "input": [
      "np.rollaxis(solver.net.params['conv1'][0].data,1,4).shape"
     ],
     "language": "python",
     "metadata": {},
     "outputs": [
      {
       "metadata": {},
       "output_type": "pyout",
       "prompt_number": 58,
       "text": [
        "(32, 5, 5, 3)"
       ]
      }
     ],
     "prompt_number": 58
    },
    {
     "cell_type": "code",
     "collapsed": false,
     "input": [
      "\n",
      "dd.plot.ImageGrid(solver.net.params['conv1'][0].data, cmap=cm.RdBu_r, vsym= True).scaled_image(10)"
     ],
     "language": "python",
     "metadata": {},
     "outputs": [
      {
       "jpeg": "[encoded data removed]",
       "metadata": {},
       "output_type": "pyout",
       "png": "[encoded data removed]",
       "prompt_number": 64,
       "text": [
        "Image([[[ 1.,  1.,  1.],\n",
        "        [ 1.,  1.,  1.],\n",
        "        [ 1.,  1.,  1.],\n",
        "        ..., \n",
        "        [ 1.,  1.,  1.],\n",
        "        [ 1.,  1.,  1.],\n",
        "        [ 1.,  1.,  1.]],\n",
        "\n",
        "       [[ 1.,  1.,  1.],\n",
        "        [ 1.,  1.,  1.],\n",
        "        [ 1.,  1.,  1.],\n",
        "        ..., \n",
        "        [ 1.,  1.,  1.],\n",
        "        [ 1.,  1.,  1.],\n",
        "        [ 1.,  1.,  1.]],\n",
        "\n",
        "       [[ 1.,  1.,  1.],\n",
        "        [ 1.,  1.,  1.],\n",
        "        [ 1.,  1.,  1.],\n",
        "        ..., \n",
        "        [ 1.,  1.,  1.],\n",
        "        [ 1.,  1.,  1.],\n",
        "        [ 1.,  1.,  1.]],\n",
        "\n",
        "       ..., \n",
        "       [[ 1.,  1.,  1.],\n",
        "        [ 1.,  1.,  1.],\n",
        "        [ 1.,  1.,  1.],\n",
        "        ..., \n",
        "        [ 1.,  1.,  1.],\n",
        "        [ 1.,  1.,  1.],\n",
        "        [ 1.,  1.,  1.]],\n",
        "\n",
        "       [[ 1.,  1.,  1.],\n",
        "        [ 1.,  1.,  1.],\n",
        "        [ 1.,  1.,  1.],\n",
        "        ..., \n",
        "        [ 1.,  1.,  1.],\n",
        "        [ 1.,  1.,  1.],\n",
        "        [ 1.,  1.,  1.]],\n",
        "\n",
        "       [[ 1.,  1.,  1.],\n",
        "        [ 1.,  1.,  1.],\n",
        "        [ 1.,  1.,  1.],\n",
        "        ..., \n",
        "        [ 1.,  1.,  1.],\n",
        "        [ 1.,  1.,  1.],\n",
        "        [ 1.,  1.,  1.]]])"
       ]
      }
     ],
     "prompt_number": 64
    },
    {
     "cell_type": "code",
     "collapsed": false,
     "input": [
      "dd.plot.ImageGrid(np.corrcoef(solver.net.params['conv3'][0].data.reshape((32,-1))),  cmap=cm.RdBu_r, vsym=True).scaled_image(10)"
     ],
     "language": "python",
     "metadata": {},
     "outputs": [
      {
       "jpeg": "[encoded data removed]",
       "metadata": {},
       "output_type": "pyout",
       "png": "[encoded data removed]",
       "prompt_number": 40,
       "text": [
        "Image([[[ 1.,  1.,  1.],\n",
        "        [ 1.,  1.,  1.],\n",
        "        [ 1.,  1.,  1.],\n",
        "        ..., \n",
        "        [ 1.,  1.,  1.],\n",
        "        [ 1.,  1.,  1.],\n",
        "        [ 1.,  1.,  1.]],\n",
        "\n",
        "       [[ 1.,  1.,  1.],\n",
        "        [ 1.,  1.,  1.],\n",
        "        [ 1.,  1.,  1.],\n",
        "        ..., \n",
        "        [ 1.,  1.,  1.],\n",
        "        [ 1.,  1.,  1.],\n",
        "        [ 1.,  1.,  1.]],\n",
        "\n",
        "       [[ 1.,  1.,  1.],\n",
        "        [ 1.,  1.,  1.],\n",
        "        [ 1.,  1.,  1.],\n",
        "        ..., \n",
        "        [ 1.,  1.,  1.],\n",
        "        [ 1.,  1.,  1.],\n",
        "        [ 1.,  1.,  1.]],\n",
        "\n",
        "       ..., \n",
        "       [[ 1.,  1.,  1.],\n",
        "        [ 1.,  1.,  1.],\n",
        "        [ 1.,  1.,  1.],\n",
        "        ..., \n",
        "        [ 1.,  1.,  1.],\n",
        "        [ 1.,  1.,  1.],\n",
        "        [ 1.,  1.,  1.]],\n",
        "\n",
        "       [[ 1.,  1.,  1.],\n",
        "        [ 1.,  1.,  1.],\n",
        "        [ 1.,  1.,  1.],\n",
        "        ..., \n",
        "        [ 1.,  1.,  1.],\n",
        "        [ 1.,  1.,  1.],\n",
        "        [ 1.,  1.,  1.]],\n",
        "\n",
        "       [[ 1.,  1.,  1.],\n",
        "        [ 1.,  1.,  1.],\n",
        "        [ 1.,  1.,  1.],\n",
        "        ..., \n",
        "        [ 1.,  1.,  1.],\n",
        "        [ 1.,  1.,  1.],\n",
        "        [ 1.,  1.,  1.]]])"
       ]
      }
     ],
     "prompt_number": 40
    },
    {
     "cell_type": "code",
     "collapsed": false,
     "input": [
      "solver.net.params['ip1'][0].data.shape"
     ],
     "language": "python",
     "metadata": {},
     "outputs": [
      {
       "metadata": {},
       "output_type": "pyout",
       "prompt_number": 11,
       "text": [
        "(64, 1024)"
       ]
      }
     ],
     "prompt_number": 11
    },
    {
     "cell_type": "code",
     "collapsed": false,
     "input": [
      "dd.plot.ImageGrid(np.corrcoef(solver.net.params['ip1'][0].data), cmap=cm.RdBu_r, vsym=True).scaled_image(10)"
     ],
     "language": "python",
     "metadata": {},
     "outputs": [
      {
       "jpeg": "[encoded data removed]",
       "metadata": {},
       "output_type": "pyout",
       "png": "[encoded data removed]",
       "prompt_number": 19,
       "text": [
        "Image([[[ 1.,  1.,  1.],\n",
        "        [ 1.,  1.,  1.],\n",
        "        [ 1.,  1.,  1.],\n",
        "        ..., \n",
        "        [ 1.,  1.,  1.],\n",
        "        [ 1.,  1.,  1.],\n",
        "        [ 1.,  1.,  1.]],\n",
        "\n",
        "       [[ 1.,  1.,  1.],\n",
        "        [ 1.,  1.,  1.],\n",
        "        [ 1.,  1.,  1.],\n",
        "        ..., \n",
        "        [ 1.,  1.,  1.],\n",
        "        [ 1.,  1.,  1.],\n",
        "        [ 1.,  1.,  1.]],\n",
        "\n",
        "       [[ 1.,  1.,  1.],\n",
        "        [ 1.,  1.,  1.],\n",
        "        [ 1.,  1.,  1.],\n",
        "        ..., \n",
        "        [ 1.,  1.,  1.],\n",
        "        [ 1.,  1.,  1.],\n",
        "        [ 1.,  1.,  1.]],\n",
        "\n",
        "       ..., \n",
        "       [[ 1.,  1.,  1.],\n",
        "        [ 1.,  1.,  1.],\n",
        "        [ 1.,  1.,  1.],\n",
        "        ..., \n",
        "        [ 1.,  1.,  1.],\n",
        "        [ 1.,  1.,  1.],\n",
        "        [ 1.,  1.,  1.]],\n",
        "\n",
        "       [[ 1.,  1.,  1.],\n",
        "        [ 1.,  1.,  1.],\n",
        "        [ 1.,  1.,  1.],\n",
        "        ..., \n",
        "        [ 1.,  1.,  1.],\n",
        "        [ 1.,  1.,  1.],\n",
        "        [ 1.,  1.,  1.]],\n",
        "\n",
        "       [[ 1.,  1.,  1.],\n",
        "        [ 1.,  1.,  1.],\n",
        "        [ 1.,  1.,  1.],\n",
        "        ..., \n",
        "        [ 1.,  1.,  1.],\n",
        "        [ 1.,  1.,  1.],\n",
        "        [ 1.,  1.,  1.]]])"
       ]
      }
     ],
     "prompt_number": 19
    },
    {
     "cell_type": "code",
     "collapsed": false,
     "input": [
      "dd.plot.ImageGrid(np.corrcoef(allCoef), cmap=cm.RdBu_r, vsym=True).scaled_image(10)"
     ],
     "language": "python",
     "metadata": {},
     "outputs": [
      {
       "output_type": "stream",
       "stream": "stderr",
       "text": [
        "/Users/jiajunshen/Library/Enthought/Canopy_64bit/User/lib/python2.7/site-packages/skimage/util/dtype.py:111: UserWarning: Possible precision loss when converting from float64 to uint8\n",
        "  \"%s to %s\" % (dtypeobj_in, dtypeobj))\n"
       ]
      },
      {
       "jpeg": "[encoded data removed]",
       "metadata": {},
       "output_type": "pyout",
       "png": "[encoded data removed]",
       "prompt_number": 38,
       "text": [
        "Image([[[ 1.,  1.,  1.],\n",
        "        [ 1.,  1.,  1.],\n",
        "        [ 1.,  1.,  1.],\n",
        "        ..., \n",
        "        [ 1.,  1.,  1.],\n",
        "        [ 1.,  1.,  1.],\n",
        "        [ 1.,  1.,  1.]],\n",
        "\n",
        "       [[ 1.,  1.,  1.],\n",
        "        [ 1.,  1.,  1.],\n",
        "        [ 1.,  1.,  1.],\n",
        "        ..., \n",
        "        [ 1.,  1.,  1.],\n",
        "        [ 1.,  1.,  1.],\n",
        "        [ 1.,  1.,  1.]],\n",
        "\n",
        "       [[ 1.,  1.,  1.],\n",
        "        [ 1.,  1.,  1.],\n",
        "        [ 1.,  1.,  1.],\n",
        "        ..., \n",
        "        [ 1.,  1.,  1.],\n",
        "        [ 1.,  1.,  1.],\n",
        "        [ 1.,  1.,  1.]],\n",
        "\n",
        "       ..., \n",
        "       [[ 1.,  1.,  1.],\n",
        "        [ 1.,  1.,  1.],\n",
        "        [ 1.,  1.,  1.],\n",
        "        ..., \n",
        "        [ 1.,  1.,  1.],\n",
        "        [ 1.,  1.,  1.],\n",
        "        [ 1.,  1.,  1.]],\n",
        "\n",
        "       [[ 1.,  1.,  1.],\n",
        "        [ 1.,  1.,  1.],\n",
        "        [ 1.,  1.,  1.],\n",
        "        ..., \n",
        "        [ 1.,  1.,  1.],\n",
        "        [ 1.,  1.,  1.],\n",
        "        [ 1.,  1.,  1.]],\n",
        "\n",
        "       [[ 1.,  1.,  1.],\n",
        "        [ 1.,  1.,  1.],\n",
        "        [ 1.,  1.,  1.],\n",
        "        ..., \n",
        "        [ 1.,  1.,  1.],\n",
        "        [ 1.,  1.,  1.],\n",
        "        [ 1.,  1.,  1.]]])"
       ]
      }
     ],
     "prompt_number": 38
    },
    {
     "cell_type": "code",
     "collapsed": false,
     "input": [
      "solver.net.save(\"./examples/cifar10/investigation/cifar10_quick_iter_4000_update.caffemodel\")"
     ],
     "language": "python",
     "metadata": {},
     "outputs": [],
     "prompt_number": 37
    },
    {
     "cell_type": "code",
     "collapsed": false,
     "input": [
      "activationArray"
     ],
     "language": "python",
     "metadata": {},
     "outputs": [
      {
       "metadata": {},
       "output_type": "pyout",
       "prompt_number": 40,
       "text": [
        "array([[[[  1.09060302e-01,   4.11445618e-01,   5.26040435e-01,\n",
        "            1.30696386e-01],\n",
        "         [  3.11254524e-02,   3.79553914e-01,   9.12074387e-01,\n",
        "            4.20338035e-01],\n",
        "         [  5.31790964e-02,   2.25636750e-01,   5.66725016e-01,\n",
        "            3.21719408e-01],\n",
        "         [  7.97686428e-02,   3.60277817e-02,   8.12530965e-02,\n",
        "            6.76403567e-02]],\n",
        "\n",
        "        [[  0.00000000e+00,   0.00000000e+00,   0.00000000e+00,\n",
        "            2.36578584e-02],\n",
        "         [  0.00000000e+00,   0.00000000e+00,   0.00000000e+00,\n",
        "            0.00000000e+00],\n",
        "         [  0.00000000e+00,   3.54560278e-02,   3.14208716e-02,\n",
        "            7.81151429e-02],\n",
        "         [  2.32664496e-02,   1.47284403e-01,   9.39603448e-02,\n",
        "            1.17172711e-01]],\n",
        "\n",
        "        [[  2.26464272e-01,   0.00000000e+00,   0.00000000e+00,\n",
        "            0.00000000e+00],\n",
        "         [  1.12196818e-01,   0.00000000e+00,   0.00000000e+00,\n",
        "            0.00000000e+00],\n",
        "         [  0.00000000e+00,   0.00000000e+00,   0.00000000e+00,\n",
        "            0.00000000e+00],\n",
        "         [  0.00000000e+00,   0.00000000e+00,   0.00000000e+00,\n",
        "            0.00000000e+00]],\n",
        "\n",
        "        ..., \n",
        "        [[  5.64128458e-01,   4.26821470e-01,   1.75556436e-03,\n",
        "            2.63334648e-03],\n",
        "         [  9.27555621e-01,   5.44951856e-01,   2.45395720e-01,\n",
        "            9.38382819e-02],\n",
        "         [  1.89841732e-01,   1.43152252e-01,   4.67737943e-01,\n",
        "            2.62943178e-01],\n",
        "         [  0.00000000e+00,   0.00000000e+00,   1.05744369e-01,\n",
        "            7.43336454e-02]],\n",
        "\n",
        "        [[  1.75495774e-01,   1.20424308e-01,   3.19339514e-01,\n",
        "            7.90548790e-03],\n",
        "         [  0.00000000e+00,   2.60405652e-02,   1.05806440e-01,\n",
        "            1.92965772e-02],\n",
        "         [  3.03391293e-02,   8.91822949e-02,   8.20181519e-02,\n",
        "            1.92965772e-02],\n",
        "         [  2.46619269e-01,   3.95577401e-01,   1.13087617e-01,\n",
        "            6.50744373e-03]],\n",
        "\n",
        "        [[  1.15377560e-01,   3.80118847e-01,   1.97524369e-01,\n",
        "            1.62526473e-01],\n",
        "         [  4.17386621e-01,   7.07814574e-01,   2.63453066e-01,\n",
        "            2.65566826e-01],\n",
        "         [  5.07164776e-01,   4.07119930e-01,   5.63179404e-02,\n",
        "            1.22613154e-01],\n",
        "         [  2.73703575e-01,   1.68730631e-01,   1.85601905e-01,\n",
        "            4.29621994e-01]]],\n",
        "\n",
        "\n",
        "       [[[  3.46577317e-01,   6.38712466e-01,   2.78834015e-01,\n",
        "            1.95454285e-01],\n",
        "         [  4.48893130e-01,   1.51762295e+00,   9.14032102e-01,\n",
        "            7.45385170e-01],\n",
        "         [  7.06176877e-01,   1.87601256e+00,   1.38283122e+00,\n",
        "            6.88409150e-01],\n",
        "         [  5.30030310e-01,   1.57974422e+00,   1.20697725e+00,\n",
        "            6.35406852e-01]],\n",
        "\n",
        "        [[  1.29098639e-01,   9.40312296e-02,   0.00000000e+00,\n",
        "            0.00000000e+00],\n",
        "         [  0.00000000e+00,   0.00000000e+00,   0.00000000e+00,\n",
        "            0.00000000e+00],\n",
        "         [  0.00000000e+00,   0.00000000e+00,   0.00000000e+00,\n",
        "            0.00000000e+00],\n",
        "         [  0.00000000e+00,   0.00000000e+00,   0.00000000e+00,\n",
        "            0.00000000e+00]],\n",
        "\n",
        "        [[  0.00000000e+00,   0.00000000e+00,   1.70562621e-02,\n",
        "            2.55843922e-02],\n",
        "         [  0.00000000e+00,   0.00000000e+00,   9.41228494e-03,\n",
        "            1.41184283e-02],\n",
        "         [  0.00000000e+00,   0.00000000e+00,   0.00000000e+00,\n",
        "            0.00000000e+00],\n",
        "         [  0.00000000e+00,   0.00000000e+00,   0.00000000e+00,\n",
        "            0.00000000e+00]],\n",
        "\n",
        "        ..., \n",
        "        [[  3.26988883e-02,   0.00000000e+00,   0.00000000e+00,\n",
        "            0.00000000e+00],\n",
        "         [  0.00000000e+00,   0.00000000e+00,   0.00000000e+00,\n",
        "            0.00000000e+00],\n",
        "         [  0.00000000e+00,   0.00000000e+00,   8.32571164e-02,\n",
        "            2.20006034e-01],\n",
        "         [  5.40540405e-02,   6.68135658e-02,   2.75989622e-02,\n",
        "            6.84659034e-02]],\n",
        "\n",
        "        [[  7.13171780e-01,   5.82412541e-01,   4.38962907e-01,\n",
        "            1.76976025e-01],\n",
        "         [  1.99219835e+00,   2.31025982e+00,   1.60841978e+00,\n",
        "            4.58728433e-01],\n",
        "         [  1.71483207e+00,   1.96408796e+00,   1.23289192e+00,\n",
        "            4.72948074e-01],\n",
        "         [  4.25176263e-01,   5.56022346e-01,   3.87099236e-01,\n",
        "            3.72648150e-01]],\n",
        "\n",
        "        [[  4.40088391e-01,   7.56802142e-01,   4.26572442e-01,\n",
        "            1.95188835e-01],\n",
        "         [  7.94127464e-01,   1.19883680e+00,   7.01529145e-01,\n",
        "            4.66988057e-01],\n",
        "         [  7.93296635e-01,   2.96378583e-01,   1.02176871e-02,\n",
        "            1.07392155e-01],\n",
        "         [  1.75250471e-01,   3.39259543e-02,   8.33024308e-02,\n",
        "            4.41973448e-01]]],\n",
        "\n",
        "\n",
        "       [[[  3.11806738e-01,   4.81837869e-01,   2.59538800e-01,\n",
        "            0.00000000e+00],\n",
        "         [  7.84085333e-01,   1.00391400e+00,   6.61833882e-01,\n",
        "            5.73278451e-03],\n",
        "         [  1.47145659e-01,   1.86658442e-01,   1.34769365e-01,\n",
        "            0.00000000e+00],\n",
        "         [  0.00000000e+00,   0.00000000e+00,   1.23768440e-02,\n",
        "            1.85652655e-02]],\n",
        "\n",
        "        [[  3.73353600e-03,   0.00000000e+00,   0.00000000e+00,\n",
        "            0.00000000e+00],\n",
        "         [  0.00000000e+00,   0.00000000e+00,   0.00000000e+00,\n",
        "            0.00000000e+00],\n",
        "         [  0.00000000e+00,   0.00000000e+00,   0.00000000e+00,\n",
        "            6.89307377e-02],\n",
        "         [  0.00000000e+00,   0.00000000e+00,   0.00000000e+00,\n",
        "            1.36243343e-01]],\n",
        "\n",
        "        [[  9.54737235e-03,   0.00000000e+00,   0.00000000e+00,\n",
        "            0.00000000e+00],\n",
        "         [  0.00000000e+00,   0.00000000e+00,   0.00000000e+00,\n",
        "            0.00000000e+00],\n",
        "         [  0.00000000e+00,   0.00000000e+00,   0.00000000e+00,\n",
        "            0.00000000e+00],\n",
        "         [  0.00000000e+00,   0.00000000e+00,   0.00000000e+00,\n",
        "            0.00000000e+00]],\n",
        "\n",
        "        ..., \n",
        "        [[  0.00000000e+00,   0.00000000e+00,   0.00000000e+00,\n",
        "            1.55642172e-02],\n",
        "         [  9.73270759e-02,   5.89665845e-02,   0.00000000e+00,\n",
        "            0.00000000e+00],\n",
        "         [  1.17326885e-01,   4.10871729e-02,   0.00000000e+00,\n",
        "            0.00000000e+00],\n",
        "         [  0.00000000e+00,   0.00000000e+00,   0.00000000e+00,\n",
        "            0.00000000e+00]],\n",
        "\n",
        "        [[  5.06847620e-01,   5.83698332e-01,   5.33515275e-01,\n",
        "            1.45222083e-01],\n",
        "         [  6.99615717e-01,   9.55120325e-01,   7.16269493e-01,\n",
        "            2.01651618e-01],\n",
        "         [  4.65743011e-03,   1.12675708e-02,   1.12675708e-02,\n",
        "            0.00000000e+00],\n",
        "         [  0.00000000e+00,   0.00000000e+00,   0.00000000e+00,\n",
        "            0.00000000e+00]],\n",
        "\n",
        "        [[  3.28172535e-01,   2.46655464e-01,   0.00000000e+00,\n",
        "            7.22133666e-02],\n",
        "         [  5.77989459e-01,   2.33066797e-01,   1.47901729e-01,\n",
        "            4.65875119e-01],\n",
        "         [  1.39882281e-01,   7.56288469e-02,   2.22762242e-01,\n",
        "            7.21166611e-01],\n",
        "         [  2.39729479e-01,   3.00899863e-01,   3.63955170e-01,\n",
        "            6.38335824e-01]]],\n",
        "\n",
        "\n",
        "       ..., \n",
        "       [[[  8.95226598e-01,   1.43616772e+00,   9.96427238e-01,\n",
        "            4.07013744e-01],\n",
        "         [  8.82323325e-01,   1.63223743e+00,   1.17674303e+00,\n",
        "            5.62466204e-01],\n",
        "         [  0.00000000e+00,   0.00000000e+00,   0.00000000e+00,\n",
        "            0.00000000e+00],\n",
        "         [  0.00000000e+00,   0.00000000e+00,   1.34620881e-02,\n",
        "            1.43956125e-01]],\n",
        "\n",
        "        [[  0.00000000e+00,   0.00000000e+00,   0.00000000e+00,\n",
        "            4.83231433e-03],\n",
        "         [  0.00000000e+00,   0.00000000e+00,   0.00000000e+00,\n",
        "            0.00000000e+00],\n",
        "         [  0.00000000e+00,   0.00000000e+00,   0.00000000e+00,\n",
        "            8.35528970e-02],\n",
        "         [  0.00000000e+00,   0.00000000e+00,   0.00000000e+00,\n",
        "            1.95640564e-01]],\n",
        "\n",
        "        [[  4.04011831e-02,   0.00000000e+00,   0.00000000e+00,\n",
        "            0.00000000e+00],\n",
        "         [  0.00000000e+00,   0.00000000e+00,   0.00000000e+00,\n",
        "            0.00000000e+00],\n",
        "         [  0.00000000e+00,   0.00000000e+00,   0.00000000e+00,\n",
        "            0.00000000e+00],\n",
        "         [  0.00000000e+00,   0.00000000e+00,   0.00000000e+00,\n",
        "            0.00000000e+00]],\n",
        "\n",
        "        ..., \n",
        "        [[  0.00000000e+00,   0.00000000e+00,   0.00000000e+00,\n",
        "            4.61391211e-02],\n",
        "         [  0.00000000e+00,   0.00000000e+00,   4.79666777e-02,\n",
        "            1.24341287e-01],\n",
        "         [  0.00000000e+00,   0.00000000e+00,   4.79666777e-02,\n",
        "            1.04645900e-01],\n",
        "         [  0.00000000e+00,   0.00000000e+00,   0.00000000e+00,\n",
        "            0.00000000e+00]],\n",
        "\n",
        "        [[  8.13712835e-01,   1.21847534e+00,   1.07355654e+00,\n",
        "            5.71418643e-01],\n",
        "         [  3.22214961e-01,   1.24246073e+00,   1.32505322e+00,\n",
        "            7.65732288e-01],\n",
        "         [  0.00000000e+00,   0.00000000e+00,   8.78779311e-03,\n",
        "            1.31816901e-02],\n",
        "         [  0.00000000e+00,   0.00000000e+00,   0.00000000e+00,\n",
        "            0.00000000e+00]],\n",
        "\n",
        "        [[  5.58499634e-01,   8.15529108e-01,   3.56410146e-01,\n",
        "            5.04475057e-01],\n",
        "         [  5.79769492e-01,   7.92069793e-01,   2.85704941e-01,\n",
        "            2.66334832e-01],\n",
        "         [  5.58711402e-03,   0.00000000e+00,   3.17433453e-03,\n",
        "            4.37671095e-01],\n",
        "         [  0.00000000e+00,   6.29009167e-03,   2.19186340e-02,\n",
        "            4.12942767e-01]]],\n",
        "\n",
        "\n",
        "       [[[  3.41674685e-01,   5.42856693e-01,   3.77372473e-01,\n",
        "            1.50130078e-01],\n",
        "         [  8.65085542e-01,   1.64804542e+00,   1.40034473e+00,\n",
        "            6.49958968e-01],\n",
        "         [  5.07530451e-01,   1.71533644e+00,   1.92806196e+00,\n",
        "            1.15878284e+00],\n",
        "         [  5.29048204e-01,   1.26092780e+00,   1.13858891e+00,\n",
        "            9.94572580e-01]],\n",
        "\n",
        "        [[  0.00000000e+00,   5.79501316e-02,   2.25855246e-01,\n",
        "            3.27672273e-01],\n",
        "         [  0.00000000e+00,   1.91135276e-02,   6.44726530e-02,\n",
        "            1.08618118e-01],\n",
        "         [  0.00000000e+00,   0.00000000e+00,   0.00000000e+00,\n",
        "            0.00000000e+00],\n",
        "         [  0.00000000e+00,   6.59178123e-02,   4.04955447e-02,\n",
        "            0.00000000e+00]],\n",
        "\n",
        "        [[  4.28790553e-03,   0.00000000e+00,   0.00000000e+00,\n",
        "            0.00000000e+00],\n",
        "         [  0.00000000e+00,   0.00000000e+00,   0.00000000e+00,\n",
        "            0.00000000e+00],\n",
        "         [  0.00000000e+00,   0.00000000e+00,   0.00000000e+00,\n",
        "            0.00000000e+00],\n",
        "         [  0.00000000e+00,   0.00000000e+00,   0.00000000e+00,\n",
        "            0.00000000e+00]],\n",
        "\n",
        "        ..., \n",
        "        [[  0.00000000e+00,   0.00000000e+00,   0.00000000e+00,\n",
        "            0.00000000e+00],\n",
        "         [  0.00000000e+00,   0.00000000e+00,   0.00000000e+00,\n",
        "            0.00000000e+00],\n",
        "         [  0.00000000e+00,   0.00000000e+00,   2.77237426e-02,\n",
        "            1.13029994e-01],\n",
        "         [  0.00000000e+00,   0.00000000e+00,   4.15856130e-02,\n",
        "            7.80735463e-02]],\n",
        "\n",
        "        [[  2.43756026e-01,   2.10873827e-01,   2.08105400e-01,\n",
        "            1.16640247e-01],\n",
        "         [  8.28017175e-01,   1.10111153e+00,   7.71290839e-01,\n",
        "            2.32427850e-01],\n",
        "         [  9.76551056e-01,   1.90502548e+00,   1.51843703e+00,\n",
        "            7.17782319e-01],\n",
        "         [  6.05505168e-01,   1.16571033e+00,   8.82896841e-01,\n",
        "            6.47848964e-01]],\n",
        "\n",
        "        [[  7.39059597e-03,   6.75068796e-02,   1.98596463e-01,\n",
        "            1.18676029e-01],\n",
        "         [  1.22145452e-02,   1.30347013e-01,   2.77578145e-01,\n",
        "            2.29077771e-01],\n",
        "         [  7.99171552e-02,   2.64410824e-01,   3.89663219e-01,\n",
        "            2.89613873e-01],\n",
        "         [  1.19875729e-01,   2.38458961e-02,   2.38458961e-02,\n",
        "            7.33944476e-02]]],\n",
        "\n",
        "\n",
        "       [[[  5.17353296e-01,   8.77235830e-01,   7.82922328e-01,\n",
        "            4.24048811e-01],\n",
        "         [  4.27259773e-01,   6.33361995e-01,   4.73316550e-01,\n",
        "            2.67227620e-01],\n",
        "         [  4.83761653e-02,   4.52343859e-02,   1.33717591e-02,\n",
        "            1.18546784e-01],\n",
        "         [  7.25642517e-02,   6.78515807e-02,   8.52924213e-02,\n",
        "            2.60941625e-01]],\n",
        "\n",
        "        [[  0.00000000e+00,   0.00000000e+00,   5.97037338e-02,\n",
        "            7.37817883e-02],\n",
        "         [  0.00000000e+00,   0.00000000e+00,   0.00000000e+00,\n",
        "            0.00000000e+00],\n",
        "         [  0.00000000e+00,   0.00000000e+00,   9.99327470e-03,\n",
        "            1.49899125e-02],\n",
        "         [  0.00000000e+00,   2.42573153e-02,   2.14085102e-01,\n",
        "            3.68866682e-01]],\n",
        "\n",
        "        [[  0.00000000e+00,   0.00000000e+00,   0.00000000e+00,\n",
        "            0.00000000e+00],\n",
        "         [  0.00000000e+00,   0.00000000e+00,   0.00000000e+00,\n",
        "            0.00000000e+00],\n",
        "         [  0.00000000e+00,   0.00000000e+00,   0.00000000e+00,\n",
        "            0.00000000e+00],\n",
        "         [  0.00000000e+00,   0.00000000e+00,   0.00000000e+00,\n",
        "            0.00000000e+00]],\n",
        "\n",
        "        ..., \n",
        "        [[  0.00000000e+00,   0.00000000e+00,   0.00000000e+00,\n",
        "            0.00000000e+00],\n",
        "         [  0.00000000e+00,   0.00000000e+00,   0.00000000e+00,\n",
        "            0.00000000e+00],\n",
        "         [  0.00000000e+00,   0.00000000e+00,   0.00000000e+00,\n",
        "            0.00000000e+00],\n",
        "         [  0.00000000e+00,   0.00000000e+00,   6.57375529e-02,\n",
        "            4.97429892e-02]],\n",
        "\n",
        "        [[  6.29134417e-01,   5.48771918e-01,   8.29982281e-01,\n",
        "            4.57557112e-01],\n",
        "         [  3.56387347e-01,   4.19276088e-01,   6.57056391e-01,\n",
        "            3.23682159e-01],\n",
        "         [  4.80316095e-02,   5.40915579e-02,   6.96306005e-02,\n",
        "            1.20397285e-02],\n",
        "         [  1.54281139e-01,   1.35546578e-02,   0.00000000e+00,\n",
        "            0.00000000e+00]],\n",
        "\n",
        "        [[  1.45978346e-01,   6.94149658e-02,   1.04064330e-01,\n",
        "            9.15880725e-02],\n",
        "         [  1.05683237e-01,   6.09683320e-02,   1.40514344e-01,\n",
        "            2.29713693e-01],\n",
        "         [  1.09850198e-01,   1.13212079e-01,   1.73815012e-01,\n",
        "            3.87229800e-01],\n",
        "         [  7.82974139e-02,   2.90072322e-01,   6.67160928e-01,\n",
        "            5.50186038e-01]]]], dtype=float32)"
       ]
      }
     ],
     "prompt_number": 40
    },
    {
     "cell_type": "code",
     "collapsed": false,
     "input": [],
     "language": "python",
     "metadata": {},
     "outputs": []
    }
   ],
   "metadata": {}
  }
 ]
}